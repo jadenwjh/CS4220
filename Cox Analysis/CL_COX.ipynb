{
  "nbformat": 4,
  "nbformat_minor": 0,
  "metadata": {
    "colab": {
      "name": "CS4220_PCox.ipynb",
      "provenance": [],
      "collapsed_sections": []
    },
    "kernelspec": {
      "display_name": "Python 3",
      "name": "python3"
    },
    "language_info": {
      "name": "python"
    }
  },
  "cells": [
    {
      "cell_type": "markdown",
      "metadata": {
        "id": "0Kn6ZeYVvMQz"
      },
      "source": [
        "#google colab prep"
      ]
    },
    {
      "cell_type": "code",
      "metadata": {
        "colab": {
          "base_uri": "https://localhost:8080/"
        },
        "id": "s4HrfXsu8KB7",
        "outputId": "e7d9cf80-b334-4305-a59c-1d2140824648"
      },
      "source": [
        "from google.colab import drive\n",
        "drive.mount('/content/drive')"
      ],
      "execution_count": null,
      "outputs": [
        {
          "output_type": "stream",
          "text": [
            "Drive already mounted at /content/drive; to attempt to forcibly remount, call drive.mount(\"/content/drive\", force_remount=True).\n"
          ],
          "name": "stdout"
        }
      ]
    },
    {
      "cell_type": "code",
      "metadata": {
        "id": "iQvMtHZwL5IH",
        "colab": {
          "base_uri": "https://localhost:8080/"
        },
        "outputId": "141072d8-78b9-4a56-d55e-8bbc07e4e6a2"
      },
      "source": [
        "!pip install -U pip setuptools\n",
        "!pip uninstall --yes --quiet osqp\n",
        "!pip install scikit-survival"
      ],
      "execution_count": null,
      "outputs": [
        {
          "output_type": "stream",
          "text": [
            "Requirement already satisfied: pip in /usr/local/lib/python3.7/dist-packages (21.0.1)\n",
            "Requirement already satisfied: setuptools in /usr/local/lib/python3.7/dist-packages (56.0.0)\n",
            "Requirement already satisfied: scikit-survival in /usr/local/lib/python3.7/dist-packages (0.14.0)\n",
            "Requirement already satisfied: numexpr in /usr/local/lib/python3.7/dist-packages (from scikit-survival) (2.7.3)\n",
            "Requirement already satisfied: joblib in /usr/local/lib/python3.7/dist-packages (from scikit-survival) (1.0.1)\n",
            "Collecting osqp!=0.6.0,!=0.6.1\n",
            "  Using cached osqp-0.6.2.post0-cp37-cp37m-manylinux2014_x86_64.whl (212 kB)\n",
            "Requirement already satisfied: pandas>=0.21 in /usr/local/lib/python3.7/dist-packages (from scikit-survival) (1.1.5)\n",
            "Requirement already satisfied: cvxpy>=1.0 in /usr/local/lib/python3.7/dist-packages (from scikit-survival) (1.0.31)\n",
            "Requirement already satisfied: numpy in /usr/local/lib/python3.7/dist-packages (from scikit-survival) (1.19.5)\n",
            "Requirement already satisfied: cvxopt in /usr/local/lib/python3.7/dist-packages (from scikit-survival) (1.2.6)\n",
            "Requirement already satisfied: scikit-learn<0.24,>=0.22.0 in /usr/local/lib/python3.7/dist-packages (from scikit-survival) (0.22.2.post1)\n",
            "Requirement already satisfied: scipy!=1.3.0,>=1.0 in /usr/local/lib/python3.7/dist-packages (from scikit-survival) (1.4.1)\n",
            "Requirement already satisfied: multiprocess in /usr/local/lib/python3.7/dist-packages (from cvxpy>=1.0->scikit-survival) (0.70.11.1)\n",
            "Requirement already satisfied: scs>=1.1.3 in /usr/local/lib/python3.7/dist-packages (from cvxpy>=1.0->scikit-survival) (2.1.3)\n",
            "Requirement already satisfied: ecos>=2 in /usr/local/lib/python3.7/dist-packages (from cvxpy>=1.0->scikit-survival) (2.0.7.post1)\n",
            "Requirement already satisfied: qdldl in /usr/local/lib/python3.7/dist-packages (from osqp!=0.6.0,!=0.6.1->scikit-survival) (0.1.5.post0)\n",
            "Requirement already satisfied: python-dateutil>=2.7.3 in /usr/local/lib/python3.7/dist-packages (from pandas>=0.21->scikit-survival) (2.8.1)\n",
            "Requirement already satisfied: pytz>=2017.2 in /usr/local/lib/python3.7/dist-packages (from pandas>=0.21->scikit-survival) (2018.9)\n",
            "Requirement already satisfied: six>=1.5 in /usr/local/lib/python3.7/dist-packages (from python-dateutil>=2.7.3->pandas>=0.21->scikit-survival) (1.15.0)\n",
            "Requirement already satisfied: dill>=0.3.3 in /usr/local/lib/python3.7/dist-packages (from multiprocess->cvxpy>=1.0->scikit-survival) (0.3.3)\n",
            "Installing collected packages: osqp\n",
            "Successfully installed osqp-0.6.2.post0\n"
          ],
          "name": "stdout"
        }
      ]
    },
    {
      "cell_type": "markdown",
      "metadata": {
        "id": "enm0knmjvG__"
      },
      "source": [
        "#Importing data & Data processing"
      ]
    },
    {
      "cell_type": "code",
      "metadata": {
        "id": "wt6ZK3vzf_uA"
      },
      "source": [
        "import numpy as np\n",
        "import matplotlib.pyplot as plt\n",
        "import pandas as pd\n",
        "from sklearn.model_selection import train_test_split\n",
        "from sklearn.linear_model import LinearRegression\n",
        "from sksurv.nonparametric import kaplan_meier_estimator\n"
      ],
      "execution_count": null,
      "outputs": []
    },
    {
      "cell_type": "code",
      "metadata": {
        "id": "jyvUHwei8v1x"
      },
      "source": [
        "#input data\n",
        "missing_values=[\"[Not Applicable]\",\"[Unknown]\",\"[unknown]\",\"[Not Available]\",\"[Not Evaluated]\"]\n",
        "\n",
        "data_markNA = pd.read_csv(\"/content/drive/MyDrive/Year Three/CS4220yxy/brca_clinical_data.csv\", na_values=missing_values)\n",
        "data_initial = pd.read_csv(\"/content/drive/MyDrive/Year Three/CS4220yxy/brca_clinical_data.csv\")\n",
        "data_initial = data_initial.drop([0,1])\n",
        "data_markNA = data_markNA.drop([0,1])\n",
        "\n",
        "#drop males \n",
        "\n",
        "data_initial = data_initial[data_initial['gender']!=\"MALE\"]\n",
        "data_markNA = data_markNA[data_markNA['gender']!=\"MALE\"]\n"
      ],
      "execution_count": null,
      "outputs": []
    },
    {
      "cell_type": "code",
      "metadata": {
        "id": "_4x4lHjH_8av",
        "colab": {
          "base_uri": "https://localhost:8080/"
        },
        "outputId": "236708f6-f87b-4c32-b015-baefc3fa9ad9"
      },
      "source": [
        "#input parameters \n",
        "all_param = pd.read_csv(\"/content/drive/MyDrive/Year Three/CS4220yxy/selected_features.csv\")\n",
        "\n",
        "def map_name(original_name):\n",
        "    helper_list=original_name.split(' ')\n",
        "    return helper_list[1]\n",
        "\n",
        "all_param = all_param['Column'].dropna()\n",
        "\n",
        "all_param= all_param.apply(map_name)\n",
        "\n",
        "# data_dropNA:missing values as NaN to be dropped\n",
        "data = data_initial\n",
        "data_selected_features = data_initial[all_param]\n",
        "data_selected_features['bcr_patient_uuid'] = data_initial['bcr_patient_uuid']\n",
        "data_selected_features['bcr_patient_barcode'] = data_initial['bcr_patient_barcode']\n",
        "data_dropNA = data_markNA[all_param]\n",
        "\n",
        "\n",
        "#features included by accident \n",
        "mistake_features=[\"surgery_for_positive_margins\",\n",
        "                  \"surgery_for_positive_margins_other\",\"margin_status_reexcision\",\n",
        "                  \"micromet_detection_by_ihc\",\n",
        "                  'lymph_nodes_examined_count','lymph_nodes_examined_he_count']\n",
        "#drop mistake features\n",
        "data = data.drop(axis=1, columns=mistake_features)\n",
        "data_dropNA = data_dropNA.drop(axis=1, columns=mistake_features)\n",
        "data_selected_features = data_selected_features.drop(axis=1, columns=mistake_features)\n",
        "\n",
        "#correct days to death: not applicable --> infinity \n",
        "data_dropNA[\"death_days_to\"]=data_dropNA[\"death_days_to\"].fillna(float('inf'))\n",
        "\n",
        "data_imp = data_selected_features\n",
        "\n"
      ],
      "execution_count": null,
      "outputs": [
        {
          "output_type": "stream",
          "text": [
            "/usr/local/lib/python3.7/dist-packages/ipykernel_launcher.py:15: SettingWithCopyWarning: \n",
            "A value is trying to be set on a copy of a slice from a DataFrame.\n",
            "Try using .loc[row_indexer,col_indexer] = value instead\n",
            "\n",
            "See the caveats in the documentation: https://pandas.pydata.org/pandas-docs/stable/user_guide/indexing.html#returning-a-view-versus-a-copy\n",
            "  from ipykernel import kernelapp as app\n",
            "/usr/local/lib/python3.7/dist-packages/ipykernel_launcher.py:16: SettingWithCopyWarning: \n",
            "A value is trying to be set on a copy of a slice from a DataFrame.\n",
            "Try using .loc[row_indexer,col_indexer] = value instead\n",
            "\n",
            "See the caveats in the documentation: https://pandas.pydata.org/pandas-docs/stable/user_guide/indexing.html#returning-a-view-versus-a-copy\n",
            "  app.launch_new_instance()\n"
          ],
          "name": "stderr"
        }
      ]
    },
    {
      "cell_type": "code",
      "metadata": {
        "id": "2_aUrWDVhQox"
      },
      "source": [
        "data_imp.loc[data_imp[\"death_days_to\"] == '[Not Applicable]', 'death_days_to'] = np.NAN\n",
        "data_imp[\"death_days_to\"]=data_imp[\"death_days_to\"].fillna(float(\"inf\"))"
      ],
      "execution_count": null,
      "outputs": []
    },
    {
      "cell_type": "markdown",
      "metadata": {
        "id": "zLDNVk4WZ3af"
      },
      "source": [
        "data: represent the whole table as imported with unwnated features droped \n",
        "data_selected_features: represent the whole table as imported with only selected features \n",
        "data_imp: all the missing values imputed "
      ]
    },
    {
      "cell_type": "code",
      "metadata": {
        "id": "b5EGXECk86Y5",
        "colab": {
          "base_uri": "https://localhost:8080/",
          "height": 779
        },
        "outputId": "c69f37b1-522f-4d9f-ea70-18e2c0a972ba"
      },
      "source": [
        "#drop all na # Not used anymore due to the drastic reduction in sample size \n",
        "data_drop_all_na = data_dropNA.dropna(axis=0)\n",
        "data_drop_all_na"
      ],
      "execution_count": null,
      "outputs": [
        {
          "output_type": "execute_result",
          "data": {
            "text/html": [
              "<div>\n",
              "<style scoped>\n",
              "    .dataframe tbody tr th:only-of-type {\n",
              "        vertical-align: middle;\n",
              "    }\n",
              "\n",
              "    .dataframe tbody tr th {\n",
              "        vertical-align: top;\n",
              "    }\n",
              "\n",
              "    .dataframe thead th {\n",
              "        text-align: right;\n",
              "    }\n",
              "</style>\n",
              "<table border=\"1\" class=\"dataframe\">\n",
              "  <thead>\n",
              "    <tr style=\"text-align: right;\">\n",
              "      <th></th>\n",
              "      <th>menopause_status</th>\n",
              "      <th>race</th>\n",
              "      <th>history_other_malignancy</th>\n",
              "      <th>tumor_status</th>\n",
              "      <th>vital_status</th>\n",
              "      <th>last_contact_days_to</th>\n",
              "      <th>death_days_to</th>\n",
              "      <th>age_at_diagnosis</th>\n",
              "      <th>surgical_procedure_first</th>\n",
              "      <th>margin_status</th>\n",
              "      <th>ajcc_tumor_pathologic_pt</th>\n",
              "      <th>ajcc_nodes_pathologic_pn</th>\n",
              "      <th>ajcc_metastasis_pathologic_pm</th>\n",
              "      <th>ajcc_pathologic_tumor_stage</th>\n",
              "      <th>er_status_by_ihc</th>\n",
              "      <th>pr_status_by_ihc</th>\n",
              "      <th>her2_status_by_ihc</th>\n",
              "      <th>anatomic_neoplasm_subdivision</th>\n",
              "      <th>histological_type</th>\n",
              "      <th>icd_o_3_histology</th>\n",
              "    </tr>\n",
              "  </thead>\n",
              "  <tbody>\n",
              "    <tr>\n",
              "      <th>2</th>\n",
              "      <td>Pre (&lt;6 months since LMP AND no prior bilatera...</td>\n",
              "      <td>WHITE</td>\n",
              "      <td>No</td>\n",
              "      <td>WITH TUMOR</td>\n",
              "      <td>Alive</td>\n",
              "      <td>3767</td>\n",
              "      <td>inf</td>\n",
              "      <td>55</td>\n",
              "      <td>Modified Radical Mastectomy</td>\n",
              "      <td>Negative</td>\n",
              "      <td>TX</td>\n",
              "      <td>NX</td>\n",
              "      <td>MX</td>\n",
              "      <td>Stage X</td>\n",
              "      <td>Positive</td>\n",
              "      <td>Positive</td>\n",
              "      <td>Negative</td>\n",
              "      <td>Left Lower Outer Quadrant</td>\n",
              "      <td>Infiltrating Lobular Carcinoma</td>\n",
              "      <td>8520/3</td>\n",
              "    </tr>\n",
              "    <tr>\n",
              "      <th>3</th>\n",
              "      <td>Post (prior bilateral ovariectomy OR &gt;12 mo si...</td>\n",
              "      <td>BLACK OR AFRICAN AMERICAN</td>\n",
              "      <td>No</td>\n",
              "      <td>TUMOR FREE</td>\n",
              "      <td>Alive</td>\n",
              "      <td>3801</td>\n",
              "      <td>inf</td>\n",
              "      <td>50</td>\n",
              "      <td>Lumpectomy</td>\n",
              "      <td>Negative</td>\n",
              "      <td>T2</td>\n",
              "      <td>N1a</td>\n",
              "      <td>M0</td>\n",
              "      <td>Stage IIB</td>\n",
              "      <td>Positive</td>\n",
              "      <td>Positive</td>\n",
              "      <td>Positive</td>\n",
              "      <td>Right Upper Outer Quadrant</td>\n",
              "      <td>Infiltrating Ductal Carcinoma</td>\n",
              "      <td>8500/3</td>\n",
              "    </tr>\n",
              "    <tr>\n",
              "      <th>4</th>\n",
              "      <td>Post (prior bilateral ovariectomy OR &gt;12 mo si...</td>\n",
              "      <td>BLACK OR AFRICAN AMERICAN</td>\n",
              "      <td>No</td>\n",
              "      <td>TUMOR FREE</td>\n",
              "      <td>Alive</td>\n",
              "      <td>1228</td>\n",
              "      <td>inf</td>\n",
              "      <td>62</td>\n",
              "      <td>Modified Radical Mastectomy</td>\n",
              "      <td>Negative</td>\n",
              "      <td>T2</td>\n",
              "      <td>N1a</td>\n",
              "      <td>M0</td>\n",
              "      <td>Stage IIB</td>\n",
              "      <td>Positive</td>\n",
              "      <td>Positive</td>\n",
              "      <td>Indeterminate</td>\n",
              "      <td>Right</td>\n",
              "      <td>Infiltrating Ductal Carcinoma</td>\n",
              "      <td>8500/3</td>\n",
              "    </tr>\n",
              "    <tr>\n",
              "      <th>6</th>\n",
              "      <td>Post (prior bilateral ovariectomy OR &gt;12 mo si...</td>\n",
              "      <td>WHITE</td>\n",
              "      <td>No</td>\n",
              "      <td>TUMOR FREE</td>\n",
              "      <td>Alive</td>\n",
              "      <td>158</td>\n",
              "      <td>inf</td>\n",
              "      <td>50</td>\n",
              "      <td>Modified Radical Mastectomy</td>\n",
              "      <td>Negative</td>\n",
              "      <td>T2</td>\n",
              "      <td>N2a</td>\n",
              "      <td>M0</td>\n",
              "      <td>Stage IIIA</td>\n",
              "      <td>Positive</td>\n",
              "      <td>Positive</td>\n",
              "      <td>Equivocal</td>\n",
              "      <td>Left|Left Upper Outer Quadrant</td>\n",
              "      <td>Infiltrating Lobular Carcinoma</td>\n",
              "      <td>8520/3</td>\n",
              "    </tr>\n",
              "    <tr>\n",
              "      <th>7</th>\n",
              "      <td>Post (prior bilateral ovariectomy OR &gt;12 mo si...</td>\n",
              "      <td>WHITE</td>\n",
              "      <td>Yes</td>\n",
              "      <td>TUMOR FREE</td>\n",
              "      <td>Alive</td>\n",
              "      <td>1477</td>\n",
              "      <td>inf</td>\n",
              "      <td>42</td>\n",
              "      <td>Modified Radical Mastectomy</td>\n",
              "      <td>Positive</td>\n",
              "      <td>T2</td>\n",
              "      <td>N0</td>\n",
              "      <td>M0</td>\n",
              "      <td>Stage IIA</td>\n",
              "      <td>Positive</td>\n",
              "      <td>Positive</td>\n",
              "      <td>Negative</td>\n",
              "      <td>Right|Right Lower Outer Quadrant</td>\n",
              "      <td>Infiltrating Lobular Carcinoma</td>\n",
              "      <td>8520/3</td>\n",
              "    </tr>\n",
              "    <tr>\n",
              "      <th>...</th>\n",
              "      <td>...</td>\n",
              "      <td>...</td>\n",
              "      <td>...</td>\n",
              "      <td>...</td>\n",
              "      <td>...</td>\n",
              "      <td>...</td>\n",
              "      <td>...</td>\n",
              "      <td>...</td>\n",
              "      <td>...</td>\n",
              "      <td>...</td>\n",
              "      <td>...</td>\n",
              "      <td>...</td>\n",
              "      <td>...</td>\n",
              "      <td>...</td>\n",
              "      <td>...</td>\n",
              "      <td>...</td>\n",
              "      <td>...</td>\n",
              "      <td>...</td>\n",
              "      <td>...</td>\n",
              "      <td>...</td>\n",
              "    </tr>\n",
              "    <tr>\n",
              "      <th>1094</th>\n",
              "      <td>Post (prior bilateral ovariectomy OR &gt;12 mo si...</td>\n",
              "      <td>WHITE</td>\n",
              "      <td>No</td>\n",
              "      <td>TUMOR FREE</td>\n",
              "      <td>Alive</td>\n",
              "      <td>791</td>\n",
              "      <td>inf</td>\n",
              "      <td>77</td>\n",
              "      <td>Lumpectomy</td>\n",
              "      <td>Negative</td>\n",
              "      <td>T1c</td>\n",
              "      <td>N0 (i-)</td>\n",
              "      <td>MX</td>\n",
              "      <td>Stage IA</td>\n",
              "      <td>Positive</td>\n",
              "      <td>Positive</td>\n",
              "      <td>Negative</td>\n",
              "      <td>Left</td>\n",
              "      <td>Infiltrating Lobular Carcinoma</td>\n",
              "      <td>8520/3</td>\n",
              "    </tr>\n",
              "    <tr>\n",
              "      <th>1095</th>\n",
              "      <td>Post (prior bilateral ovariectomy OR &gt;12 mo si...</td>\n",
              "      <td>WHITE</td>\n",
              "      <td>No</td>\n",
              "      <td>TUMOR FREE</td>\n",
              "      <td>Alive</td>\n",
              "      <td>292</td>\n",
              "      <td>inf</td>\n",
              "      <td>46</td>\n",
              "      <td>Modified Radical Mastectomy</td>\n",
              "      <td>Negative</td>\n",
              "      <td>T1c</td>\n",
              "      <td>N2a</td>\n",
              "      <td>MX</td>\n",
              "      <td>Stage IIIA</td>\n",
              "      <td>Positive</td>\n",
              "      <td>Positive</td>\n",
              "      <td>Negative</td>\n",
              "      <td>Right Lower Outer Quadrant</td>\n",
              "      <td>Infiltrating Lobular Carcinoma</td>\n",
              "      <td>8520/3</td>\n",
              "    </tr>\n",
              "    <tr>\n",
              "      <th>1096</th>\n",
              "      <td>Post (prior bilateral ovariectomy OR &gt;12 mo si...</td>\n",
              "      <td>WHITE</td>\n",
              "      <td>No</td>\n",
              "      <td>TUMOR FREE</td>\n",
              "      <td>Alive</td>\n",
              "      <td>278</td>\n",
              "      <td>inf</td>\n",
              "      <td>68</td>\n",
              "      <td>Simple Mastectomy</td>\n",
              "      <td>Negative</td>\n",
              "      <td>T3</td>\n",
              "      <td>N0</td>\n",
              "      <td>MX</td>\n",
              "      <td>Stage IIB</td>\n",
              "      <td>Positive</td>\n",
              "      <td>Positive</td>\n",
              "      <td>Negative</td>\n",
              "      <td>Left Upper Outer Quadrant</td>\n",
              "      <td>Infiltrating Lobular Carcinoma</td>\n",
              "      <td>8520/3</td>\n",
              "    </tr>\n",
              "    <tr>\n",
              "      <th>1097</th>\n",
              "      <td>Post (prior bilateral ovariectomy OR &gt;12 mo si...</td>\n",
              "      <td>WHITE</td>\n",
              "      <td>Yes</td>\n",
              "      <td>TUMOR FREE</td>\n",
              "      <td>Alive</td>\n",
              "      <td>3042</td>\n",
              "      <td>inf</td>\n",
              "      <td>61</td>\n",
              "      <td>Other</td>\n",
              "      <td>Positive</td>\n",
              "      <td>T3</td>\n",
              "      <td>N1a</td>\n",
              "      <td>MX</td>\n",
              "      <td>Stage IIIA</td>\n",
              "      <td>Positive</td>\n",
              "      <td>Positive</td>\n",
              "      <td>Negative</td>\n",
              "      <td>Left Upper Outer Quadrant</td>\n",
              "      <td>Infiltrating Lobular Carcinoma</td>\n",
              "      <td>8520/3</td>\n",
              "    </tr>\n",
              "    <tr>\n",
              "      <th>1098</th>\n",
              "      <td>Pre (&lt;6 months since LMP AND no prior bilatera...</td>\n",
              "      <td>WHITE</td>\n",
              "      <td>No</td>\n",
              "      <td>TUMOR FREE</td>\n",
              "      <td>Alive</td>\n",
              "      <td>2800</td>\n",
              "      <td>inf</td>\n",
              "      <td>46</td>\n",
              "      <td>Lumpectomy</td>\n",
              "      <td>Negative</td>\n",
              "      <td>T1c</td>\n",
              "      <td>N0</td>\n",
              "      <td>M0</td>\n",
              "      <td>Stage I</td>\n",
              "      <td>Positive</td>\n",
              "      <td>Positive</td>\n",
              "      <td>Negative</td>\n",
              "      <td>Left Upper Outer Quadrant</td>\n",
              "      <td>Infiltrating Lobular Carcinoma</td>\n",
              "      <td>8022/3</td>\n",
              "    </tr>\n",
              "  </tbody>\n",
              "</table>\n",
              "<p>599 rows × 20 columns</p>\n",
              "</div>"
            ],
            "text/plain": [
              "                                       menopause_status  ... icd_o_3_histology\n",
              "2     Pre (<6 months since LMP AND no prior bilatera...  ...            8520/3\n",
              "3     Post (prior bilateral ovariectomy OR >12 mo si...  ...            8500/3\n",
              "4     Post (prior bilateral ovariectomy OR >12 mo si...  ...            8500/3\n",
              "6     Post (prior bilateral ovariectomy OR >12 mo si...  ...            8520/3\n",
              "7     Post (prior bilateral ovariectomy OR >12 mo si...  ...            8520/3\n",
              "...                                                 ...  ...               ...\n",
              "1094  Post (prior bilateral ovariectomy OR >12 mo si...  ...            8520/3\n",
              "1095  Post (prior bilateral ovariectomy OR >12 mo si...  ...            8520/3\n",
              "1096  Post (prior bilateral ovariectomy OR >12 mo si...  ...            8520/3\n",
              "1097  Post (prior bilateral ovariectomy OR >12 mo si...  ...            8520/3\n",
              "1098  Pre (<6 months since LMP AND no prior bilatera...  ...            8022/3\n",
              "\n",
              "[599 rows x 20 columns]"
            ]
          },
          "metadata": {
            "tags": []
          },
          "execution_count": 446
        }
      ]
    },
    {
      "cell_type": "code",
      "metadata": {
        "id": "mxJIKxzJ_Gld",
        "colab": {
          "base_uri": "https://localhost:8080/"
        },
        "outputId": "18d8dde9-1288-4abd-bc33-7d3fe42dff27"
      },
      "source": [
        "data_dropNA.isna().sum()"
      ],
      "execution_count": null,
      "outputs": [
        {
          "output_type": "execute_result",
          "data": {
            "text/plain": [
              "menopause_status                  78\n",
              "race                              94\n",
              "history_other_malignancy           0\n",
              "tumor_status                     124\n",
              "vital_status                       0\n",
              "last_contact_days_to             104\n",
              "death_days_to                      0\n",
              "age_at_diagnosis                   0\n",
              "surgical_procedure_first          54\n",
              "margin_status                     68\n",
              "ajcc_tumor_pathologic_pt           0\n",
              "ajcc_nodes_pathologic_pn           0\n",
              "ajcc_metastasis_pathologic_pm      0\n",
              "ajcc_pathologic_tumor_stage        5\n",
              "er_status_by_ihc                  49\n",
              "pr_status_by_ihc                  50\n",
              "her2_status_by_ihc               176\n",
              "anatomic_neoplasm_subdivision      0\n",
              "histological_type                  1\n",
              "icd_o_3_histology                  0\n",
              "dtype: int64"
            ]
          },
          "metadata": {
            "tags": []
          },
          "execution_count": 447
        }
      ]
    },
    {
      "cell_type": "code",
      "metadata": {
        "id": "eWgs_mlLELKF",
        "colab": {
          "base_uri": "https://localhost:8080/"
        },
        "outputId": "c12c7e7c-ba34-4df4-c941-a211f0f42ddc"
      },
      "source": [
        "#prep for fill menopause status\n",
        "data[\"menopause_status\"].unique()\n",
        "data[\"menopause_status\"].value_counts()\n",
        "# generate for [Not Available],[Unknown], [Not Evaluated]\n",
        "\n",
        "#data[\"age_at_diagnosis\"] = pd.to_numeric(data[\"age_at_diagnosis\"])\n",
        "#data[[\"menopause_status\",\"age_at_diagnosis\"]].groupby([\"menopause_status\"]).mean()"
      ],
      "execution_count": null,
      "outputs": [
        {
          "output_type": "execute_result",
          "data": {
            "text/plain": [
              "Post (prior bilateral ovariectomy OR >12 mo since LMP with no prior hysterectomy)               705\n",
              "Pre (<6 months since LMP AND no prior bilateral ovariectomy AND not on estrogen replacement)    229\n",
              "[Not Available]                                                                                  56\n",
              "Peri (6-12 months since last menstrual period)                                                   39\n",
              "Indeterminate (neither Pre or Postmenopausal)                                                    34\n",
              "[Unknown]                                                                                        17\n",
              "[Not Evaluated]                                                                                   5\n",
              "Name: menopause_status, dtype: int64"
            ]
          },
          "metadata": {
            "tags": []
          },
          "execution_count": 448
        }
      ]
    },
    {
      "cell_type": "code",
      "metadata": {
        "id": "VZSvHdxP_2a9",
        "colab": {
          "base_uri": "https://localhost:8080/"
        },
        "outputId": "c500b579-c834-4531-e3b6-1284d0b7ba95"
      },
      "source": [
        "#fill menopause \n",
        "\n",
        "# clean the data and mark the NaN\n",
        "data.loc[data[\"menopause_status\"] == '[Not Available]', \"menopause_status\"] = np.NAN\n",
        "data.loc[data[\"menopause_status\"] == '[Unknown]', \"menopause_status\"] = np.NAN\n",
        "data.loc[data[\"menopause_status\"] == '[Not Evaluated]', \"menopause_status\"] = np.NAN\n",
        "data['menopause_status'].isna().sum()\n",
        "\n",
        "# sub data frame with just the variables of interest\n",
        "df=data[['menopause_status', 'age_at_diagnosis']]\n",
        "missing_meno=data['menopause_status'].isnull()\n",
        "\n",
        "# extract the age for the missing menopause data patients \n",
        "age_mis_meno = pd.DataFrame(df['age_at_diagnosis'][missing_meno])\n",
        "\n",
        "# prep for training data \n",
        "meno_st=data[\"menopause_status\"].dropna()\n",
        "\n",
        "# turn into numeric data\n",
        "def map_meno(input_status):\n",
        "    helper_list=input_status.split(' ')\n",
        "    if (helper_list[0]==\"Pre\"):\n",
        "        return 1\n",
        "    elif (helper_list[0]==\"Peri\"):\n",
        "        return 2\n",
        "    elif (helper_list[0]==\"Indeterminate\"):\n",
        "        return 3\n",
        "    else:\n",
        "        return 4\n",
        "\n",
        "meno_st=meno_st.apply(map_meno)\n",
        "df[\"menopause_status\"]=meno_st\n",
        "\n",
        "# regression model and prediction\n",
        "df=df.dropna()\n",
        "X=df[['age_at_diagnosis']]\n",
        "y=df[['menopause_status']]\n",
        "\n",
        "X_train, X_test, y_train, y_test = train_test_split(X, y, test_size=0.2, random_state=101)\n",
        "\n",
        "lm = LinearRegression().fit(X_train, y_train)\n",
        "meno_pred = lm.predict(age_mis_meno)"
      ],
      "execution_count": null,
      "outputs": [
        {
          "output_type": "stream",
          "text": [
            "/usr/local/lib/python3.7/dist-packages/ipykernel_launcher.py:32: SettingWithCopyWarning: \n",
            "A value is trying to be set on a copy of a slice from a DataFrame.\n",
            "Try using .loc[row_indexer,col_indexer] = value instead\n",
            "\n",
            "See the caveats in the documentation: https://pandas.pydata.org/pandas-docs/stable/user_guide/indexing.html#returning-a-view-versus-a-copy\n"
          ],
          "name": "stderr"
        }
      ]
    },
    {
      "cell_type": "code",
      "metadata": {
        "id": "1HDp_bBI3buE",
        "colab": {
          "base_uri": "https://localhost:8080/"
        },
        "outputId": "1917328e-9666-43be-c4f0-2377f460d02f"
      },
      "source": [
        "# processing the prediction\n",
        "age_mis_meno['meno_status_imputed']=meno_pred.round()\n",
        "\n",
        "# merging the table\n",
        "age_mis_meno.rename(columns={'age_at_diagnosis':'age_for_mis_meno'},inplace=True)\n",
        "\n",
        "final_df = pd.concat([df, age_mis_meno], axis=1)\n",
        "final_df['menopause_status_imputed'] = np.where(final_df['menopause_status'].isnull(), final_df['meno_status_imputed'],final_df['menopause_status'])\n",
        "final_df['age_at_diagnosis'] = np.where(final_df['age_at_diagnosis'].isnull(), final_df['age_for_mis_meno'],final_df['age_at_diagnosis'])\n",
        "final_df = final_df[['age_at_diagnosis','menopause_status_imputed']]\n",
        "\n",
        "data_1 = data\n",
        "data_1['menopause_status_imputed'] = final_df['menopause_status_imputed']\n",
        "data_1.drop(columns=['menopause_status'], inplace=True)\n",
        "\n",
        "# data_1 contains all the original data with an aditional column of menopause_status_imputed\n",
        "data_1\n",
        "#data_selected_features_1 contains all the selected features and imputed conlumns\n",
        "\n",
        "data_imp['menopause_status_imputed'] = final_df['menopause_status_imputed']\n",
        "\n",
        "data_imp['menopause_status_imputed'].value_counts()\n",
        "\n"
      ],
      "execution_count": null,
      "outputs": [
        {
          "output_type": "execute_result",
          "data": {
            "text/plain": [
              "4.0    715\n",
              "1.0    232\n",
              "2.0     68\n",
              "3.0     65\n",
              "5.0      5\n",
              "Name: menopause_status_imputed, dtype: int64"
            ]
          },
          "metadata": {
            "tags": []
          },
          "execution_count": 450
        }
      ]
    },
    {
      "cell_type": "code",
      "metadata": {
        "id": "I2AizEYDBi9-",
        "colab": {
          "base_uri": "https://localhost:8080/"
        },
        "outputId": "879d912b-e167-43a0-d749-ed0f4f40466c"
      },
      "source": [
        "#imputing for race, tumor_status, er_status_by_ihc, pr_status_by_ihc, her2_status_by_ihc via probablistic model \n",
        "\n",
        "#prep race\n",
        "data[\"race\"].unique()\n",
        "data[\"race\"].value_counts()\n"
      ],
      "execution_count": null,
      "outputs": [
        {
          "output_type": "execute_result",
          "data": {
            "text/plain": [
              "WHITE                               749\n",
              "BLACK OR AFRICAN AMERICAN           180\n",
              "[Not Available]                      91\n",
              "ASIAN                                61\n",
              "[Not Evaluated]                       3\n",
              "AMERICAN INDIAN OR ALASKA NATIVE      1\n",
              "Name: race, dtype: int64"
            ]
          },
          "metadata": {
            "tags": []
          },
          "execution_count": 451
        }
      ]
    },
    {
      "cell_type": "code",
      "metadata": {
        "id": "ARykiLWcQBGJ"
      },
      "source": [
        "# mark and fill NA \n",
        "data_imp.loc[data_imp[\"race\"] == '[Not Available]', \"race\"] = np.NAN\n",
        "data_imp.loc[data_imp[\"race\"] == '[Not Evaluated]', \"race\"] = np.NAN\n",
        "\n",
        "def random_imputation(df, feature):\n",
        "\n",
        "    number_missing = df[feature].isnull().sum()\n",
        "    observed_values = df.loc[df[feature].notnull(), feature]\n",
        "    df.loc[df[feature].isnull(), feature + '_imputed'] = np.random.choice(observed_values, number_missing, replace = True)\n",
        "    \n",
        "    return df\n",
        "\n",
        "\n",
        "data_imp['race_imputed'] = data_imp['race']\n",
        "data_imp = random_imputation(data_imp, 'race')"
      ],
      "execution_count": null,
      "outputs": []
    },
    {
      "cell_type": "code",
      "metadata": {
        "id": "EZXD67rYL3p_",
        "colab": {
          "base_uri": "https://localhost:8080/"
        },
        "outputId": "056dd024-c49d-48be-8097-f6700ce6d454"
      },
      "source": [
        "#prep tumor_status\n",
        "data[\"tumor_status\"].unique()\n",
        "data[\"tumor_status\"].value_counts()"
      ],
      "execution_count": null,
      "outputs": [
        {
          "output_type": "execute_result",
          "data": {
            "text/plain": [
              "TUMOR FREE         868\n",
              "[Not Available]    104\n",
              "WITH TUMOR          93\n",
              "[Unknown]           20\n",
              "Name: tumor_status, dtype: int64"
            ]
          },
          "metadata": {
            "tags": []
          },
          "execution_count": 453
        }
      ]
    },
    {
      "cell_type": "code",
      "metadata": {
        "id": "DO7AXilgYFdj"
      },
      "source": [
        "#filling in missing values for tumor status \n",
        "data_imp.loc[data_imp[\"tumor_status\"] == '[Not Available]', \"tumor_status\"] = np.NAN\n",
        "data_imp.loc[data_imp[\"tumor_status\"] == '[Unknown]', \"tumor_status\"] = np.NAN\n",
        "\n",
        "def random_imputation(df, feature):\n",
        "\n",
        "    number_missing = df[feature].isnull().sum()\n",
        "    observed_values = df.loc[df[feature].notnull(), feature]\n",
        "    df.loc[df[feature].isnull(), feature + '_imputed'] = np.random.choice(observed_values, number_missing, replace = True)\n",
        "    \n",
        "    return df\n",
        "\n",
        "\n",
        "data_imp['tumor_status_imputed'] = data_imp['tumor_status']\n",
        "data_imp = random_imputation(data_imp, 'tumor_status')\n"
      ],
      "execution_count": null,
      "outputs": []
    },
    {
      "cell_type": "code",
      "metadata": {
        "id": "WP0TEQA9PX_n",
        "colab": {
          "base_uri": "https://localhost:8080/"
        },
        "outputId": "740815e9-b893-4197-a20a-905e016a8959"
      },
      "source": [
        "#prep er_status_by_ihc\n",
        "data[\"er_status_by_ihc\"].unique()\n",
        "data[\"er_status_by_ihc\"].value_counts()"
      ],
      "execution_count": null,
      "outputs": [
        {
          "output_type": "execute_result",
          "data": {
            "text/plain": [
              "Positive           796\n",
              "Negative           238\n",
              "[Not Evaluated]     49\n",
              "Indeterminate        2\n",
              "Name: er_status_by_ihc, dtype: int64"
            ]
          },
          "metadata": {
            "tags": []
          },
          "execution_count": 455
        }
      ]
    },
    {
      "cell_type": "code",
      "metadata": {
        "id": "2YR88pj9b5vB"
      },
      "source": [
        "#filling in missing values for er_status_by_ihc\n",
        "data_imp.loc[data_imp[\"er_status_by_ihc\"] == '[Not Evaluated]', \"er_status_by_ihc\"] = np.NAN\n",
        "\n",
        "\n",
        "def random_imputation(df, feature):\n",
        "\n",
        "    number_missing = df[feature].isnull().sum()\n",
        "    observed_values = df.loc[df[feature].notnull(), feature]\n",
        "    df.loc[df[feature].isnull(), feature + '_imputed'] = np.random.choice(observed_values, number_missing, replace = True)\n",
        "    \n",
        "    return df\n",
        "\n",
        "data_imp['er_status_by_ihc_imputed'] = data_imp['er_status_by_ihc']\n",
        "data_imp = random_imputation(data_imp, 'er_status_by_ihc')\n"
      ],
      "execution_count": null,
      "outputs": []
    },
    {
      "cell_type": "code",
      "metadata": {
        "id": "erlz_glCbzy2",
        "colab": {
          "base_uri": "https://localhost:8080/"
        },
        "outputId": "dd55fcce-2d30-4eeb-d59d-63cdb3c39849"
      },
      "source": [
        "#prep pr_status_by_ihc\n",
        "data[\"pr_status_by_ihc\"].unique()\n",
        "data[\"pr_status_by_ihc\"].value_counts()"
      ],
      "execution_count": null,
      "outputs": [
        {
          "output_type": "execute_result",
          "data": {
            "text/plain": [
              "Positive           689\n",
              "Negative           342\n",
              "[Not Evaluated]     50\n",
              "Indeterminate        4\n",
              "Name: pr_status_by_ihc, dtype: int64"
            ]
          },
          "metadata": {
            "tags": []
          },
          "execution_count": 457
        }
      ]
    },
    {
      "cell_type": "code",
      "metadata": {
        "id": "2vDGpHoBcfwK",
        "colab": {
          "base_uri": "https://localhost:8080/"
        },
        "outputId": "295d8088-ee8b-4ab5-fc38-77b153d2da07"
      },
      "source": [
        "#filling in missing values for pr_status_by_ihc\n",
        "data_imp.loc[data_imp[\"pr_status_by_ihc\"] == '[Not Evaluated]', \"pr_status_by_ihc\"] = np.NAN\n",
        "\n",
        "\n",
        "def random_imputation(df, feature):\n",
        "\n",
        "    number_missing = df[feature].isnull().sum()\n",
        "    observed_values = df.loc[df[feature].notnull(), feature]\n",
        "    df.loc[df[feature].isnull(), feature + '_imputed'] = np.random.choice(observed_values, number_missing, replace = True)\n",
        "    \n",
        "    return df\n",
        "\n",
        "data_imp['pr_status_by_ihc_imputed'] = data_imp['pr_status_by_ihc']\n",
        "data_imp = random_imputation(data_imp, 'pr_status_by_ihc')\n",
        "data_imp['pr_status_by_ihc_imputed'].value_counts()"
      ],
      "execution_count": null,
      "outputs": [
        {
          "output_type": "execute_result",
          "data": {
            "text/plain": [
              "Positive         729\n",
              "Negative         352\n",
              "Indeterminate      4\n",
              "Name: pr_status_by_ihc_imputed, dtype: int64"
            ]
          },
          "metadata": {
            "tags": []
          },
          "execution_count": 458
        }
      ]
    },
    {
      "cell_type": "code",
      "metadata": {
        "id": "-gdnJ1uFb2ph",
        "colab": {
          "base_uri": "https://localhost:8080/"
        },
        "outputId": "d55e5a02-46e0-41d6-c408-c4e77f6b58cf"
      },
      "source": [
        "#prep her2_status_by_ihc\n",
        "data[\"her2_status_by_ihc\"].unique()\n",
        "data[\"her2_status_by_ihc\"].value_counts()"
      ],
      "execution_count": null,
      "outputs": [
        {
          "output_type": "execute_result",
          "data": {
            "text/plain": [
              "Negative           559\n",
              "Equivocal          177\n",
              "[Not Evaluated]    168\n",
              "Positive           161\n",
              "Indeterminate       12\n",
              "[Not Available]      8\n",
              "Name: her2_status_by_ihc, dtype: int64"
            ]
          },
          "metadata": {
            "tags": []
          },
          "execution_count": 459
        }
      ]
    },
    {
      "cell_type": "code",
      "metadata": {
        "id": "sdsQSq3Gcsyf"
      },
      "source": [
        "#filling in missing values for her2_status_by_ihc\n",
        "data_imp.loc[data_imp[\"her2_status_by_ihc\"] == '[Not Evaluated]', \"her2_status_by_ihc\"] = np.NAN\n",
        "data_imp.loc[data_imp[\"her2_status_by_ihc\"] == '[Not Available]', \"her2_status_by_ihc\"] = np.NAN\n",
        "\n",
        "def random_imputation(df, feature):\n",
        "\n",
        "    number_missing = df[feature].isnull().sum()\n",
        "    observed_values = df.loc[df[feature].notnull(), feature]\n",
        "    df.loc[df[feature].isnull(), feature + '_imputed'] = np.random.choice(observed_values, number_missing, replace = True)\n",
        "    \n",
        "    return df\n",
        "\n",
        "data_imp['her2_status_by_ihc_imputed'] = data_imp['her2_status_by_ihc']\n",
        "data_imp = random_imputation(data_imp, 'her2_status_by_ihc')\n"
      ],
      "execution_count": null,
      "outputs": []
    },
    {
      "cell_type": "code",
      "metadata": {
        "id": "W6HhnbHJec7d"
      },
      "source": [
        "imputed_columns = ['menopause_status','race','tumor_status','er_status_by_ihc','pr_status_by_ihc','her2_status_by_ihc']\n",
        "data_imp.drop(columns=imputed_columns, inplace=True)\n"
      ],
      "execution_count": null,
      "outputs": []
    },
    {
      "cell_type": "code",
      "metadata": {
        "id": "xQfxloaS7NPI"
      },
      "source": [
        "# fill na and drop rows\n",
        "data_imp.loc[data_imp[\"surgical_procedure_first\"] == '[Not Available]', \"surgical_procedure_first\"] = np.NAN\n",
        "data_imp.loc[data_imp[\"surgical_procedure_first\"] == '[Unknown]', \"surgical_procedure_first\"] = np.NAN\n",
        "data_imp.loc[data_imp[\"surgical_procedure_first\"] == '[Discrepancy]', \"surgical_procedure_first\"] = np.NAN\n",
        "data_imp.loc[data_imp[\"margin_status\"] == '[Not Available]', \"margin_status\"] = np.NAN\n",
        "data_imp.loc[data_imp[\"margin_status\"] == '[Unknown]', \"margin_status\"] = np.NAN\n",
        "data_imp.loc[data_imp[\"ajcc_pathologic_tumor_stage\"] == '[Discrepancy]', \"ajcc_pathologic_tumor_stage\"] = np.NAN\n",
        "data_imp.loc[data_imp[\"ajcc_pathologic_tumor_stage\"] == '[Not Available]', \"ajcc_pathologic_tumor_stage\"] = np.NAN\n",
        "data_imp.loc[data_imp[\"histological_type\"] == '[Not Available]', \"histological_type\"] = np.NAN\n",
        "data_imp.loc[data_imp[\"history_other_malignancy\"] == '[Discrepancy]', \"history_other_malignancy\"] = np.NAN"
      ],
      "execution_count": null,
      "outputs": []
    },
    {
      "cell_type": "code",
      "metadata": {
        "id": "v_xZg2S2f9pc",
        "colab": {
          "base_uri": "https://localhost:8080/",
          "height": 779
        },
        "outputId": "2fe36937-c696-474e-f051-6890d37d47b1"
      },
      "source": [
        "#drop rows \"surgical_procedure_first\", \"margin_status\",\"ajcc_pathologic_tumor_stage\",\"histological_type\"\n",
        "data_imp.dropna(axis=0, inplace=True)\n",
        "data_imp"
      ],
      "execution_count": null,
      "outputs": [
        {
          "output_type": "execute_result",
          "data": {
            "text/html": [
              "<div>\n",
              "<style scoped>\n",
              "    .dataframe tbody tr th:only-of-type {\n",
              "        vertical-align: middle;\n",
              "    }\n",
              "\n",
              "    .dataframe tbody tr th {\n",
              "        vertical-align: top;\n",
              "    }\n",
              "\n",
              "    .dataframe thead th {\n",
              "        text-align: right;\n",
              "    }\n",
              "</style>\n",
              "<table border=\"1\" class=\"dataframe\">\n",
              "  <thead>\n",
              "    <tr style=\"text-align: right;\">\n",
              "      <th></th>\n",
              "      <th>history_other_malignancy</th>\n",
              "      <th>vital_status</th>\n",
              "      <th>last_contact_days_to</th>\n",
              "      <th>death_days_to</th>\n",
              "      <th>age_at_diagnosis</th>\n",
              "      <th>surgical_procedure_first</th>\n",
              "      <th>margin_status</th>\n",
              "      <th>ajcc_tumor_pathologic_pt</th>\n",
              "      <th>ajcc_nodes_pathologic_pn</th>\n",
              "      <th>ajcc_metastasis_pathologic_pm</th>\n",
              "      <th>ajcc_pathologic_tumor_stage</th>\n",
              "      <th>anatomic_neoplasm_subdivision</th>\n",
              "      <th>histological_type</th>\n",
              "      <th>icd_o_3_histology</th>\n",
              "      <th>bcr_patient_uuid</th>\n",
              "      <th>bcr_patient_barcode</th>\n",
              "      <th>menopause_status_imputed</th>\n",
              "      <th>race_imputed</th>\n",
              "      <th>tumor_status_imputed</th>\n",
              "      <th>er_status_by_ihc_imputed</th>\n",
              "      <th>pr_status_by_ihc_imputed</th>\n",
              "      <th>her2_status_by_ihc_imputed</th>\n",
              "    </tr>\n",
              "  </thead>\n",
              "  <tbody>\n",
              "    <tr>\n",
              "      <th>2</th>\n",
              "      <td>No</td>\n",
              "      <td>Alive</td>\n",
              "      <td>3767</td>\n",
              "      <td>inf</td>\n",
              "      <td>55</td>\n",
              "      <td>Modified Radical Mastectomy</td>\n",
              "      <td>Negative</td>\n",
              "      <td>TX</td>\n",
              "      <td>NX</td>\n",
              "      <td>MX</td>\n",
              "      <td>Stage X</td>\n",
              "      <td>Left Lower Outer Quadrant</td>\n",
              "      <td>Infiltrating Lobular Carcinoma</td>\n",
              "      <td>8520/3</td>\n",
              "      <td>6E7D5EC6-A469-467C-B748-237353C23416</td>\n",
              "      <td>TCGA-3C-AAAU</td>\n",
              "      <td>1.0</td>\n",
              "      <td>WHITE</td>\n",
              "      <td>WITH TUMOR</td>\n",
              "      <td>Positive</td>\n",
              "      <td>Positive</td>\n",
              "      <td>Negative</td>\n",
              "    </tr>\n",
              "    <tr>\n",
              "      <th>3</th>\n",
              "      <td>No</td>\n",
              "      <td>Alive</td>\n",
              "      <td>3801</td>\n",
              "      <td>inf</td>\n",
              "      <td>50</td>\n",
              "      <td>Lumpectomy</td>\n",
              "      <td>Negative</td>\n",
              "      <td>T2</td>\n",
              "      <td>N1a</td>\n",
              "      <td>M0</td>\n",
              "      <td>Stage IIB</td>\n",
              "      <td>Right Upper Outer Quadrant</td>\n",
              "      <td>Infiltrating Ductal Carcinoma</td>\n",
              "      <td>8500/3</td>\n",
              "      <td>55262FCB-1B01-4480-B322-36570430C917</td>\n",
              "      <td>TCGA-3C-AALI</td>\n",
              "      <td>4.0</td>\n",
              "      <td>BLACK OR AFRICAN AMERICAN</td>\n",
              "      <td>TUMOR FREE</td>\n",
              "      <td>Positive</td>\n",
              "      <td>Positive</td>\n",
              "      <td>Positive</td>\n",
              "    </tr>\n",
              "    <tr>\n",
              "      <th>4</th>\n",
              "      <td>No</td>\n",
              "      <td>Alive</td>\n",
              "      <td>1228</td>\n",
              "      <td>inf</td>\n",
              "      <td>62</td>\n",
              "      <td>Modified Radical Mastectomy</td>\n",
              "      <td>Negative</td>\n",
              "      <td>T2</td>\n",
              "      <td>N1a</td>\n",
              "      <td>M0</td>\n",
              "      <td>Stage IIB</td>\n",
              "      <td>Right</td>\n",
              "      <td>Infiltrating Ductal Carcinoma</td>\n",
              "      <td>8500/3</td>\n",
              "      <td>427D0648-3F77-4FFC-B52C-89855426D647</td>\n",
              "      <td>TCGA-3C-AALJ</td>\n",
              "      <td>4.0</td>\n",
              "      <td>BLACK OR AFRICAN AMERICAN</td>\n",
              "      <td>TUMOR FREE</td>\n",
              "      <td>Positive</td>\n",
              "      <td>Positive</td>\n",
              "      <td>Indeterminate</td>\n",
              "    </tr>\n",
              "    <tr>\n",
              "      <th>5</th>\n",
              "      <td>No</td>\n",
              "      <td>Alive</td>\n",
              "      <td>1217</td>\n",
              "      <td>inf</td>\n",
              "      <td>52</td>\n",
              "      <td>Simple Mastectomy</td>\n",
              "      <td>Close</td>\n",
              "      <td>T1c</td>\n",
              "      <td>N0 (i+)</td>\n",
              "      <td>M0</td>\n",
              "      <td>Stage IA</td>\n",
              "      <td>Right</td>\n",
              "      <td>Infiltrating Ductal Carcinoma</td>\n",
              "      <td>8500/3</td>\n",
              "      <td>C31900A4-5DCD-4022-97AC-638E86E889E4</td>\n",
              "      <td>TCGA-3C-AALK</td>\n",
              "      <td>3.0</td>\n",
              "      <td>BLACK OR AFRICAN AMERICAN</td>\n",
              "      <td>TUMOR FREE</td>\n",
              "      <td>Positive</td>\n",
              "      <td>Positive</td>\n",
              "      <td>Positive</td>\n",
              "    </tr>\n",
              "    <tr>\n",
              "      <th>6</th>\n",
              "      <td>No</td>\n",
              "      <td>Alive</td>\n",
              "      <td>158</td>\n",
              "      <td>inf</td>\n",
              "      <td>50</td>\n",
              "      <td>Modified Radical Mastectomy</td>\n",
              "      <td>Negative</td>\n",
              "      <td>T2</td>\n",
              "      <td>N2a</td>\n",
              "      <td>M0</td>\n",
              "      <td>Stage IIIA</td>\n",
              "      <td>Left|Left Upper Outer Quadrant</td>\n",
              "      <td>Infiltrating Lobular Carcinoma</td>\n",
              "      <td>8520/3</td>\n",
              "      <td>6623FC5E-00BE-4476-967A-CBD55F676EA6</td>\n",
              "      <td>TCGA-4H-AAAK</td>\n",
              "      <td>4.0</td>\n",
              "      <td>WHITE</td>\n",
              "      <td>TUMOR FREE</td>\n",
              "      <td>Positive</td>\n",
              "      <td>Positive</td>\n",
              "      <td>Equivocal</td>\n",
              "    </tr>\n",
              "    <tr>\n",
              "      <th>...</th>\n",
              "      <td>...</td>\n",
              "      <td>...</td>\n",
              "      <td>...</td>\n",
              "      <td>...</td>\n",
              "      <td>...</td>\n",
              "      <td>...</td>\n",
              "      <td>...</td>\n",
              "      <td>...</td>\n",
              "      <td>...</td>\n",
              "      <td>...</td>\n",
              "      <td>...</td>\n",
              "      <td>...</td>\n",
              "      <td>...</td>\n",
              "      <td>...</td>\n",
              "      <td>...</td>\n",
              "      <td>...</td>\n",
              "      <td>...</td>\n",
              "      <td>...</td>\n",
              "      <td>...</td>\n",
              "      <td>...</td>\n",
              "      <td>...</td>\n",
              "      <td>...</td>\n",
              "    </tr>\n",
              "    <tr>\n",
              "      <th>1094</th>\n",
              "      <td>No</td>\n",
              "      <td>Alive</td>\n",
              "      <td>791</td>\n",
              "      <td>inf</td>\n",
              "      <td>77</td>\n",
              "      <td>Lumpectomy</td>\n",
              "      <td>Negative</td>\n",
              "      <td>T1c</td>\n",
              "      <td>N0 (i-)</td>\n",
              "      <td>MX</td>\n",
              "      <td>Stage IA</td>\n",
              "      <td>Left</td>\n",
              "      <td>Infiltrating Lobular Carcinoma</td>\n",
              "      <td>8520/3</td>\n",
              "      <td>5CD79093-1571-4F71-8136-0D84CCABDCAC</td>\n",
              "      <td>TCGA-WT-AB44</td>\n",
              "      <td>4.0</td>\n",
              "      <td>WHITE</td>\n",
              "      <td>TUMOR FREE</td>\n",
              "      <td>Positive</td>\n",
              "      <td>Positive</td>\n",
              "      <td>Negative</td>\n",
              "    </tr>\n",
              "    <tr>\n",
              "      <th>1095</th>\n",
              "      <td>No</td>\n",
              "      <td>Alive</td>\n",
              "      <td>292</td>\n",
              "      <td>inf</td>\n",
              "      <td>46</td>\n",
              "      <td>Modified Radical Mastectomy</td>\n",
              "      <td>Negative</td>\n",
              "      <td>T1c</td>\n",
              "      <td>N2a</td>\n",
              "      <td>MX</td>\n",
              "      <td>Stage IIIA</td>\n",
              "      <td>Right Lower Outer Quadrant</td>\n",
              "      <td>Infiltrating Lobular Carcinoma</td>\n",
              "      <td>8520/3</td>\n",
              "      <td>F89588E9-CA73-4465-A7FB-7246EDB45E3A</td>\n",
              "      <td>TCGA-XX-A899</td>\n",
              "      <td>4.0</td>\n",
              "      <td>WHITE</td>\n",
              "      <td>TUMOR FREE</td>\n",
              "      <td>Positive</td>\n",
              "      <td>Positive</td>\n",
              "      <td>Negative</td>\n",
              "    </tr>\n",
              "    <tr>\n",
              "      <th>1096</th>\n",
              "      <td>No</td>\n",
              "      <td>Alive</td>\n",
              "      <td>278</td>\n",
              "      <td>inf</td>\n",
              "      <td>68</td>\n",
              "      <td>Simple Mastectomy</td>\n",
              "      <td>Negative</td>\n",
              "      <td>T3</td>\n",
              "      <td>N0</td>\n",
              "      <td>MX</td>\n",
              "      <td>Stage IIB</td>\n",
              "      <td>Left Upper Outer Quadrant</td>\n",
              "      <td>Infiltrating Lobular Carcinoma</td>\n",
              "      <td>8520/3</td>\n",
              "      <td>CA20249F-B7EA-4FD9-9ECB-34F74755AE35</td>\n",
              "      <td>TCGA-XX-A89A</td>\n",
              "      <td>4.0</td>\n",
              "      <td>WHITE</td>\n",
              "      <td>TUMOR FREE</td>\n",
              "      <td>Positive</td>\n",
              "      <td>Positive</td>\n",
              "      <td>Negative</td>\n",
              "    </tr>\n",
              "    <tr>\n",
              "      <th>1097</th>\n",
              "      <td>Yes</td>\n",
              "      <td>Alive</td>\n",
              "      <td>3042</td>\n",
              "      <td>inf</td>\n",
              "      <td>61</td>\n",
              "      <td>Other</td>\n",
              "      <td>Positive</td>\n",
              "      <td>T3</td>\n",
              "      <td>N1a</td>\n",
              "      <td>MX</td>\n",
              "      <td>Stage IIIA</td>\n",
              "      <td>Left Upper Outer Quadrant</td>\n",
              "      <td>Infiltrating Lobular Carcinoma</td>\n",
              "      <td>8520/3</td>\n",
              "      <td>23F438BD-1DBB-4D46-972F-1E8E74DDBD37</td>\n",
              "      <td>TCGA-Z7-A8R5</td>\n",
              "      <td>4.0</td>\n",
              "      <td>WHITE</td>\n",
              "      <td>TUMOR FREE</td>\n",
              "      <td>Positive</td>\n",
              "      <td>Positive</td>\n",
              "      <td>Negative</td>\n",
              "    </tr>\n",
              "    <tr>\n",
              "      <th>1098</th>\n",
              "      <td>No</td>\n",
              "      <td>Alive</td>\n",
              "      <td>2800</td>\n",
              "      <td>inf</td>\n",
              "      <td>46</td>\n",
              "      <td>Lumpectomy</td>\n",
              "      <td>Negative</td>\n",
              "      <td>T1c</td>\n",
              "      <td>N0</td>\n",
              "      <td>M0</td>\n",
              "      <td>Stage I</td>\n",
              "      <td>Left Upper Outer Quadrant</td>\n",
              "      <td>Infiltrating Lobular Carcinoma</td>\n",
              "      <td>8022/3</td>\n",
              "      <td>B1D44C81-747D-471F-9093-AEB262A17975</td>\n",
              "      <td>TCGA-Z7-A8R6</td>\n",
              "      <td>1.0</td>\n",
              "      <td>WHITE</td>\n",
              "      <td>TUMOR FREE</td>\n",
              "      <td>Positive</td>\n",
              "      <td>Positive</td>\n",
              "      <td>Negative</td>\n",
              "    </tr>\n",
              "  </tbody>\n",
              "</table>\n",
              "<p>967 rows × 22 columns</p>\n",
              "</div>"
            ],
            "text/plain": [
              "     history_other_malignancy  ... her2_status_by_ihc_imputed\n",
              "2                          No  ...                   Negative\n",
              "3                          No  ...                   Positive\n",
              "4                          No  ...              Indeterminate\n",
              "5                          No  ...                   Positive\n",
              "6                          No  ...                  Equivocal\n",
              "...                       ...  ...                        ...\n",
              "1094                       No  ...                   Negative\n",
              "1095                       No  ...                   Negative\n",
              "1096                       No  ...                   Negative\n",
              "1097                      Yes  ...                   Negative\n",
              "1098                       No  ...                   Negative\n",
              "\n",
              "[967 rows x 22 columns]"
            ]
          },
          "metadata": {
            "tags": []
          },
          "execution_count": 463
        }
      ]
    },
    {
      "cell_type": "code",
      "metadata": {
        "id": "wc6Md4k2vVZe",
        "colab": {
          "base_uri": "https://localhost:8080/"
        },
        "outputId": "2fa5572a-a401-41a9-8b43-461930f4b50b"
      },
      "source": [
        "data_imp['ajcc_pathologic_tumor_stage'].value_counts()"
      ],
      "execution_count": null,
      "outputs": [
        {
          "output_type": "execute_result",
          "data": {
            "text/plain": [
              "Stage IIA     321\n",
              "Stage IIB     231\n",
              "Stage IIIA    137\n",
              "Stage I        84\n",
              "Stage IA       78\n",
              "Stage IIIC     59\n",
              "Stage IIIB     20\n",
              "Stage IV       16\n",
              "Stage X         8\n",
              "Stage IB        7\n",
              "Stage II        4\n",
              "Stage III       2\n",
              "Name: ajcc_pathologic_tumor_stage, dtype: int64"
            ]
          },
          "metadata": {
            "tags": []
          },
          "execution_count": 464
        }
      ]
    },
    {
      "cell_type": "code",
      "metadata": {
        "id": "-9QsXaOpvqDp"
      },
      "source": [
        "def map_stage(input_status):\n",
        "    helper_list=input_status.split(' ')\n",
        "    if (helper_list[1]=='I'): return 1.5\n",
        "    if (helper_list[1]=='IA'): return 1\n",
        "    if (helper_list[1]=='IB'): return 2\n",
        "    if (helper_list[1]=='II'): return 3.5\n",
        "    if (helper_list[1]=='IIA'): return 3\n",
        "    if (helper_list[1]=='IIB'): return 4\n",
        "    if (helper_list[1]=='III'): return 6\n",
        "    if (helper_list[1]=='IIIA'): return 5\n",
        "    if (helper_list[1]=='IIIB'): return 6\n",
        "    if (helper_list[1]=='IIIC'): return 7\n",
        "    if (helper_list[1]=='IV'): return 8\n",
        "    if (helper_list[1]=='X'): return 0\n",
        "\n",
        "   \n",
        "tumor_st=data_imp['ajcc_pathologic_tumor_stage']\n",
        "tumor_st=tumor_st.apply(map_stage)\n",
        "data_imp[\"tumor_stage\"]=tumor_st\n",
        "data_imp.drop(columns='ajcc_pathologic_tumor_stage',inplace=True)\n",
        "\n"
      ],
      "execution_count": null,
      "outputs": []
    },
    {
      "cell_type": "code",
      "metadata": {
        "id": "7fqCs1vI1qDz",
        "colab": {
          "base_uri": "https://localhost:8080/"
        },
        "outputId": "f5107ef7-07ea-4aa5-d115-c6810857b41b"
      },
      "source": [
        "data_imp[\"tumor_stage\"].value_counts()"
      ],
      "execution_count": null,
      "outputs": [
        {
          "output_type": "execute_result",
          "data": {
            "text/plain": [
              "3.0    321\n",
              "4.0    231\n",
              "5.0    137\n",
              "1.5     84\n",
              "1.0     78\n",
              "7.0     59\n",
              "6.0     22\n",
              "8.0     16\n",
              "0.0      8\n",
              "2.0      7\n",
              "3.5      4\n",
              "Name: tumor_stage, dtype: int64"
            ]
          },
          "metadata": {
            "tags": []
          },
          "execution_count": 466
        }
      ]
    },
    {
      "cell_type": "code",
      "metadata": {
        "id": "Pexio4hRhkbZ"
      },
      "source": [
        "saved_data_imp=data_imp"
      ],
      "execution_count": null,
      "outputs": []
    },
    {
      "cell_type": "code",
      "metadata": {
        "id": "SYIXyIEeiqYs"
      },
      "source": [
        "def map_hist(input_status):\n",
        "    helper_list=input_status.split(' ')\n",
        "    if (input_status=='No'):\n",
        "      return 0\n",
        "    else: #\"yes\"\n",
        "      return 1\n",
        "\n",
        "data_imp['history_other_malignancy']=data_imp['history_other_malignancy'].apply(map_hist)\n"
      ],
      "execution_count": null,
      "outputs": []
    },
    {
      "cell_type": "code",
      "metadata": {
        "id": "8N1jXRoPjaEw"
      },
      "source": [
        "def map_marginst(input_status):\n",
        "    helper_list=input_status.split(' ')\n",
        "    if (input_status=='Negative'):\n",
        "      return 0\n",
        "    elif (input_status=='Positive'):\n",
        "      return 2\n",
        "    else:#\"close\"\n",
        "      return 1\n",
        "\n",
        "data_imp['margin_status']=data_imp['margin_status'].apply(map_marginst)"
      ],
      "execution_count": null,
      "outputs": []
    },
    {
      "cell_type": "code",
      "metadata": {
        "id": "xxJCo6tpj8kp",
        "colab": {
          "base_uri": "https://localhost:8080/",
          "height": 779
        },
        "outputId": "46d740a5-5dac-4316-ec54-b1ef283995ac"
      },
      "source": [
        "def map_pt(input_status):\n",
        "  if(input_status=='T1b'): return 1;\n",
        "  if(input_status=='T1c'): return 2;\n",
        "  if(input_status=='T1'): return 1.5;\n",
        "  if(input_status=='T2a'): return 3;\n",
        "  if(input_status=='T2b'): return 4;\n",
        "  if(input_status=='T2'): return 3.5;\n",
        "  if(input_status=='T3a'): return 5;\n",
        "  if(input_status=='T3'): return 5.5;\n",
        "  if(input_status=='T4b'): return 6;\n",
        "  if(input_status=='T4d'): return 7;\n",
        "  if(input_status=='T4'): return 6.5;\n",
        "  if(input_status=='TX'): return 0.5;\n",
        "\n",
        "data_imp['pt']=data_imp['ajcc_tumor_pathologic_pt'].apply(map_pt)\n",
        "data_imp.drop(['ajcc_tumor_pathologic_pt'], axis=1)\n",
        "#"
      ],
      "execution_count": null,
      "outputs": [
        {
          "output_type": "execute_result",
          "data": {
            "text/html": [
              "<div>\n",
              "<style scoped>\n",
              "    .dataframe tbody tr th:only-of-type {\n",
              "        vertical-align: middle;\n",
              "    }\n",
              "\n",
              "    .dataframe tbody tr th {\n",
              "        vertical-align: top;\n",
              "    }\n",
              "\n",
              "    .dataframe thead th {\n",
              "        text-align: right;\n",
              "    }\n",
              "</style>\n",
              "<table border=\"1\" class=\"dataframe\">\n",
              "  <thead>\n",
              "    <tr style=\"text-align: right;\">\n",
              "      <th></th>\n",
              "      <th>history_other_malignancy</th>\n",
              "      <th>vital_status</th>\n",
              "      <th>last_contact_days_to</th>\n",
              "      <th>death_days_to</th>\n",
              "      <th>age_at_diagnosis</th>\n",
              "      <th>surgical_procedure_first</th>\n",
              "      <th>margin_status</th>\n",
              "      <th>ajcc_nodes_pathologic_pn</th>\n",
              "      <th>ajcc_metastasis_pathologic_pm</th>\n",
              "      <th>anatomic_neoplasm_subdivision</th>\n",
              "      <th>histological_type</th>\n",
              "      <th>icd_o_3_histology</th>\n",
              "      <th>bcr_patient_uuid</th>\n",
              "      <th>bcr_patient_barcode</th>\n",
              "      <th>menopause_status_imputed</th>\n",
              "      <th>race_imputed</th>\n",
              "      <th>tumor_status_imputed</th>\n",
              "      <th>er_status_by_ihc_imputed</th>\n",
              "      <th>pr_status_by_ihc_imputed</th>\n",
              "      <th>her2_status_by_ihc_imputed</th>\n",
              "      <th>tumor_stage</th>\n",
              "      <th>pt</th>\n",
              "    </tr>\n",
              "  </thead>\n",
              "  <tbody>\n",
              "    <tr>\n",
              "      <th>2</th>\n",
              "      <td>0</td>\n",
              "      <td>Alive</td>\n",
              "      <td>3767</td>\n",
              "      <td>inf</td>\n",
              "      <td>55</td>\n",
              "      <td>Modified Radical Mastectomy</td>\n",
              "      <td>0</td>\n",
              "      <td>NX</td>\n",
              "      <td>MX</td>\n",
              "      <td>Left Lower Outer Quadrant</td>\n",
              "      <td>Infiltrating Lobular Carcinoma</td>\n",
              "      <td>8520/3</td>\n",
              "      <td>6E7D5EC6-A469-467C-B748-237353C23416</td>\n",
              "      <td>TCGA-3C-AAAU</td>\n",
              "      <td>1.0</td>\n",
              "      <td>WHITE</td>\n",
              "      <td>WITH TUMOR</td>\n",
              "      <td>Positive</td>\n",
              "      <td>Positive</td>\n",
              "      <td>Negative</td>\n",
              "      <td>0.0</td>\n",
              "      <td>0.5</td>\n",
              "    </tr>\n",
              "    <tr>\n",
              "      <th>3</th>\n",
              "      <td>0</td>\n",
              "      <td>Alive</td>\n",
              "      <td>3801</td>\n",
              "      <td>inf</td>\n",
              "      <td>50</td>\n",
              "      <td>Lumpectomy</td>\n",
              "      <td>0</td>\n",
              "      <td>N1a</td>\n",
              "      <td>M0</td>\n",
              "      <td>Right Upper Outer Quadrant</td>\n",
              "      <td>Infiltrating Ductal Carcinoma</td>\n",
              "      <td>8500/3</td>\n",
              "      <td>55262FCB-1B01-4480-B322-36570430C917</td>\n",
              "      <td>TCGA-3C-AALI</td>\n",
              "      <td>4.0</td>\n",
              "      <td>BLACK OR AFRICAN AMERICAN</td>\n",
              "      <td>TUMOR FREE</td>\n",
              "      <td>Positive</td>\n",
              "      <td>Positive</td>\n",
              "      <td>Positive</td>\n",
              "      <td>4.0</td>\n",
              "      <td>3.5</td>\n",
              "    </tr>\n",
              "    <tr>\n",
              "      <th>4</th>\n",
              "      <td>0</td>\n",
              "      <td>Alive</td>\n",
              "      <td>1228</td>\n",
              "      <td>inf</td>\n",
              "      <td>62</td>\n",
              "      <td>Modified Radical Mastectomy</td>\n",
              "      <td>0</td>\n",
              "      <td>N1a</td>\n",
              "      <td>M0</td>\n",
              "      <td>Right</td>\n",
              "      <td>Infiltrating Ductal Carcinoma</td>\n",
              "      <td>8500/3</td>\n",
              "      <td>427D0648-3F77-4FFC-B52C-89855426D647</td>\n",
              "      <td>TCGA-3C-AALJ</td>\n",
              "      <td>4.0</td>\n",
              "      <td>BLACK OR AFRICAN AMERICAN</td>\n",
              "      <td>TUMOR FREE</td>\n",
              "      <td>Positive</td>\n",
              "      <td>Positive</td>\n",
              "      <td>Indeterminate</td>\n",
              "      <td>4.0</td>\n",
              "      <td>3.5</td>\n",
              "    </tr>\n",
              "    <tr>\n",
              "      <th>5</th>\n",
              "      <td>0</td>\n",
              "      <td>Alive</td>\n",
              "      <td>1217</td>\n",
              "      <td>inf</td>\n",
              "      <td>52</td>\n",
              "      <td>Simple Mastectomy</td>\n",
              "      <td>1</td>\n",
              "      <td>N0 (i+)</td>\n",
              "      <td>M0</td>\n",
              "      <td>Right</td>\n",
              "      <td>Infiltrating Ductal Carcinoma</td>\n",
              "      <td>8500/3</td>\n",
              "      <td>C31900A4-5DCD-4022-97AC-638E86E889E4</td>\n",
              "      <td>TCGA-3C-AALK</td>\n",
              "      <td>3.0</td>\n",
              "      <td>BLACK OR AFRICAN AMERICAN</td>\n",
              "      <td>TUMOR FREE</td>\n",
              "      <td>Positive</td>\n",
              "      <td>Positive</td>\n",
              "      <td>Positive</td>\n",
              "      <td>1.0</td>\n",
              "      <td>2.0</td>\n",
              "    </tr>\n",
              "    <tr>\n",
              "      <th>6</th>\n",
              "      <td>0</td>\n",
              "      <td>Alive</td>\n",
              "      <td>158</td>\n",
              "      <td>inf</td>\n",
              "      <td>50</td>\n",
              "      <td>Modified Radical Mastectomy</td>\n",
              "      <td>0</td>\n",
              "      <td>N2a</td>\n",
              "      <td>M0</td>\n",
              "      <td>Left|Left Upper Outer Quadrant</td>\n",
              "      <td>Infiltrating Lobular Carcinoma</td>\n",
              "      <td>8520/3</td>\n",
              "      <td>6623FC5E-00BE-4476-967A-CBD55F676EA6</td>\n",
              "      <td>TCGA-4H-AAAK</td>\n",
              "      <td>4.0</td>\n",
              "      <td>WHITE</td>\n",
              "      <td>TUMOR FREE</td>\n",
              "      <td>Positive</td>\n",
              "      <td>Positive</td>\n",
              "      <td>Equivocal</td>\n",
              "      <td>5.0</td>\n",
              "      <td>3.5</td>\n",
              "    </tr>\n",
              "    <tr>\n",
              "      <th>...</th>\n",
              "      <td>...</td>\n",
              "      <td>...</td>\n",
              "      <td>...</td>\n",
              "      <td>...</td>\n",
              "      <td>...</td>\n",
              "      <td>...</td>\n",
              "      <td>...</td>\n",
              "      <td>...</td>\n",
              "      <td>...</td>\n",
              "      <td>...</td>\n",
              "      <td>...</td>\n",
              "      <td>...</td>\n",
              "      <td>...</td>\n",
              "      <td>...</td>\n",
              "      <td>...</td>\n",
              "      <td>...</td>\n",
              "      <td>...</td>\n",
              "      <td>...</td>\n",
              "      <td>...</td>\n",
              "      <td>...</td>\n",
              "      <td>...</td>\n",
              "      <td>...</td>\n",
              "    </tr>\n",
              "    <tr>\n",
              "      <th>1094</th>\n",
              "      <td>0</td>\n",
              "      <td>Alive</td>\n",
              "      <td>791</td>\n",
              "      <td>inf</td>\n",
              "      <td>77</td>\n",
              "      <td>Lumpectomy</td>\n",
              "      <td>0</td>\n",
              "      <td>N0 (i-)</td>\n",
              "      <td>MX</td>\n",
              "      <td>Left</td>\n",
              "      <td>Infiltrating Lobular Carcinoma</td>\n",
              "      <td>8520/3</td>\n",
              "      <td>5CD79093-1571-4F71-8136-0D84CCABDCAC</td>\n",
              "      <td>TCGA-WT-AB44</td>\n",
              "      <td>4.0</td>\n",
              "      <td>WHITE</td>\n",
              "      <td>TUMOR FREE</td>\n",
              "      <td>Positive</td>\n",
              "      <td>Positive</td>\n",
              "      <td>Negative</td>\n",
              "      <td>1.0</td>\n",
              "      <td>2.0</td>\n",
              "    </tr>\n",
              "    <tr>\n",
              "      <th>1095</th>\n",
              "      <td>0</td>\n",
              "      <td>Alive</td>\n",
              "      <td>292</td>\n",
              "      <td>inf</td>\n",
              "      <td>46</td>\n",
              "      <td>Modified Radical Mastectomy</td>\n",
              "      <td>0</td>\n",
              "      <td>N2a</td>\n",
              "      <td>MX</td>\n",
              "      <td>Right Lower Outer Quadrant</td>\n",
              "      <td>Infiltrating Lobular Carcinoma</td>\n",
              "      <td>8520/3</td>\n",
              "      <td>F89588E9-CA73-4465-A7FB-7246EDB45E3A</td>\n",
              "      <td>TCGA-XX-A899</td>\n",
              "      <td>4.0</td>\n",
              "      <td>WHITE</td>\n",
              "      <td>TUMOR FREE</td>\n",
              "      <td>Positive</td>\n",
              "      <td>Positive</td>\n",
              "      <td>Negative</td>\n",
              "      <td>5.0</td>\n",
              "      <td>2.0</td>\n",
              "    </tr>\n",
              "    <tr>\n",
              "      <th>1096</th>\n",
              "      <td>0</td>\n",
              "      <td>Alive</td>\n",
              "      <td>278</td>\n",
              "      <td>inf</td>\n",
              "      <td>68</td>\n",
              "      <td>Simple Mastectomy</td>\n",
              "      <td>0</td>\n",
              "      <td>N0</td>\n",
              "      <td>MX</td>\n",
              "      <td>Left Upper Outer Quadrant</td>\n",
              "      <td>Infiltrating Lobular Carcinoma</td>\n",
              "      <td>8520/3</td>\n",
              "      <td>CA20249F-B7EA-4FD9-9ECB-34F74755AE35</td>\n",
              "      <td>TCGA-XX-A89A</td>\n",
              "      <td>4.0</td>\n",
              "      <td>WHITE</td>\n",
              "      <td>TUMOR FREE</td>\n",
              "      <td>Positive</td>\n",
              "      <td>Positive</td>\n",
              "      <td>Negative</td>\n",
              "      <td>4.0</td>\n",
              "      <td>5.5</td>\n",
              "    </tr>\n",
              "    <tr>\n",
              "      <th>1097</th>\n",
              "      <td>1</td>\n",
              "      <td>Alive</td>\n",
              "      <td>3042</td>\n",
              "      <td>inf</td>\n",
              "      <td>61</td>\n",
              "      <td>Other</td>\n",
              "      <td>2</td>\n",
              "      <td>N1a</td>\n",
              "      <td>MX</td>\n",
              "      <td>Left Upper Outer Quadrant</td>\n",
              "      <td>Infiltrating Lobular Carcinoma</td>\n",
              "      <td>8520/3</td>\n",
              "      <td>23F438BD-1DBB-4D46-972F-1E8E74DDBD37</td>\n",
              "      <td>TCGA-Z7-A8R5</td>\n",
              "      <td>4.0</td>\n",
              "      <td>WHITE</td>\n",
              "      <td>TUMOR FREE</td>\n",
              "      <td>Positive</td>\n",
              "      <td>Positive</td>\n",
              "      <td>Negative</td>\n",
              "      <td>5.0</td>\n",
              "      <td>5.5</td>\n",
              "    </tr>\n",
              "    <tr>\n",
              "      <th>1098</th>\n",
              "      <td>0</td>\n",
              "      <td>Alive</td>\n",
              "      <td>2800</td>\n",
              "      <td>inf</td>\n",
              "      <td>46</td>\n",
              "      <td>Lumpectomy</td>\n",
              "      <td>0</td>\n",
              "      <td>N0</td>\n",
              "      <td>M0</td>\n",
              "      <td>Left Upper Outer Quadrant</td>\n",
              "      <td>Infiltrating Lobular Carcinoma</td>\n",
              "      <td>8022/3</td>\n",
              "      <td>B1D44C81-747D-471F-9093-AEB262A17975</td>\n",
              "      <td>TCGA-Z7-A8R6</td>\n",
              "      <td>1.0</td>\n",
              "      <td>WHITE</td>\n",
              "      <td>TUMOR FREE</td>\n",
              "      <td>Positive</td>\n",
              "      <td>Positive</td>\n",
              "      <td>Negative</td>\n",
              "      <td>1.5</td>\n",
              "      <td>2.0</td>\n",
              "    </tr>\n",
              "  </tbody>\n",
              "</table>\n",
              "<p>967 rows × 22 columns</p>\n",
              "</div>"
            ],
            "text/plain": [
              "      history_other_malignancy vital_status  ... tumor_stage   pt\n",
              "2                            0        Alive  ...         0.0  0.5\n",
              "3                            0        Alive  ...         4.0  3.5\n",
              "4                            0        Alive  ...         4.0  3.5\n",
              "5                            0        Alive  ...         1.0  2.0\n",
              "6                            0        Alive  ...         5.0  3.5\n",
              "...                        ...          ...  ...         ...  ...\n",
              "1094                         0        Alive  ...         1.0  2.0\n",
              "1095                         0        Alive  ...         5.0  2.0\n",
              "1096                         0        Alive  ...         4.0  5.5\n",
              "1097                         1        Alive  ...         5.0  5.5\n",
              "1098                         0        Alive  ...         1.5  2.0\n",
              "\n",
              "[967 rows x 22 columns]"
            ]
          },
          "metadata": {
            "tags": []
          },
          "execution_count": 470
        }
      ]
    },
    {
      "cell_type": "code",
      "metadata": {
        "id": "dA8SG_mRmRZg",
        "colab": {
          "base_uri": "https://localhost:8080/",
          "height": 779
        },
        "outputId": "07b917f8-9139-40b3-cc22-66b2882b3ab4"
      },
      "source": [
        "def map_pn(input_status):\n",
        "    helper_list=input_status.split(' ')\n",
        "    if (helper_list[0]=='N0'): return 0\n",
        "    if (helper_list[0]=='N1a'): return 1\n",
        "    if (helper_list[0]=='N1b'): return 2\n",
        "    if (helper_list[0]=='N1'): return 2\n",
        "    if (helper_list[0]=='N1mi'): return 2\n",
        "    if (helper_list[0]=='N1c'): return 3\n",
        "    if (helper_list[0]=='N2a'): return 4\n",
        "    if (helper_list[0]=='N2'): return 4.5\n",
        "    if (helper_list[0]=='N3'): return 6\n",
        "    if (helper_list[0]=='N3a'): return 5\n",
        "    if (helper_list[0]=='N3b'): return 6\n",
        "    if (helper_list[0]=='N3c'): return 7\n",
        "    if (helper_list[0]=='NX'): return 0.5\n",
        "\n",
        "data_imp['pn']=data_imp['ajcc_nodes_pathologic_pn'].apply(map_pn)\n",
        "data_imp.drop(['ajcc_nodes_pathologic_pn'], axis=1)\n",
        "#"
      ],
      "execution_count": null,
      "outputs": [
        {
          "output_type": "execute_result",
          "data": {
            "text/html": [
              "<div>\n",
              "<style scoped>\n",
              "    .dataframe tbody tr th:only-of-type {\n",
              "        vertical-align: middle;\n",
              "    }\n",
              "\n",
              "    .dataframe tbody tr th {\n",
              "        vertical-align: top;\n",
              "    }\n",
              "\n",
              "    .dataframe thead th {\n",
              "        text-align: right;\n",
              "    }\n",
              "</style>\n",
              "<table border=\"1\" class=\"dataframe\">\n",
              "  <thead>\n",
              "    <tr style=\"text-align: right;\">\n",
              "      <th></th>\n",
              "      <th>history_other_malignancy</th>\n",
              "      <th>vital_status</th>\n",
              "      <th>last_contact_days_to</th>\n",
              "      <th>death_days_to</th>\n",
              "      <th>age_at_diagnosis</th>\n",
              "      <th>surgical_procedure_first</th>\n",
              "      <th>margin_status</th>\n",
              "      <th>ajcc_tumor_pathologic_pt</th>\n",
              "      <th>ajcc_metastasis_pathologic_pm</th>\n",
              "      <th>anatomic_neoplasm_subdivision</th>\n",
              "      <th>histological_type</th>\n",
              "      <th>icd_o_3_histology</th>\n",
              "      <th>bcr_patient_uuid</th>\n",
              "      <th>bcr_patient_barcode</th>\n",
              "      <th>menopause_status_imputed</th>\n",
              "      <th>race_imputed</th>\n",
              "      <th>tumor_status_imputed</th>\n",
              "      <th>er_status_by_ihc_imputed</th>\n",
              "      <th>pr_status_by_ihc_imputed</th>\n",
              "      <th>her2_status_by_ihc_imputed</th>\n",
              "      <th>tumor_stage</th>\n",
              "      <th>pt</th>\n",
              "      <th>pn</th>\n",
              "    </tr>\n",
              "  </thead>\n",
              "  <tbody>\n",
              "    <tr>\n",
              "      <th>2</th>\n",
              "      <td>0</td>\n",
              "      <td>Alive</td>\n",
              "      <td>3767</td>\n",
              "      <td>inf</td>\n",
              "      <td>55</td>\n",
              "      <td>Modified Radical Mastectomy</td>\n",
              "      <td>0</td>\n",
              "      <td>TX</td>\n",
              "      <td>MX</td>\n",
              "      <td>Left Lower Outer Quadrant</td>\n",
              "      <td>Infiltrating Lobular Carcinoma</td>\n",
              "      <td>8520/3</td>\n",
              "      <td>6E7D5EC6-A469-467C-B748-237353C23416</td>\n",
              "      <td>TCGA-3C-AAAU</td>\n",
              "      <td>1.0</td>\n",
              "      <td>WHITE</td>\n",
              "      <td>WITH TUMOR</td>\n",
              "      <td>Positive</td>\n",
              "      <td>Positive</td>\n",
              "      <td>Negative</td>\n",
              "      <td>0.0</td>\n",
              "      <td>0.5</td>\n",
              "      <td>0.5</td>\n",
              "    </tr>\n",
              "    <tr>\n",
              "      <th>3</th>\n",
              "      <td>0</td>\n",
              "      <td>Alive</td>\n",
              "      <td>3801</td>\n",
              "      <td>inf</td>\n",
              "      <td>50</td>\n",
              "      <td>Lumpectomy</td>\n",
              "      <td>0</td>\n",
              "      <td>T2</td>\n",
              "      <td>M0</td>\n",
              "      <td>Right Upper Outer Quadrant</td>\n",
              "      <td>Infiltrating Ductal Carcinoma</td>\n",
              "      <td>8500/3</td>\n",
              "      <td>55262FCB-1B01-4480-B322-36570430C917</td>\n",
              "      <td>TCGA-3C-AALI</td>\n",
              "      <td>4.0</td>\n",
              "      <td>BLACK OR AFRICAN AMERICAN</td>\n",
              "      <td>TUMOR FREE</td>\n",
              "      <td>Positive</td>\n",
              "      <td>Positive</td>\n",
              "      <td>Positive</td>\n",
              "      <td>4.0</td>\n",
              "      <td>3.5</td>\n",
              "      <td>1.0</td>\n",
              "    </tr>\n",
              "    <tr>\n",
              "      <th>4</th>\n",
              "      <td>0</td>\n",
              "      <td>Alive</td>\n",
              "      <td>1228</td>\n",
              "      <td>inf</td>\n",
              "      <td>62</td>\n",
              "      <td>Modified Radical Mastectomy</td>\n",
              "      <td>0</td>\n",
              "      <td>T2</td>\n",
              "      <td>M0</td>\n",
              "      <td>Right</td>\n",
              "      <td>Infiltrating Ductal Carcinoma</td>\n",
              "      <td>8500/3</td>\n",
              "      <td>427D0648-3F77-4FFC-B52C-89855426D647</td>\n",
              "      <td>TCGA-3C-AALJ</td>\n",
              "      <td>4.0</td>\n",
              "      <td>BLACK OR AFRICAN AMERICAN</td>\n",
              "      <td>TUMOR FREE</td>\n",
              "      <td>Positive</td>\n",
              "      <td>Positive</td>\n",
              "      <td>Indeterminate</td>\n",
              "      <td>4.0</td>\n",
              "      <td>3.5</td>\n",
              "      <td>1.0</td>\n",
              "    </tr>\n",
              "    <tr>\n",
              "      <th>5</th>\n",
              "      <td>0</td>\n",
              "      <td>Alive</td>\n",
              "      <td>1217</td>\n",
              "      <td>inf</td>\n",
              "      <td>52</td>\n",
              "      <td>Simple Mastectomy</td>\n",
              "      <td>1</td>\n",
              "      <td>T1c</td>\n",
              "      <td>M0</td>\n",
              "      <td>Right</td>\n",
              "      <td>Infiltrating Ductal Carcinoma</td>\n",
              "      <td>8500/3</td>\n",
              "      <td>C31900A4-5DCD-4022-97AC-638E86E889E4</td>\n",
              "      <td>TCGA-3C-AALK</td>\n",
              "      <td>3.0</td>\n",
              "      <td>BLACK OR AFRICAN AMERICAN</td>\n",
              "      <td>TUMOR FREE</td>\n",
              "      <td>Positive</td>\n",
              "      <td>Positive</td>\n",
              "      <td>Positive</td>\n",
              "      <td>1.0</td>\n",
              "      <td>2.0</td>\n",
              "      <td>0.0</td>\n",
              "    </tr>\n",
              "    <tr>\n",
              "      <th>6</th>\n",
              "      <td>0</td>\n",
              "      <td>Alive</td>\n",
              "      <td>158</td>\n",
              "      <td>inf</td>\n",
              "      <td>50</td>\n",
              "      <td>Modified Radical Mastectomy</td>\n",
              "      <td>0</td>\n",
              "      <td>T2</td>\n",
              "      <td>M0</td>\n",
              "      <td>Left|Left Upper Outer Quadrant</td>\n",
              "      <td>Infiltrating Lobular Carcinoma</td>\n",
              "      <td>8520/3</td>\n",
              "      <td>6623FC5E-00BE-4476-967A-CBD55F676EA6</td>\n",
              "      <td>TCGA-4H-AAAK</td>\n",
              "      <td>4.0</td>\n",
              "      <td>WHITE</td>\n",
              "      <td>TUMOR FREE</td>\n",
              "      <td>Positive</td>\n",
              "      <td>Positive</td>\n",
              "      <td>Equivocal</td>\n",
              "      <td>5.0</td>\n",
              "      <td>3.5</td>\n",
              "      <td>4.0</td>\n",
              "    </tr>\n",
              "    <tr>\n",
              "      <th>...</th>\n",
              "      <td>...</td>\n",
              "      <td>...</td>\n",
              "      <td>...</td>\n",
              "      <td>...</td>\n",
              "      <td>...</td>\n",
              "      <td>...</td>\n",
              "      <td>...</td>\n",
              "      <td>...</td>\n",
              "      <td>...</td>\n",
              "      <td>...</td>\n",
              "      <td>...</td>\n",
              "      <td>...</td>\n",
              "      <td>...</td>\n",
              "      <td>...</td>\n",
              "      <td>...</td>\n",
              "      <td>...</td>\n",
              "      <td>...</td>\n",
              "      <td>...</td>\n",
              "      <td>...</td>\n",
              "      <td>...</td>\n",
              "      <td>...</td>\n",
              "      <td>...</td>\n",
              "      <td>...</td>\n",
              "    </tr>\n",
              "    <tr>\n",
              "      <th>1094</th>\n",
              "      <td>0</td>\n",
              "      <td>Alive</td>\n",
              "      <td>791</td>\n",
              "      <td>inf</td>\n",
              "      <td>77</td>\n",
              "      <td>Lumpectomy</td>\n",
              "      <td>0</td>\n",
              "      <td>T1c</td>\n",
              "      <td>MX</td>\n",
              "      <td>Left</td>\n",
              "      <td>Infiltrating Lobular Carcinoma</td>\n",
              "      <td>8520/3</td>\n",
              "      <td>5CD79093-1571-4F71-8136-0D84CCABDCAC</td>\n",
              "      <td>TCGA-WT-AB44</td>\n",
              "      <td>4.0</td>\n",
              "      <td>WHITE</td>\n",
              "      <td>TUMOR FREE</td>\n",
              "      <td>Positive</td>\n",
              "      <td>Positive</td>\n",
              "      <td>Negative</td>\n",
              "      <td>1.0</td>\n",
              "      <td>2.0</td>\n",
              "      <td>0.0</td>\n",
              "    </tr>\n",
              "    <tr>\n",
              "      <th>1095</th>\n",
              "      <td>0</td>\n",
              "      <td>Alive</td>\n",
              "      <td>292</td>\n",
              "      <td>inf</td>\n",
              "      <td>46</td>\n",
              "      <td>Modified Radical Mastectomy</td>\n",
              "      <td>0</td>\n",
              "      <td>T1c</td>\n",
              "      <td>MX</td>\n",
              "      <td>Right Lower Outer Quadrant</td>\n",
              "      <td>Infiltrating Lobular Carcinoma</td>\n",
              "      <td>8520/3</td>\n",
              "      <td>F89588E9-CA73-4465-A7FB-7246EDB45E3A</td>\n",
              "      <td>TCGA-XX-A899</td>\n",
              "      <td>4.0</td>\n",
              "      <td>WHITE</td>\n",
              "      <td>TUMOR FREE</td>\n",
              "      <td>Positive</td>\n",
              "      <td>Positive</td>\n",
              "      <td>Negative</td>\n",
              "      <td>5.0</td>\n",
              "      <td>2.0</td>\n",
              "      <td>4.0</td>\n",
              "    </tr>\n",
              "    <tr>\n",
              "      <th>1096</th>\n",
              "      <td>0</td>\n",
              "      <td>Alive</td>\n",
              "      <td>278</td>\n",
              "      <td>inf</td>\n",
              "      <td>68</td>\n",
              "      <td>Simple Mastectomy</td>\n",
              "      <td>0</td>\n",
              "      <td>T3</td>\n",
              "      <td>MX</td>\n",
              "      <td>Left Upper Outer Quadrant</td>\n",
              "      <td>Infiltrating Lobular Carcinoma</td>\n",
              "      <td>8520/3</td>\n",
              "      <td>CA20249F-B7EA-4FD9-9ECB-34F74755AE35</td>\n",
              "      <td>TCGA-XX-A89A</td>\n",
              "      <td>4.0</td>\n",
              "      <td>WHITE</td>\n",
              "      <td>TUMOR FREE</td>\n",
              "      <td>Positive</td>\n",
              "      <td>Positive</td>\n",
              "      <td>Negative</td>\n",
              "      <td>4.0</td>\n",
              "      <td>5.5</td>\n",
              "      <td>0.0</td>\n",
              "    </tr>\n",
              "    <tr>\n",
              "      <th>1097</th>\n",
              "      <td>1</td>\n",
              "      <td>Alive</td>\n",
              "      <td>3042</td>\n",
              "      <td>inf</td>\n",
              "      <td>61</td>\n",
              "      <td>Other</td>\n",
              "      <td>2</td>\n",
              "      <td>T3</td>\n",
              "      <td>MX</td>\n",
              "      <td>Left Upper Outer Quadrant</td>\n",
              "      <td>Infiltrating Lobular Carcinoma</td>\n",
              "      <td>8520/3</td>\n",
              "      <td>23F438BD-1DBB-4D46-972F-1E8E74DDBD37</td>\n",
              "      <td>TCGA-Z7-A8R5</td>\n",
              "      <td>4.0</td>\n",
              "      <td>WHITE</td>\n",
              "      <td>TUMOR FREE</td>\n",
              "      <td>Positive</td>\n",
              "      <td>Positive</td>\n",
              "      <td>Negative</td>\n",
              "      <td>5.0</td>\n",
              "      <td>5.5</td>\n",
              "      <td>1.0</td>\n",
              "    </tr>\n",
              "    <tr>\n",
              "      <th>1098</th>\n",
              "      <td>0</td>\n",
              "      <td>Alive</td>\n",
              "      <td>2800</td>\n",
              "      <td>inf</td>\n",
              "      <td>46</td>\n",
              "      <td>Lumpectomy</td>\n",
              "      <td>0</td>\n",
              "      <td>T1c</td>\n",
              "      <td>M0</td>\n",
              "      <td>Left Upper Outer Quadrant</td>\n",
              "      <td>Infiltrating Lobular Carcinoma</td>\n",
              "      <td>8022/3</td>\n",
              "      <td>B1D44C81-747D-471F-9093-AEB262A17975</td>\n",
              "      <td>TCGA-Z7-A8R6</td>\n",
              "      <td>1.0</td>\n",
              "      <td>WHITE</td>\n",
              "      <td>TUMOR FREE</td>\n",
              "      <td>Positive</td>\n",
              "      <td>Positive</td>\n",
              "      <td>Negative</td>\n",
              "      <td>1.5</td>\n",
              "      <td>2.0</td>\n",
              "      <td>0.0</td>\n",
              "    </tr>\n",
              "  </tbody>\n",
              "</table>\n",
              "<p>967 rows × 23 columns</p>\n",
              "</div>"
            ],
            "text/plain": [
              "      history_other_malignancy vital_status  ...   pt   pn\n",
              "2                            0        Alive  ...  0.5  0.5\n",
              "3                            0        Alive  ...  3.5  1.0\n",
              "4                            0        Alive  ...  3.5  1.0\n",
              "5                            0        Alive  ...  2.0  0.0\n",
              "6                            0        Alive  ...  3.5  4.0\n",
              "...                        ...          ...  ...  ...  ...\n",
              "1094                         0        Alive  ...  2.0  0.0\n",
              "1095                         0        Alive  ...  2.0  4.0\n",
              "1096                         0        Alive  ...  5.5  0.0\n",
              "1097                         1        Alive  ...  5.5  1.0\n",
              "1098                         0        Alive  ...  2.0  0.0\n",
              "\n",
              "[967 rows x 23 columns]"
            ]
          },
          "metadata": {
            "tags": []
          },
          "execution_count": 471
        }
      ]
    },
    {
      "cell_type": "code",
      "metadata": {
        "id": "Kg5A_DJ0nmRL",
        "colab": {
          "base_uri": "https://localhost:8080/",
          "height": 779
        },
        "outputId": "0a3bc352-b029-4dcc-9965-1a7a9d5cc1ae"
      },
      "source": [
        "def map_pm(input_status):\n",
        "    helper_list=input_status.split(' ')\n",
        "    if (helper_list[0]=='M0'): return 0\n",
        "    if (helper_list[0]=='M1'): return 1\n",
        "    if (helper_list[0]=='MX'): return 0.5\n",
        "    if (helper_list[0]=='cM0'): return 0\n",
        "    \n",
        "data_imp['pm']=data_imp['ajcc_metastasis_pathologic_pm'].apply(map_pm)\n",
        "data_imp.drop(['ajcc_metastasis_pathologic_pm'], axis=1)\n",
        "#"
      ],
      "execution_count": null,
      "outputs": [
        {
          "output_type": "execute_result",
          "data": {
            "text/html": [
              "<div>\n",
              "<style scoped>\n",
              "    .dataframe tbody tr th:only-of-type {\n",
              "        vertical-align: middle;\n",
              "    }\n",
              "\n",
              "    .dataframe tbody tr th {\n",
              "        vertical-align: top;\n",
              "    }\n",
              "\n",
              "    .dataframe thead th {\n",
              "        text-align: right;\n",
              "    }\n",
              "</style>\n",
              "<table border=\"1\" class=\"dataframe\">\n",
              "  <thead>\n",
              "    <tr style=\"text-align: right;\">\n",
              "      <th></th>\n",
              "      <th>history_other_malignancy</th>\n",
              "      <th>vital_status</th>\n",
              "      <th>last_contact_days_to</th>\n",
              "      <th>death_days_to</th>\n",
              "      <th>age_at_diagnosis</th>\n",
              "      <th>surgical_procedure_first</th>\n",
              "      <th>margin_status</th>\n",
              "      <th>ajcc_tumor_pathologic_pt</th>\n",
              "      <th>ajcc_nodes_pathologic_pn</th>\n",
              "      <th>anatomic_neoplasm_subdivision</th>\n",
              "      <th>histological_type</th>\n",
              "      <th>icd_o_3_histology</th>\n",
              "      <th>bcr_patient_uuid</th>\n",
              "      <th>bcr_patient_barcode</th>\n",
              "      <th>menopause_status_imputed</th>\n",
              "      <th>race_imputed</th>\n",
              "      <th>tumor_status_imputed</th>\n",
              "      <th>er_status_by_ihc_imputed</th>\n",
              "      <th>pr_status_by_ihc_imputed</th>\n",
              "      <th>her2_status_by_ihc_imputed</th>\n",
              "      <th>tumor_stage</th>\n",
              "      <th>pt</th>\n",
              "      <th>pn</th>\n",
              "      <th>pm</th>\n",
              "    </tr>\n",
              "  </thead>\n",
              "  <tbody>\n",
              "    <tr>\n",
              "      <th>2</th>\n",
              "      <td>0</td>\n",
              "      <td>Alive</td>\n",
              "      <td>3767</td>\n",
              "      <td>inf</td>\n",
              "      <td>55</td>\n",
              "      <td>Modified Radical Mastectomy</td>\n",
              "      <td>0</td>\n",
              "      <td>TX</td>\n",
              "      <td>NX</td>\n",
              "      <td>Left Lower Outer Quadrant</td>\n",
              "      <td>Infiltrating Lobular Carcinoma</td>\n",
              "      <td>8520/3</td>\n",
              "      <td>6E7D5EC6-A469-467C-B748-237353C23416</td>\n",
              "      <td>TCGA-3C-AAAU</td>\n",
              "      <td>1.0</td>\n",
              "      <td>WHITE</td>\n",
              "      <td>WITH TUMOR</td>\n",
              "      <td>Positive</td>\n",
              "      <td>Positive</td>\n",
              "      <td>Negative</td>\n",
              "      <td>0.0</td>\n",
              "      <td>0.5</td>\n",
              "      <td>0.5</td>\n",
              "      <td>0.5</td>\n",
              "    </tr>\n",
              "    <tr>\n",
              "      <th>3</th>\n",
              "      <td>0</td>\n",
              "      <td>Alive</td>\n",
              "      <td>3801</td>\n",
              "      <td>inf</td>\n",
              "      <td>50</td>\n",
              "      <td>Lumpectomy</td>\n",
              "      <td>0</td>\n",
              "      <td>T2</td>\n",
              "      <td>N1a</td>\n",
              "      <td>Right Upper Outer Quadrant</td>\n",
              "      <td>Infiltrating Ductal Carcinoma</td>\n",
              "      <td>8500/3</td>\n",
              "      <td>55262FCB-1B01-4480-B322-36570430C917</td>\n",
              "      <td>TCGA-3C-AALI</td>\n",
              "      <td>4.0</td>\n",
              "      <td>BLACK OR AFRICAN AMERICAN</td>\n",
              "      <td>TUMOR FREE</td>\n",
              "      <td>Positive</td>\n",
              "      <td>Positive</td>\n",
              "      <td>Positive</td>\n",
              "      <td>4.0</td>\n",
              "      <td>3.5</td>\n",
              "      <td>1.0</td>\n",
              "      <td>0.0</td>\n",
              "    </tr>\n",
              "    <tr>\n",
              "      <th>4</th>\n",
              "      <td>0</td>\n",
              "      <td>Alive</td>\n",
              "      <td>1228</td>\n",
              "      <td>inf</td>\n",
              "      <td>62</td>\n",
              "      <td>Modified Radical Mastectomy</td>\n",
              "      <td>0</td>\n",
              "      <td>T2</td>\n",
              "      <td>N1a</td>\n",
              "      <td>Right</td>\n",
              "      <td>Infiltrating Ductal Carcinoma</td>\n",
              "      <td>8500/3</td>\n",
              "      <td>427D0648-3F77-4FFC-B52C-89855426D647</td>\n",
              "      <td>TCGA-3C-AALJ</td>\n",
              "      <td>4.0</td>\n",
              "      <td>BLACK OR AFRICAN AMERICAN</td>\n",
              "      <td>TUMOR FREE</td>\n",
              "      <td>Positive</td>\n",
              "      <td>Positive</td>\n",
              "      <td>Indeterminate</td>\n",
              "      <td>4.0</td>\n",
              "      <td>3.5</td>\n",
              "      <td>1.0</td>\n",
              "      <td>0.0</td>\n",
              "    </tr>\n",
              "    <tr>\n",
              "      <th>5</th>\n",
              "      <td>0</td>\n",
              "      <td>Alive</td>\n",
              "      <td>1217</td>\n",
              "      <td>inf</td>\n",
              "      <td>52</td>\n",
              "      <td>Simple Mastectomy</td>\n",
              "      <td>1</td>\n",
              "      <td>T1c</td>\n",
              "      <td>N0 (i+)</td>\n",
              "      <td>Right</td>\n",
              "      <td>Infiltrating Ductal Carcinoma</td>\n",
              "      <td>8500/3</td>\n",
              "      <td>C31900A4-5DCD-4022-97AC-638E86E889E4</td>\n",
              "      <td>TCGA-3C-AALK</td>\n",
              "      <td>3.0</td>\n",
              "      <td>BLACK OR AFRICAN AMERICAN</td>\n",
              "      <td>TUMOR FREE</td>\n",
              "      <td>Positive</td>\n",
              "      <td>Positive</td>\n",
              "      <td>Positive</td>\n",
              "      <td>1.0</td>\n",
              "      <td>2.0</td>\n",
              "      <td>0.0</td>\n",
              "      <td>0.0</td>\n",
              "    </tr>\n",
              "    <tr>\n",
              "      <th>6</th>\n",
              "      <td>0</td>\n",
              "      <td>Alive</td>\n",
              "      <td>158</td>\n",
              "      <td>inf</td>\n",
              "      <td>50</td>\n",
              "      <td>Modified Radical Mastectomy</td>\n",
              "      <td>0</td>\n",
              "      <td>T2</td>\n",
              "      <td>N2a</td>\n",
              "      <td>Left|Left Upper Outer Quadrant</td>\n",
              "      <td>Infiltrating Lobular Carcinoma</td>\n",
              "      <td>8520/3</td>\n",
              "      <td>6623FC5E-00BE-4476-967A-CBD55F676EA6</td>\n",
              "      <td>TCGA-4H-AAAK</td>\n",
              "      <td>4.0</td>\n",
              "      <td>WHITE</td>\n",
              "      <td>TUMOR FREE</td>\n",
              "      <td>Positive</td>\n",
              "      <td>Positive</td>\n",
              "      <td>Equivocal</td>\n",
              "      <td>5.0</td>\n",
              "      <td>3.5</td>\n",
              "      <td>4.0</td>\n",
              "      <td>0.0</td>\n",
              "    </tr>\n",
              "    <tr>\n",
              "      <th>...</th>\n",
              "      <td>...</td>\n",
              "      <td>...</td>\n",
              "      <td>...</td>\n",
              "      <td>...</td>\n",
              "      <td>...</td>\n",
              "      <td>...</td>\n",
              "      <td>...</td>\n",
              "      <td>...</td>\n",
              "      <td>...</td>\n",
              "      <td>...</td>\n",
              "      <td>...</td>\n",
              "      <td>...</td>\n",
              "      <td>...</td>\n",
              "      <td>...</td>\n",
              "      <td>...</td>\n",
              "      <td>...</td>\n",
              "      <td>...</td>\n",
              "      <td>...</td>\n",
              "      <td>...</td>\n",
              "      <td>...</td>\n",
              "      <td>...</td>\n",
              "      <td>...</td>\n",
              "      <td>...</td>\n",
              "      <td>...</td>\n",
              "    </tr>\n",
              "    <tr>\n",
              "      <th>1094</th>\n",
              "      <td>0</td>\n",
              "      <td>Alive</td>\n",
              "      <td>791</td>\n",
              "      <td>inf</td>\n",
              "      <td>77</td>\n",
              "      <td>Lumpectomy</td>\n",
              "      <td>0</td>\n",
              "      <td>T1c</td>\n",
              "      <td>N0 (i-)</td>\n",
              "      <td>Left</td>\n",
              "      <td>Infiltrating Lobular Carcinoma</td>\n",
              "      <td>8520/3</td>\n",
              "      <td>5CD79093-1571-4F71-8136-0D84CCABDCAC</td>\n",
              "      <td>TCGA-WT-AB44</td>\n",
              "      <td>4.0</td>\n",
              "      <td>WHITE</td>\n",
              "      <td>TUMOR FREE</td>\n",
              "      <td>Positive</td>\n",
              "      <td>Positive</td>\n",
              "      <td>Negative</td>\n",
              "      <td>1.0</td>\n",
              "      <td>2.0</td>\n",
              "      <td>0.0</td>\n",
              "      <td>0.5</td>\n",
              "    </tr>\n",
              "    <tr>\n",
              "      <th>1095</th>\n",
              "      <td>0</td>\n",
              "      <td>Alive</td>\n",
              "      <td>292</td>\n",
              "      <td>inf</td>\n",
              "      <td>46</td>\n",
              "      <td>Modified Radical Mastectomy</td>\n",
              "      <td>0</td>\n",
              "      <td>T1c</td>\n",
              "      <td>N2a</td>\n",
              "      <td>Right Lower Outer Quadrant</td>\n",
              "      <td>Infiltrating Lobular Carcinoma</td>\n",
              "      <td>8520/3</td>\n",
              "      <td>F89588E9-CA73-4465-A7FB-7246EDB45E3A</td>\n",
              "      <td>TCGA-XX-A899</td>\n",
              "      <td>4.0</td>\n",
              "      <td>WHITE</td>\n",
              "      <td>TUMOR FREE</td>\n",
              "      <td>Positive</td>\n",
              "      <td>Positive</td>\n",
              "      <td>Negative</td>\n",
              "      <td>5.0</td>\n",
              "      <td>2.0</td>\n",
              "      <td>4.0</td>\n",
              "      <td>0.5</td>\n",
              "    </tr>\n",
              "    <tr>\n",
              "      <th>1096</th>\n",
              "      <td>0</td>\n",
              "      <td>Alive</td>\n",
              "      <td>278</td>\n",
              "      <td>inf</td>\n",
              "      <td>68</td>\n",
              "      <td>Simple Mastectomy</td>\n",
              "      <td>0</td>\n",
              "      <td>T3</td>\n",
              "      <td>N0</td>\n",
              "      <td>Left Upper Outer Quadrant</td>\n",
              "      <td>Infiltrating Lobular Carcinoma</td>\n",
              "      <td>8520/3</td>\n",
              "      <td>CA20249F-B7EA-4FD9-9ECB-34F74755AE35</td>\n",
              "      <td>TCGA-XX-A89A</td>\n",
              "      <td>4.0</td>\n",
              "      <td>WHITE</td>\n",
              "      <td>TUMOR FREE</td>\n",
              "      <td>Positive</td>\n",
              "      <td>Positive</td>\n",
              "      <td>Negative</td>\n",
              "      <td>4.0</td>\n",
              "      <td>5.5</td>\n",
              "      <td>0.0</td>\n",
              "      <td>0.5</td>\n",
              "    </tr>\n",
              "    <tr>\n",
              "      <th>1097</th>\n",
              "      <td>1</td>\n",
              "      <td>Alive</td>\n",
              "      <td>3042</td>\n",
              "      <td>inf</td>\n",
              "      <td>61</td>\n",
              "      <td>Other</td>\n",
              "      <td>2</td>\n",
              "      <td>T3</td>\n",
              "      <td>N1a</td>\n",
              "      <td>Left Upper Outer Quadrant</td>\n",
              "      <td>Infiltrating Lobular Carcinoma</td>\n",
              "      <td>8520/3</td>\n",
              "      <td>23F438BD-1DBB-4D46-972F-1E8E74DDBD37</td>\n",
              "      <td>TCGA-Z7-A8R5</td>\n",
              "      <td>4.0</td>\n",
              "      <td>WHITE</td>\n",
              "      <td>TUMOR FREE</td>\n",
              "      <td>Positive</td>\n",
              "      <td>Positive</td>\n",
              "      <td>Negative</td>\n",
              "      <td>5.0</td>\n",
              "      <td>5.5</td>\n",
              "      <td>1.0</td>\n",
              "      <td>0.5</td>\n",
              "    </tr>\n",
              "    <tr>\n",
              "      <th>1098</th>\n",
              "      <td>0</td>\n",
              "      <td>Alive</td>\n",
              "      <td>2800</td>\n",
              "      <td>inf</td>\n",
              "      <td>46</td>\n",
              "      <td>Lumpectomy</td>\n",
              "      <td>0</td>\n",
              "      <td>T1c</td>\n",
              "      <td>N0</td>\n",
              "      <td>Left Upper Outer Quadrant</td>\n",
              "      <td>Infiltrating Lobular Carcinoma</td>\n",
              "      <td>8022/3</td>\n",
              "      <td>B1D44C81-747D-471F-9093-AEB262A17975</td>\n",
              "      <td>TCGA-Z7-A8R6</td>\n",
              "      <td>1.0</td>\n",
              "      <td>WHITE</td>\n",
              "      <td>TUMOR FREE</td>\n",
              "      <td>Positive</td>\n",
              "      <td>Positive</td>\n",
              "      <td>Negative</td>\n",
              "      <td>1.5</td>\n",
              "      <td>2.0</td>\n",
              "      <td>0.0</td>\n",
              "      <td>0.0</td>\n",
              "    </tr>\n",
              "  </tbody>\n",
              "</table>\n",
              "<p>967 rows × 24 columns</p>\n",
              "</div>"
            ],
            "text/plain": [
              "      history_other_malignancy vital_status last_contact_days_to  ...   pt   pn   pm\n",
              "2                            0        Alive                 3767  ...  0.5  0.5  0.5\n",
              "3                            0        Alive                 3801  ...  3.5  1.0  0.0\n",
              "4                            0        Alive                 1228  ...  3.5  1.0  0.0\n",
              "5                            0        Alive                 1217  ...  2.0  0.0  0.0\n",
              "6                            0        Alive                  158  ...  3.5  4.0  0.0\n",
              "...                        ...          ...                  ...  ...  ...  ...  ...\n",
              "1094                         0        Alive                  791  ...  2.0  0.0  0.5\n",
              "1095                         0        Alive                  292  ...  2.0  4.0  0.5\n",
              "1096                         0        Alive                  278  ...  5.5  0.0  0.5\n",
              "1097                         1        Alive                 3042  ...  5.5  1.0  0.5\n",
              "1098                         0        Alive                 2800  ...  2.0  0.0  0.0\n",
              "\n",
              "[967 rows x 24 columns]"
            ]
          },
          "metadata": {
            "tags": []
          },
          "execution_count": 472
        }
      ]
    },
    {
      "cell_type": "code",
      "metadata": {
        "id": "NDORsqEbxH80"
      },
      "source": [
        "def map_receptor(input_status):\n",
        "    if (input_status=='Negative'): return 0\n",
        "    if (input_status=='Positive'): return 1\n",
        "    else:\n",
        "      return 0.5\n",
        "\n",
        "data_imp['er_status_by_ihc_imputed']=data_imp['er_status_by_ihc_imputed'].apply(map_receptor)\n",
        "data_imp['pr_status_by_ihc_imputed']=data_imp['pr_status_by_ihc_imputed'].apply(map_receptor)\n",
        "data_imp['her2_status_by_ihc_imputed']=data_imp['her2_status_by_ihc_imputed'].apply(map_receptor)"
      ],
      "execution_count": null,
      "outputs": []
    },
    {
      "cell_type": "code",
      "metadata": {
        "id": "5B17ciQZx7ak",
        "colab": {
          "base_uri": "https://localhost:8080/"
        },
        "outputId": "7e8b86e2-4eaa-4d08-c0b8-c6ff692f1930"
      },
      "source": [
        "data_imp['tumor_status_imputed'].value_counts()"
      ],
      "execution_count": null,
      "outputs": [
        {
          "output_type": "execute_result",
          "data": {
            "text/plain": [
              "TUMOR FREE    879\n",
              "WITH TUMOR     88\n",
              "Name: tumor_status_imputed, dtype: int64"
            ]
          },
          "metadata": {
            "tags": []
          },
          "execution_count": 474
        }
      ]
    },
    {
      "cell_type": "code",
      "metadata": {
        "id": "McZsmHycx_0Y"
      },
      "source": [
        "def map_race(input_status):\n",
        "    if (input_status=='WHITE'): return 1\n",
        "    if (input_status=='BLACK OR AFRICAN AMERICAN'): return 2\n",
        "    if (input_status=='ASIAN'): return 3\n",
        "    if (input_status=='AMERICAN INDIAN OR ALASKA NATIVE'): return 4\n",
        "data_imp['race_imputed']=data_imp['race_imputed'].apply(map_race) "
      ],
      "execution_count": null,
      "outputs": []
    },
    {
      "cell_type": "code",
      "metadata": {
        "id": "r0EjA0w-yZww"
      },
      "source": [
        "def map_tumor(input_status):\n",
        "    if (input_status=='TUMOR FREE'): return 0\n",
        "    else: return 1\n",
        "\n",
        "data_imp['tumor_status_imputed']=data_imp['tumor_status_imputed'].apply(map_tumor) "
      ],
      "execution_count": null,
      "outputs": []
    },
    {
      "cell_type": "code",
      "metadata": {
        "id": "wYUwIY6lzvJh",
        "colab": {
          "base_uri": "https://localhost:8080/"
        },
        "outputId": "25e6a57a-72a7-44e3-9c75-dd502407907c"
      },
      "source": [
        "data_imp[\"history_other_malignancy\"].value_counts()"
      ],
      "execution_count": null,
      "outputs": [
        {
          "output_type": "execute_result",
          "data": {
            "text/plain": [
              "0    905\n",
              "1     62\n",
              "Name: history_other_malignancy, dtype: int64"
            ]
          },
          "metadata": {
            "tags": []
          },
          "execution_count": 477
        }
      ]
    },
    {
      "cell_type": "code",
      "metadata": {
        "id": "RkyNequZsAcL"
      },
      "source": [
        "data_id = data_imp[['bcr_patient_uuid','bcr_patient_barcode']]\n",
        "data_id.to_csv('/content/drive/MyDrive/Year Three/CS4220yxy/filtered_id.csv')\n"
      ],
      "execution_count": null,
      "outputs": []
    },
    {
      "cell_type": "code",
      "metadata": {
        "id": "9jp8qNa7HAL7"
      },
      "source": [
        "data_imp.to_csv('/content/drive/MyDrive/Year Three/CS4220yxy/data_imp.csv')"
      ],
      "execution_count": null,
      "outputs": []
    },
    {
      "cell_type": "code",
      "metadata": {
        "id": "JHeaG128KEtD"
      },
      "source": [
        ""
      ],
      "execution_count": null,
      "outputs": []
    },
    {
      "cell_type": "markdown",
      "metadata": {
        "id": "DyF7cx9Yu86g"
      },
      "source": [
        "# Survival anlaysis"
      ]
    },
    {
      "cell_type": "code",
      "metadata": {
        "id": "VVZPtJdXAAbn"
      },
      "source": [
        "##################\n",
        "# INTRO SURV ANA #\n",
        "##################\n",
        "\n",
        "data_cox = data_imp\n",
        "\n",
        "#converting 'Alive', 'Dead' to 'False' ,'True'\n",
        "def map_status(input_status):\n",
        "    if (input_status=='Alive'):\n",
        "        return False\n",
        "    else:\n",
        "        return True\n",
        "\n",
        "data_cox[\"vital_status_boolean\"] = data_cox[\"vital_status\"].apply(map_status)\n",
        "\n",
        "#merging last_contact_days_to ('Alive') and death_days_to ('Dead') to get survival_in_days\n",
        "def map_days_df(input_df):\n",
        "  if input_df[1] == 'Alive':\n",
        "    return input_df[2]\n",
        "  else:\n",
        "    return input_df[3]\n",
        "\n",
        "data_cox['survival_in_days'] = data_cox.apply(map_days_df, axis=1)\n"
      ],
      "execution_count": null,
      "outputs": []
    },
    {
      "cell_type": "code",
      "metadata": {
        "id": "qGmvE7VDvDVj",
        "colab": {
          "base_uri": "https://localhost:8080/"
        },
        "outputId": "ac95147b-4d95-463b-b114-0cb3a99c40a3"
      },
      "source": [
        "%matplotlib inline\n",
        "import matplotlib.pyplot as plt\n",
        "from sksurv.nonparametric import kaplan_meier_estimator\n",
        "\n",
        "data_cox_1=data_cox\n",
        "\n",
        "time, survival_prob = kaplan_meier_estimator(data_cox_1[\"vital_status_boolean\"], data_cox_1[\"survival_in_days\"])\n",
        "plt.step(time, survival_prob, where=\"post\")\n",
        "plt.ylabel(\"est. probability of survival $\\hat{S}(t)$\")\n",
        "plt.xlabel(\"time $t$\")"
      ],
      "execution_count": null,
      "outputs": [
        {
          "output_type": "execute_result",
          "data": {
            "text/plain": [
              "Text(0.5, 0, 'time $t$')"
            ]
          },
          "metadata": {
            "tags": []
          },
          "execution_count": 481
        },
        {
          "output_type": "display_data",
          "data": {
            "image/png": "[encoded data removed]",
            "text/plain": [
              "<Figure size 432x288 with 1 Axes>"
            ]
          },
          "metadata": {
            "tags": [],
            "needs_background": "light"
          }
        }
      ]
    },
    {
      "cell_type": "code",
      "metadata": {
        "id": "CGb63Zi2MYxd",
        "colab": {
          "base_uri": "https://localhost:8080/"
        },
        "outputId": "f7295234-59fb-47dd-81e8-8a8f31806d79"
      },
      "source": [
        "data_cox['tumor_status_imputed'].value_counts()"
      ],
      "execution_count": null,
      "outputs": [
        {
          "output_type": "execute_result",
          "data": {
            "text/plain": [
              "0    879\n",
              "1     88\n",
              "Name: tumor_status_imputed, dtype: int64"
            ]
          },
          "metadata": {
            "tags": []
          },
          "execution_count": 482
        }
      ]
    },
    {
      "cell_type": "code",
      "metadata": {
        "id": "oej4YZ4DMTWm",
        "colab": {
          "base_uri": "https://localhost:8080/"
        },
        "outputId": "5ddc3f49-3788-4ccb-d41b-6a3327cbd472"
      },
      "source": [
        "# survival function by one parameter, two values \n",
        "for tumor_status in (0,1):\n",
        "    mask_treat = data_cox_1[\"tumor_status_imputed\"] == tumor_status\n",
        "    time_tumor_status, survival_prob_tumor_status = kaplan_meier_estimator(\n",
        "        data_cox_1[\"vital_status_boolean\"][mask_treat],\n",
        "        data_cox_1[\"survival_in_days\"][mask_treat])\n",
        "\n",
        "    plt.step(time_tumor_status, survival_prob_tumor_status, where=\"post\",\n",
        "             label=\"Tumor status = %s\" % tumor_status)\n",
        "\n",
        "plt.ylabel(\"est. probability of survival $\\hat{S}(t)$\")\n",
        "plt.xlabel(\"time $t$\")\n",
        "plt.legend(loc=\"best\")"
      ],
      "execution_count": null,
      "outputs": [
        {
          "output_type": "execute_result",
          "data": {
            "text/plain": [
              "<matplotlib.legend.Legend at 0x7fd3392f6590>"
            ]
          },
          "metadata": {
            "tags": []
          },
          "execution_count": 483
        },
        {
          "output_type": "display_data",
          "data": {
            "image/png": "[encoded data removed]",
            "text/plain": [
              "<Figure size 432x288 with 1 Axes>"
            ]
          },
          "metadata": {
            "tags": [],
            "needs_background": "light"
          }
        }
      ]
    },
    {
      "cell_type": "code",
      "metadata": {
        "id": "KcCpQGX8EGS7",
        "colab": {
          "base_uri": "https://localhost:8080/"
        },
        "outputId": "93af068b-dc23-488d-b8fb-d1136f699fdb"
      },
      "source": [
        "data_cox['surgical_procedure_first'].value_counts()"
      ],
      "execution_count": null,
      "outputs": [
        {
          "output_type": "execute_result",
          "data": {
            "text/plain": [
              "Modified Radical Mastectomy    291\n",
              "Other                          243\n",
              "Lumpectomy                     239\n",
              "Simple Mastectomy              194\n",
              "Name: surgical_procedure_first, dtype: int64"
            ]
          },
          "metadata": {
            "tags": []
          },
          "execution_count": 484
        }
      ]
    },
    {
      "cell_type": "code",
      "metadata": {
        "id": "GT-0YkaSEiXl",
        "colab": {
          "base_uri": "https://localhost:8080/"
        },
        "outputId": "80b0c6e5-2994-4ed3-c337-942e208e5ac5"
      },
      "source": [
        "for surgical_procedure in (\"Modified Radical Mastectomy\", \"Other\",\"Lumpectomy\",\"Simple Mastectomy\"):\n",
        "    mask_treat = data_cox_1[\"surgical_procedure_first\"] == surgical_procedure\n",
        "    time_surgical_procedure, survival_prob_surgical_procedure = kaplan_meier_estimator(\n",
        "        data_cox_1[\"vital_status_boolean\"][mask_treat],\n",
        "        data_cox_1[\"survival_in_days\"][mask_treat])\n",
        "\n",
        "    plt.step(time_surgical_procedure, survival_prob_surgical_procedure, where=\"post\",\n",
        "             label=\"Treatment = %s\" % surgical_procedure)\n",
        "\n",
        "plt.ylabel(\"est. probability of survival $\\hat{S}(t)$\")\n",
        "plt.xlabel(\"time $t$\")\n",
        "plt.legend(loc=\"best\")"
      ],
      "execution_count": null,
      "outputs": [
        {
          "output_type": "execute_result",
          "data": {
            "text/plain": [
              "<matplotlib.legend.Legend at 0x7fd32ab565d0>"
            ]
          },
          "metadata": {
            "tags": []
          },
          "execution_count": 485
        },
        {
          "output_type": "display_data",
          "data": {
            "image/png": "[encoded data removed]",
            "text/plain": [
              "<Figure size 432x288 with 1 Axes>"
            ]
          },
          "metadata": {
            "tags": [],
            "needs_background": "light"
          }
        }
      ]
    },
    {
      "cell_type": "markdown",
      "metadata": {
        "id": "q3O5ZEtJa2eg"
      },
      "source": [
        "#PCOX data prep"
      ]
    },
    {
      "cell_type": "code",
      "metadata": {
        "id": "clQspXULwJ96"
      },
      "source": [
        "from sksurv.linear_model import CoxPHSurvivalAnalysis, CoxnetSurvivalAnalysis\n",
        "from sksurv.preprocessing import OneHotEncoder\n",
        "\n",
        "from sklearn.model_selection import GridSearchCV, KFold\n",
        "from sklearn.pipeline import make_pipeline\n",
        "from sklearn.preprocessing import StandardScaler"
      ],
      "execution_count": null,
      "outputs": []
    },
    {
      "cell_type": "code",
      "metadata": {
        "id": "3DOkaTxiat3R"
      },
      "source": [
        "data_y = data_cox[['vital_status_boolean','survival_in_days']].copy()\n",
        "df_y=data_y\n",
        "data_y[\"survival_in_days\"] = data_y[\"survival_in_days\"].astype('float')\n"
      ],
      "execution_count": null,
      "outputs": []
    },
    {
      "cell_type": "code",
      "metadata": {
        "id": "UVSrEkYBzhuj"
      },
      "source": [
        "#data_y = data_y.to_records(column_dtypes={\"vital_status_boolean\":\"?\"},index=False)\n",
        "data_y = data_y.to_records(index=False)"
      ],
      "execution_count": null,
      "outputs": []
    },
    {
      "cell_type": "code",
      "metadata": {
        "id": "HDyU2hQPucYG"
      },
      "source": [
        "saved_data_y=data_y"
      ],
      "execution_count": null,
      "outputs": []
    },
    {
      "cell_type": "code",
      "metadata": {
        "id": "08OCkjYQbvyI"
      },
      "source": [
        "data_x = data_cox.drop(['bcr_patient_uuid','bcr_patient_barcode','vital_status_boolean','survival_in_days','vital_status','last_contact_days_to','death_days_to',\n",
        "                        'ajcc_tumor_pathologic_pt','ajcc_nodes_pathologic_pn','ajcc_metastasis_pathologic_pm','race_imputed',\n",
        "                        'surgical_procedure_first','anatomic_neoplasm_subdivision','histological_type','icd_o_3_histology'],axis=1)"
      ],
      "execution_count": null,
      "outputs": []
    },
    {
      "cell_type": "code",
      "metadata": {
        "id": "32SKt4Hswiyr"
      },
      "source": [
        "saved_data_x=data_x"
      ],
      "execution_count": null,
      "outputs": []
    },
    {
      "cell_type": "code",
      "metadata": {
        "id": "A7WIWknNv-ZL"
      },
      "source": [
        "x_p = data_x.drop([\"age_at_diagnosis\"],axis=1).astype(\"category\")\n",
        "x_p = OneHotEncoder().fit_transform(x_p)\n",
        "x_p[\"age\"] = data_x[\"age_at_diagnosis\"]\n",
        "data_x=x_p"
      ],
      "execution_count": null,
      "outputs": []
    },
    {
      "cell_type": "code",
      "metadata": {
        "id": "QlZnfBLowZP9"
      },
      "source": [
        "saved_data_x.to_csv(\"/content/drive/MyDrive/Year Three/CS4220yxy/data_x.csv\")"
      ],
      "execution_count": null,
      "outputs": []
    },
    {
      "cell_type": "markdown",
      "metadata": {
        "id": "NnP5NnceyySV"
      },
      "source": [
        "#Multivariate Numerical (COX)"
      ]
    },
    {
      "cell_type": "code",
      "metadata": {
        "id": "p8TC4Vuiy3HB"
      },
      "source": [
        "#pd.Series(estimator_cox.coef_, index=saved_data_x.columns)"
      ],
      "execution_count": null,
      "outputs": []
    },
    {
      "cell_type": "code",
      "metadata": {
        "id": "oJOgvGGPy6sw"
      },
      "source": [
        "#saved_data_x_int=saved_data_x.astype(\"int32\")\n",
        "#estimator_cox.score(saved_data_x_int, data_y)"
      ],
      "execution_count": null,
      "outputs": []
    },
    {
      "cell_type": "code",
      "metadata": {
        "id": "M4rlrJqNdoM4"
      },
      "source": [
        "from sklearn.model_selection import train_test_split\n",
        "from sksurv.metrics import concordance_index_censored\n",
        "from sklearn.model_selection import StratifiedShuffleSplit\n",
        "from sklearn.model_selection import cross_val_score"
      ],
      "execution_count": null,
      "outputs": []
    },
    {
      "cell_type": "code",
      "metadata": {
        "id": "W4SLFl1SGXHO"
      },
      "source": [
        "y_for_split = df_y[['vital_status_boolean']].to_records(index= False)"
      ],
      "execution_count": null,
      "outputs": []
    },
    {
      "cell_type": "code",
      "metadata": {
        "id": "J9pQL_7YWlt2",
        "colab": {
          "base_uri": "https://localhost:8080/"
        },
        "outputId": "5ca0b793-d106-430b-9e8b-ff6eb0e9d0eb"
      },
      "source": [
        "#not stratified\n",
        "sum_test=0\n",
        "sum_train=0\n",
        "for i in range (42,47):\n",
        "  x_train,x_test,y_train,y_test=train_test_split(\n",
        "      saved_data_x,data_y,train_size=0.8,test_size=0.2,random_state=i)\n",
        "  x_test = x_test.astype('int32')\n",
        "  x_train = x_train.astype('int32')\n",
        "  estimator_cox = CoxPHSurvivalAnalysis()\n",
        "  estimator_cox.fit(x_train, y_train)\n",
        "  prediction_cox = estimator_cox.predict(x_test)\n",
        "  result_cox = concordance_index_censored(y_test[\"vital_status_boolean\"], y_test[\"survival_in_days\"], prediction_cox)\n",
        "  print(\"train_result:\", estimator_cox.score(x_train, y_train))\n",
        "  sum_train+=estimator_cox.score(x_train, y_train)\n",
        "  print(\"test_result:\", result_cox[0])\n",
        "  sum_test+=result_cox[0]\n",
        "\n",
        "print(sum_test/5)\n",
        "print(sum_train/5)\n"
      ],
      "execution_count": null,
      "outputs": [
        {
          "output_type": "stream",
          "text": [
            "train_result: 0.8846383741781231\n",
            "test_result: 0.7654609101516919\n",
            "train_result: 0.878512522907758\n",
            "test_result: 0.7166979362101313\n",
            "train_result: 0.8572002894588727\n",
            "test_result: 0.8288543140028288\n",
            "train_result: 0.8296336401371593\n",
            "test_result: 0.9432355723746452\n",
            "train_result: 0.8653803006506618\n",
            "test_result: 0.8183716075156576\n",
            "0.8145240680509909\n",
            "0.8630730254665149\n"
          ],
          "name": "stdout"
        }
      ]
    },
    {
      "cell_type": "code",
      "metadata": {
        "id": "hsTCXK8BMz1y",
        "colab": {
          "base_uri": "https://localhost:8080/"
        },
        "outputId": "af4437e2-c2e8-452d-f0ba-9ebe4d6b9a9f"
      },
      "source": [
        "x_train = x_train.astype('int32')\n",
        "prediction_cox_tr = estimator_cox.predict(x_train)\n",
        "result_cox_tr = concordance_index_censored(y_train[\"vital_status_boolean\"], y_train[\"survival_in_days\"], prediction_cox_tr)\n",
        "result_cox_tr[0]"
      ],
      "execution_count": null,
      "outputs": [
        {
          "output_type": "execute_result",
          "data": {
            "text/plain": [
              "0.8653803006506618"
            ]
          },
          "metadata": {
            "tags": []
          },
          "execution_count": 499
        }
      ]
    },
    {
      "cell_type": "code",
      "metadata": {
        "id": "_jpk8VNHYl0C",
        "colab": {
          "base_uri": "https://localhost:8080/"
        },
        "outputId": "817873f7-6c26-4c89-98aa-9c603eb1db6d"
      },
      "source": [
        "estimator_cox.score(x_train, y_train)"
      ],
      "execution_count": null,
      "outputs": [
        {
          "output_type": "execute_result",
          "data": {
            "text/plain": [
              "0.8653803006506618"
            ]
          },
          "metadata": {
            "tags": []
          },
          "execution_count": 500
        }
      ]
    },
    {
      "cell_type": "code",
      "metadata": {
        "colab": {
          "base_uri": "https://localhost:8080/"
        },
        "id": "AX4npLLruBvA",
        "outputId": "da752e83-b06f-4fce-9b56-ac087933dbab"
      },
      "source": [
        "#stratified\n",
        "sum_test=0\n",
        "sum_train=0\n",
        "for i in range (42,47):\n",
        "  x_train,x_test,y_train,y_test=train_test_split(\n",
        "      saved_data_x,data_y,train_size=0.8,test_size=0.2,random_state=i,stratify=y_for_split)\n",
        "  x_test = x_test.astype('int32')\n",
        "  x_train = x_train.astype('int32')\n",
        "  estimator_cox = CoxPHSurvivalAnalysis()\n",
        "  estimator_cox.fit(x_train, y_train)\n",
        "  prediction_cox = estimator_cox.predict(x_test)\n",
        "  result_cox = concordance_index_censored(y_test[\"vital_status_boolean\"], y_test[\"survival_in_days\"], prediction_cox)\n",
        "  print(\"train_result:\", estimator_cox.score(x_train, y_train))\n",
        "  sum_train+=estimator_cox.score(x_train, y_train)\n",
        "  print(\"test_result:\", result_cox[0])\n",
        "  sum_test+=result_cox[0]\n",
        "\n",
        "print(\"train_avg:\",sum_train/5)\n",
        "\n",
        "print(\"test_avg\",sum_test/5)"
      ],
      "execution_count": null,
      "outputs": [
        {
          "output_type": "stream",
          "text": [
            "train_result: 0.8291233283803864\n",
            "test_result: 0.9464285714285714\n",
            "train_result: 0.848697308058513\n",
            "test_result: 0.9043570669500531\n",
            "train_result: 0.8469395711500974\n",
            "test_result: 0.9349593495934959\n",
            "train_result: 0.8341467519353752\n",
            "test_result: 0.9285714285714286\n",
            "train_result: 0.8553339664450775\n",
            "test_result: 0.8873668188736682\n",
            "train_avg: 0.8428481851938899\n",
            "test_avg 0.9203366470834435\n"
          ],
          "name": "stdout"
        }
      ]
    },
    {
      "cell_type": "code",
      "metadata": {
        "id": "3vP8rn-bdpTL",
        "colab": {
          "base_uri": "https://localhost:8080/"
        },
        "outputId": "34be0245-e4ac-420e-9bff-8532d7d16ef5"
      },
      "source": [
        "#stratified\n",
        "x_train,x_test,y_train,y_test=train_test_split(\n",
        "    saved_data_x,data_y,train_size=0.8,test_size=0.2,random_state=42, stratify=y_for_split)\n",
        "x_test = x_test.astype('int32')\n",
        "estimator_cox = CoxPHSurvivalAnalysis()\n",
        "estimator_cox.fit(x_train, y_train)\n",
        "prediction_cox = estimator_cox.predict(x_test)\n",
        "result_cox = concordance_index_censored(y_test[\"vital_status_boolean\"], y_test[\"survival_in_days\"], prediction_cox)\n",
        "result_cox[0]"
      ],
      "execution_count": null,
      "outputs": [
        {
          "output_type": "execute_result",
          "data": {
            "text/plain": [
              "0.9296218487394958"
            ]
          },
          "metadata": {
            "tags": []
          },
          "execution_count": 502
        }
      ]
    },
    {
      "cell_type": "code",
      "metadata": {
        "id": "eWZwESLSM6nw",
        "colab": {
          "base_uri": "https://localhost:8080/"
        },
        "outputId": "dcc11d9a-9476-4db8-cff5-2fa054ed9719"
      },
      "source": [
        "x_train = x_train.astype('int32')\n",
        "prediction_cox_tr = estimator_cox.predict(x_train)\n",
        "result_cox_tr = concordance_index_censored(y_train[\"vital_status_boolean\"], y_train[\"survival_in_days\"], prediction_cox_tr)\n",
        "result_cox_tr[0]"
      ],
      "execution_count": null,
      "outputs": [
        {
          "output_type": "execute_result",
          "data": {
            "text/plain": [
              "0.8282492789091863"
            ]
          },
          "metadata": {
            "tags": []
          },
          "execution_count": 503
        }
      ]
    },
    {
      "cell_type": "code",
      "metadata": {
        "id": "di14DmNiY2rK",
        "colab": {
          "base_uri": "https://localhost:8080/"
        },
        "outputId": "eeb2d532-96db-462a-a6d1-264bf66b9600"
      },
      "source": [
        "estimator_cox.score(x_train, y_train)"
      ],
      "execution_count": null,
      "outputs": [
        {
          "output_type": "execute_result",
          "data": {
            "text/plain": [
              "0.8282492789091863"
            ]
          },
          "metadata": {
            "tags": []
          },
          "execution_count": 504
        }
      ]
    },
    {
      "cell_type": "code",
      "metadata": {
        "id": "idvtGw0ONNvP",
        "colab": {
          "base_uri": "https://localhost:8080/",
          "height": 86
        },
        "outputId": "cd5a6049-6b0c-42f9-b998-5e5bc81ee5bc"
      },
      "source": [
        "#the StratifiedShuffleSplit does not allow specificication of y. Tough:(\n",
        "''' \n",
        "cv_sss = StratifiedShuffleSplit(n_splits=5, test_size=0.2, train_size=0.8, random_state=42)\n",
        "x_int = saved_data_x.astype('int32')\n",
        "#cross_val_score(estimator_cox, x_int, data_y, cv=cv_sss)\n",
        "for train_index, test_index in cv_sss.split(saved_data_x, y_for_split):\n",
        "  X_train, X_test = saved_data_x[train_index], saved_data_x[test_index]\n",
        "  y_train, y_test = data_y[train_index], data_y[test_index]\n",
        "  estimator_cox.fit(X_train, y_train)\n",
        "  prediction_cox_this = estimator_cox.predict(X_test)\n",
        "  result_cox = concordance_index_censored(y_test[\"vital_status_boolean\"], y_test[\"survival_in_days\"], prediction_cox_this)\n",
        "  print(result_cox[0])\n",
        "'''"
      ],
      "execution_count": null,
      "outputs": [
        {
          "output_type": "execute_result",
          "data": {
            "application/vnd.google.colaboratory.intrinsic+json": {
              "type": "string"
            },
            "text/plain": [
              "' \\ncv_sss = StratifiedShuffleSplit(n_splits=5, test_size=0.2, train_size=0.8, random_state=42)\\nx_int = saved_data_x.astype(\\'int32\\')\\n#cross_val_score(estimator_cox, x_int, data_y, cv=cv_sss)\\nfor train_index, test_index in cv_sss.split(saved_data_x, y_for_split):\\n  X_train, X_test = saved_data_x[train_index], saved_data_x[test_index]\\n  y_train, y_test = data_y[train_index], data_y[test_index]\\n  estimator_cox.fit(X_train, y_train)\\n  prediction_cox_this = estimator_cox.predict(X_test)\\n  result_cox = concordance_index_censored(y_test[\"vital_status_boolean\"], y_test[\"survival_in_days\"], prediction_cox_this)\\n  print(result_cox[0])\\n'"
            ]
          },
          "metadata": {
            "tags": []
          },
          "execution_count": 505
        }
      ]
    },
    {
      "cell_type": "code",
      "metadata": {
        "id": "3McFmXwuy8Y6",
        "colab": {
          "base_uri": "https://localhost:8080/"
        },
        "outputId": "36fad78e-8146-443c-88e7-b54189aba47e"
      },
      "source": [
        "saved_data_x_int = saved_data_x.astype('int32')\n",
        "def fit_and_score_features(X, y):\n",
        "    n_features = X.shape[1]\n",
        "    scores = np.empty(n_features)\n",
        "    m = CoxPHSurvivalAnalysis()\n",
        "    for j in range(n_features):\n",
        "        Xj = X[:, j:j+1]\n",
        "        m.fit(Xj, y)\n",
        "        scores[j] = m.score(Xj, y)\n",
        "    return scores\n",
        "\n",
        "scores_cox = fit_and_score_features(saved_data_x_int.values, data_y)\n",
        "pd.Series(scores_cox, index=saved_data_x_int.columns).sort_values(ascending=False)"
      ],
      "execution_count": null,
      "outputs": [
        {
          "output_type": "execute_result",
          "data": {
            "text/plain": [
              "tumor_status_imputed          0.729663\n",
              "pn                            0.685300\n",
              "age_at_diagnosis              0.666545\n",
              "tumor_stage                   0.640884\n",
              "pt                            0.617107\n",
              "pr_status_by_ihc_imputed      0.614648\n",
              "er_status_by_ihc_imputed      0.604839\n",
              "menopause_status_imputed      0.586529\n",
              "pm                            0.555402\n",
              "her2_status_by_ihc_imputed    0.544677\n",
              "margin_status                 0.542794\n",
              "history_other_malignancy      0.535025\n",
              "dtype: float64"
            ]
          },
          "metadata": {
            "tags": []
          },
          "execution_count": 506
        }
      ]
    },
    {
      "cell_type": "code",
      "metadata": {
        "id": "3Hu-Txj0cXJe",
        "colab": {
          "base_uri": "https://localhost:8080/"
        },
        "outputId": "6764ed5c-c7fa-4edd-b5a7-7c904b1fe250"
      },
      "source": [
        "pd.Series(estimator_cox.coef_, index=x_train.columns)"
      ],
      "execution_count": null,
      "outputs": [
        {
          "output_type": "execute_result",
          "data": {
            "text/plain": [
              "history_other_malignancy      1.431850\n",
              "age_at_diagnosis              0.060628\n",
              "margin_status                -0.298988\n",
              "menopause_status_imputed     -0.257647\n",
              "tumor_status_imputed          2.131279\n",
              "er_status_by_ihc_imputed     -0.138592\n",
              "pr_status_by_ihc_imputed     -1.384982\n",
              "her2_status_by_ihc_imputed    0.198653\n",
              "tumor_stage                  -0.220413\n",
              "pt                            0.159945\n",
              "pn                            0.330751\n",
              "pm                           -1.140700\n",
              "dtype: float64"
            ]
          },
          "metadata": {
            "tags": []
          },
          "execution_count": 507
        }
      ]
    },
    {
      "cell_type": "markdown",
      "metadata": {
        "id": "KJajmss6zGba"
      },
      "source": [
        "#Penalized COX"
      ]
    },
    {
      "cell_type": "code",
      "metadata": {
        "id": "Crf0ArSvQ0gJ"
      },
      "source": [
        "#################\n",
        "# PENALIZED COX #\n",
        "#################\n",
        "\n",
        "from sksurv.datasets import load_breast_cancer\n",
        "from sksurv.linear_model import CoxPHSurvivalAnalysis, CoxnetSurvivalAnalysis\n",
        "from sksurv.preprocessing import OneHotEncoder\n",
        "\n",
        "from sklearn.model_selection import GridSearchCV, KFold\n",
        "from sklearn.pipeline import make_pipeline\n",
        "from sklearn.preprocessing import StandardScaler"
      ],
      "execution_count": null,
      "outputs": []
    },
    {
      "cell_type": "code",
      "metadata": {
        "id": "SNzr8PgZ5Q2y"
      },
      "source": [
        "Xt=saved_data_x\n",
        "y=data_y"
      ],
      "execution_count": null,
      "outputs": []
    },
    {
      "cell_type": "code",
      "metadata": {
        "id": "m_kcsU1Lzzzk"
      },
      "source": [
        "alphas = 10. ** np.linspace(-4, 4, 50)\n",
        "coefficients = {}\n",
        "\n",
        "cph = CoxPHSurvivalAnalysis()\n",
        "for alpha in alphas:\n",
        "    cph.set_params(alpha=alpha)\n",
        "    cph.fit(Xt, y)\n",
        "    key = round(alpha, 5)\n",
        "    coefficients[key] = cph.coef_\n",
        "\n",
        "coefficients = (pd.DataFrame\n",
        "    .from_dict(coefficients)\n",
        "    .rename_axis(index=\"feature\", columns=\"alpha\")\n",
        "    .set_index(Xt.columns))"
      ],
      "execution_count": null,
      "outputs": []
    },
    {
      "cell_type": "code",
      "metadata": {
        "id": "nXyNdfq45vnz"
      },
      "source": [
        "def plot_coefficients(coefs, n_highlight):\n",
        "    _, ax = plt.subplots(figsize=(15, 10))\n",
        "    n_features = coefs.shape[0]\n",
        "    alphas = coefs.columns\n",
        "    for row in coefs.itertuples():\n",
        "        ax.semilogx(alphas, row[1:], \".-\", label=row.Index)\n",
        "\n",
        "    alpha_min = alphas.min()\n",
        "    top_coefs = coefs.loc[:, alpha_min].map(abs).sort_values().tail(n_highlight)\n",
        "    for name in top_coefs.index:\n",
        "        coef = coefs.loc[name, alpha_min]\n",
        "        plt.text(\n",
        "            alpha_min, coef, name + \"   \",\n",
        "            horizontalalignment=\"right\",\n",
        "            verticalalignment=\"center\"\n",
        "        )\n",
        "\n",
        "    ax.yaxis.set_label_position(\"right\")\n",
        "    ax.yaxis.tick_right()\n",
        "    ax.grid(True)\n",
        "    ax.set_xlabel(\"alpha\")\n",
        "    ax.set_ylabel(\"coefficient\")"
      ],
      "execution_count": null,
      "outputs": []
    },
    {
      "cell_type": "code",
      "metadata": {
        "id": "3NIiKytdFFNQ",
        "colab": {
          "base_uri": "https://localhost:8080/"
        },
        "outputId": "560a0fb1-e17f-4d3f-9572-127e3148a6af"
      },
      "source": [
        "plot_coefficients(coefficients, n_highlight=8)"
      ],
      "execution_count": null,
      "outputs": [
        {
          "output_type": "display_data",
          "data": {
            "image/png": "[encoded data removed]",
            "text/plain": [
              "<Figure size 1080x720 with 1 Axes>"
            ]
          },
          "metadata": {
            "tags": [],
            "needs_background": "light"
          }
        }
      ]
    },
    {
      "cell_type": "code",
      "metadata": {
        "id": "brxosRvqnIoZ",
        "colab": {
          "base_uri": "https://localhost:8080/"
        },
        "outputId": "e5ac8453-de00-4d1b-bbab-57b8ac4eab9b"
      },
      "source": [
        "Xt_int = Xt.astype('int32')\n",
        "def fit_and_score_features(X, y):\n",
        "    n_features = X.shape[1]\n",
        "    scores = np.empty(n_features)\n",
        "    m = CoxPHSurvivalAnalysis()\n",
        "    for j in range(n_features):\n",
        "        Xj = X[:, j:j+1]\n",
        "        m.fit(Xj, y)\n",
        "        scores[j] = m.score(Xj, y)\n",
        "    return scores\n",
        "\n",
        "scores = fit_and_score_features(Xt_int.values, data_y)\n",
        "pd.Series(scores, index=Xt_int.columns).sort_values(ascending=False)"
      ],
      "execution_count": null,
      "outputs": [
        {
          "output_type": "execute_result",
          "data": {
            "text/plain": [
              "tumor_status_imputed          0.729663\n",
              "pn                            0.685300\n",
              "age_at_diagnosis              0.666545\n",
              "tumor_stage                   0.640884\n",
              "pt                            0.617107\n",
              "pr_status_by_ihc_imputed      0.614648\n",
              "er_status_by_ihc_imputed      0.604839\n",
              "menopause_status_imputed      0.586529\n",
              "pm                            0.555402\n",
              "her2_status_by_ihc_imputed    0.544677\n",
              "margin_status                 0.542794\n",
              "history_other_malignancy      0.535025\n",
              "dtype: float64"
            ]
          },
          "metadata": {
            "tags": []
          },
          "execution_count": 513
        }
      ]
    },
    {
      "cell_type": "code",
      "metadata": {
        "id": "LUpG4stbhPQD",
        "colab": {
          "base_uri": "https://localhost:8080/"
        },
        "outputId": "e78425f2-4c83-4904-fdc1-af4763a70716"
      },
      "source": [
        "pd.Series(estimator_cox.coef_, index=x_train.columns)"
      ],
      "execution_count": null,
      "outputs": [
        {
          "output_type": "execute_result",
          "data": {
            "text/plain": [
              "history_other_malignancy      1.431850\n",
              "age_at_diagnosis              0.060628\n",
              "margin_status                -0.298988\n",
              "menopause_status_imputed     -0.257647\n",
              "tumor_status_imputed          2.131279\n",
              "er_status_by_ihc_imputed     -0.138592\n",
              "pr_status_by_ihc_imputed     -1.384982\n",
              "her2_status_by_ihc_imputed    0.198653\n",
              "tumor_stage                  -0.220413\n",
              "pt                            0.159945\n",
              "pn                            0.330751\n",
              "pm                           -1.140700\n",
              "dtype: float64"
            ]
          },
          "metadata": {
            "tags": []
          },
          "execution_count": 514
        }
      ]
    },
    {
      "cell_type": "markdown",
      "metadata": {
        "id": "37RDQoItFmkM"
      },
      "source": [
        "#elastic net"
      ]
    },
    {
      "cell_type": "code",
      "metadata": {
        "id": "zYEIutXhm1kV"
      },
      "source": [
        "Xt=saved_data_x\n",
        "y=data_y"
      ],
      "execution_count": null,
      "outputs": []
    },
    {
      "cell_type": "code",
      "metadata": {
        "id": "6Q5n8qyiXvXX",
        "colab": {
          "base_uri": "https://localhost:8080/"
        },
        "outputId": "dddddcf4-733b-4487-cbe5-ff45ced90d67"
      },
      "source": [
        "#not stratified\n",
        "x_train,x_test,y_train,y_test=train_test_split(\n",
        "    saved_data_x,data_y,train_size=0.8,test_size=0.2,random_state=42)\n",
        "x_test = x_test.astype('int32')\n",
        "cox_elastic_net = CoxnetSurvivalAnalysis(l1_ratio=0.9, alpha_min_ratio=0.01)\n",
        "cox_elastic_net.fit(x_train, y_train)\n",
        "prediction_pcox_enet = cox_elastic_net.predict(x_test)\n",
        "result_pcox_enet = concordance_index_censored(y_test[\"vital_status_boolean\"], y_test[\"survival_in_days\"], prediction_pcox_enet)\n",
        "result_pcox_enet[0]"
      ],
      "execution_count": null,
      "outputs": [
        {
          "output_type": "execute_result",
          "data": {
            "text/plain": [
              "0.7724620770128354"
            ]
          },
          "metadata": {
            "tags": []
          },
          "execution_count": 516
        }
      ]
    },
    {
      "cell_type": "code",
      "metadata": {
        "colab": {
          "base_uri": "https://localhost:8080/"
        },
        "id": "BM7gbXL-vvf4",
        "outputId": "ffa09a88-ff7c-4acf-84ed-c41249740711"
      },
      "source": [
        "#non-stratified \n",
        "#pcox test accuracy\n",
        "#train with train and test with test\n",
        "sum_test=0\n",
        "sum_train=0\n",
        "Xt=data_x\n",
        "y=data_y\n",
        "y_for_split = df_y[['vital_status_boolean']].to_records(index= False)\n",
        "for i in range(42,47):\n",
        "  x_train,x_test,y_train,y_test=train_test_split(\n",
        "      Xt,y,train_size=0.8,test_size=0.2,random_state=i)\n",
        "  cox_elastic_net = CoxnetSurvivalAnalysis(l1_ratio=0.9, alpha_min_ratio=0.01)\n",
        "  cox_elastic_net.fit(x_train, y_train)\n",
        "  x_test = x_test.astype('int32')\n",
        "  prediction = cox_elastic_net.predict(x_test)\n",
        "  result = concordance_index_censored(y_test[\"vital_status_boolean\"], y_test[\"survival_in_days\"], prediction)\n",
        "  result[0]\n",
        "  print(\"tain_result:\", cox_elastic_net.score(x_train, y_train))\n",
        "  sum_train+= cox_elastic_net.score(x_train, y_train)\n",
        "  print(\"test_result:\", result[0])\n",
        "  sum_test+=result[0]\n",
        "\n",
        "print(sum_test/5)\n",
        "print(sum_train/5)"
      ],
      "execution_count": null,
      "outputs": [
        {
          "output_type": "stream",
          "text": [
            "tain_result: 0.8756297498078729\n",
            "test_result: 0.7759626604434072\n",
            "tain_result: 0.8539248625534515\n",
            "test_result: 0.700750469043152\n",
            "tain_result: 0.8444962611562273\n",
            "test_result: 0.8161244695898161\n",
            "tain_result: 0.8281447392167479\n",
            "test_result: 0.9337748344370861\n",
            "tain_result: 0.8602198788422706\n",
            "test_result: 0.8674321503131524\n",
            "0.8188089167653227\n",
            "0.8524830983153141\n"
          ],
          "name": "stdout"
        }
      ]
    },
    {
      "cell_type": "code",
      "metadata": {
        "colab": {
          "base_uri": "https://localhost:8080/"
        },
        "id": "zQUnKrPMvqnf",
        "outputId": "2f9aeab8-961a-4ca6-f708-3f4baffbd1d5"
      },
      "source": [
        "#stratified test accuracy multiple sampling \n",
        "sum_test=0\n",
        "sum_train=0\n",
        "Xt=saved_data_x\n",
        "for i in range(42,47):\n",
        "  x_train,x_test,y_train,y_test=train_test_split(\n",
        "    Xt,y,train_size=0.8,test_size=0.2,random_state=i,stratify=y_for_split)\n",
        "  cox_elastic_net = CoxnetSurvivalAnalysis(l1_ratio=0.9, alpha_min_ratio=0.01)\n",
        "  cox_elastic_net.fit(x_train, y_train)\n",
        "  x_test = x_test.astype('int32')\n",
        "  prediction = cox_elastic_net.predict(x_test)\n",
        "  result = concordance_index_censored(y_test[\"vital_status_boolean\"], y_test[\"survival_in_days\"], prediction)\n",
        "  result[0]\n",
        "  print(\"tain_result:\", cox_elastic_net.score(x_train, y_train))\n",
        "  sum_train+=cox_elastic_net.score(x_train, y_train)\n",
        "  print(\"test_result:\", result[0])\n",
        "  sum_test+=result[0]\n",
        "\n",
        "print(sum_test/5)\n",
        "print(sum_train/5)"
      ],
      "execution_count": null,
      "outputs": [
        {
          "output_type": "stream",
          "text": [
            "tain_result: 0.8233983043440258\n",
            "test_result: 0.9359243697478992\n",
            "tain_result: 0.8489569808707695\n",
            "test_result: 0.895855472901169\n",
            "tain_result: 0.8497076023391813\n",
            "test_result: 0.9365853658536586\n",
            "tain_result: 0.839027263547627\n",
            "test_result: 0.8934426229508197\n",
            "tain_result: 0.8518914213358658\n",
            "test_result: 0.8812785388127854\n",
            "0.9086172740532664\n",
            "0.8425963144874938\n"
          ],
          "name": "stdout"
        }
      ]
    },
    {
      "cell_type": "code",
      "metadata": {
        "id": "kftGH8BlXdm3"
      },
      "source": [
        "#stratified\n",
        "x_train,x_test,y_train,y_test=train_test_split(\n",
        "    saved_data_x,data_y,train_size=0.8,test_size=0.2,random_state=42, stratify=y_for_split)\n",
        "x_test = x_test.astype('int32')"
      ],
      "execution_count": null,
      "outputs": []
    },
    {
      "cell_type": "code",
      "metadata": {
        "id": "dOE1TRRsZnQc",
        "colab": {
          "base_uri": "https://localhost:8080/"
        },
        "outputId": "285af36d-3c78-4748-9eb0-cd941b935bf0"
      },
      "source": [
        "#stratified test accuracy for PCOX\n",
        "cox_elastic_net = CoxnetSurvivalAnalysis(l1_ratio=0.9, alpha_min_ratio=0.01)\n",
        "cox_elastic_net.fit(x_train, y_train)\n",
        "prediction_pcox_enet = cox_elastic_net.predict(x_test)\n",
        "result_pcox_enet = concordance_index_censored(y_test[\"vital_status_boolean\"], y_test[\"survival_in_days\"], prediction_pcox_enet)\n",
        "result_pcox_enet[0]"
      ],
      "execution_count": null,
      "outputs": [
        {
          "output_type": "execute_result",
          "data": {
            "text/plain": [
              "0.9359243697478992"
            ]
          },
          "metadata": {
            "tags": []
          },
          "execution_count": 520
        }
      ]
    },
    {
      "cell_type": "code",
      "metadata": {
        "id": "lIHKbQTMZnhB",
        "colab": {
          "base_uri": "https://localhost:8080/"
        },
        "outputId": "a7e0dc0a-6627-4f05-d773-a203f1de9ded"
      },
      "source": [
        "#stratified train accuracy for PCOX \n",
        "cox_elastic_net.score(x_train, y_train)"
      ],
      "execution_count": null,
      "outputs": [
        {
          "output_type": "execute_result",
          "data": {
            "text/plain": [
              "0.8233983043440258"
            ]
          },
          "metadata": {
            "tags": []
          },
          "execution_count": 521
        }
      ]
    },
    {
      "cell_type": "code",
      "metadata": {
        "id": "6Id4FPdFFilN",
        "colab": {
          "base_uri": "https://localhost:8080/"
        },
        "outputId": "63cf03e2-4555-4af9-9eb0-f6c0b99678c0"
      },
      "source": [
        "cox_elastic_net = CoxnetSurvivalAnalysis(l1_ratio=0.9, alpha_min_ratio=0.01)\n",
        "cox_elastic_net.fit(Xt, y)"
      ],
      "execution_count": null,
      "outputs": [
        {
          "output_type": "execute_result",
          "data": {
            "text/plain": [
              "CoxnetSurvivalAnalysis(alpha_min_ratio=0.01, alphas=None, copy_X=True,\n",
              "                       fit_baseline_model=False, l1_ratio=0.9, max_iter=100000,\n",
              "                       n_alphas=100, normalize=False, penalty_factor=None,\n",
              "                       tol=1e-07, verbose=False)"
            ]
          },
          "metadata": {
            "tags": []
          },
          "execution_count": 522
        }
      ]
    },
    {
      "cell_type": "code",
      "metadata": {
        "id": "dwRVO5XSFk8I",
        "colab": {
          "base_uri": "https://localhost:8080/",
          "height": 420
        },
        "outputId": "47acf4ce-9bb1-4085-f388-6a90665942c0"
      },
      "source": [
        "coefficients_elastic_net = pd.DataFrame(\n",
        "    cox_elastic_net.coef_,\n",
        "    index=Xt.columns,\n",
        "    columns=np.round(cox_elastic_net.alphas_, 5)\n",
        ")\n",
        "\n",
        "plot_coefficients(coefficients_elastic_net, n_highlight=5)"
      ],
      "execution_count": null,
      "outputs": [
        {
          "output_type": "display_data",
          "data": {
            "image/png": "[encoded data removed]",
            "text/plain": [
              "<Figure size 1080x720 with 1 Axes>"
            ]
          },
          "metadata": {
            "tags": [],
            "needs_background": "light"
          }
        }
      ]
    }
  ]
}