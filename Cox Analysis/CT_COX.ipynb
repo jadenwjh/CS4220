{
  "nbformat": 4,
  "nbformat_minor": 0,
  "metadata": {
    "colab": {
      "name": "TIIC+PCOX.ipynb",
      "provenance": []
    },
    "kernelspec": {
      "name": "python3",
      "display_name": "Python 3"
    },
    "language_info": {
      "name": "python"
    }
  },
  "cells": [
    {
      "cell_type": "code",
      "metadata": {
        "id": "aIQ7J3ZCP9kE",
        "colab": {
          "base_uri": "https://localhost:8080/"
        },
        "outputId": "1c8d4a6e-3008-4c4f-868c-bbf3a553599f"
      },
      "source": [
        "from google.colab import drive\n",
        "drive.mount('/content/drive')"
      ],
      "execution_count": null,
      "outputs": [
        {
          "output_type": "stream",
          "text": [
            "Drive already mounted at /content/drive; to attempt to forcibly remount, call drive.mount(\"/content/drive\", force_remount=True).\n"
          ],
          "name": "stdout"
        }
      ]
    },
    {
      "cell_type": "code",
      "metadata": {
        "id": "RhTva95lQD_c",
        "colab": {
          "base_uri": "https://localhost:8080/"
        },
        "outputId": "836f5835-bdd2-461e-bc8d-782fff7f1fcc"
      },
      "source": [
        "!pip install -U pip setuptools\n",
        "!pip uninstall --yes --quiet osqp\n",
        "!pip install scikit-survival"
      ],
      "execution_count": null,
      "outputs": [
        {
          "output_type": "stream",
          "text": [
            "Requirement already satisfied: pip in /usr/local/lib/python3.7/dist-packages (21.0.1)\n",
            "Requirement already satisfied: setuptools in /usr/local/lib/python3.7/dist-packages (56.0.0)\n",
            "Requirement already satisfied: scikit-survival in /usr/local/lib/python3.7/dist-packages (0.14.0)\n",
            "Collecting osqp!=0.6.0,!=0.6.1\n",
            "  Using cached osqp-0.6.2.post0-cp37-cp37m-manylinux2014_x86_64.whl (212 kB)\n",
            "Requirement already satisfied: joblib in /usr/local/lib/python3.7/dist-packages (from scikit-survival) (1.0.1)\n",
            "Requirement already satisfied: numpy in /usr/local/lib/python3.7/dist-packages (from scikit-survival) (1.19.5)\n",
            "Requirement already satisfied: scipy!=1.3.0,>=1.0 in /usr/local/lib/python3.7/dist-packages (from scikit-survival) (1.4.1)\n",
            "Requirement already satisfied: scikit-learn<0.24,>=0.22.0 in /usr/local/lib/python3.7/dist-packages (from scikit-survival) (0.22.2.post1)\n",
            "Requirement already satisfied: numexpr in /usr/local/lib/python3.7/dist-packages (from scikit-survival) (2.7.3)\n",
            "Requirement already satisfied: cvxopt in /usr/local/lib/python3.7/dist-packages (from scikit-survival) (1.2.6)\n",
            "Requirement already satisfied: pandas>=0.21 in /usr/local/lib/python3.7/dist-packages (from scikit-survival) (1.1.5)\n",
            "Requirement already satisfied: cvxpy>=1.0 in /usr/local/lib/python3.7/dist-packages (from scikit-survival) (1.0.31)\n",
            "Requirement already satisfied: scs>=1.1.3 in /usr/local/lib/python3.7/dist-packages (from cvxpy>=1.0->scikit-survival) (2.1.3)\n",
            "Requirement already satisfied: ecos>=2 in /usr/local/lib/python3.7/dist-packages (from cvxpy>=1.0->scikit-survival) (2.0.7.post1)\n",
            "Requirement already satisfied: multiprocess in /usr/local/lib/python3.7/dist-packages (from cvxpy>=1.0->scikit-survival) (0.70.11.1)\n",
            "Requirement already satisfied: qdldl in /usr/local/lib/python3.7/dist-packages (from osqp!=0.6.0,!=0.6.1->scikit-survival) (0.1.5.post0)\n",
            "Requirement already satisfied: python-dateutil>=2.7.3 in /usr/local/lib/python3.7/dist-packages (from pandas>=0.21->scikit-survival) (2.8.1)\n",
            "Requirement already satisfied: pytz>=2017.2 in /usr/local/lib/python3.7/dist-packages (from pandas>=0.21->scikit-survival) (2018.9)\n",
            "Requirement already satisfied: six>=1.5 in /usr/local/lib/python3.7/dist-packages (from python-dateutil>=2.7.3->pandas>=0.21->scikit-survival) (1.15.0)\n",
            "Requirement already satisfied: dill>=0.3.3 in /usr/local/lib/python3.7/dist-packages (from multiprocess->cvxpy>=1.0->scikit-survival) (0.3.3)\n",
            "Installing collected packages: osqp\n",
            "Successfully installed osqp-0.6.2.post0\n"
          ],
          "name": "stdout"
        }
      ]
    },
    {
      "cell_type": "code",
      "metadata": {
        "id": "f1pLs6yDQFcT"
      },
      "source": [
        "import numpy as np\n",
        "import matplotlib.pyplot as plt\n",
        "import pandas as pd\n",
        "\n",
        "from sklearn.model_selection import train_test_split\n",
        "from sklearn.linear_model import LinearRegression\n",
        "from sksurv.nonparametric import kaplan_meier_estimator"
      ],
      "execution_count": null,
      "outputs": []
    },
    {
      "cell_type": "code",
      "metadata": {
        "id": "z_uf2DCNQLXu"
      },
      "source": [
        "data_ciber= pd.read_csv(\"/content/drive/MyDrive/Year Three/CS4220yxy/CIBERSORT.Output_Job4.csv\")\n",
        "data_x_imported=pd.read_csv(\"/content/drive/MyDrive/Year Three/CS4220yxy/data_x.csv\")\n",
        "data_imp=pd.read_csv(\"/content/drive/MyDrive/Year Three/CS4220yxy/data_imp.csv\")"
      ],
      "execution_count": null,
      "outputs": []
    },
    {
      "cell_type": "code",
      "metadata": {
        "colab": {
          "base_uri": "https://localhost:8080/"
        },
        "id": "WOUnqPMoEa_s",
        "outputId": "b28f2f3e-5522-4f45-8b67-fb41524554c8"
      },
      "source": [
        "data_ciber['Input Sample'].nunique()"
      ],
      "execution_count": null,
      "outputs": [
        {
          "output_type": "execute_result",
          "data": {
            "text/plain": [
              "962"
            ]
          },
          "metadata": {
            "tags": []
          },
          "execution_count": 94
        }
      ]
    },
    {
      "cell_type": "code",
      "metadata": {
        "id": "I9P60bCDJk-n"
      },
      "source": [
        "original_data_ciber = data_ciber"
      ],
      "execution_count": null,
      "outputs": []
    },
    {
      "cell_type": "code",
      "metadata": {
        "id": "ru1MD1RpVUqu"
      },
      "source": [
        "data_ciber = data_ciber.sort_values(by=['P-value'], ascending=True)\n",
        "data_ciber = data_ciber.drop_duplicates(subset=['Input Sample'], keep=\"first\")"
      ],
      "execution_count": null,
      "outputs": []
    },
    {
      "cell_type": "code",
      "metadata": {
        "id": "ydJXYKePJi9c"
      },
      "source": [
        "#data_ciber = data_ciber.drop_duplicates(subset=['Input Sample'])"
      ],
      "execution_count": null,
      "outputs": []
    },
    {
      "cell_type": "code",
      "metadata": {
        "id": "dcFZinGwJ0VO",
        "colab": {
          "base_uri": "https://localhost:8080/",
          "height": 796
        },
        "outputId": "7fcd20ed-cbf2-4e30-a772-96038a86f7a5"
      },
      "source": [
        "data_imp"
      ],
      "execution_count": null,
      "outputs": [
        {
          "output_type": "execute_result",
          "data": {
            "text/html": [
              "<div>\n",
              "<style scoped>\n",
              "    .dataframe tbody tr th:only-of-type {\n",
              "        vertical-align: middle;\n",
              "    }\n",
              "\n",
              "    .dataframe tbody tr th {\n",
              "        vertical-align: top;\n",
              "    }\n",
              "\n",
              "    .dataframe thead th {\n",
              "        text-align: right;\n",
              "    }\n",
              "</style>\n",
              "<table border=\"1\" class=\"dataframe\">\n",
              "  <thead>\n",
              "    <tr style=\"text-align: right;\">\n",
              "      <th></th>\n",
              "      <th>Unnamed: 0</th>\n",
              "      <th>history_other_malignancy</th>\n",
              "      <th>vital_status</th>\n",
              "      <th>last_contact_days_to</th>\n",
              "      <th>death_days_to</th>\n",
              "      <th>age_at_diagnosis</th>\n",
              "      <th>surgical_procedure_first</th>\n",
              "      <th>margin_status</th>\n",
              "      <th>ajcc_tumor_pathologic_pt</th>\n",
              "      <th>ajcc_nodes_pathologic_pn</th>\n",
              "      <th>ajcc_metastasis_pathologic_pm</th>\n",
              "      <th>anatomic_neoplasm_subdivision</th>\n",
              "      <th>histological_type</th>\n",
              "      <th>icd_o_3_histology</th>\n",
              "      <th>bcr_patient_uuid</th>\n",
              "      <th>bcr_patient_barcode</th>\n",
              "      <th>menopause_status_imputed</th>\n",
              "      <th>race_imputed</th>\n",
              "      <th>tumor_status_imputed</th>\n",
              "      <th>er_status_by_ihc_imputed</th>\n",
              "      <th>pr_status_by_ihc_imputed</th>\n",
              "      <th>her2_status_by_ihc_imputed</th>\n",
              "      <th>tumor_stage</th>\n",
              "      <th>pt</th>\n",
              "      <th>pn</th>\n",
              "      <th>pm</th>\n",
              "    </tr>\n",
              "  </thead>\n",
              "  <tbody>\n",
              "    <tr>\n",
              "      <th>0</th>\n",
              "      <td>2</td>\n",
              "      <td>0</td>\n",
              "      <td>Alive</td>\n",
              "      <td>3767</td>\n",
              "      <td>inf</td>\n",
              "      <td>55</td>\n",
              "      <td>Modified Radical Mastectomy</td>\n",
              "      <td>0</td>\n",
              "      <td>TX</td>\n",
              "      <td>NX</td>\n",
              "      <td>MX</td>\n",
              "      <td>Left Lower Outer Quadrant</td>\n",
              "      <td>Infiltrating Lobular Carcinoma</td>\n",
              "      <td>8520/3</td>\n",
              "      <td>6E7D5EC6-A469-467C-B748-237353C23416</td>\n",
              "      <td>TCGA-3C-AAAU</td>\n",
              "      <td>1.0</td>\n",
              "      <td>1</td>\n",
              "      <td>1</td>\n",
              "      <td>1.0</td>\n",
              "      <td>1.0</td>\n",
              "      <td>0.0</td>\n",
              "      <td>0.0</td>\n",
              "      <td>0.5</td>\n",
              "      <td>0.5</td>\n",
              "      <td>0.5</td>\n",
              "    </tr>\n",
              "    <tr>\n",
              "      <th>1</th>\n",
              "      <td>3</td>\n",
              "      <td>0</td>\n",
              "      <td>Alive</td>\n",
              "      <td>3801</td>\n",
              "      <td>inf</td>\n",
              "      <td>50</td>\n",
              "      <td>Lumpectomy</td>\n",
              "      <td>0</td>\n",
              "      <td>T2</td>\n",
              "      <td>N1a</td>\n",
              "      <td>M0</td>\n",
              "      <td>Right Upper Outer Quadrant</td>\n",
              "      <td>Infiltrating Ductal Carcinoma</td>\n",
              "      <td>8500/3</td>\n",
              "      <td>55262FCB-1B01-4480-B322-36570430C917</td>\n",
              "      <td>TCGA-3C-AALI</td>\n",
              "      <td>4.0</td>\n",
              "      <td>2</td>\n",
              "      <td>0</td>\n",
              "      <td>1.0</td>\n",
              "      <td>1.0</td>\n",
              "      <td>1.0</td>\n",
              "      <td>4.0</td>\n",
              "      <td>3.5</td>\n",
              "      <td>1.0</td>\n",
              "      <td>0.0</td>\n",
              "    </tr>\n",
              "    <tr>\n",
              "      <th>2</th>\n",
              "      <td>4</td>\n",
              "      <td>0</td>\n",
              "      <td>Alive</td>\n",
              "      <td>1228</td>\n",
              "      <td>inf</td>\n",
              "      <td>62</td>\n",
              "      <td>Modified Radical Mastectomy</td>\n",
              "      <td>0</td>\n",
              "      <td>T2</td>\n",
              "      <td>N1a</td>\n",
              "      <td>M0</td>\n",
              "      <td>Right</td>\n",
              "      <td>Infiltrating Ductal Carcinoma</td>\n",
              "      <td>8500/3</td>\n",
              "      <td>427D0648-3F77-4FFC-B52C-89855426D647</td>\n",
              "      <td>TCGA-3C-AALJ</td>\n",
              "      <td>4.0</td>\n",
              "      <td>2</td>\n",
              "      <td>0</td>\n",
              "      <td>1.0</td>\n",
              "      <td>1.0</td>\n",
              "      <td>0.5</td>\n",
              "      <td>4.0</td>\n",
              "      <td>3.5</td>\n",
              "      <td>1.0</td>\n",
              "      <td>0.0</td>\n",
              "    </tr>\n",
              "    <tr>\n",
              "      <th>3</th>\n",
              "      <td>5</td>\n",
              "      <td>0</td>\n",
              "      <td>Alive</td>\n",
              "      <td>1217</td>\n",
              "      <td>inf</td>\n",
              "      <td>52</td>\n",
              "      <td>Simple Mastectomy</td>\n",
              "      <td>1</td>\n",
              "      <td>T1c</td>\n",
              "      <td>N0 (i+)</td>\n",
              "      <td>M0</td>\n",
              "      <td>Right</td>\n",
              "      <td>Infiltrating Ductal Carcinoma</td>\n",
              "      <td>8500/3</td>\n",
              "      <td>C31900A4-5DCD-4022-97AC-638E86E889E4</td>\n",
              "      <td>TCGA-3C-AALK</td>\n",
              "      <td>3.0</td>\n",
              "      <td>2</td>\n",
              "      <td>0</td>\n",
              "      <td>1.0</td>\n",
              "      <td>1.0</td>\n",
              "      <td>1.0</td>\n",
              "      <td>1.0</td>\n",
              "      <td>2.0</td>\n",
              "      <td>0.0</td>\n",
              "      <td>0.0</td>\n",
              "    </tr>\n",
              "    <tr>\n",
              "      <th>4</th>\n",
              "      <td>6</td>\n",
              "      <td>0</td>\n",
              "      <td>Alive</td>\n",
              "      <td>158</td>\n",
              "      <td>inf</td>\n",
              "      <td>50</td>\n",
              "      <td>Modified Radical Mastectomy</td>\n",
              "      <td>0</td>\n",
              "      <td>T2</td>\n",
              "      <td>N2a</td>\n",
              "      <td>M0</td>\n",
              "      <td>Left|Left Upper Outer Quadrant</td>\n",
              "      <td>Infiltrating Lobular Carcinoma</td>\n",
              "      <td>8520/3</td>\n",
              "      <td>6623FC5E-00BE-4476-967A-CBD55F676EA6</td>\n",
              "      <td>TCGA-4H-AAAK</td>\n",
              "      <td>4.0</td>\n",
              "      <td>1</td>\n",
              "      <td>0</td>\n",
              "      <td>1.0</td>\n",
              "      <td>1.0</td>\n",
              "      <td>0.5</td>\n",
              "      <td>5.0</td>\n",
              "      <td>3.5</td>\n",
              "      <td>4.0</td>\n",
              "      <td>0.0</td>\n",
              "    </tr>\n",
              "    <tr>\n",
              "      <th>...</th>\n",
              "      <td>...</td>\n",
              "      <td>...</td>\n",
              "      <td>...</td>\n",
              "      <td>...</td>\n",
              "      <td>...</td>\n",
              "      <td>...</td>\n",
              "      <td>...</td>\n",
              "      <td>...</td>\n",
              "      <td>...</td>\n",
              "      <td>...</td>\n",
              "      <td>...</td>\n",
              "      <td>...</td>\n",
              "      <td>...</td>\n",
              "      <td>...</td>\n",
              "      <td>...</td>\n",
              "      <td>...</td>\n",
              "      <td>...</td>\n",
              "      <td>...</td>\n",
              "      <td>...</td>\n",
              "      <td>...</td>\n",
              "      <td>...</td>\n",
              "      <td>...</td>\n",
              "      <td>...</td>\n",
              "      <td>...</td>\n",
              "      <td>...</td>\n",
              "      <td>...</td>\n",
              "    </tr>\n",
              "    <tr>\n",
              "      <th>962</th>\n",
              "      <td>1094</td>\n",
              "      <td>0</td>\n",
              "      <td>Alive</td>\n",
              "      <td>791</td>\n",
              "      <td>inf</td>\n",
              "      <td>77</td>\n",
              "      <td>Lumpectomy</td>\n",
              "      <td>0</td>\n",
              "      <td>T1c</td>\n",
              "      <td>N0 (i-)</td>\n",
              "      <td>MX</td>\n",
              "      <td>Left</td>\n",
              "      <td>Infiltrating Lobular Carcinoma</td>\n",
              "      <td>8520/3</td>\n",
              "      <td>5CD79093-1571-4F71-8136-0D84CCABDCAC</td>\n",
              "      <td>TCGA-WT-AB44</td>\n",
              "      <td>4.0</td>\n",
              "      <td>1</td>\n",
              "      <td>0</td>\n",
              "      <td>1.0</td>\n",
              "      <td>1.0</td>\n",
              "      <td>0.0</td>\n",
              "      <td>1.0</td>\n",
              "      <td>2.0</td>\n",
              "      <td>0.0</td>\n",
              "      <td>0.5</td>\n",
              "    </tr>\n",
              "    <tr>\n",
              "      <th>963</th>\n",
              "      <td>1095</td>\n",
              "      <td>0</td>\n",
              "      <td>Alive</td>\n",
              "      <td>292</td>\n",
              "      <td>inf</td>\n",
              "      <td>46</td>\n",
              "      <td>Modified Radical Mastectomy</td>\n",
              "      <td>0</td>\n",
              "      <td>T1c</td>\n",
              "      <td>N2a</td>\n",
              "      <td>MX</td>\n",
              "      <td>Right Lower Outer Quadrant</td>\n",
              "      <td>Infiltrating Lobular Carcinoma</td>\n",
              "      <td>8520/3</td>\n",
              "      <td>F89588E9-CA73-4465-A7FB-7246EDB45E3A</td>\n",
              "      <td>TCGA-XX-A899</td>\n",
              "      <td>4.0</td>\n",
              "      <td>1</td>\n",
              "      <td>0</td>\n",
              "      <td>1.0</td>\n",
              "      <td>1.0</td>\n",
              "      <td>0.0</td>\n",
              "      <td>5.0</td>\n",
              "      <td>2.0</td>\n",
              "      <td>4.0</td>\n",
              "      <td>0.5</td>\n",
              "    </tr>\n",
              "    <tr>\n",
              "      <th>964</th>\n",
              "      <td>1096</td>\n",
              "      <td>0</td>\n",
              "      <td>Alive</td>\n",
              "      <td>278</td>\n",
              "      <td>inf</td>\n",
              "      <td>68</td>\n",
              "      <td>Simple Mastectomy</td>\n",
              "      <td>0</td>\n",
              "      <td>T3</td>\n",
              "      <td>N0</td>\n",
              "      <td>MX</td>\n",
              "      <td>Left Upper Outer Quadrant</td>\n",
              "      <td>Infiltrating Lobular Carcinoma</td>\n",
              "      <td>8520/3</td>\n",
              "      <td>CA20249F-B7EA-4FD9-9ECB-34F74755AE35</td>\n",
              "      <td>TCGA-XX-A89A</td>\n",
              "      <td>4.0</td>\n",
              "      <td>1</td>\n",
              "      <td>0</td>\n",
              "      <td>1.0</td>\n",
              "      <td>1.0</td>\n",
              "      <td>0.0</td>\n",
              "      <td>4.0</td>\n",
              "      <td>5.5</td>\n",
              "      <td>0.0</td>\n",
              "      <td>0.5</td>\n",
              "    </tr>\n",
              "    <tr>\n",
              "      <th>965</th>\n",
              "      <td>1097</td>\n",
              "      <td>1</td>\n",
              "      <td>Alive</td>\n",
              "      <td>3042</td>\n",
              "      <td>inf</td>\n",
              "      <td>61</td>\n",
              "      <td>Other</td>\n",
              "      <td>2</td>\n",
              "      <td>T3</td>\n",
              "      <td>N1a</td>\n",
              "      <td>MX</td>\n",
              "      <td>Left Upper Outer Quadrant</td>\n",
              "      <td>Infiltrating Lobular Carcinoma</td>\n",
              "      <td>8520/3</td>\n",
              "      <td>23F438BD-1DBB-4D46-972F-1E8E74DDBD37</td>\n",
              "      <td>TCGA-Z7-A8R5</td>\n",
              "      <td>4.0</td>\n",
              "      <td>1</td>\n",
              "      <td>0</td>\n",
              "      <td>1.0</td>\n",
              "      <td>1.0</td>\n",
              "      <td>0.0</td>\n",
              "      <td>5.0</td>\n",
              "      <td>5.5</td>\n",
              "      <td>1.0</td>\n",
              "      <td>0.5</td>\n",
              "    </tr>\n",
              "    <tr>\n",
              "      <th>966</th>\n",
              "      <td>1098</td>\n",
              "      <td>0</td>\n",
              "      <td>Alive</td>\n",
              "      <td>2800</td>\n",
              "      <td>inf</td>\n",
              "      <td>46</td>\n",
              "      <td>Lumpectomy</td>\n",
              "      <td>0</td>\n",
              "      <td>T1c</td>\n",
              "      <td>N0</td>\n",
              "      <td>M0</td>\n",
              "      <td>Left Upper Outer Quadrant</td>\n",
              "      <td>Infiltrating Lobular Carcinoma</td>\n",
              "      <td>8022/3</td>\n",
              "      <td>B1D44C81-747D-471F-9093-AEB262A17975</td>\n",
              "      <td>TCGA-Z7-A8R6</td>\n",
              "      <td>1.0</td>\n",
              "      <td>1</td>\n",
              "      <td>0</td>\n",
              "      <td>1.0</td>\n",
              "      <td>1.0</td>\n",
              "      <td>0.0</td>\n",
              "      <td>1.5</td>\n",
              "      <td>2.0</td>\n",
              "      <td>0.0</td>\n",
              "      <td>0.0</td>\n",
              "    </tr>\n",
              "  </tbody>\n",
              "</table>\n",
              "<p>967 rows × 26 columns</p>\n",
              "</div>"
            ],
            "text/plain": [
              "     Unnamed: 0  history_other_malignancy vital_status  ...   pt   pn   pm\n",
              "0             2                         0        Alive  ...  0.5  0.5  0.5\n",
              "1             3                         0        Alive  ...  3.5  1.0  0.0\n",
              "2             4                         0        Alive  ...  3.5  1.0  0.0\n",
              "3             5                         0        Alive  ...  2.0  0.0  0.0\n",
              "4             6                         0        Alive  ...  3.5  4.0  0.0\n",
              "..          ...                       ...          ...  ...  ...  ...  ...\n",
              "962        1094                         0        Alive  ...  2.0  0.0  0.5\n",
              "963        1095                         0        Alive  ...  2.0  4.0  0.5\n",
              "964        1096                         0        Alive  ...  5.5  0.0  0.5\n",
              "965        1097                         1        Alive  ...  5.5  1.0  0.5\n",
              "966        1098                         0        Alive  ...  2.0  0.0  0.0\n",
              "\n",
              "[967 rows x 26 columns]"
            ]
          },
          "metadata": {
            "tags": []
          },
          "execution_count": 98
        }
      ]
    },
    {
      "cell_type": "code",
      "metadata": {
        "id": "DWq1avk3KP2Y",
        "colab": {
          "base_uri": "https://localhost:8080/",
          "height": 439
        },
        "outputId": "a3dbb74d-38f5-4d52-b3fa-f66807705ca6"
      },
      "source": [
        "column_of_interest = ['bcr_patient_barcode','history_other_malignancy','margin_status','age_at_diagnosis','menopause_status_imputed','race_imputed','tumor_status_imputed','er_status_by_ihc_imputed','pr_status_by_ihc_imputed','her2_status_by_ihc_imputed','tumor_stage','pt','pn','pm']\n",
        "data_clinical = data_imp[column_of_interest]\n",
        "data_clinical"
      ],
      "execution_count": null,
      "outputs": [
        {
          "output_type": "execute_result",
          "data": {
            "text/html": [
              "<div>\n",
              "<style scoped>\n",
              "    .dataframe tbody tr th:only-of-type {\n",
              "        vertical-align: middle;\n",
              "    }\n",
              "\n",
              "    .dataframe tbody tr th {\n",
              "        vertical-align: top;\n",
              "    }\n",
              "\n",
              "    .dataframe thead th {\n",
              "        text-align: right;\n",
              "    }\n",
              "</style>\n",
              "<table border=\"1\" class=\"dataframe\">\n",
              "  <thead>\n",
              "    <tr style=\"text-align: right;\">\n",
              "      <th></th>\n",
              "      <th>bcr_patient_barcode</th>\n",
              "      <th>history_other_malignancy</th>\n",
              "      <th>margin_status</th>\n",
              "      <th>age_at_diagnosis</th>\n",
              "      <th>menopause_status_imputed</th>\n",
              "      <th>race_imputed</th>\n",
              "      <th>tumor_status_imputed</th>\n",
              "      <th>er_status_by_ihc_imputed</th>\n",
              "      <th>pr_status_by_ihc_imputed</th>\n",
              "      <th>her2_status_by_ihc_imputed</th>\n",
              "      <th>tumor_stage</th>\n",
              "      <th>pt</th>\n",
              "      <th>pn</th>\n",
              "      <th>pm</th>\n",
              "    </tr>\n",
              "  </thead>\n",
              "  <tbody>\n",
              "    <tr>\n",
              "      <th>0</th>\n",
              "      <td>TCGA-3C-AAAU</td>\n",
              "      <td>0</td>\n",
              "      <td>0</td>\n",
              "      <td>55</td>\n",
              "      <td>1.0</td>\n",
              "      <td>1</td>\n",
              "      <td>1</td>\n",
              "      <td>1.0</td>\n",
              "      <td>1.0</td>\n",
              "      <td>0.0</td>\n",
              "      <td>0.0</td>\n",
              "      <td>0.5</td>\n",
              "      <td>0.5</td>\n",
              "      <td>0.5</td>\n",
              "    </tr>\n",
              "    <tr>\n",
              "      <th>1</th>\n",
              "      <td>TCGA-3C-AALI</td>\n",
              "      <td>0</td>\n",
              "      <td>0</td>\n",
              "      <td>50</td>\n",
              "      <td>4.0</td>\n",
              "      <td>2</td>\n",
              "      <td>0</td>\n",
              "      <td>1.0</td>\n",
              "      <td>1.0</td>\n",
              "      <td>1.0</td>\n",
              "      <td>4.0</td>\n",
              "      <td>3.5</td>\n",
              "      <td>1.0</td>\n",
              "      <td>0.0</td>\n",
              "    </tr>\n",
              "    <tr>\n",
              "      <th>2</th>\n",
              "      <td>TCGA-3C-AALJ</td>\n",
              "      <td>0</td>\n",
              "      <td>0</td>\n",
              "      <td>62</td>\n",
              "      <td>4.0</td>\n",
              "      <td>2</td>\n",
              "      <td>0</td>\n",
              "      <td>1.0</td>\n",
              "      <td>1.0</td>\n",
              "      <td>0.5</td>\n",
              "      <td>4.0</td>\n",
              "      <td>3.5</td>\n",
              "      <td>1.0</td>\n",
              "      <td>0.0</td>\n",
              "    </tr>\n",
              "    <tr>\n",
              "      <th>3</th>\n",
              "      <td>TCGA-3C-AALK</td>\n",
              "      <td>0</td>\n",
              "      <td>1</td>\n",
              "      <td>52</td>\n",
              "      <td>3.0</td>\n",
              "      <td>2</td>\n",
              "      <td>0</td>\n",
              "      <td>1.0</td>\n",
              "      <td>1.0</td>\n",
              "      <td>1.0</td>\n",
              "      <td>1.0</td>\n",
              "      <td>2.0</td>\n",
              "      <td>0.0</td>\n",
              "      <td>0.0</td>\n",
              "    </tr>\n",
              "    <tr>\n",
              "      <th>4</th>\n",
              "      <td>TCGA-4H-AAAK</td>\n",
              "      <td>0</td>\n",
              "      <td>0</td>\n",
              "      <td>50</td>\n",
              "      <td>4.0</td>\n",
              "      <td>1</td>\n",
              "      <td>0</td>\n",
              "      <td>1.0</td>\n",
              "      <td>1.0</td>\n",
              "      <td>0.5</td>\n",
              "      <td>5.0</td>\n",
              "      <td>3.5</td>\n",
              "      <td>4.0</td>\n",
              "      <td>0.0</td>\n",
              "    </tr>\n",
              "    <tr>\n",
              "      <th>...</th>\n",
              "      <td>...</td>\n",
              "      <td>...</td>\n",
              "      <td>...</td>\n",
              "      <td>...</td>\n",
              "      <td>...</td>\n",
              "      <td>...</td>\n",
              "      <td>...</td>\n",
              "      <td>...</td>\n",
              "      <td>...</td>\n",
              "      <td>...</td>\n",
              "      <td>...</td>\n",
              "      <td>...</td>\n",
              "      <td>...</td>\n",
              "      <td>...</td>\n",
              "    </tr>\n",
              "    <tr>\n",
              "      <th>962</th>\n",
              "      <td>TCGA-WT-AB44</td>\n",
              "      <td>0</td>\n",
              "      <td>0</td>\n",
              "      <td>77</td>\n",
              "      <td>4.0</td>\n",
              "      <td>1</td>\n",
              "      <td>0</td>\n",
              "      <td>1.0</td>\n",
              "      <td>1.0</td>\n",
              "      <td>0.0</td>\n",
              "      <td>1.0</td>\n",
              "      <td>2.0</td>\n",
              "      <td>0.0</td>\n",
              "      <td>0.5</td>\n",
              "    </tr>\n",
              "    <tr>\n",
              "      <th>963</th>\n",
              "      <td>TCGA-XX-A899</td>\n",
              "      <td>0</td>\n",
              "      <td>0</td>\n",
              "      <td>46</td>\n",
              "      <td>4.0</td>\n",
              "      <td>1</td>\n",
              "      <td>0</td>\n",
              "      <td>1.0</td>\n",
              "      <td>1.0</td>\n",
              "      <td>0.0</td>\n",
              "      <td>5.0</td>\n",
              "      <td>2.0</td>\n",
              "      <td>4.0</td>\n",
              "      <td>0.5</td>\n",
              "    </tr>\n",
              "    <tr>\n",
              "      <th>964</th>\n",
              "      <td>TCGA-XX-A89A</td>\n",
              "      <td>0</td>\n",
              "      <td>0</td>\n",
              "      <td>68</td>\n",
              "      <td>4.0</td>\n",
              "      <td>1</td>\n",
              "      <td>0</td>\n",
              "      <td>1.0</td>\n",
              "      <td>1.0</td>\n",
              "      <td>0.0</td>\n",
              "      <td>4.0</td>\n",
              "      <td>5.5</td>\n",
              "      <td>0.0</td>\n",
              "      <td>0.5</td>\n",
              "    </tr>\n",
              "    <tr>\n",
              "      <th>965</th>\n",
              "      <td>TCGA-Z7-A8R5</td>\n",
              "      <td>1</td>\n",
              "      <td>2</td>\n",
              "      <td>61</td>\n",
              "      <td>4.0</td>\n",
              "      <td>1</td>\n",
              "      <td>0</td>\n",
              "      <td>1.0</td>\n",
              "      <td>1.0</td>\n",
              "      <td>0.0</td>\n",
              "      <td>5.0</td>\n",
              "      <td>5.5</td>\n",
              "      <td>1.0</td>\n",
              "      <td>0.5</td>\n",
              "    </tr>\n",
              "    <tr>\n",
              "      <th>966</th>\n",
              "      <td>TCGA-Z7-A8R6</td>\n",
              "      <td>0</td>\n",
              "      <td>0</td>\n",
              "      <td>46</td>\n",
              "      <td>1.0</td>\n",
              "      <td>1</td>\n",
              "      <td>0</td>\n",
              "      <td>1.0</td>\n",
              "      <td>1.0</td>\n",
              "      <td>0.0</td>\n",
              "      <td>1.5</td>\n",
              "      <td>2.0</td>\n",
              "      <td>0.0</td>\n",
              "      <td>0.0</td>\n",
              "    </tr>\n",
              "  </tbody>\n",
              "</table>\n",
              "<p>967 rows × 14 columns</p>\n",
              "</div>"
            ],
            "text/plain": [
              "    bcr_patient_barcode  history_other_malignancy  margin_status  ...   pt   pn   pm\n",
              "0          TCGA-3C-AAAU                         0              0  ...  0.5  0.5  0.5\n",
              "1          TCGA-3C-AALI                         0              0  ...  3.5  1.0  0.0\n",
              "2          TCGA-3C-AALJ                         0              0  ...  3.5  1.0  0.0\n",
              "3          TCGA-3C-AALK                         0              1  ...  2.0  0.0  0.0\n",
              "4          TCGA-4H-AAAK                         0              0  ...  3.5  4.0  0.0\n",
              "..                  ...                       ...            ...  ...  ...  ...  ...\n",
              "962        TCGA-WT-AB44                         0              0  ...  2.0  0.0  0.5\n",
              "963        TCGA-XX-A899                         0              0  ...  2.0  4.0  0.5\n",
              "964        TCGA-XX-A89A                         0              0  ...  5.5  0.0  0.5\n",
              "965        TCGA-Z7-A8R5                         1              2  ...  5.5  1.0  0.5\n",
              "966        TCGA-Z7-A8R6                         0              0  ...  2.0  0.0  0.0\n",
              "\n",
              "[967 rows x 14 columns]"
            ]
          },
          "metadata": {
            "tags": []
          },
          "execution_count": 99
        }
      ]
    },
    {
      "cell_type": "code",
      "metadata": {
        "id": "hCgUVG5eLjFw",
        "colab": {
          "base_uri": "https://localhost:8080/",
          "height": 830
        },
        "outputId": "d14848c8-e34e-4016-b559-53203c9c35ed"
      },
      "source": [
        "data_ciber"
      ],
      "execution_count": null,
      "outputs": [
        {
          "output_type": "execute_result",
          "data": {
            "text/html": [
              "<div>\n",
              "<style scoped>\n",
              "    .dataframe tbody tr th:only-of-type {\n",
              "        vertical-align: middle;\n",
              "    }\n",
              "\n",
              "    .dataframe tbody tr th {\n",
              "        vertical-align: top;\n",
              "    }\n",
              "\n",
              "    .dataframe thead th {\n",
              "        text-align: right;\n",
              "    }\n",
              "</style>\n",
              "<table border=\"1\" class=\"dataframe\">\n",
              "  <thead>\n",
              "    <tr style=\"text-align: right;\">\n",
              "      <th></th>\n",
              "      <th>Input Sample</th>\n",
              "      <th>B cells naive</th>\n",
              "      <th>B cells memory</th>\n",
              "      <th>Plasma cells</th>\n",
              "      <th>T cells CD8</th>\n",
              "      <th>T cells CD4 naive</th>\n",
              "      <th>T cells CD4 memory resting</th>\n",
              "      <th>T cells CD4 memory activated</th>\n",
              "      <th>T cells follicular helper</th>\n",
              "      <th>T cells regulatory (Tregs)</th>\n",
              "      <th>T cells gamma delta</th>\n",
              "      <th>NK cells resting</th>\n",
              "      <th>NK cells activated</th>\n",
              "      <th>Monocytes</th>\n",
              "      <th>Macrophages M0</th>\n",
              "      <th>Macrophages M1</th>\n",
              "      <th>Macrophages M2</th>\n",
              "      <th>Dendritic cells resting</th>\n",
              "      <th>Dendritic cells activated</th>\n",
              "      <th>Mast cells resting</th>\n",
              "      <th>Mast cells activated</th>\n",
              "      <th>Eosinophils</th>\n",
              "      <th>Neutrophils</th>\n",
              "      <th>P-value</th>\n",
              "      <th>Pearson Correlation</th>\n",
              "      <th>RMSE</th>\n",
              "    </tr>\n",
              "  </thead>\n",
              "  <tbody>\n",
              "    <tr>\n",
              "      <th>480</th>\n",
              "      <td>TCGA-E2-A1LE</td>\n",
              "      <td>0.008958</td>\n",
              "      <td>0.000000</td>\n",
              "      <td>0.000000</td>\n",
              "      <td>0.241243</td>\n",
              "      <td>0</td>\n",
              "      <td>0.124304</td>\n",
              "      <td>0.007800</td>\n",
              "      <td>0.048074</td>\n",
              "      <td>0.055508</td>\n",
              "      <td>0.000000</td>\n",
              "      <td>0.00000</td>\n",
              "      <td>0.029551</td>\n",
              "      <td>0.000000</td>\n",
              "      <td>0.210241</td>\n",
              "      <td>0.086002</td>\n",
              "      <td>0.132604</td>\n",
              "      <td>0.008817</td>\n",
              "      <td>0.000000</td>\n",
              "      <td>0.046887</td>\n",
              "      <td>0.000000</td>\n",
              "      <td>0.000000</td>\n",
              "      <td>0.000000</td>\n",
              "      <td>0.00</td>\n",
              "      <td>0.481911</td>\n",
              "      <td>0.875567</td>\n",
              "    </tr>\n",
              "    <tr>\n",
              "      <th>358</th>\n",
              "      <td>TCGA-E2-A1L9</td>\n",
              "      <td>0.014768</td>\n",
              "      <td>0.000000</td>\n",
              "      <td>0.004465</td>\n",
              "      <td>0.049690</td>\n",
              "      <td>0</td>\n",
              "      <td>0.014733</td>\n",
              "      <td>0.010826</td>\n",
              "      <td>0.038385</td>\n",
              "      <td>0.056067</td>\n",
              "      <td>0.014509</td>\n",
              "      <td>0.00000</td>\n",
              "      <td>0.000000</td>\n",
              "      <td>0.000000</td>\n",
              "      <td>0.547348</td>\n",
              "      <td>0.047378</td>\n",
              "      <td>0.161518</td>\n",
              "      <td>0.000000</td>\n",
              "      <td>0.003557</td>\n",
              "      <td>0.036756</td>\n",
              "      <td>0.000000</td>\n",
              "      <td>0.000000</td>\n",
              "      <td>0.000000</td>\n",
              "      <td>0.00</td>\n",
              "      <td>0.608393</td>\n",
              "      <td>0.794148</td>\n",
              "    </tr>\n",
              "    <tr>\n",
              "      <th>404</th>\n",
              "      <td>TCGA-D8-A27F</td>\n",
              "      <td>0.143615</td>\n",
              "      <td>0.000000</td>\n",
              "      <td>0.025715</td>\n",
              "      <td>0.025606</td>\n",
              "      <td>0</td>\n",
              "      <td>0.060780</td>\n",
              "      <td>0.000000</td>\n",
              "      <td>0.010844</td>\n",
              "      <td>0.007247</td>\n",
              "      <td>0.000000</td>\n",
              "      <td>0.01715</td>\n",
              "      <td>0.000000</td>\n",
              "      <td>0.000000</td>\n",
              "      <td>0.486674</td>\n",
              "      <td>0.023029</td>\n",
              "      <td>0.174535</td>\n",
              "      <td>0.000000</td>\n",
              "      <td>0.000000</td>\n",
              "      <td>0.000000</td>\n",
              "      <td>0.024805</td>\n",
              "      <td>0.000000</td>\n",
              "      <td>0.000000</td>\n",
              "      <td>0.00</td>\n",
              "      <td>0.491461</td>\n",
              "      <td>0.873863</td>\n",
              "    </tr>\n",
              "    <tr>\n",
              "      <th>429</th>\n",
              "      <td>TCGA-A8-A097</td>\n",
              "      <td>0.063600</td>\n",
              "      <td>0.000000</td>\n",
              "      <td>0.007130</td>\n",
              "      <td>0.034507</td>\n",
              "      <td>0</td>\n",
              "      <td>0.143285</td>\n",
              "      <td>0.011600</td>\n",
              "      <td>0.017343</td>\n",
              "      <td>0.008446</td>\n",
              "      <td>0.000000</td>\n",
              "      <td>0.00000</td>\n",
              "      <td>0.002085</td>\n",
              "      <td>0.000000</td>\n",
              "      <td>0.355083</td>\n",
              "      <td>0.076384</td>\n",
              "      <td>0.176587</td>\n",
              "      <td>0.010074</td>\n",
              "      <td>0.000000</td>\n",
              "      <td>0.091557</td>\n",
              "      <td>0.000000</td>\n",
              "      <td>0.000000</td>\n",
              "      <td>0.002318</td>\n",
              "      <td>0.00</td>\n",
              "      <td>0.509056</td>\n",
              "      <td>0.861197</td>\n",
              "    </tr>\n",
              "    <tr>\n",
              "      <th>431</th>\n",
              "      <td>TCGA-LL-A440</td>\n",
              "      <td>0.016713</td>\n",
              "      <td>0.000000</td>\n",
              "      <td>0.000000</td>\n",
              "      <td>0.025395</td>\n",
              "      <td>0</td>\n",
              "      <td>0.089317</td>\n",
              "      <td>0.004367</td>\n",
              "      <td>0.010661</td>\n",
              "      <td>0.017463</td>\n",
              "      <td>0.000000</td>\n",
              "      <td>0.00000</td>\n",
              "      <td>0.007941</td>\n",
              "      <td>0.000000</td>\n",
              "      <td>0.500951</td>\n",
              "      <td>0.020783</td>\n",
              "      <td>0.166498</td>\n",
              "      <td>0.047010</td>\n",
              "      <td>0.000000</td>\n",
              "      <td>0.092902</td>\n",
              "      <td>0.000000</td>\n",
              "      <td>0.000000</td>\n",
              "      <td>0.000000</td>\n",
              "      <td>0.00</td>\n",
              "      <td>0.580347</td>\n",
              "      <td>0.815370</td>\n",
              "    </tr>\n",
              "    <tr>\n",
              "      <th>...</th>\n",
              "      <td>...</td>\n",
              "      <td>...</td>\n",
              "      <td>...</td>\n",
              "      <td>...</td>\n",
              "      <td>...</td>\n",
              "      <td>...</td>\n",
              "      <td>...</td>\n",
              "      <td>...</td>\n",
              "      <td>...</td>\n",
              "      <td>...</td>\n",
              "      <td>...</td>\n",
              "      <td>...</td>\n",
              "      <td>...</td>\n",
              "      <td>...</td>\n",
              "      <td>...</td>\n",
              "      <td>...</td>\n",
              "      <td>...</td>\n",
              "      <td>...</td>\n",
              "      <td>...</td>\n",
              "      <td>...</td>\n",
              "      <td>...</td>\n",
              "      <td>...</td>\n",
              "      <td>...</td>\n",
              "      <td>...</td>\n",
              "      <td>...</td>\n",
              "      <td>...</td>\n",
              "    </tr>\n",
              "    <tr>\n",
              "      <th>190</th>\n",
              "      <td>TCGA-A7-A0DC</td>\n",
              "      <td>0.001139</td>\n",
              "      <td>0.000000</td>\n",
              "      <td>0.017514</td>\n",
              "      <td>0.000000</td>\n",
              "      <td>0</td>\n",
              "      <td>0.303777</td>\n",
              "      <td>0.000000</td>\n",
              "      <td>0.002762</td>\n",
              "      <td>0.009041</td>\n",
              "      <td>0.027162</td>\n",
              "      <td>0.00000</td>\n",
              "      <td>0.000000</td>\n",
              "      <td>0.000000</td>\n",
              "      <td>0.343503</td>\n",
              "      <td>0.002611</td>\n",
              "      <td>0.142450</td>\n",
              "      <td>0.000000</td>\n",
              "      <td>0.000000</td>\n",
              "      <td>0.150040</td>\n",
              "      <td>0.000000</td>\n",
              "      <td>0.000000</td>\n",
              "      <td>0.000000</td>\n",
              "      <td>0.72</td>\n",
              "      <td>-0.011600</td>\n",
              "      <td>1.111361</td>\n",
              "    </tr>\n",
              "    <tr>\n",
              "      <th>140</th>\n",
              "      <td>TCGA-UU-A93S</td>\n",
              "      <td>0.007516</td>\n",
              "      <td>0.003419</td>\n",
              "      <td>0.004206</td>\n",
              "      <td>0.058841</td>\n",
              "      <td>0</td>\n",
              "      <td>0.066358</td>\n",
              "      <td>0.023694</td>\n",
              "      <td>0.107993</td>\n",
              "      <td>0.000000</td>\n",
              "      <td>0.000000</td>\n",
              "      <td>0.00000</td>\n",
              "      <td>0.071961</td>\n",
              "      <td>0.000000</td>\n",
              "      <td>0.300316</td>\n",
              "      <td>0.071936</td>\n",
              "      <td>0.154564</td>\n",
              "      <td>0.000000</td>\n",
              "      <td>0.042645</td>\n",
              "      <td>0.082301</td>\n",
              "      <td>0.000000</td>\n",
              "      <td>0.000000</td>\n",
              "      <td>0.004250</td>\n",
              "      <td>0.72</td>\n",
              "      <td>-0.011100</td>\n",
              "      <td>1.103182</td>\n",
              "    </tr>\n",
              "    <tr>\n",
              "      <th>538</th>\n",
              "      <td>TCGA-E2-A1LS</td>\n",
              "      <td>0.078980</td>\n",
              "      <td>0.000000</td>\n",
              "      <td>0.002766</td>\n",
              "      <td>0.026989</td>\n",
              "      <td>0</td>\n",
              "      <td>0.257313</td>\n",
              "      <td>0.000000</td>\n",
              "      <td>0.012315</td>\n",
              "      <td>0.000000</td>\n",
              "      <td>0.080281</td>\n",
              "      <td>0.00000</td>\n",
              "      <td>0.061188</td>\n",
              "      <td>0.007215</td>\n",
              "      <td>0.000000</td>\n",
              "      <td>0.080869</td>\n",
              "      <td>0.204155</td>\n",
              "      <td>0.009758</td>\n",
              "      <td>0.000000</td>\n",
              "      <td>0.019459</td>\n",
              "      <td>0.152494</td>\n",
              "      <td>0.000000</td>\n",
              "      <td>0.006219</td>\n",
              "      <td>0.72</td>\n",
              "      <td>-0.009600</td>\n",
              "      <td>1.101196</td>\n",
              "    </tr>\n",
              "    <tr>\n",
              "      <th>730</th>\n",
              "      <td>TCGA-B6-A0RO</td>\n",
              "      <td>0.073998</td>\n",
              "      <td>0.000000</td>\n",
              "      <td>0.007057</td>\n",
              "      <td>0.108081</td>\n",
              "      <td>0</td>\n",
              "      <td>0.094204</td>\n",
              "      <td>0.000000</td>\n",
              "      <td>0.094410</td>\n",
              "      <td>0.000000</td>\n",
              "      <td>0.017326</td>\n",
              "      <td>0.00000</td>\n",
              "      <td>0.042580</td>\n",
              "      <td>0.143826</td>\n",
              "      <td>0.023602</td>\n",
              "      <td>0.073814</td>\n",
              "      <td>0.170911</td>\n",
              "      <td>0.004296</td>\n",
              "      <td>0.063349</td>\n",
              "      <td>0.079947</td>\n",
              "      <td>0.000000</td>\n",
              "      <td>0.002599</td>\n",
              "      <td>0.000000</td>\n",
              "      <td>0.74</td>\n",
              "      <td>-0.013300</td>\n",
              "      <td>1.078818</td>\n",
              "    </tr>\n",
              "    <tr>\n",
              "      <th>418</th>\n",
              "      <td>TCGA-EW-A1PC</td>\n",
              "      <td>0.011319</td>\n",
              "      <td>0.000000</td>\n",
              "      <td>0.003211</td>\n",
              "      <td>0.059126</td>\n",
              "      <td>0</td>\n",
              "      <td>0.139805</td>\n",
              "      <td>0.000000</td>\n",
              "      <td>0.096464</td>\n",
              "      <td>0.008347</td>\n",
              "      <td>0.000000</td>\n",
              "      <td>0.00000</td>\n",
              "      <td>0.047422</td>\n",
              "      <td>0.000000</td>\n",
              "      <td>0.021514</td>\n",
              "      <td>0.035223</td>\n",
              "      <td>0.210423</td>\n",
              "      <td>0.070631</td>\n",
              "      <td>0.224788</td>\n",
              "      <td>0.037853</td>\n",
              "      <td>0.000000</td>\n",
              "      <td>0.000000</td>\n",
              "      <td>0.033873</td>\n",
              "      <td>0.76</td>\n",
              "      <td>-0.014800</td>\n",
              "      <td>1.095251</td>\n",
              "    </tr>\n",
              "  </tbody>\n",
              "</table>\n",
              "<p>962 rows × 26 columns</p>\n",
              "</div>"
            ],
            "text/plain": [
              "     Input Sample  B cells naive  ...  Pearson Correlation      RMSE\n",
              "480  TCGA-E2-A1LE       0.008958  ...             0.481911  0.875567\n",
              "358  TCGA-E2-A1L9       0.014768  ...             0.608393  0.794148\n",
              "404  TCGA-D8-A27F       0.143615  ...             0.491461  0.873863\n",
              "429  TCGA-A8-A097       0.063600  ...             0.509056  0.861197\n",
              "431  TCGA-LL-A440       0.016713  ...             0.580347  0.815370\n",
              "..            ...            ...  ...                  ...       ...\n",
              "190  TCGA-A7-A0DC       0.001139  ...            -0.011600  1.111361\n",
              "140  TCGA-UU-A93S       0.007516  ...            -0.011100  1.103182\n",
              "538  TCGA-E2-A1LS       0.078980  ...            -0.009600  1.101196\n",
              "730  TCGA-B6-A0RO       0.073998  ...            -0.013300  1.078818\n",
              "418  TCGA-EW-A1PC       0.011319  ...            -0.014800  1.095251\n",
              "\n",
              "[962 rows x 26 columns]"
            ]
          },
          "metadata": {
            "tags": []
          },
          "execution_count": 100
        }
      ]
    },
    {
      "cell_type": "code",
      "metadata": {
        "id": "barHu3aFLZCW"
      },
      "source": [
        "data_ciber['bcr_patient_barcode']=data_ciber['Input Sample']\n",
        "data_ciber.drop(['Input Sample'], axis=1, inplace=True)"
      ],
      "execution_count": null,
      "outputs": []
    },
    {
      "cell_type": "code",
      "metadata": {
        "id": "PnxiqPVGLJu9"
      },
      "source": [
        "data_merged = pd.merge(data_clinical, data_ciber, on='bcr_patient_barcode')\n",
        "data_merged\n",
        "data_merged.to_csv(\"/content/drive/MyDrive/Year Three/CS4220yxy/data_merged.csv\")"
      ],
      "execution_count": null,
      "outputs": []
    },
    {
      "cell_type": "code",
      "metadata": {
        "id": "OW9NGIHEMge2"
      },
      "source": [
        "data_imp.drop(['Unnamed: 0'],axis=1,inplace=True)"
      ],
      "execution_count": null,
      "outputs": []
    },
    {
      "cell_type": "markdown",
      "metadata": {
        "id": "e4wC37j6QdZs"
      },
      "source": [
        "#Survival Analysis "
      ]
    },
    {
      "cell_type": "code",
      "metadata": {
        "id": "JKvu1u_NMOe1"
      },
      "source": [
        "from sksurv.linear_model import CoxPHSurvivalAnalysis, CoxnetSurvivalAnalysis\n",
        "from sksurv.preprocessing import OneHotEncoder\n",
        "\n",
        "from sklearn.model_selection import GridSearchCV, KFold\n",
        "from sklearn.pipeline import make_pipeline\n",
        "from sklearn.preprocessing import StandardScaler"
      ],
      "execution_count": null,
      "outputs": []
    },
    {
      "cell_type": "code",
      "metadata": {
        "id": "Bv3CJFQBPTAf"
      },
      "source": [
        "data_for_y = pd.merge(data_imp, data_ciber, on='bcr_patient_barcode')"
      ],
      "execution_count": null,
      "outputs": []
    },
    {
      "cell_type": "code",
      "metadata": {
        "id": "3kqciMqHsXnT"
      },
      "source": [
        "data_for_y.drop(['race_imputed'], axis=1, inplace=True)"
      ],
      "execution_count": null,
      "outputs": []
    },
    {
      "cell_type": "code",
      "metadata": {
        "id": "bnxIEfnKMqxo"
      },
      "source": [
        "data_cox = data_for_y\n",
        "\n",
        "#converting 'Alive', 'Dead' to 'False' ,'True'\n",
        "def map_status(input_status):\n",
        "    if (input_status=='Alive'):\n",
        "        return False\n",
        "    else:\n",
        "        return True\n",
        "\n",
        "data_cox[\"vital_status_boolean\"] = data_cox[\"vital_status\"].apply(map_status)\n",
        "\n",
        "#merging last_contact_days_to ('Alive') and death_days_to ('Dead') to get survival_in_days\n",
        "def map_days_df(input_df):\n",
        "  if input_df[1] == 'Alive':\n",
        "    return input_df[2]\n",
        "  else:\n",
        "    return input_df[3]\n",
        "\n",
        "data_cox['survival_in_days'] = data_cox.apply(map_days_df, axis=1)"
      ],
      "execution_count": null,
      "outputs": []
    },
    {
      "cell_type": "code",
      "metadata": {
        "id": "ODwuqMfRMVcs"
      },
      "source": [
        "data_y = data_cox[['vital_status_boolean','survival_in_days']].copy()\n",
        "data_y.to_csv(\"/content/drive/MyDrive/Year Three/CS4220yxy/data_y.csv\")\n",
        "data_y[\"survival_in_days\"] = data_y[\"survival_in_days\"].astype('float')\n",
        "df_y = data_y\n",
        "data_y = data_y.to_records(index=False)"
      ],
      "execution_count": null,
      "outputs": []
    },
    {
      "cell_type": "code",
      "metadata": {
        "id": "oL95tBllNjVb"
      },
      "source": [
        "data_x = data_merged.drop(['bcr_patient_barcode'],axis=1)"
      ],
      "execution_count": null,
      "outputs": []
    },
    {
      "cell_type": "code",
      "metadata": {
        "id": "VaOfOPUE83qy"
      },
      "source": [
        "data_x.to_csv(\"/content/drive/MyDrive/Year Three/CS4220yxy/data_x_merged.csv\")\n",
        "\n"
      ],
      "execution_count": null,
      "outputs": []
    },
    {
      "cell_type": "code",
      "metadata": {
        "id": "TigkUBJgP24K"
      },
      "source": [
        "data_x_all = data_x"
      ],
      "execution_count": null,
      "outputs": []
    },
    {
      "cell_type": "code",
      "metadata": {
        "id": "IIVu2MKwPpkP"
      },
      "source": [
        "data_x = data_x.drop(['menopause_status_imputed','race_imputed','tumor_status_imputed','er_status_by_ihc_imputed','pr_status_by_ihc_imputed','her2_status_by_ihc_imputed','tumor_stage','pt','pn','pm'], axis=1)"
      ],
      "execution_count": null,
      "outputs": []
    },
    {
      "cell_type": "code",
      "metadata": {
        "id": "feFXBYRQQGuD"
      },
      "source": [
        "data_x = data_x.drop(['Pearson Correlation','RMSE'],axis=1)\n"
      ],
      "execution_count": null,
      "outputs": []
    },
    {
      "cell_type": "code",
      "metadata": {
        "id": "GUlqA3H-QvWk"
      },
      "source": [
        "data_x_saved = data_x"
      ],
      "execution_count": null,
      "outputs": []
    },
    {
      "cell_type": "code",
      "metadata": {
        "id": "JRaXPZnHRcR6",
        "colab": {
          "base_uri": "https://localhost:8080/",
          "height": 490
        },
        "outputId": "80ac434a-a2a7-49ef-f461-959340bbf73c"
      },
      "source": [
        "data_x_saved"
      ],
      "execution_count": null,
      "outputs": [
        {
          "output_type": "execute_result",
          "data": {
            "text/html": [
              "<div>\n",
              "<style scoped>\n",
              "    .dataframe tbody tr th:only-of-type {\n",
              "        vertical-align: middle;\n",
              "    }\n",
              "\n",
              "    .dataframe tbody tr th {\n",
              "        vertical-align: top;\n",
              "    }\n",
              "\n",
              "    .dataframe thead th {\n",
              "        text-align: right;\n",
              "    }\n",
              "</style>\n",
              "<table border=\"1\" class=\"dataframe\">\n",
              "  <thead>\n",
              "    <tr style=\"text-align: right;\">\n",
              "      <th></th>\n",
              "      <th>history_other_malignancy</th>\n",
              "      <th>margin_status</th>\n",
              "      <th>age_at_diagnosis</th>\n",
              "      <th>B cells naive</th>\n",
              "      <th>B cells memory</th>\n",
              "      <th>Plasma cells</th>\n",
              "      <th>T cells CD8</th>\n",
              "      <th>T cells CD4 naive</th>\n",
              "      <th>T cells CD4 memory resting</th>\n",
              "      <th>T cells CD4 memory activated</th>\n",
              "      <th>T cells follicular helper</th>\n",
              "      <th>T cells regulatory (Tregs)</th>\n",
              "      <th>T cells gamma delta</th>\n",
              "      <th>NK cells resting</th>\n",
              "      <th>NK cells activated</th>\n",
              "      <th>Monocytes</th>\n",
              "      <th>Macrophages M0</th>\n",
              "      <th>Macrophages M1</th>\n",
              "      <th>Macrophages M2</th>\n",
              "      <th>Dendritic cells resting</th>\n",
              "      <th>Dendritic cells activated</th>\n",
              "      <th>Mast cells resting</th>\n",
              "      <th>Mast cells activated</th>\n",
              "      <th>Eosinophils</th>\n",
              "      <th>Neutrophils</th>\n",
              "      <th>P-value</th>\n",
              "    </tr>\n",
              "  </thead>\n",
              "  <tbody>\n",
              "    <tr>\n",
              "      <th>0</th>\n",
              "      <td>0</td>\n",
              "      <td>0</td>\n",
              "      <td>55</td>\n",
              "      <td>0.163514</td>\n",
              "      <td>0.0</td>\n",
              "      <td>0.125726</td>\n",
              "      <td>0.031051</td>\n",
              "      <td>0</td>\n",
              "      <td>0.032553</td>\n",
              "      <td>0.000000</td>\n",
              "      <td>0.031229</td>\n",
              "      <td>0.052758</td>\n",
              "      <td>0.000000</td>\n",
              "      <td>0.0</td>\n",
              "      <td>0.014749</td>\n",
              "      <td>0.000000</td>\n",
              "      <td>0.184920</td>\n",
              "      <td>0.040579</td>\n",
              "      <td>0.260902</td>\n",
              "      <td>0.008071</td>\n",
              "      <td>0.000000</td>\n",
              "      <td>0.045618</td>\n",
              "      <td>0.0</td>\n",
              "      <td>0.0</td>\n",
              "      <td>0.008330</td>\n",
              "      <td>0.01</td>\n",
              "    </tr>\n",
              "    <tr>\n",
              "      <th>1</th>\n",
              "      <td>0</td>\n",
              "      <td>0</td>\n",
              "      <td>50</td>\n",
              "      <td>0.026535</td>\n",
              "      <td>0.0</td>\n",
              "      <td>0.002263</td>\n",
              "      <td>0.146543</td>\n",
              "      <td>0</td>\n",
              "      <td>0.213623</td>\n",
              "      <td>0.010506</td>\n",
              "      <td>0.061948</td>\n",
              "      <td>0.062993</td>\n",
              "      <td>0.015586</td>\n",
              "      <td>0.0</td>\n",
              "      <td>0.000000</td>\n",
              "      <td>0.000000</td>\n",
              "      <td>0.221950</td>\n",
              "      <td>0.103796</td>\n",
              "      <td>0.062647</td>\n",
              "      <td>0.000000</td>\n",
              "      <td>0.034762</td>\n",
              "      <td>0.035095</td>\n",
              "      <td>0.0</td>\n",
              "      <td>0.0</td>\n",
              "      <td>0.001752</td>\n",
              "      <td>0.12</td>\n",
              "    </tr>\n",
              "    <tr>\n",
              "      <th>2</th>\n",
              "      <td>0</td>\n",
              "      <td>0</td>\n",
              "      <td>62</td>\n",
              "      <td>0.082361</td>\n",
              "      <td>0.0</td>\n",
              "      <td>0.019830</td>\n",
              "      <td>0.211139</td>\n",
              "      <td>0</td>\n",
              "      <td>0.185140</td>\n",
              "      <td>0.028396</td>\n",
              "      <td>0.018098</td>\n",
              "      <td>0.071896</td>\n",
              "      <td>0.000000</td>\n",
              "      <td>0.0</td>\n",
              "      <td>0.000000</td>\n",
              "      <td>0.000000</td>\n",
              "      <td>0.178111</td>\n",
              "      <td>0.071486</td>\n",
              "      <td>0.114387</td>\n",
              "      <td>0.000000</td>\n",
              "      <td>0.000000</td>\n",
              "      <td>0.019158</td>\n",
              "      <td>0.0</td>\n",
              "      <td>0.0</td>\n",
              "      <td>0.000000</td>\n",
              "      <td>0.01</td>\n",
              "    </tr>\n",
              "    <tr>\n",
              "      <th>3</th>\n",
              "      <td>0</td>\n",
              "      <td>1</td>\n",
              "      <td>52</td>\n",
              "      <td>0.059360</td>\n",
              "      <td>0.0</td>\n",
              "      <td>0.007169</td>\n",
              "      <td>0.147073</td>\n",
              "      <td>0</td>\n",
              "      <td>0.256614</td>\n",
              "      <td>0.006647</td>\n",
              "      <td>0.029809</td>\n",
              "      <td>0.010244</td>\n",
              "      <td>0.000000</td>\n",
              "      <td>0.0</td>\n",
              "      <td>0.057096</td>\n",
              "      <td>0.026471</td>\n",
              "      <td>0.067364</td>\n",
              "      <td>0.088859</td>\n",
              "      <td>0.136827</td>\n",
              "      <td>0.017657</td>\n",
              "      <td>0.000000</td>\n",
              "      <td>0.088808</td>\n",
              "      <td>0.0</td>\n",
              "      <td>0.0</td>\n",
              "      <td>0.000000</td>\n",
              "      <td>0.10</td>\n",
              "    </tr>\n",
              "    <tr>\n",
              "      <th>4</th>\n",
              "      <td>0</td>\n",
              "      <td>0</td>\n",
              "      <td>50</td>\n",
              "      <td>0.045901</td>\n",
              "      <td>0.0</td>\n",
              "      <td>0.013257</td>\n",
              "      <td>0.067072</td>\n",
              "      <td>0</td>\n",
              "      <td>0.209942</td>\n",
              "      <td>0.000000</td>\n",
              "      <td>0.070571</td>\n",
              "      <td>0.005324</td>\n",
              "      <td>0.000000</td>\n",
              "      <td>0.0</td>\n",
              "      <td>0.025721</td>\n",
              "      <td>0.020414</td>\n",
              "      <td>0.137158</td>\n",
              "      <td>0.077281</td>\n",
              "      <td>0.186247</td>\n",
              "      <td>0.003476</td>\n",
              "      <td>0.011387</td>\n",
              "      <td>0.126248</td>\n",
              "      <td>0.0</td>\n",
              "      <td>0.0</td>\n",
              "      <td>0.000000</td>\n",
              "      <td>0.03</td>\n",
              "    </tr>\n",
              "    <tr>\n",
              "      <th>...</th>\n",
              "      <td>...</td>\n",
              "      <td>...</td>\n",
              "      <td>...</td>\n",
              "      <td>...</td>\n",
              "      <td>...</td>\n",
              "      <td>...</td>\n",
              "      <td>...</td>\n",
              "      <td>...</td>\n",
              "      <td>...</td>\n",
              "      <td>...</td>\n",
              "      <td>...</td>\n",
              "      <td>...</td>\n",
              "      <td>...</td>\n",
              "      <td>...</td>\n",
              "      <td>...</td>\n",
              "      <td>...</td>\n",
              "      <td>...</td>\n",
              "      <td>...</td>\n",
              "      <td>...</td>\n",
              "      <td>...</td>\n",
              "      <td>...</td>\n",
              "      <td>...</td>\n",
              "      <td>...</td>\n",
              "      <td>...</td>\n",
              "      <td>...</td>\n",
              "      <td>...</td>\n",
              "    </tr>\n",
              "    <tr>\n",
              "      <th>957</th>\n",
              "      <td>0</td>\n",
              "      <td>0</td>\n",
              "      <td>77</td>\n",
              "      <td>0.090068</td>\n",
              "      <td>0.0</td>\n",
              "      <td>0.009526</td>\n",
              "      <td>0.079382</td>\n",
              "      <td>0</td>\n",
              "      <td>0.100526</td>\n",
              "      <td>0.014386</td>\n",
              "      <td>0.117280</td>\n",
              "      <td>0.016399</td>\n",
              "      <td>0.000000</td>\n",
              "      <td>0.0</td>\n",
              "      <td>0.009787</td>\n",
              "      <td>0.000000</td>\n",
              "      <td>0.196089</td>\n",
              "      <td>0.056737</td>\n",
              "      <td>0.162112</td>\n",
              "      <td>0.040547</td>\n",
              "      <td>0.033008</td>\n",
              "      <td>0.074153</td>\n",
              "      <td>0.0</td>\n",
              "      <td>0.0</td>\n",
              "      <td>0.000000</td>\n",
              "      <td>0.08</td>\n",
              "    </tr>\n",
              "    <tr>\n",
              "      <th>958</th>\n",
              "      <td>0</td>\n",
              "      <td>0</td>\n",
              "      <td>46</td>\n",
              "      <td>0.141980</td>\n",
              "      <td>0.0</td>\n",
              "      <td>0.022749</td>\n",
              "      <td>0.125724</td>\n",
              "      <td>0</td>\n",
              "      <td>0.251630</td>\n",
              "      <td>0.041777</td>\n",
              "      <td>0.000000</td>\n",
              "      <td>0.006963</td>\n",
              "      <td>0.000000</td>\n",
              "      <td>0.0</td>\n",
              "      <td>0.000000</td>\n",
              "      <td>0.003120</td>\n",
              "      <td>0.131413</td>\n",
              "      <td>0.060523</td>\n",
              "      <td>0.120492</td>\n",
              "      <td>0.000000</td>\n",
              "      <td>0.000900</td>\n",
              "      <td>0.092697</td>\n",
              "      <td>0.0</td>\n",
              "      <td>0.0</td>\n",
              "      <td>0.000000</td>\n",
              "      <td>0.01</td>\n",
              "    </tr>\n",
              "    <tr>\n",
              "      <th>959</th>\n",
              "      <td>0</td>\n",
              "      <td>0</td>\n",
              "      <td>68</td>\n",
              "      <td>0.152378</td>\n",
              "      <td>0.0</td>\n",
              "      <td>0.066398</td>\n",
              "      <td>0.076364</td>\n",
              "      <td>0</td>\n",
              "      <td>0.277219</td>\n",
              "      <td>0.013185</td>\n",
              "      <td>0.000000</td>\n",
              "      <td>0.021180</td>\n",
              "      <td>0.000000</td>\n",
              "      <td>0.0</td>\n",
              "      <td>0.017377</td>\n",
              "      <td>0.012091</td>\n",
              "      <td>0.099863</td>\n",
              "      <td>0.079194</td>\n",
              "      <td>0.142459</td>\n",
              "      <td>0.000000</td>\n",
              "      <td>0.000000</td>\n",
              "      <td>0.041422</td>\n",
              "      <td>0.0</td>\n",
              "      <td>0.0</td>\n",
              "      <td>0.000900</td>\n",
              "      <td>0.01</td>\n",
              "    </tr>\n",
              "    <tr>\n",
              "      <th>960</th>\n",
              "      <td>1</td>\n",
              "      <td>2</td>\n",
              "      <td>61</td>\n",
              "      <td>0.116900</td>\n",
              "      <td>0.0</td>\n",
              "      <td>0.034830</td>\n",
              "      <td>0.183989</td>\n",
              "      <td>0</td>\n",
              "      <td>0.058776</td>\n",
              "      <td>0.008930</td>\n",
              "      <td>0.035683</td>\n",
              "      <td>0.027816</td>\n",
              "      <td>0.000000</td>\n",
              "      <td>0.0</td>\n",
              "      <td>0.047820</td>\n",
              "      <td>0.052850</td>\n",
              "      <td>0.141588</td>\n",
              "      <td>0.015652</td>\n",
              "      <td>0.171387</td>\n",
              "      <td>0.008498</td>\n",
              "      <td>0.000000</td>\n",
              "      <td>0.095280</td>\n",
              "      <td>0.0</td>\n",
              "      <td>0.0</td>\n",
              "      <td>0.000000</td>\n",
              "      <td>0.01</td>\n",
              "    </tr>\n",
              "    <tr>\n",
              "      <th>961</th>\n",
              "      <td>0</td>\n",
              "      <td>0</td>\n",
              "      <td>46</td>\n",
              "      <td>0.064359</td>\n",
              "      <td>0.0</td>\n",
              "      <td>0.009582</td>\n",
              "      <td>0.096894</td>\n",
              "      <td>0</td>\n",
              "      <td>0.064545</td>\n",
              "      <td>0.005871</td>\n",
              "      <td>0.017335</td>\n",
              "      <td>0.029637</td>\n",
              "      <td>0.000000</td>\n",
              "      <td>0.0</td>\n",
              "      <td>0.000000</td>\n",
              "      <td>0.000000</td>\n",
              "      <td>0.320591</td>\n",
              "      <td>0.152341</td>\n",
              "      <td>0.095137</td>\n",
              "      <td>0.034754</td>\n",
              "      <td>0.000000</td>\n",
              "      <td>0.108954</td>\n",
              "      <td>0.0</td>\n",
              "      <td>0.0</td>\n",
              "      <td>0.000000</td>\n",
              "      <td>0.01</td>\n",
              "    </tr>\n",
              "  </tbody>\n",
              "</table>\n",
              "<p>962 rows × 26 columns</p>\n",
              "</div>"
            ],
            "text/plain": [
              "     history_other_malignancy  margin_status  ...  Neutrophils  P-value\n",
              "0                           0              0  ...     0.008330     0.01\n",
              "1                           0              0  ...     0.001752     0.12\n",
              "2                           0              0  ...     0.000000     0.01\n",
              "3                           0              1  ...     0.000000     0.10\n",
              "4                           0              0  ...     0.000000     0.03\n",
              "..                        ...            ...  ...          ...      ...\n",
              "957                         0              0  ...     0.000000     0.08\n",
              "958                         0              0  ...     0.000000     0.01\n",
              "959                         0              0  ...     0.000900     0.01\n",
              "960                         1              2  ...     0.000000     0.01\n",
              "961                         0              0  ...     0.000000     0.01\n",
              "\n",
              "[962 rows x 26 columns]"
            ]
          },
          "metadata": {
            "tags": []
          },
          "execution_count": 115
        }
      ]
    },
    {
      "cell_type": "code",
      "metadata": {
        "id": "pOnzLeMnQ2rM"
      },
      "source": [
        "#subset1=['B cells naive','B cells memory','Plasma cells','T cells CD8','T cells CD4 naive','T cells CD4 memory resting','T cells CD4 memory activated','T cells follicular helper','T cells regulatory (Tregs)','T cells gamma delta']\n",
        "\n",
        "subset2=['NK cells resting','NK cells activated','Monocytes','Macrophages M0','Macrophages M1','Macrophages M2','Dendritic cells resting','Dendritic cells activated','Mast cells resting','Mast cells activated','Eosinophils','Neutrophils']\n",
        "\n",
        "data_x_2=data_x_saved[subset2]"
      ],
      "execution_count": null,
      "outputs": []
    },
    {
      "cell_type": "markdown",
      "metadata": {
        "id": "ygkSBCyOQhUt"
      },
      "source": [
        "#Multivariate (1st half)"
      ]
    },
    {
      "cell_type": "code",
      "metadata": {
        "id": "pe0JgsjDTrwl"
      },
      "source": [
        "subset1=['B cells naive','B cells memory','Plasma cells','T cells CD8','T cells CD4 memory resting','T cells CD4 memory activated','T cells follicular helper',\n",
        "         'T cells regulatory (Tregs)','T cells gamma delta']\n",
        "         #'NK cells resting','NK cells activated','Monocytes','Macrophages M0','Macrophages M1','Macrophages M2','Dendritic cells resting','Dendritic cells activated','Mast cells resting','Mast cells activated','Eosinophils','Neutrophils'] \n",
        "#excluding T cell CD4 naive\n",
        "data_x_1=data_x_saved[subset1]\n",
        "data_x=data_x_1"
      ],
      "execution_count": null,
      "outputs": []
    },
    {
      "cell_type": "code",
      "metadata": {
        "id": "axRiJhICMceu",
        "colab": {
          "base_uri": "https://localhost:8080/"
        },
        "outputId": "2cd1e8ac-fe70-49e3-958a-8313a5e074c6"
      },
      "source": [
        "estimator = CoxPHSurvivalAnalysis()\n",
        "estimator.fit(data_x, data_y)"
      ],
      "execution_count": null,
      "outputs": [
        {
          "output_type": "execute_result",
          "data": {
            "text/plain": [
              "CoxPHSurvivalAnalysis(alpha=0, n_iter=100, ties='breslow', tol=1e-09, verbose=0)"
            ]
          },
          "metadata": {
            "tags": []
          },
          "execution_count": 118
        }
      ]
    },
    {
      "cell_type": "code",
      "metadata": {
        "id": "X1GphLYFUu1y",
        "colab": {
          "base_uri": "https://localhost:8080/"
        },
        "outputId": "90b73e67-c7e5-4408-9cfa-0f86964d4a7b"
      },
      "source": [
        "estimator.score(data_x, data_y)"
      ],
      "execution_count": null,
      "outputs": [
        {
          "output_type": "execute_result",
          "data": {
            "text/plain": [
              "0.6130811662726556"
            ]
          },
          "metadata": {
            "tags": []
          },
          "execution_count": 119
        }
      ]
    },
    {
      "cell_type": "code",
      "metadata": {
        "id": "ImfePndHRTlv",
        "colab": {
          "base_uri": "https://localhost:8080/"
        },
        "outputId": "82aca32a-e35c-4471-d169-3fa378dc7c9b"
      },
      "source": [
        "pd.Series(estimator.coef_, index=data_x.columns)"
      ],
      "execution_count": null,
      "outputs": [
        {
          "output_type": "execute_result",
          "data": {
            "text/plain": [
              "B cells naive                   -7.307106\n",
              "B cells memory                  17.212065\n",
              "Plasma cells                     3.522139\n",
              "T cells CD8                     -0.498790\n",
              "T cells CD4 memory resting       0.026196\n",
              "T cells CD4 memory activated    -4.490926\n",
              "T cells follicular helper        1.926524\n",
              "T cells regulatory (Tregs)      -5.990809\n",
              "T cells gamma delta             -7.284793\n",
              "dtype: float64"
            ]
          },
          "metadata": {
            "tags": []
          },
          "execution_count": 120
        }
      ]
    },
    {
      "cell_type": "code",
      "metadata": {
        "id": "CwLI6s0gNx1t",
        "colab": {
          "base_uri": "https://localhost:8080/"
        },
        "outputId": "673fee64-6c22-4a5f-b937-5a62ff377eae"
      },
      "source": [
        "def fit_and_score_features(X, y):\n",
        "    n_features = X.shape[1]\n",
        "    scores = np.empty(n_features)\n",
        "    m = CoxPHSurvivalAnalysis()\n",
        "    for j in range(n_features):\n",
        "        Xj = X[:, j:j+1]\n",
        "        m.fit(Xj, y)\n",
        "        scores[j] = m.score(Xj, y)\n",
        "    return scores\n",
        "\n",
        "scores = fit_and_score_features(data_x.values, data_y)\n",
        "pd.Series(scores, index=data_x.columns).sort_values(ascending=False)"
      ],
      "execution_count": null,
      "outputs": [
        {
          "output_type": "execute_result",
          "data": {
            "text/plain": [
              "Plasma cells                    0.658524\n",
              "B cells naive                   0.608826\n",
              "B cells memory                  0.593643\n",
              "T cells gamma delta             0.587838\n",
              "T cells CD8                     0.558970\n",
              "T cells follicular helper       0.537457\n",
              "T cells CD4 memory resting      0.528579\n",
              "T cells regulatory (Tregs)      0.517704\n",
              "T cells CD4 memory activated    0.503520\n",
              "dtype: float64"
            ]
          },
          "metadata": {
            "tags": []
          },
          "execution_count": 121
        }
      ]
    },
    {
      "cell_type": "code",
      "metadata": {
        "id": "INCnzOQFTQm-"
      },
      "source": [
        "Xt=data_x\n",
        "y=data_y\n",
        "\n",
        "alphas = 10. ** np.linspace(-4, 4, 50)\n",
        "coefficients = {}\n",
        "\n",
        "cph = CoxPHSurvivalAnalysis()\n",
        "for alpha in alphas:\n",
        "    cph.set_params(alpha=alpha)\n",
        "    cph.fit(Xt, y)\n",
        "    key = round(alpha, 5)\n",
        "    coefficients[key] = cph.coef_\n",
        "\n",
        "coefficients = (pd.DataFrame\n",
        "    .from_dict(coefficients)\n",
        "    .rename_axis(index=\"feature\", columns=\"alpha\")\n",
        "    .set_index(Xt.columns))"
      ],
      "execution_count": null,
      "outputs": []
    },
    {
      "cell_type": "code",
      "metadata": {
        "id": "OXrPMG44TbvU"
      },
      "source": [
        "def plot_coefficients(coefs, n_highlight):\n",
        "    _, ax = plt.subplots(figsize=(15, 10))\n",
        "    n_features = coefs.shape[0]\n",
        "    alphas = coefs.columns\n",
        "    for row in coefs.itertuples():\n",
        "        ax.semilogx(alphas, row[1:], \".-\", label=row.Index)\n",
        "\n",
        "    alpha_min = alphas.min()\n",
        "    top_coefs = coefs.loc[:, alpha_min].map(abs).sort_values().tail(n_highlight)\n",
        "    for name in top_coefs.index:\n",
        "        coef = coefs.loc[name, alpha_min]\n",
        "        plt.text(\n",
        "            alpha_min, coef, name + \"   \",\n",
        "            horizontalalignment=\"right\",\n",
        "            verticalalignment=\"center\"\n",
        "        )\n",
        "\n",
        "    ax.yaxis.set_label_position(\"right\")\n",
        "    ax.yaxis.tick_right()\n",
        "    ax.grid(True)\n",
        "    ax.set_xlabel(\"alpha\")\n",
        "    ax.set_ylabel(\"coefficient\")"
      ],
      "execution_count": null,
      "outputs": []
    },
    {
      "cell_type": "code",
      "metadata": {
        "id": "I2crbFQUTfeM",
        "colab": {
          "base_uri": "https://localhost:8080/"
        },
        "outputId": "6d454c57-e73f-4ebb-841b-e5579710d146"
      },
      "source": [
        "plot_coefficients(coefficients, n_highlight=8)"
      ],
      "execution_count": null,
      "outputs": [
        {
          "output_type": "display_data",
          "data": {
            "image/png": "[encoded data removed]",
            "text/plain": [
              "<Figure size 1080x720 with 1 Axes>"
            ]
          },
          "metadata": {
            "tags": [],
            "needs_background": "light"
          }
        }
      ]
    },
    {
      "cell_type": "markdown",
      "metadata": {
        "id": "BqpP_vPITyqg"
      },
      "source": [
        "\n",
        "\n",
        "```\n",
        "# This is formatted as code\n",
        "```\n",
        "\n",
        "#Multivariate (2nd half)"
      ]
    },
    {
      "cell_type": "code",
      "metadata": {
        "id": "lo9hu6mlTyqi"
      },
      "source": [
        "data_x=data_x_2"
      ],
      "execution_count": null,
      "outputs": []
    },
    {
      "cell_type": "code",
      "metadata": {
        "id": "cfFJOrCGTyqk",
        "colab": {
          "base_uri": "https://localhost:8080/"
        },
        "outputId": "0c09ad1a-6c2c-426e-9524-eee80e48f0d0"
      },
      "source": [
        "estimator = CoxPHSurvivalAnalysis()\n",
        "estimator.fit(data_x, data_y)"
      ],
      "execution_count": null,
      "outputs": [
        {
          "output_type": "execute_result",
          "data": {
            "text/plain": [
              "CoxPHSurvivalAnalysis(alpha=0, n_iter=100, ties='breslow', tol=1e-09, verbose=0)"
            ]
          },
          "metadata": {
            "tags": []
          },
          "execution_count": 126
        }
      ]
    },
    {
      "cell_type": "code",
      "metadata": {
        "id": "iwuemRB3TyrL",
        "colab": {
          "base_uri": "https://localhost:8080/"
        },
        "outputId": "4da0e364-20b5-4a5f-ca40-eeaa9c6b7bab"
      },
      "source": [
        "estimator.score(data_x, data_y)"
      ],
      "execution_count": null,
      "outputs": [
        {
          "output_type": "execute_result",
          "data": {
            "text/plain": [
              "0.7225636984502233"
            ]
          },
          "metadata": {
            "tags": []
          },
          "execution_count": 127
        }
      ]
    },
    {
      "cell_type": "code",
      "metadata": {
        "id": "X8IQvQ75TyrM",
        "colab": {
          "base_uri": "https://localhost:8080/"
        },
        "outputId": "133761be-9fc0-4a1a-d3e7-a3206c02b407"
      },
      "source": [
        "pd.Series(estimator.coef_, index=data_x.columns)"
      ],
      "execution_count": null,
      "outputs": [
        {
          "output_type": "execute_result",
          "data": {
            "text/plain": [
              "NK cells resting                 9.745149\n",
              "NK cells activated              18.475060\n",
              "Monocytes                       -0.134879\n",
              "Macrophages M0                   0.717693\n",
              "Macrophages M1                   1.678962\n",
              "Macrophages M2                   5.680956\n",
              "Dendritic cells resting         -1.184537\n",
              "Dendritic cells activated       -2.531440\n",
              "Mast cells resting              -7.457128\n",
              "Mast cells activated             2.561619\n",
              "Eosinophils                 -31912.397513\n",
              "Neutrophils                     19.866350\n",
              "dtype: float64"
            ]
          },
          "metadata": {
            "tags": []
          },
          "execution_count": 128
        }
      ]
    },
    {
      "cell_type": "code",
      "metadata": {
        "id": "PMkU1gSMTyrM",
        "colab": {
          "base_uri": "https://localhost:8080/"
        },
        "outputId": "d941ee38-9700-46b2-e509-705bdcb2faa8"
      },
      "source": [
        "def fit_and_score_features(X, y):\n",
        "    n_features = X.shape[1]\n",
        "    scores = np.empty(n_features)\n",
        "    m = CoxPHSurvivalAnalysis()\n",
        "    for j in range(n_features):\n",
        "        Xj = X[:, j:j+1]\n",
        "        m.fit(Xj, y)\n",
        "        scores[j] = m.score(Xj, y)\n",
        "    return scores\n",
        "\n",
        "scores = fit_and_score_features(data_x.values, data_y)\n",
        "pd.Series(scores, index=data_x.columns).sort_values(ascending=False)"
      ],
      "execution_count": null,
      "outputs": [
        {
          "output_type": "execute_result",
          "data": {
            "text/plain": [
              "Macrophages M2               0.624744\n",
              "Neutrophils                  0.576858\n",
              "NK cells activated           0.575808\n",
              "Mast cells resting           0.571710\n",
              "Dendritic cells resting      0.553402\n",
              "Macrophages M0               0.541030\n",
              "Macrophages M1               0.527660\n",
              "Mast cells activated         0.523719\n",
              "Dendritic cells activated    0.515156\n",
              "Eosinophils                  0.506751\n",
              "NK cells resting             0.490990\n",
              "Monocytes                    0.445049\n",
              "dtype: float64"
            ]
          },
          "metadata": {
            "tags": []
          },
          "execution_count": 129
        }
      ]
    },
    {
      "cell_type": "code",
      "metadata": {
        "id": "z07en63UTyrN"
      },
      "source": [
        "Xt=data_x\n",
        "y=data_y\n",
        "\n",
        "alphas = 10. ** np.linspace(-4, 4, 50)\n",
        "coefficients = {}\n",
        "\n",
        "cph = CoxPHSurvivalAnalysis()\n",
        "for alpha in alphas:\n",
        "    cph.set_params(alpha=alpha)\n",
        "    cph.fit(Xt, y)\n",
        "    key = round(alpha, 5)\n",
        "    coefficients[key] = cph.coef_\n",
        "\n",
        "coefficients = (pd.DataFrame\n",
        "    .from_dict(coefficients)\n",
        "    .rename_axis(index=\"feature\", columns=\"alpha\")\n",
        "    .set_index(Xt.columns))"
      ],
      "execution_count": null,
      "outputs": []
    },
    {
      "cell_type": "code",
      "metadata": {
        "id": "9YPTYf9CTyrO"
      },
      "source": [
        "def plot_coefficients(coefs, n_highlight):\n",
        "    _, ax = plt.subplots(figsize=(15, 10))\n",
        "    n_features = coefs.shape[0]\n",
        "    alphas = coefs.columns\n",
        "    for row in coefs.itertuples():\n",
        "        ax.semilogx(alphas, row[1:], \".-\", label=row.Index)\n",
        "\n",
        "    alpha_min = alphas.min()\n",
        "    top_coefs = coefs.loc[:, alpha_min].map(abs).sort_values().tail(n_highlight)\n",
        "    for name in top_coefs.index:\n",
        "        coef = coefs.loc[name, alpha_min]\n",
        "        plt.text(\n",
        "            alpha_min, coef, name + \"   \",\n",
        "            horizontalalignment=\"right\",\n",
        "            verticalalignment=\"center\"\n",
        "        )\n",
        "\n",
        "    ax.yaxis.set_label_position(\"right\")\n",
        "    ax.yaxis.tick_right()\n",
        "    ax.grid(True)\n",
        "    ax.set_xlabel(\"alpha\")\n",
        "    ax.set_ylabel(\"coefficient\")"
      ],
      "execution_count": null,
      "outputs": []
    },
    {
      "cell_type": "code",
      "metadata": {
        "id": "ZHVMhTmXTyrP",
        "colab": {
          "base_uri": "https://localhost:8080/"
        },
        "outputId": "83aaa390-3af0-4a75-b8a4-e7f877663e2a"
      },
      "source": [
        "plot_coefficients(coefficients, n_highlight=8)"
      ],
      "execution_count": null,
      "outputs": [
        {
          "output_type": "display_data",
          "data": {
            "image/png": "[encoded data removed]",
            "text/plain": [
              "<Figure size 1080x720 with 1 Axes>"
            ]
          },
          "metadata": {
            "tags": [],
            "needs_background": "light"
          }
        }
      ]
    },
    {
      "cell_type": "code",
      "metadata": {
        "id": "dKbiANh1khgS"
      },
      "source": [
        ""
      ],
      "execution_count": null,
      "outputs": []
    },
    {
      "cell_type": "markdown",
      "metadata": {
        "id": "TAgq_ANVW-VK"
      },
      "source": [
        "\n",
        "#Multivariate (optimized )"
      ]
    },
    {
      "cell_type": "code",
      "metadata": {
        "id": "9sNCerF5kxzn",
        "colab": {
          "base_uri": "https://localhost:8080/",
          "height": 490
        },
        "outputId": "ed9df5e5-9498-471e-bfad-8087af2d609a"
      },
      "source": [
        "data_merged"
      ],
      "execution_count": null,
      "outputs": [
        {
          "output_type": "execute_result",
          "data": {
            "text/html": [
              "<div>\n",
              "<style scoped>\n",
              "    .dataframe tbody tr th:only-of-type {\n",
              "        vertical-align: middle;\n",
              "    }\n",
              "\n",
              "    .dataframe tbody tr th {\n",
              "        vertical-align: top;\n",
              "    }\n",
              "\n",
              "    .dataframe thead th {\n",
              "        text-align: right;\n",
              "    }\n",
              "</style>\n",
              "<table border=\"1\" class=\"dataframe\">\n",
              "  <thead>\n",
              "    <tr style=\"text-align: right;\">\n",
              "      <th></th>\n",
              "      <th>bcr_patient_barcode</th>\n",
              "      <th>history_other_malignancy</th>\n",
              "      <th>margin_status</th>\n",
              "      <th>age_at_diagnosis</th>\n",
              "      <th>menopause_status_imputed</th>\n",
              "      <th>race_imputed</th>\n",
              "      <th>tumor_status_imputed</th>\n",
              "      <th>er_status_by_ihc_imputed</th>\n",
              "      <th>pr_status_by_ihc_imputed</th>\n",
              "      <th>her2_status_by_ihc_imputed</th>\n",
              "      <th>tumor_stage</th>\n",
              "      <th>pt</th>\n",
              "      <th>pn</th>\n",
              "      <th>pm</th>\n",
              "      <th>B cells naive</th>\n",
              "      <th>B cells memory</th>\n",
              "      <th>Plasma cells</th>\n",
              "      <th>T cells CD8</th>\n",
              "      <th>T cells CD4 naive</th>\n",
              "      <th>T cells CD4 memory resting</th>\n",
              "      <th>T cells CD4 memory activated</th>\n",
              "      <th>T cells follicular helper</th>\n",
              "      <th>T cells regulatory (Tregs)</th>\n",
              "      <th>T cells gamma delta</th>\n",
              "      <th>NK cells resting</th>\n",
              "      <th>NK cells activated</th>\n",
              "      <th>Monocytes</th>\n",
              "      <th>Macrophages M0</th>\n",
              "      <th>Macrophages M1</th>\n",
              "      <th>Macrophages M2</th>\n",
              "      <th>Dendritic cells resting</th>\n",
              "      <th>Dendritic cells activated</th>\n",
              "      <th>Mast cells resting</th>\n",
              "      <th>Mast cells activated</th>\n",
              "      <th>Eosinophils</th>\n",
              "      <th>Neutrophils</th>\n",
              "      <th>P-value</th>\n",
              "      <th>Pearson Correlation</th>\n",
              "      <th>RMSE</th>\n",
              "    </tr>\n",
              "  </thead>\n",
              "  <tbody>\n",
              "    <tr>\n",
              "      <th>0</th>\n",
              "      <td>TCGA-3C-AAAU</td>\n",
              "      <td>0</td>\n",
              "      <td>0</td>\n",
              "      <td>55</td>\n",
              "      <td>1.0</td>\n",
              "      <td>1</td>\n",
              "      <td>1</td>\n",
              "      <td>1.0</td>\n",
              "      <td>1.0</td>\n",
              "      <td>0.0</td>\n",
              "      <td>0.0</td>\n",
              "      <td>0.5</td>\n",
              "      <td>0.5</td>\n",
              "      <td>0.5</td>\n",
              "      <td>0.163514</td>\n",
              "      <td>0.0</td>\n",
              "      <td>0.125726</td>\n",
              "      <td>0.031051</td>\n",
              "      <td>0</td>\n",
              "      <td>0.032553</td>\n",
              "      <td>0.000000</td>\n",
              "      <td>0.031229</td>\n",
              "      <td>0.052758</td>\n",
              "      <td>0.000000</td>\n",
              "      <td>0.0</td>\n",
              "      <td>0.014749</td>\n",
              "      <td>0.000000</td>\n",
              "      <td>0.184920</td>\n",
              "      <td>0.040579</td>\n",
              "      <td>0.260902</td>\n",
              "      <td>0.008071</td>\n",
              "      <td>0.000000</td>\n",
              "      <td>0.045618</td>\n",
              "      <td>0.0</td>\n",
              "      <td>0.0</td>\n",
              "      <td>0.008330</td>\n",
              "      <td>0.01</td>\n",
              "      <td>0.337433</td>\n",
              "      <td>0.949416</td>\n",
              "    </tr>\n",
              "    <tr>\n",
              "      <th>1</th>\n",
              "      <td>TCGA-3C-AALI</td>\n",
              "      <td>0</td>\n",
              "      <td>0</td>\n",
              "      <td>50</td>\n",
              "      <td>4.0</td>\n",
              "      <td>2</td>\n",
              "      <td>0</td>\n",
              "      <td>1.0</td>\n",
              "      <td>1.0</td>\n",
              "      <td>1.0</td>\n",
              "      <td>4.0</td>\n",
              "      <td>3.5</td>\n",
              "      <td>1.0</td>\n",
              "      <td>0.0</td>\n",
              "      <td>0.026535</td>\n",
              "      <td>0.0</td>\n",
              "      <td>0.002263</td>\n",
              "      <td>0.146543</td>\n",
              "      <td>0</td>\n",
              "      <td>0.213623</td>\n",
              "      <td>0.010506</td>\n",
              "      <td>0.061948</td>\n",
              "      <td>0.062993</td>\n",
              "      <td>0.015586</td>\n",
              "      <td>0.0</td>\n",
              "      <td>0.000000</td>\n",
              "      <td>0.000000</td>\n",
              "      <td>0.221950</td>\n",
              "      <td>0.103796</td>\n",
              "      <td>0.062647</td>\n",
              "      <td>0.000000</td>\n",
              "      <td>0.034762</td>\n",
              "      <td>0.035095</td>\n",
              "      <td>0.0</td>\n",
              "      <td>0.0</td>\n",
              "      <td>0.001752</td>\n",
              "      <td>0.12</td>\n",
              "      <td>0.107088</td>\n",
              "      <td>1.059505</td>\n",
              "    </tr>\n",
              "    <tr>\n",
              "      <th>2</th>\n",
              "      <td>TCGA-3C-AALJ</td>\n",
              "      <td>0</td>\n",
              "      <td>0</td>\n",
              "      <td>62</td>\n",
              "      <td>4.0</td>\n",
              "      <td>2</td>\n",
              "      <td>0</td>\n",
              "      <td>1.0</td>\n",
              "      <td>1.0</td>\n",
              "      <td>0.5</td>\n",
              "      <td>4.0</td>\n",
              "      <td>3.5</td>\n",
              "      <td>1.0</td>\n",
              "      <td>0.0</td>\n",
              "      <td>0.082361</td>\n",
              "      <td>0.0</td>\n",
              "      <td>0.019830</td>\n",
              "      <td>0.211139</td>\n",
              "      <td>0</td>\n",
              "      <td>0.185140</td>\n",
              "      <td>0.028396</td>\n",
              "      <td>0.018098</td>\n",
              "      <td>0.071896</td>\n",
              "      <td>0.000000</td>\n",
              "      <td>0.0</td>\n",
              "      <td>0.000000</td>\n",
              "      <td>0.000000</td>\n",
              "      <td>0.178111</td>\n",
              "      <td>0.071486</td>\n",
              "      <td>0.114387</td>\n",
              "      <td>0.000000</td>\n",
              "      <td>0.000000</td>\n",
              "      <td>0.019158</td>\n",
              "      <td>0.0</td>\n",
              "      <td>0.0</td>\n",
              "      <td>0.000000</td>\n",
              "      <td>0.01</td>\n",
              "      <td>0.355029</td>\n",
              "      <td>0.939905</td>\n",
              "    </tr>\n",
              "    <tr>\n",
              "      <th>3</th>\n",
              "      <td>TCGA-3C-AALK</td>\n",
              "      <td>0</td>\n",
              "      <td>1</td>\n",
              "      <td>52</td>\n",
              "      <td>3.0</td>\n",
              "      <td>2</td>\n",
              "      <td>0</td>\n",
              "      <td>1.0</td>\n",
              "      <td>1.0</td>\n",
              "      <td>1.0</td>\n",
              "      <td>1.0</td>\n",
              "      <td>2.0</td>\n",
              "      <td>0.0</td>\n",
              "      <td>0.0</td>\n",
              "      <td>0.059360</td>\n",
              "      <td>0.0</td>\n",
              "      <td>0.007169</td>\n",
              "      <td>0.147073</td>\n",
              "      <td>0</td>\n",
              "      <td>0.256614</td>\n",
              "      <td>0.006647</td>\n",
              "      <td>0.029809</td>\n",
              "      <td>0.010244</td>\n",
              "      <td>0.000000</td>\n",
              "      <td>0.0</td>\n",
              "      <td>0.057096</td>\n",
              "      <td>0.026471</td>\n",
              "      <td>0.067364</td>\n",
              "      <td>0.088859</td>\n",
              "      <td>0.136827</td>\n",
              "      <td>0.017657</td>\n",
              "      <td>0.000000</td>\n",
              "      <td>0.088808</td>\n",
              "      <td>0.0</td>\n",
              "      <td>0.0</td>\n",
              "      <td>0.000000</td>\n",
              "      <td>0.10</td>\n",
              "      <td>0.118337</td>\n",
              "      <td>1.041601</td>\n",
              "    </tr>\n",
              "    <tr>\n",
              "      <th>4</th>\n",
              "      <td>TCGA-4H-AAAK</td>\n",
              "      <td>0</td>\n",
              "      <td>0</td>\n",
              "      <td>50</td>\n",
              "      <td>4.0</td>\n",
              "      <td>1</td>\n",
              "      <td>0</td>\n",
              "      <td>1.0</td>\n",
              "      <td>1.0</td>\n",
              "      <td>0.5</td>\n",
              "      <td>5.0</td>\n",
              "      <td>3.5</td>\n",
              "      <td>4.0</td>\n",
              "      <td>0.0</td>\n",
              "      <td>0.045901</td>\n",
              "      <td>0.0</td>\n",
              "      <td>0.013257</td>\n",
              "      <td>0.067072</td>\n",
              "      <td>0</td>\n",
              "      <td>0.209942</td>\n",
              "      <td>0.000000</td>\n",
              "      <td>0.070571</td>\n",
              "      <td>0.005324</td>\n",
              "      <td>0.000000</td>\n",
              "      <td>0.0</td>\n",
              "      <td>0.025721</td>\n",
              "      <td>0.020414</td>\n",
              "      <td>0.137158</td>\n",
              "      <td>0.077281</td>\n",
              "      <td>0.186247</td>\n",
              "      <td>0.003476</td>\n",
              "      <td>0.011387</td>\n",
              "      <td>0.126248</td>\n",
              "      <td>0.0</td>\n",
              "      <td>0.0</td>\n",
              "      <td>0.000000</td>\n",
              "      <td>0.03</td>\n",
              "      <td>0.187787</td>\n",
              "      <td>1.005561</td>\n",
              "    </tr>\n",
              "    <tr>\n",
              "      <th>...</th>\n",
              "      <td>...</td>\n",
              "      <td>...</td>\n",
              "      <td>...</td>\n",
              "      <td>...</td>\n",
              "      <td>...</td>\n",
              "      <td>...</td>\n",
              "      <td>...</td>\n",
              "      <td>...</td>\n",
              "      <td>...</td>\n",
              "      <td>...</td>\n",
              "      <td>...</td>\n",
              "      <td>...</td>\n",
              "      <td>...</td>\n",
              "      <td>...</td>\n",
              "      <td>...</td>\n",
              "      <td>...</td>\n",
              "      <td>...</td>\n",
              "      <td>...</td>\n",
              "      <td>...</td>\n",
              "      <td>...</td>\n",
              "      <td>...</td>\n",
              "      <td>...</td>\n",
              "      <td>...</td>\n",
              "      <td>...</td>\n",
              "      <td>...</td>\n",
              "      <td>...</td>\n",
              "      <td>...</td>\n",
              "      <td>...</td>\n",
              "      <td>...</td>\n",
              "      <td>...</td>\n",
              "      <td>...</td>\n",
              "      <td>...</td>\n",
              "      <td>...</td>\n",
              "      <td>...</td>\n",
              "      <td>...</td>\n",
              "      <td>...</td>\n",
              "      <td>...</td>\n",
              "      <td>...</td>\n",
              "      <td>...</td>\n",
              "    </tr>\n",
              "    <tr>\n",
              "      <th>957</th>\n",
              "      <td>TCGA-WT-AB44</td>\n",
              "      <td>0</td>\n",
              "      <td>0</td>\n",
              "      <td>77</td>\n",
              "      <td>4.0</td>\n",
              "      <td>1</td>\n",
              "      <td>0</td>\n",
              "      <td>1.0</td>\n",
              "      <td>1.0</td>\n",
              "      <td>0.0</td>\n",
              "      <td>1.0</td>\n",
              "      <td>2.0</td>\n",
              "      <td>0.0</td>\n",
              "      <td>0.5</td>\n",
              "      <td>0.090068</td>\n",
              "      <td>0.0</td>\n",
              "      <td>0.009526</td>\n",
              "      <td>0.079382</td>\n",
              "      <td>0</td>\n",
              "      <td>0.100526</td>\n",
              "      <td>0.014386</td>\n",
              "      <td>0.117280</td>\n",
              "      <td>0.016399</td>\n",
              "      <td>0.000000</td>\n",
              "      <td>0.0</td>\n",
              "      <td>0.009787</td>\n",
              "      <td>0.000000</td>\n",
              "      <td>0.196089</td>\n",
              "      <td>0.056737</td>\n",
              "      <td>0.162112</td>\n",
              "      <td>0.040547</td>\n",
              "      <td>0.033008</td>\n",
              "      <td>0.074153</td>\n",
              "      <td>0.0</td>\n",
              "      <td>0.0</td>\n",
              "      <td>0.000000</td>\n",
              "      <td>0.08</td>\n",
              "      <td>0.123148</td>\n",
              "      <td>1.032359</td>\n",
              "    </tr>\n",
              "    <tr>\n",
              "      <th>958</th>\n",
              "      <td>TCGA-XX-A899</td>\n",
              "      <td>0</td>\n",
              "      <td>0</td>\n",
              "      <td>46</td>\n",
              "      <td>4.0</td>\n",
              "      <td>1</td>\n",
              "      <td>0</td>\n",
              "      <td>1.0</td>\n",
              "      <td>1.0</td>\n",
              "      <td>0.0</td>\n",
              "      <td>5.0</td>\n",
              "      <td>2.0</td>\n",
              "      <td>4.0</td>\n",
              "      <td>0.5</td>\n",
              "      <td>0.141980</td>\n",
              "      <td>0.0</td>\n",
              "      <td>0.022749</td>\n",
              "      <td>0.125724</td>\n",
              "      <td>0</td>\n",
              "      <td>0.251630</td>\n",
              "      <td>0.041777</td>\n",
              "      <td>0.000000</td>\n",
              "      <td>0.006963</td>\n",
              "      <td>0.000000</td>\n",
              "      <td>0.0</td>\n",
              "      <td>0.000000</td>\n",
              "      <td>0.003120</td>\n",
              "      <td>0.131413</td>\n",
              "      <td>0.060523</td>\n",
              "      <td>0.120492</td>\n",
              "      <td>0.000000</td>\n",
              "      <td>0.000900</td>\n",
              "      <td>0.092697</td>\n",
              "      <td>0.0</td>\n",
              "      <td>0.0</td>\n",
              "      <td>0.000000</td>\n",
              "      <td>0.01</td>\n",
              "      <td>0.394596</td>\n",
              "      <td>0.918532</td>\n",
              "    </tr>\n",
              "    <tr>\n",
              "      <th>959</th>\n",
              "      <td>TCGA-XX-A89A</td>\n",
              "      <td>0</td>\n",
              "      <td>0</td>\n",
              "      <td>68</td>\n",
              "      <td>4.0</td>\n",
              "      <td>1</td>\n",
              "      <td>0</td>\n",
              "      <td>1.0</td>\n",
              "      <td>1.0</td>\n",
              "      <td>0.0</td>\n",
              "      <td>4.0</td>\n",
              "      <td>5.5</td>\n",
              "      <td>0.0</td>\n",
              "      <td>0.5</td>\n",
              "      <td>0.152378</td>\n",
              "      <td>0.0</td>\n",
              "      <td>0.066398</td>\n",
              "      <td>0.076364</td>\n",
              "      <td>0</td>\n",
              "      <td>0.277219</td>\n",
              "      <td>0.013185</td>\n",
              "      <td>0.000000</td>\n",
              "      <td>0.021180</td>\n",
              "      <td>0.000000</td>\n",
              "      <td>0.0</td>\n",
              "      <td>0.017377</td>\n",
              "      <td>0.012091</td>\n",
              "      <td>0.099863</td>\n",
              "      <td>0.079194</td>\n",
              "      <td>0.142459</td>\n",
              "      <td>0.000000</td>\n",
              "      <td>0.000000</td>\n",
              "      <td>0.041422</td>\n",
              "      <td>0.0</td>\n",
              "      <td>0.0</td>\n",
              "      <td>0.000900</td>\n",
              "      <td>0.01</td>\n",
              "      <td>0.384044</td>\n",
              "      <td>0.923957</td>\n",
              "    </tr>\n",
              "    <tr>\n",
              "      <th>960</th>\n",
              "      <td>TCGA-Z7-A8R5</td>\n",
              "      <td>1</td>\n",
              "      <td>2</td>\n",
              "      <td>61</td>\n",
              "      <td>4.0</td>\n",
              "      <td>1</td>\n",
              "      <td>0</td>\n",
              "      <td>1.0</td>\n",
              "      <td>1.0</td>\n",
              "      <td>0.0</td>\n",
              "      <td>5.0</td>\n",
              "      <td>5.5</td>\n",
              "      <td>1.0</td>\n",
              "      <td>0.5</td>\n",
              "      <td>0.116900</td>\n",
              "      <td>0.0</td>\n",
              "      <td>0.034830</td>\n",
              "      <td>0.183989</td>\n",
              "      <td>0</td>\n",
              "      <td>0.058776</td>\n",
              "      <td>0.008930</td>\n",
              "      <td>0.035683</td>\n",
              "      <td>0.027816</td>\n",
              "      <td>0.000000</td>\n",
              "      <td>0.0</td>\n",
              "      <td>0.047820</td>\n",
              "      <td>0.052850</td>\n",
              "      <td>0.141588</td>\n",
              "      <td>0.015652</td>\n",
              "      <td>0.171387</td>\n",
              "      <td>0.008498</td>\n",
              "      <td>0.000000</td>\n",
              "      <td>0.095280</td>\n",
              "      <td>0.0</td>\n",
              "      <td>0.0</td>\n",
              "      <td>0.000000</td>\n",
              "      <td>0.01</td>\n",
              "      <td>0.328921</td>\n",
              "      <td>0.946772</td>\n",
              "    </tr>\n",
              "    <tr>\n",
              "      <th>961</th>\n",
              "      <td>TCGA-Z7-A8R6</td>\n",
              "      <td>0</td>\n",
              "      <td>0</td>\n",
              "      <td>46</td>\n",
              "      <td>1.0</td>\n",
              "      <td>1</td>\n",
              "      <td>0</td>\n",
              "      <td>1.0</td>\n",
              "      <td>1.0</td>\n",
              "      <td>0.0</td>\n",
              "      <td>1.5</td>\n",
              "      <td>2.0</td>\n",
              "      <td>0.0</td>\n",
              "      <td>0.0</td>\n",
              "      <td>0.064359</td>\n",
              "      <td>0.0</td>\n",
              "      <td>0.009582</td>\n",
              "      <td>0.096894</td>\n",
              "      <td>0</td>\n",
              "      <td>0.064545</td>\n",
              "      <td>0.005871</td>\n",
              "      <td>0.017335</td>\n",
              "      <td>0.029637</td>\n",
              "      <td>0.000000</td>\n",
              "      <td>0.0</td>\n",
              "      <td>0.000000</td>\n",
              "      <td>0.000000</td>\n",
              "      <td>0.320591</td>\n",
              "      <td>0.152341</td>\n",
              "      <td>0.095137</td>\n",
              "      <td>0.034754</td>\n",
              "      <td>0.000000</td>\n",
              "      <td>0.108954</td>\n",
              "      <td>0.0</td>\n",
              "      <td>0.0</td>\n",
              "      <td>0.000000</td>\n",
              "      <td>0.01</td>\n",
              "      <td>0.313509</td>\n",
              "      <td>0.962321</td>\n",
              "    </tr>\n",
              "  </tbody>\n",
              "</table>\n",
              "<p>962 rows × 39 columns</p>\n",
              "</div>"
            ],
            "text/plain": [
              "    bcr_patient_barcode  ...      RMSE\n",
              "0          TCGA-3C-AAAU  ...  0.949416\n",
              "1          TCGA-3C-AALI  ...  1.059505\n",
              "2          TCGA-3C-AALJ  ...  0.939905\n",
              "3          TCGA-3C-AALK  ...  1.041601\n",
              "4          TCGA-4H-AAAK  ...  1.005561\n",
              "..                  ...  ...       ...\n",
              "957        TCGA-WT-AB44  ...  1.032359\n",
              "958        TCGA-XX-A899  ...  0.918532\n",
              "959        TCGA-XX-A89A  ...  0.923957\n",
              "960        TCGA-Z7-A8R5  ...  0.946772\n",
              "961        TCGA-Z7-A8R6  ...  0.962321\n",
              "\n",
              "[962 rows x 39 columns]"
            ]
          },
          "metadata": {
            "tags": []
          },
          "execution_count": 133
        }
      ]
    },
    {
      "cell_type": "code",
      "metadata": {
        "id": "GHhcQl3XW-VP",
        "colab": {
          "base_uri": "https://localhost:8080/",
          "height": 69
        },
        "outputId": "defc35b7-8988-4a7b-805f-6f3fa422582e"
      },
      "source": [
        "\n",
        "# coefficient abs >=2???\n",
        "#subset_opt=['B cells naive','B cells memory','T cells CD4 memory activated','T cells follicular helper','T cells regulatory (Tregs)','NK cells resting','NK cells activated','Macrophages M1','Macrophages M2','Mast cells resting','Mast cells activated','Eosinophils','Neutrophils']\n",
        "# score >0.5\n",
        "'''\n",
        "subset_opt=['menopause_status_imputed','race_imputed','tumor_status_imputed','er_status_by_ihc_imputed','pr_status_by_ihc_imputed','her2_status_by_ihc_imputed','tumor_stage','pt','pn','pm',\n",
        "            'Plasma cells','B cells naive','B cells memory','T cells gamma delta','T cells CD8','T cells CD4 memory resting','T cells follicular helper','T cells regulatory (Tregs)',\n",
        "            'Macrophages M2','Neutrophils', 'NK cells activated','Mast cells resting','Dendritic cells resting','Macrophages M0','Macrophages M1','Mast cells activated','Eosinophils']\n",
        "'''\n",
        "# excluded: T cells CD8 (-0.327759);T cells gamma delta (-0.019309);T cells CD4 memory resting (-1.313042); Monocytes(-1.370939); Macrophages M0 (0.721107); Dendritic cells resting (-0.334207); Dendritic cells activated (-1.944610)\n",
        "\n",
        "#data_x_opt=data_merged[subset_opt]\n",
        "#data_x=data_x_opt"
      ],
      "execution_count": null,
      "outputs": [
        {
          "output_type": "execute_result",
          "data": {
            "application/vnd.google.colaboratory.intrinsic+json": {
              "type": "string"
            },
            "text/plain": [
              "\"\\nsubset_opt=['menopause_status_imputed','race_imputed','tumor_status_imputed','er_status_by_ihc_imputed','pr_status_by_ihc_imputed','her2_status_by_ihc_imputed','tumor_stage','pt','pn','pm',\\n            'Plasma cells','B cells naive','B cells memory','T cells gamma delta','T cells CD8','T cells CD4 memory resting','T cells follicular helper','T cells regulatory (Tregs)',\\n            'Macrophages M2','Neutrophils', 'NK cells activated','Mast cells resting','Dendritic cells resting','Macrophages M0','Macrophages M1','Mast cells activated','Eosinophils']\\n\""
            ]
          },
          "metadata": {
            "tags": []
          },
          "execution_count": 134
        }
      ]
    },
    {
      "cell_type": "code",
      "metadata": {
        "id": "B3gEXQdemon1"
      },
      "source": [
        "#subset_opt=['menopause_status_imputed','race_imputed','tumor_status_imputed','er_status_by_ihc_imputed','pr_status_by_ihc_imputed','her2_status_by_ihc_imputed','tumor_stage','pt','pn','pm',\n",
        "#            'Plasma cells','B cells naive','B cells memory','T cells gamma delta','T cells CD8','T cells CD4 memory resting','T cells follicular helper','T cells regulatory (Tregs)',\n",
        "#            'Macrophages M2','Neutrophils', 'NK cells activated','Mast cells resting','Dendritic cells resting','Macrophages M0','Macrophages M1','Mast cells activated','Eosinophils']\n",
        "subset_opt=['history_other_malignancy','margin_status','age_at_diagnosis','menopause_status_imputed','tumor_status_imputed','er_status_by_ihc_imputed','pr_status_by_ihc_imputed','her2_status_by_ihc_imputed','tumor_stage','pt','pn','pm',\n",
        "            'Plasma cells','B cells naive','B cells memory','T cells gamma delta','T cells CD8','T cells CD4 memory resting','T cells follicular helper','T cells regulatory (Tregs)',\n",
        "            'Macrophages M2','Neutrophils', 'NK cells activated','Mast cells resting','Dendritic cells resting','Macrophages M0','Macrophages M1','Mast cells activated','Eosinophils']\n",
        "\n",
        "data_x_opt=data_merged[subset_opt]\n",
        "data_x=data_x_opt"
      ],
      "execution_count": null,
      "outputs": []
    },
    {
      "cell_type": "code",
      "metadata": {
        "id": "yZkPu6irdEip",
        "colab": {
          "base_uri": "https://localhost:8080/",
          "height": 490
        },
        "outputId": "e36aa341-e38d-448d-86c2-e1d778cade9d"
      },
      "source": [
        "data_x"
      ],
      "execution_count": null,
      "outputs": [
        {
          "output_type": "execute_result",
          "data": {
            "text/html": [
              "<div>\n",
              "<style scoped>\n",
              "    .dataframe tbody tr th:only-of-type {\n",
              "        vertical-align: middle;\n",
              "    }\n",
              "\n",
              "    .dataframe tbody tr th {\n",
              "        vertical-align: top;\n",
              "    }\n",
              "\n",
              "    .dataframe thead th {\n",
              "        text-align: right;\n",
              "    }\n",
              "</style>\n",
              "<table border=\"1\" class=\"dataframe\">\n",
              "  <thead>\n",
              "    <tr style=\"text-align: right;\">\n",
              "      <th></th>\n",
              "      <th>history_other_malignancy</th>\n",
              "      <th>margin_status</th>\n",
              "      <th>age_at_diagnosis</th>\n",
              "      <th>menopause_status_imputed</th>\n",
              "      <th>tumor_status_imputed</th>\n",
              "      <th>er_status_by_ihc_imputed</th>\n",
              "      <th>pr_status_by_ihc_imputed</th>\n",
              "      <th>her2_status_by_ihc_imputed</th>\n",
              "      <th>tumor_stage</th>\n",
              "      <th>pt</th>\n",
              "      <th>pn</th>\n",
              "      <th>pm</th>\n",
              "      <th>Plasma cells</th>\n",
              "      <th>B cells naive</th>\n",
              "      <th>B cells memory</th>\n",
              "      <th>T cells gamma delta</th>\n",
              "      <th>T cells CD8</th>\n",
              "      <th>T cells CD4 memory resting</th>\n",
              "      <th>T cells follicular helper</th>\n",
              "      <th>T cells regulatory (Tregs)</th>\n",
              "      <th>Macrophages M2</th>\n",
              "      <th>Neutrophils</th>\n",
              "      <th>NK cells activated</th>\n",
              "      <th>Mast cells resting</th>\n",
              "      <th>Dendritic cells resting</th>\n",
              "      <th>Macrophages M0</th>\n",
              "      <th>Macrophages M1</th>\n",
              "      <th>Mast cells activated</th>\n",
              "      <th>Eosinophils</th>\n",
              "    </tr>\n",
              "  </thead>\n",
              "  <tbody>\n",
              "    <tr>\n",
              "      <th>0</th>\n",
              "      <td>0</td>\n",
              "      <td>0</td>\n",
              "      <td>55</td>\n",
              "      <td>1.0</td>\n",
              "      <td>1</td>\n",
              "      <td>1.0</td>\n",
              "      <td>1.0</td>\n",
              "      <td>0.0</td>\n",
              "      <td>0.0</td>\n",
              "      <td>0.5</td>\n",
              "      <td>0.5</td>\n",
              "      <td>0.5</td>\n",
              "      <td>0.125726</td>\n",
              "      <td>0.163514</td>\n",
              "      <td>0.0</td>\n",
              "      <td>0.000000</td>\n",
              "      <td>0.031051</td>\n",
              "      <td>0.032553</td>\n",
              "      <td>0.031229</td>\n",
              "      <td>0.052758</td>\n",
              "      <td>0.260902</td>\n",
              "      <td>0.008330</td>\n",
              "      <td>0.014749</td>\n",
              "      <td>0.045618</td>\n",
              "      <td>0.008071</td>\n",
              "      <td>0.184920</td>\n",
              "      <td>0.040579</td>\n",
              "      <td>0.0</td>\n",
              "      <td>0.0</td>\n",
              "    </tr>\n",
              "    <tr>\n",
              "      <th>1</th>\n",
              "      <td>0</td>\n",
              "      <td>0</td>\n",
              "      <td>50</td>\n",
              "      <td>4.0</td>\n",
              "      <td>0</td>\n",
              "      <td>1.0</td>\n",
              "      <td>1.0</td>\n",
              "      <td>1.0</td>\n",
              "      <td>4.0</td>\n",
              "      <td>3.5</td>\n",
              "      <td>1.0</td>\n",
              "      <td>0.0</td>\n",
              "      <td>0.002263</td>\n",
              "      <td>0.026535</td>\n",
              "      <td>0.0</td>\n",
              "      <td>0.015586</td>\n",
              "      <td>0.146543</td>\n",
              "      <td>0.213623</td>\n",
              "      <td>0.061948</td>\n",
              "      <td>0.062993</td>\n",
              "      <td>0.062647</td>\n",
              "      <td>0.001752</td>\n",
              "      <td>0.000000</td>\n",
              "      <td>0.035095</td>\n",
              "      <td>0.000000</td>\n",
              "      <td>0.221950</td>\n",
              "      <td>0.103796</td>\n",
              "      <td>0.0</td>\n",
              "      <td>0.0</td>\n",
              "    </tr>\n",
              "    <tr>\n",
              "      <th>2</th>\n",
              "      <td>0</td>\n",
              "      <td>0</td>\n",
              "      <td>62</td>\n",
              "      <td>4.0</td>\n",
              "      <td>0</td>\n",
              "      <td>1.0</td>\n",
              "      <td>1.0</td>\n",
              "      <td>0.5</td>\n",
              "      <td>4.0</td>\n",
              "      <td>3.5</td>\n",
              "      <td>1.0</td>\n",
              "      <td>0.0</td>\n",
              "      <td>0.019830</td>\n",
              "      <td>0.082361</td>\n",
              "      <td>0.0</td>\n",
              "      <td>0.000000</td>\n",
              "      <td>0.211139</td>\n",
              "      <td>0.185140</td>\n",
              "      <td>0.018098</td>\n",
              "      <td>0.071896</td>\n",
              "      <td>0.114387</td>\n",
              "      <td>0.000000</td>\n",
              "      <td>0.000000</td>\n",
              "      <td>0.019158</td>\n",
              "      <td>0.000000</td>\n",
              "      <td>0.178111</td>\n",
              "      <td>0.071486</td>\n",
              "      <td>0.0</td>\n",
              "      <td>0.0</td>\n",
              "    </tr>\n",
              "    <tr>\n",
              "      <th>3</th>\n",
              "      <td>0</td>\n",
              "      <td>1</td>\n",
              "      <td>52</td>\n",
              "      <td>3.0</td>\n",
              "      <td>0</td>\n",
              "      <td>1.0</td>\n",
              "      <td>1.0</td>\n",
              "      <td>1.0</td>\n",
              "      <td>1.0</td>\n",
              "      <td>2.0</td>\n",
              "      <td>0.0</td>\n",
              "      <td>0.0</td>\n",
              "      <td>0.007169</td>\n",
              "      <td>0.059360</td>\n",
              "      <td>0.0</td>\n",
              "      <td>0.000000</td>\n",
              "      <td>0.147073</td>\n",
              "      <td>0.256614</td>\n",
              "      <td>0.029809</td>\n",
              "      <td>0.010244</td>\n",
              "      <td>0.136827</td>\n",
              "      <td>0.000000</td>\n",
              "      <td>0.057096</td>\n",
              "      <td>0.088808</td>\n",
              "      <td>0.017657</td>\n",
              "      <td>0.067364</td>\n",
              "      <td>0.088859</td>\n",
              "      <td>0.0</td>\n",
              "      <td>0.0</td>\n",
              "    </tr>\n",
              "    <tr>\n",
              "      <th>4</th>\n",
              "      <td>0</td>\n",
              "      <td>0</td>\n",
              "      <td>50</td>\n",
              "      <td>4.0</td>\n",
              "      <td>0</td>\n",
              "      <td>1.0</td>\n",
              "      <td>1.0</td>\n",
              "      <td>0.5</td>\n",
              "      <td>5.0</td>\n",
              "      <td>3.5</td>\n",
              "      <td>4.0</td>\n",
              "      <td>0.0</td>\n",
              "      <td>0.013257</td>\n",
              "      <td>0.045901</td>\n",
              "      <td>0.0</td>\n",
              "      <td>0.000000</td>\n",
              "      <td>0.067072</td>\n",
              "      <td>0.209942</td>\n",
              "      <td>0.070571</td>\n",
              "      <td>0.005324</td>\n",
              "      <td>0.186247</td>\n",
              "      <td>0.000000</td>\n",
              "      <td>0.025721</td>\n",
              "      <td>0.126248</td>\n",
              "      <td>0.003476</td>\n",
              "      <td>0.137158</td>\n",
              "      <td>0.077281</td>\n",
              "      <td>0.0</td>\n",
              "      <td>0.0</td>\n",
              "    </tr>\n",
              "    <tr>\n",
              "      <th>...</th>\n",
              "      <td>...</td>\n",
              "      <td>...</td>\n",
              "      <td>...</td>\n",
              "      <td>...</td>\n",
              "      <td>...</td>\n",
              "      <td>...</td>\n",
              "      <td>...</td>\n",
              "      <td>...</td>\n",
              "      <td>...</td>\n",
              "      <td>...</td>\n",
              "      <td>...</td>\n",
              "      <td>...</td>\n",
              "      <td>...</td>\n",
              "      <td>...</td>\n",
              "      <td>...</td>\n",
              "      <td>...</td>\n",
              "      <td>...</td>\n",
              "      <td>...</td>\n",
              "      <td>...</td>\n",
              "      <td>...</td>\n",
              "      <td>...</td>\n",
              "      <td>...</td>\n",
              "      <td>...</td>\n",
              "      <td>...</td>\n",
              "      <td>...</td>\n",
              "      <td>...</td>\n",
              "      <td>...</td>\n",
              "      <td>...</td>\n",
              "      <td>...</td>\n",
              "    </tr>\n",
              "    <tr>\n",
              "      <th>957</th>\n",
              "      <td>0</td>\n",
              "      <td>0</td>\n",
              "      <td>77</td>\n",
              "      <td>4.0</td>\n",
              "      <td>0</td>\n",
              "      <td>1.0</td>\n",
              "      <td>1.0</td>\n",
              "      <td>0.0</td>\n",
              "      <td>1.0</td>\n",
              "      <td>2.0</td>\n",
              "      <td>0.0</td>\n",
              "      <td>0.5</td>\n",
              "      <td>0.009526</td>\n",
              "      <td>0.090068</td>\n",
              "      <td>0.0</td>\n",
              "      <td>0.000000</td>\n",
              "      <td>0.079382</td>\n",
              "      <td>0.100526</td>\n",
              "      <td>0.117280</td>\n",
              "      <td>0.016399</td>\n",
              "      <td>0.162112</td>\n",
              "      <td>0.000000</td>\n",
              "      <td>0.009787</td>\n",
              "      <td>0.074153</td>\n",
              "      <td>0.040547</td>\n",
              "      <td>0.196089</td>\n",
              "      <td>0.056737</td>\n",
              "      <td>0.0</td>\n",
              "      <td>0.0</td>\n",
              "    </tr>\n",
              "    <tr>\n",
              "      <th>958</th>\n",
              "      <td>0</td>\n",
              "      <td>0</td>\n",
              "      <td>46</td>\n",
              "      <td>4.0</td>\n",
              "      <td>0</td>\n",
              "      <td>1.0</td>\n",
              "      <td>1.0</td>\n",
              "      <td>0.0</td>\n",
              "      <td>5.0</td>\n",
              "      <td>2.0</td>\n",
              "      <td>4.0</td>\n",
              "      <td>0.5</td>\n",
              "      <td>0.022749</td>\n",
              "      <td>0.141980</td>\n",
              "      <td>0.0</td>\n",
              "      <td>0.000000</td>\n",
              "      <td>0.125724</td>\n",
              "      <td>0.251630</td>\n",
              "      <td>0.000000</td>\n",
              "      <td>0.006963</td>\n",
              "      <td>0.120492</td>\n",
              "      <td>0.000000</td>\n",
              "      <td>0.000000</td>\n",
              "      <td>0.092697</td>\n",
              "      <td>0.000000</td>\n",
              "      <td>0.131413</td>\n",
              "      <td>0.060523</td>\n",
              "      <td>0.0</td>\n",
              "      <td>0.0</td>\n",
              "    </tr>\n",
              "    <tr>\n",
              "      <th>959</th>\n",
              "      <td>0</td>\n",
              "      <td>0</td>\n",
              "      <td>68</td>\n",
              "      <td>4.0</td>\n",
              "      <td>0</td>\n",
              "      <td>1.0</td>\n",
              "      <td>1.0</td>\n",
              "      <td>0.0</td>\n",
              "      <td>4.0</td>\n",
              "      <td>5.5</td>\n",
              "      <td>0.0</td>\n",
              "      <td>0.5</td>\n",
              "      <td>0.066398</td>\n",
              "      <td>0.152378</td>\n",
              "      <td>0.0</td>\n",
              "      <td>0.000000</td>\n",
              "      <td>0.076364</td>\n",
              "      <td>0.277219</td>\n",
              "      <td>0.000000</td>\n",
              "      <td>0.021180</td>\n",
              "      <td>0.142459</td>\n",
              "      <td>0.000900</td>\n",
              "      <td>0.017377</td>\n",
              "      <td>0.041422</td>\n",
              "      <td>0.000000</td>\n",
              "      <td>0.099863</td>\n",
              "      <td>0.079194</td>\n",
              "      <td>0.0</td>\n",
              "      <td>0.0</td>\n",
              "    </tr>\n",
              "    <tr>\n",
              "      <th>960</th>\n",
              "      <td>1</td>\n",
              "      <td>2</td>\n",
              "      <td>61</td>\n",
              "      <td>4.0</td>\n",
              "      <td>0</td>\n",
              "      <td>1.0</td>\n",
              "      <td>1.0</td>\n",
              "      <td>0.0</td>\n",
              "      <td>5.0</td>\n",
              "      <td>5.5</td>\n",
              "      <td>1.0</td>\n",
              "      <td>0.5</td>\n",
              "      <td>0.034830</td>\n",
              "      <td>0.116900</td>\n",
              "      <td>0.0</td>\n",
              "      <td>0.000000</td>\n",
              "      <td>0.183989</td>\n",
              "      <td>0.058776</td>\n",
              "      <td>0.035683</td>\n",
              "      <td>0.027816</td>\n",
              "      <td>0.171387</td>\n",
              "      <td>0.000000</td>\n",
              "      <td>0.047820</td>\n",
              "      <td>0.095280</td>\n",
              "      <td>0.008498</td>\n",
              "      <td>0.141588</td>\n",
              "      <td>0.015652</td>\n",
              "      <td>0.0</td>\n",
              "      <td>0.0</td>\n",
              "    </tr>\n",
              "    <tr>\n",
              "      <th>961</th>\n",
              "      <td>0</td>\n",
              "      <td>0</td>\n",
              "      <td>46</td>\n",
              "      <td>1.0</td>\n",
              "      <td>0</td>\n",
              "      <td>1.0</td>\n",
              "      <td>1.0</td>\n",
              "      <td>0.0</td>\n",
              "      <td>1.5</td>\n",
              "      <td>2.0</td>\n",
              "      <td>0.0</td>\n",
              "      <td>0.0</td>\n",
              "      <td>0.009582</td>\n",
              "      <td>0.064359</td>\n",
              "      <td>0.0</td>\n",
              "      <td>0.000000</td>\n",
              "      <td>0.096894</td>\n",
              "      <td>0.064545</td>\n",
              "      <td>0.017335</td>\n",
              "      <td>0.029637</td>\n",
              "      <td>0.095137</td>\n",
              "      <td>0.000000</td>\n",
              "      <td>0.000000</td>\n",
              "      <td>0.108954</td>\n",
              "      <td>0.034754</td>\n",
              "      <td>0.320591</td>\n",
              "      <td>0.152341</td>\n",
              "      <td>0.0</td>\n",
              "      <td>0.0</td>\n",
              "    </tr>\n",
              "  </tbody>\n",
              "</table>\n",
              "<p>962 rows × 29 columns</p>\n",
              "</div>"
            ],
            "text/plain": [
              "     history_other_malignancy  margin_status  ...  Mast cells activated  Eosinophils\n",
              "0                           0              0  ...                   0.0          0.0\n",
              "1                           0              0  ...                   0.0          0.0\n",
              "2                           0              0  ...                   0.0          0.0\n",
              "3                           0              1  ...                   0.0          0.0\n",
              "4                           0              0  ...                   0.0          0.0\n",
              "..                        ...            ...  ...                   ...          ...\n",
              "957                         0              0  ...                   0.0          0.0\n",
              "958                         0              0  ...                   0.0          0.0\n",
              "959                         0              0  ...                   0.0          0.0\n",
              "960                         1              2  ...                   0.0          0.0\n",
              "961                         0              0  ...                   0.0          0.0\n",
              "\n",
              "[962 rows x 29 columns]"
            ]
          },
          "metadata": {
            "tags": []
          },
          "execution_count": 136
        }
      ]
    },
    {
      "cell_type": "code",
      "metadata": {
        "id": "fK_hIfzMjELi",
        "colab": {
          "base_uri": "https://localhost:8080/"
        },
        "outputId": "11b4d3b0-ae9e-4ae2-c352-a5d460b2b945"
      },
      "source": [
        "#not stratified test accuracy\n",
        "from sksurv.metrics import concordance_index_censored\n",
        "x_train,x_test,y_train,y_test=train_test_split(\n",
        "    data_x,data_y,train_size=0.8,test_size=0.2,random_state=42)\n",
        "estimator_cox = CoxPHSurvivalAnalysis()\n",
        "estimator_cox.fit(x_train, y_train)\n",
        "x_test = x_test.astype('int32')\n",
        "prediction = estimator_cox.predict(x_test)\n",
        "result = concordance_index_censored(y_test[\"vital_status_boolean\"], y_test[\"survival_in_days\"], prediction)\n",
        "result[0]"
      ],
      "execution_count": null,
      "outputs": [
        {
          "output_type": "stream",
          "text": [
            "/usr/local/lib/python3.7/dist-packages/sksurv/linear_model/coxph.py:426: LinAlgWarning: Ill-conditioned matrix (rcond=8.36872e-17): result may not be accurate.\n",
            "  overwrite_a=False, overwrite_b=False, check_finite=False)\n",
            "/usr/local/lib/python3.7/dist-packages/sksurv/linear_model/coxph.py:426: LinAlgWarning: Ill-conditioned matrix (rcond=3.07867e-17): result may not be accurate.\n",
            "  overwrite_a=False, overwrite_b=False, check_finite=False)\n",
            "/usr/local/lib/python3.7/dist-packages/sksurv/linear_model/coxph.py:426: LinAlgWarning: Ill-conditioned matrix (rcond=1.13258e-17): result may not be accurate.\n",
            "  overwrite_a=False, overwrite_b=False, check_finite=False)\n",
            "/usr/local/lib/python3.7/dist-packages/sksurv/linear_model/coxph.py:426: LinAlgWarning: Ill-conditioned matrix (rcond=4.16655e-18): result may not be accurate.\n",
            "  overwrite_a=False, overwrite_b=False, check_finite=False)\n",
            "/usr/local/lib/python3.7/dist-packages/sksurv/linear_model/coxph.py:426: LinAlgWarning: Ill-conditioned matrix (rcond=1.53279e-18): result may not be accurate.\n",
            "  overwrite_a=False, overwrite_b=False, check_finite=False)\n"
          ],
          "name": "stderr"
        },
        {
          "output_type": "execute_result",
          "data": {
            "text/plain": [
              "0.7701149425287356"
            ]
          },
          "metadata": {
            "tags": []
          },
          "execution_count": 137
        }
      ]
    },
    {
      "cell_type": "code",
      "metadata": {
        "colab": {
          "base_uri": "https://localhost:8080/"
        },
        "id": "zWBSFVVyetMO",
        "outputId": "e16fed85-0e52-40b6-ad86-2c0041465376"
      },
      "source": [
        "from sksurv.metrics import concordance_index_censored\n",
        "sum_train =0\n",
        "sum_test = 0\n",
        "for i in range(42,47):\n",
        "  x_train,x_test,y_train,y_test=train_test_split(\n",
        "    data_x,data_y,train_size=0.8,test_size=0.2,random_state=i)\n",
        "  estimator_cox = CoxPHSurvivalAnalysis()\n",
        "  estimator_cox.fit(x_train, y_train)\n",
        "  x_test = x_test.astype('int32')\n",
        "  prediction = estimator_cox.predict(x_test)\n",
        "  result = concordance_index_censored(y_test[\"vital_status_boolean\"], y_test[\"survival_in_days\"], prediction)\n",
        "  #print(\"tain_result:\", estimator_cox.score(x_train, y_train))\n",
        "  sum_train+=estimator_cox.score(x_train, y_train)\n",
        "  #print(\"test_result:\", result[0])\n",
        "  sum_test+=result[0]\n",
        "  #print(i)\n"
      ],
      "execution_count": null,
      "outputs": [
        {
          "output_type": "stream",
          "text": [
            "/usr/local/lib/python3.7/dist-packages/sksurv/linear_model/coxph.py:426: LinAlgWarning: Ill-conditioned matrix (rcond=8.36872e-17): result may not be accurate.\n",
            "  overwrite_a=False, overwrite_b=False, check_finite=False)\n",
            "/usr/local/lib/python3.7/dist-packages/sksurv/linear_model/coxph.py:426: LinAlgWarning: Ill-conditioned matrix (rcond=3.07867e-17): result may not be accurate.\n",
            "  overwrite_a=False, overwrite_b=False, check_finite=False)\n",
            "/usr/local/lib/python3.7/dist-packages/sksurv/linear_model/coxph.py:426: LinAlgWarning: Ill-conditioned matrix (rcond=1.13258e-17): result may not be accurate.\n",
            "  overwrite_a=False, overwrite_b=False, check_finite=False)\n",
            "/usr/local/lib/python3.7/dist-packages/sksurv/linear_model/coxph.py:426: LinAlgWarning: Ill-conditioned matrix (rcond=4.16655e-18): result may not be accurate.\n",
            "  overwrite_a=False, overwrite_b=False, check_finite=False)\n",
            "/usr/local/lib/python3.7/dist-packages/sksurv/linear_model/coxph.py:426: LinAlgWarning: Ill-conditioned matrix (rcond=1.53279e-18): result may not be accurate.\n",
            "  overwrite_a=False, overwrite_b=False, check_finite=False)\n",
            "/usr/local/lib/python3.7/dist-packages/sksurv/linear_model/coxph.py:426: LinAlgWarning: Ill-conditioned matrix (rcond=6.74331e-17): result may not be accurate.\n",
            "  overwrite_a=False, overwrite_b=False, check_finite=False)\n",
            "/usr/local/lib/python3.7/dist-packages/sksurv/linear_model/coxph.py:426: LinAlgWarning: Ill-conditioned matrix (rcond=2.48075e-17): result may not be accurate.\n",
            "  overwrite_a=False, overwrite_b=False, check_finite=False)\n",
            "/usr/local/lib/python3.7/dist-packages/sksurv/linear_model/coxph.py:426: LinAlgWarning: Ill-conditioned matrix (rcond=9.1262e-18): result may not be accurate.\n",
            "  overwrite_a=False, overwrite_b=False, check_finite=False)\n",
            "/usr/local/lib/python3.7/dist-packages/sksurv/linear_model/coxph.py:426: LinAlgWarning: Ill-conditioned matrix (rcond=3.35734e-18): result may not be accurate.\n",
            "  overwrite_a=False, overwrite_b=False, check_finite=False)\n",
            "/usr/local/lib/python3.7/dist-packages/sksurv/linear_model/coxph.py:426: LinAlgWarning: Ill-conditioned matrix (rcond=1.2351e-18): result may not be accurate.\n",
            "  overwrite_a=False, overwrite_b=False, check_finite=False)\n",
            "/usr/local/lib/python3.7/dist-packages/sksurv/linear_model/coxph.py:426: LinAlgWarning: Ill-conditioned matrix (rcond=1.06841e-16): result may not be accurate.\n",
            "  overwrite_a=False, overwrite_b=False, check_finite=False)\n",
            "/usr/local/lib/python3.7/dist-packages/sksurv/linear_model/coxph.py:426: LinAlgWarning: Ill-conditioned matrix (rcond=3.92546e-17): result may not be accurate.\n",
            "  overwrite_a=False, overwrite_b=False, check_finite=False)\n",
            "/usr/local/lib/python3.7/dist-packages/sksurv/linear_model/coxph.py:426: LinAlgWarning: Ill-conditioned matrix (rcond=1.4441e-17): result may not be accurate.\n",
            "  overwrite_a=False, overwrite_b=False, check_finite=False)\n",
            "/usr/local/lib/python3.7/dist-packages/sksurv/linear_model/coxph.py:426: LinAlgWarning: Ill-conditioned matrix (rcond=5.31257e-18): result may not be accurate.\n",
            "  overwrite_a=False, overwrite_b=False, check_finite=False)\n",
            "/usr/local/lib/python3.7/dist-packages/sksurv/linear_model/coxph.py:426: LinAlgWarning: Ill-conditioned matrix (rcond=1.95439e-18): result may not be accurate.\n",
            "  overwrite_a=False, overwrite_b=False, check_finite=False)\n",
            "/usr/local/lib/python3.7/dist-packages/sksurv/linear_model/coxph.py:426: LinAlgWarning: Ill-conditioned matrix (rcond=7.2721e-17): result may not be accurate.\n",
            "  overwrite_a=False, overwrite_b=False, check_finite=False)\n",
            "/usr/local/lib/python3.7/dist-packages/sksurv/linear_model/coxph.py:426: LinAlgWarning: Ill-conditioned matrix (rcond=2.67528e-17): result may not be accurate.\n",
            "  overwrite_a=False, overwrite_b=False, check_finite=False)\n",
            "/usr/local/lib/python3.7/dist-packages/sksurv/linear_model/coxph.py:426: LinAlgWarning: Ill-conditioned matrix (rcond=9.84185e-18): result may not be accurate.\n",
            "  overwrite_a=False, overwrite_b=False, check_finite=False)\n",
            "/usr/local/lib/python3.7/dist-packages/sksurv/linear_model/coxph.py:426: LinAlgWarning: Ill-conditioned matrix (rcond=3.62062e-18): result may not be accurate.\n",
            "  overwrite_a=False, overwrite_b=False, check_finite=False)\n",
            "/usr/local/lib/python3.7/dist-packages/sksurv/linear_model/coxph.py:426: LinAlgWarning: Ill-conditioned matrix (rcond=1.33195e-18): result may not be accurate.\n",
            "  overwrite_a=False, overwrite_b=False, check_finite=False)\n"
          ],
          "name": "stderr"
        }
      ]
    },
    {
      "cell_type": "code",
      "metadata": {
        "colab": {
          "base_uri": "https://localhost:8080/"
        },
        "id": "nGNuCyz3fs_h",
        "outputId": "ee5b1625-65dd-4d24-b435-8bfb3b12633e"
      },
      "source": [
        "#non-stratified cox \n",
        "print(sum_train/5)\n",
        "print(sum_test/5)"
      ],
      "execution_count": null,
      "outputs": [
        {
          "output_type": "stream",
          "text": [
            "0.8856840330652991\n",
            "0.8303923199635788\n"
          ],
          "name": "stdout"
        }
      ]
    },
    {
      "cell_type": "code",
      "metadata": {
        "colab": {
          "base_uri": "https://localhost:8080/"
        },
        "id": "coGr9NFjXXiZ",
        "outputId": "5fff6cd1-1b85-4c7c-af0d-3e61b54f684b"
      },
      "source": [
        "#not stratified train accuracy\n",
        "estimator_cox.score(x_train, y_train)"
      ],
      "execution_count": null,
      "outputs": [
        {
          "output_type": "execute_result",
          "data": {
            "text/plain": [
              "0.8962023160762943"
            ]
          },
          "metadata": {
            "tags": []
          },
          "execution_count": 140
        }
      ]
    },
    {
      "cell_type": "code",
      "metadata": {
        "colab": {
          "base_uri": "https://localhost:8080/"
        },
        "id": "Mi12YN5UWHh6",
        "outputId": "50d1f862-fd54-4e24-a714-f2f9cb574d0d"
      },
      "source": [
        "#stratified test accuracy \n",
        "sum_test=0\n",
        "sum_train=0\n",
        "y_for_split = df_y[['vital_status_boolean']].to_records(index= False)\n",
        "for i in range(42,47):\n",
        "  x_train,x_test,y_train,y_test=train_test_split(\n",
        "      data_x,data_y,train_size=0.8,test_size=0.2,random_state=i, stratify=y_for_split)\n",
        "  estimator_str = CoxPHSurvivalAnalysis()\n",
        "  estimator_str.fit(x_train, y_train)\n",
        "  x_test = x_test.astype('int32')\n",
        "  prediction_str = estimator_str.predict(x_test)\n",
        "  result_str = concordance_index_censored(y_test[\"vital_status_boolean\"], y_test[\"survival_in_days\"], prediction_str)\n",
        "  result_str[0]\n",
        "  print(\"tain_result:\", estimator_cox.score(x_train, y_train))\n",
        "  sum_train+=estimator_str.score(x_train, y_train)\n",
        "  print(\"test_result:\", result[0])\n",
        "  sum_test+=result[0]"
      ],
      "execution_count": null,
      "outputs": [
        {
          "output_type": "stream",
          "text": [
            "/usr/local/lib/python3.7/dist-packages/sksurv/linear_model/coxph.py:426: LinAlgWarning: Ill-conditioned matrix (rcond=4.69636e-17): result may not be accurate.\n",
            "  overwrite_a=False, overwrite_b=False, check_finite=False)\n",
            "/usr/local/lib/python3.7/dist-packages/sksurv/linear_model/coxph.py:426: LinAlgWarning: Ill-conditioned matrix (rcond=1.7277e-17): result may not be accurate.\n",
            "  overwrite_a=False, overwrite_b=False, check_finite=False)\n",
            "/usr/local/lib/python3.7/dist-packages/sksurv/linear_model/coxph.py:426: LinAlgWarning: Ill-conditioned matrix (rcond=6.35588e-18): result may not be accurate.\n",
            "  overwrite_a=False, overwrite_b=False, check_finite=False)\n",
            "/usr/local/lib/python3.7/dist-packages/sksurv/linear_model/coxph.py:426: LinAlgWarning: Ill-conditioned matrix (rcond=2.3382e-18): result may not be accurate.\n",
            "  overwrite_a=False, overwrite_b=False, check_finite=False)\n"
          ],
          "name": "stderr"
        },
        {
          "output_type": "stream",
          "text": [
            "tain_result: 0.8378936499741869\n",
            "test_result: 0.847045191193511\n"
          ],
          "name": "stdout"
        },
        {
          "output_type": "stream",
          "text": [
            "/usr/local/lib/python3.7/dist-packages/sksurv/linear_model/coxph.py:426: LinAlgWarning: Ill-conditioned matrix (rcond=5.36044e-17): result may not be accurate.\n",
            "  overwrite_a=False, overwrite_b=False, check_finite=False)\n",
            "/usr/local/lib/python3.7/dist-packages/sksurv/linear_model/coxph.py:426: LinAlgWarning: Ill-conditioned matrix (rcond=1.97201e-17): result may not be accurate.\n",
            "  overwrite_a=False, overwrite_b=False, check_finite=False)\n",
            "/usr/local/lib/python3.7/dist-packages/sksurv/linear_model/coxph.py:426: LinAlgWarning: Ill-conditioned matrix (rcond=7.25463e-18): result may not be accurate.\n",
            "  overwrite_a=False, overwrite_b=False, check_finite=False)\n",
            "/usr/local/lib/python3.7/dist-packages/sksurv/linear_model/coxph.py:426: LinAlgWarning: Ill-conditioned matrix (rcond=2.66883e-18): result may not be accurate.\n",
            "  overwrite_a=False, overwrite_b=False, check_finite=False)\n",
            "/usr/local/lib/python3.7/dist-packages/sksurv/linear_model/coxph.py:426: LinAlgWarning: Ill-conditioned matrix (rcond=9.81809e-19): result may not be accurate.\n",
            "  overwrite_a=False, overwrite_b=False, check_finite=False)\n"
          ],
          "name": "stderr"
        },
        {
          "output_type": "stream",
          "text": [
            "tain_result: 0.8564138050341666\n",
            "test_result: 0.847045191193511\n"
          ],
          "name": "stdout"
        },
        {
          "output_type": "stream",
          "text": [
            "/usr/local/lib/python3.7/dist-packages/sksurv/linear_model/coxph.py:426: LinAlgWarning: Ill-conditioned matrix (rcond=1.02481e-16): result may not be accurate.\n",
            "  overwrite_a=False, overwrite_b=False, check_finite=False)\n",
            "/usr/local/lib/python3.7/dist-packages/sksurv/linear_model/coxph.py:426: LinAlgWarning: Ill-conditioned matrix (rcond=3.7139e-17): result may not be accurate.\n",
            "  overwrite_a=False, overwrite_b=False, check_finite=False)\n",
            "/usr/local/lib/python3.7/dist-packages/sksurv/linear_model/coxph.py:426: LinAlgWarning: Ill-conditioned matrix (rcond=1.36624e-17): result may not be accurate.\n",
            "  overwrite_a=False, overwrite_b=False, check_finite=False)\n",
            "/usr/local/lib/python3.7/dist-packages/sksurv/linear_model/coxph.py:426: LinAlgWarning: Ill-conditioned matrix (rcond=5.02614e-18): result may not be accurate.\n",
            "  overwrite_a=False, overwrite_b=False, check_finite=False)\n",
            "/usr/local/lib/python3.7/dist-packages/sksurv/linear_model/coxph.py:426: LinAlgWarning: Ill-conditioned matrix (rcond=1.84902e-18): result may not be accurate.\n",
            "  overwrite_a=False, overwrite_b=False, check_finite=False)\n"
          ],
          "name": "stderr"
        },
        {
          "output_type": "stream",
          "text": [
            "tain_result: 0.855001189815182\n",
            "test_result: 0.847045191193511\n"
          ],
          "name": "stdout"
        },
        {
          "output_type": "stream",
          "text": [
            "/usr/local/lib/python3.7/dist-packages/sksurv/linear_model/coxph.py:426: LinAlgWarning: Ill-conditioned matrix (rcond=5.11375e-17): result may not be accurate.\n",
            "  overwrite_a=False, overwrite_b=False, check_finite=False)\n",
            "/usr/local/lib/python3.7/dist-packages/sksurv/linear_model/coxph.py:426: LinAlgWarning: Ill-conditioned matrix (rcond=1.88126e-17): result may not be accurate.\n",
            "  overwrite_a=False, overwrite_b=False, check_finite=False)\n",
            "/usr/local/lib/python3.7/dist-packages/sksurv/linear_model/coxph.py:426: LinAlgWarning: Ill-conditioned matrix (rcond=6.92077e-18): result may not be accurate.\n",
            "  overwrite_a=False, overwrite_b=False, check_finite=False)\n",
            "/usr/local/lib/python3.7/dist-packages/sksurv/linear_model/coxph.py:426: LinAlgWarning: Ill-conditioned matrix (rcond=2.54601e-18): result may not be accurate.\n",
            "  overwrite_a=False, overwrite_b=False, check_finite=False)\n",
            "/usr/local/lib/python3.7/dist-packages/sksurv/linear_model/coxph.py:426: LinAlgWarning: Ill-conditioned matrix (rcond=9.36626e-19): result may not be accurate.\n",
            "  overwrite_a=False, overwrite_b=False, check_finite=False)\n"
          ],
          "name": "stderr"
        },
        {
          "output_type": "stream",
          "text": [
            "tain_result: 0.8432117527862208\n",
            "test_result: 0.847045191193511\n"
          ],
          "name": "stdout"
        },
        {
          "output_type": "stream",
          "text": [
            "/usr/local/lib/python3.7/dist-packages/sksurv/linear_model/coxph.py:426: LinAlgWarning: Ill-conditioned matrix (rcond=4.40165e-17): result may not be accurate.\n",
            "  overwrite_a=False, overwrite_b=False, check_finite=False)\n",
            "/usr/local/lib/python3.7/dist-packages/sksurv/linear_model/coxph.py:426: LinAlgWarning: Ill-conditioned matrix (rcond=1.61929e-17): result may not be accurate.\n",
            "  overwrite_a=False, overwrite_b=False, check_finite=False)\n",
            "/usr/local/lib/python3.7/dist-packages/sksurv/linear_model/coxph.py:426: LinAlgWarning: Ill-conditioned matrix (rcond=5.95703e-18): result may not be accurate.\n",
            "  overwrite_a=False, overwrite_b=False, check_finite=False)\n",
            "/usr/local/lib/python3.7/dist-packages/sksurv/linear_model/coxph.py:426: LinAlgWarning: Ill-conditioned matrix (rcond=2.19147e-18): result may not be accurate.\n",
            "  overwrite_a=False, overwrite_b=False, check_finite=False)\n"
          ],
          "name": "stderr"
        },
        {
          "output_type": "stream",
          "text": [
            "tain_result: 0.8500442941129097\n",
            "test_result: 0.847045191193511\n"
          ],
          "name": "stdout"
        }
      ]
    },
    {
      "cell_type": "code",
      "metadata": {
        "colab": {
          "base_uri": "https://localhost:8080/"
        },
        "id": "tsD1UQAdgUgs",
        "outputId": "59266de8-bbd7-4b9c-d577-6117b51b70c0"
      },
      "source": [
        "print(sum_train/5)\n",
        "print(sum_test/5)"
      ],
      "execution_count": null,
      "outputs": [
        {
          "output_type": "stream",
          "text": [
            "0.8611568138720201\n",
            "0.847045191193511\n"
          ],
          "name": "stdout"
        }
      ]
    },
    {
      "cell_type": "code",
      "metadata": {
        "colab": {
          "base_uri": "https://localhost:8080/"
        },
        "id": "nOVoMp4pbXLG",
        "outputId": "a7b54f97-6976-492e-90cf-79a94bf381ec"
      },
      "source": [
        "estimator_str.score(x_train, y_train)"
      ],
      "execution_count": null,
      "outputs": [
        {
          "output_type": "execute_result",
          "data": {
            "text/plain": [
              "0.8681646130305227"
            ]
          },
          "metadata": {
            "tags": []
          },
          "execution_count": 143
        }
      ]
    },
    {
      "cell_type": "code",
      "metadata": {
        "id": "QIQDlRhDW-VU",
        "colab": {
          "base_uri": "https://localhost:8080/"
        },
        "outputId": "05bb6f89-167d-4905-813f-8be02bb8f174"
      },
      "source": [
        "def fit_and_score_features(X, y):\n",
        "    n_features = X.shape[1]\n",
        "    scores = np.empty(n_features)\n",
        "    m = CoxPHSurvivalAnalysis()\n",
        "    for j in range(n_features):\n",
        "        Xj = X[:, j:j+1]\n",
        "        m.fit(Xj, y)\n",
        "        scores[j] = m.score(Xj, y)\n",
        "    return scores\n",
        "\n",
        "scores = fit_and_score_features(data_x.values, data_y)\n",
        "pd.Series(scores, index=data_x.columns).sort_values(ascending=False)"
      ],
      "execution_count": null,
      "outputs": [
        {
          "output_type": "execute_result",
          "data": {
            "text/plain": [
              "tumor_status_imputed          0.729446\n",
              "pn                            0.697111\n",
              "age_at_diagnosis              0.666010\n",
              "Plasma cells                  0.658524\n",
              "tumor_stage                   0.639585\n",
              "Macrophages M2                0.624744\n",
              "pt                            0.617599\n",
              "pr_status_by_ihc_imputed      0.616286\n",
              "B cells naive                 0.608826\n",
              "er_status_by_ihc_imputed      0.604623\n",
              "B cells memory                0.593643\n",
              "T cells gamma delta           0.587838\n",
              "menopause_status_imputed      0.585868\n",
              "Neutrophils                   0.576858\n",
              "NK cells activated            0.575808\n",
              "Mast cells resting            0.571710\n",
              "pm                            0.567428\n",
              "T cells CD8                   0.558970\n",
              "Dendritic cells resting       0.553402\n",
              "her2_status_by_ihc_imputed    0.552246\n",
              "margin_status                 0.542606\n",
              "Macrophages M0                0.541030\n",
              "T cells follicular helper     0.537457\n",
              "history_other_malignancy      0.534988\n",
              "T cells CD4 memory resting    0.528579\n",
              "Macrophages M1                0.527660\n",
              "Mast cells activated          0.523719\n",
              "T cells regulatory (Tregs)    0.517704\n",
              "Eosinophils                   0.506751\n",
              "dtype: float64"
            ]
          },
          "metadata": {
            "tags": []
          },
          "execution_count": 144
        }
      ]
    },
    {
      "cell_type": "code",
      "metadata": {
        "colab": {
          "base_uri": "https://localhost:8080/"
        },
        "id": "g7P22dvYjDST",
        "outputId": "df572435-9626-4bc1-f8a6-111d3ccce918"
      },
      "source": [
        "pd.Series(estimator_str.coef_, index=x_train.columns)"
      ],
      "execution_count": null,
      "outputs": [
        {
          "output_type": "execute_result",
          "data": {
            "text/plain": [
              "history_other_malignancy          1.647162\n",
              "margin_status                     0.044223\n",
              "age_at_diagnosis                  0.050937\n",
              "menopause_status_imputed         -0.149210\n",
              "tumor_status_imputed              2.173910\n",
              "er_status_by_ihc_imputed         -0.711885\n",
              "pr_status_by_ihc_imputed         -1.150544\n",
              "her2_status_by_ihc_imputed        0.540959\n",
              "tumor_stage                      -0.408138\n",
              "pt                                0.285313\n",
              "pn                                0.526124\n",
              "pm                               -0.329643\n",
              "Plasma cells                      0.311007\n",
              "B cells naive                    -1.482638\n",
              "B cells memory                   15.193054\n",
              "T cells gamma delta              -1.794002\n",
              "T cells CD8                      -2.473959\n",
              "T cells CD4 memory resting        1.964130\n",
              "T cells follicular helper         7.235946\n",
              "T cells regulatory (Tregs)       -8.127297\n",
              "Macrophages M2                    6.481704\n",
              "Neutrophils                      12.615329\n",
              "NK cells activated                5.218295\n",
              "Mast cells resting               -7.245044\n",
              "Dendritic cells resting          -7.335277\n",
              "Macrophages M0                   -1.562208\n",
              "Macrophages M1                   -3.268465\n",
              "Mast cells activated              4.963432\n",
              "Eosinophils                  -25267.774554\n",
              "dtype: float64"
            ]
          },
          "metadata": {
            "tags": []
          },
          "execution_count": 145
        }
      ]
    },
    {
      "cell_type": "code",
      "metadata": {
        "id": "jfvYIrZPidng"
      },
      "source": [
        ""
      ],
      "execution_count": null,
      "outputs": []
    },
    {
      "cell_type": "markdown",
      "metadata": {
        "id": "lzLuhb6V8dTH"
      },
      "source": [
        "#PCOX"
      ]
    },
    {
      "cell_type": "code",
      "metadata": {
        "id": "JeGaQrjp8Cyl"
      },
      "source": [
        "from sksurv.linear_model import CoxPHSurvivalAnalysis, CoxnetSurvivalAnalysis\n",
        "from sksurv.preprocessing import OneHotEncoder\n",
        "\n",
        "from sklearn.model_selection import GridSearchCV, KFold\n",
        "from sklearn.pipeline import make_pipeline\n",
        "from sklearn.preprocessing import StandardScaler"
      ],
      "execution_count": null,
      "outputs": []
    },
    {
      "cell_type": "code",
      "metadata": {
        "colab": {
          "base_uri": "https://localhost:8080/"
        },
        "id": "Ux_kcoxohiIf",
        "outputId": "a1c81bb1-fb04-40ee-fab1-8bb00db3a3b9"
      },
      "source": [
        "#non-stratified \n",
        "#pcox test accuracy\n",
        "#train with train and test with test\n",
        "sum_test=0\n",
        "sum_train=0\n",
        "Xt=data_x\n",
        "y=data_y\n",
        "y_for_split = df_y[['vital_status_boolean']].to_records(index= False)\n",
        "for i in range(42,47):\n",
        "  x_train,x_test,y_train,y_test=train_test_split(\n",
        "      Xt,y,train_size=0.8,test_size=0.2,random_state=i)\n",
        "  cox_elastic_net = CoxnetSurvivalAnalysis(l1_ratio=0.9, alpha_min_ratio=0.01)\n",
        "  cox_elastic_net.fit(x_train, y_train)\n",
        "  x_test = x_test.astype('int32')\n",
        "  prediction = cox_elastic_net.predict(x_test)\n",
        "  result = concordance_index_censored(y_test[\"vital_status_boolean\"], y_test[\"survival_in_days\"], prediction)\n",
        "  result[0]\n",
        "  print(\"tain_result:\", cox_elastic_net.score(x_train, y_train))\n",
        "  sum_train+=cox_elastic_net.score(x_train, y_train)\n",
        "  print(\"test_result:\", result[0])\n",
        "  sum_test+=result[0]"
      ],
      "execution_count": null,
      "outputs": [
        {
          "output_type": "stream",
          "text": [
            "tain_result: 0.8752287392853704\n",
            "test_result: 0.7750410509031199\n",
            "tain_result: 0.8708768778576094\n",
            "test_result: 0.8333333333333334\n",
            "tain_result: 0.8604392229133072\n",
            "test_result: 0.8269961977186312\n",
            "tain_result: 0.86581836752064\n",
            "test_result: 0.7949308755760369\n",
            "tain_result: 0.8552452316076294\n",
            "test_result: 0.8273464658169177\n"
          ],
          "name": "stdout"
        }
      ]
    },
    {
      "cell_type": "code",
      "metadata": {
        "colab": {
          "base_uri": "https://localhost:8080/"
        },
        "id": "YvigUZ7dht8r",
        "outputId": "bc3775dd-4572-4bf5-e675-27bb6e570a7a"
      },
      "source": [
        "print(sum_test/5)\n",
        "print(sum_train/5)"
      ],
      "execution_count": null,
      "outputs": [
        {
          "output_type": "stream",
          "text": [
            "0.8115295846696078\n",
            "0.8655216878369114\n"
          ],
          "name": "stdout"
        }
      ]
    },
    {
      "cell_type": "code",
      "metadata": {
        "id": "zFm4AkpoxTeG",
        "colab": {
          "base_uri": "https://localhost:8080/"
        },
        "outputId": "afdd994a-7d0b-40b9-88f1-e257c3ae982c"
      },
      "source": [
        "\n",
        "Xt=data_x\n",
        "y=data_y\n",
        "x_train,x_test,y_train,y_test=train_test_split(\n",
        "    Xt,y,train_size=0.8,test_size=0.2,random_state=42)\n",
        "cox_elastic_net = CoxnetSurvivalAnalysis(l1_ratio=0.9, alpha_min_ratio=0.01)\n",
        "cox_elastic_net.fit(x_train, y_train)\n",
        "x_test = x_test.astype('int32')\n",
        "prediction = cox_elastic_net.predict(x_test)\n",
        "result = concordance_index_censored(y_test[\"vital_status_boolean\"], y_test[\"survival_in_days\"], prediction)\n",
        "result[0]"
      ],
      "execution_count": null,
      "outputs": [
        {
          "output_type": "execute_result",
          "data": {
            "text/plain": [
              "0.7750410509031199"
            ]
          },
          "metadata": {
            "tags": []
          },
          "execution_count": 149
        }
      ]
    },
    {
      "cell_type": "code",
      "metadata": {
        "id": "LZCJmVXZZz63",
        "colab": {
          "base_uri": "https://localhost:8080/"
        },
        "outputId": "e527079f-3463-4812-a6a1-ddef67561bf0"
      },
      "source": [
        "#pcox train accuracy\n",
        "cox_elastic_net.score(x_train, y_train)"
      ],
      "execution_count": null,
      "outputs": [
        {
          "output_type": "execute_result",
          "data": {
            "text/plain": [
              "0.8752287392853704"
            ]
          },
          "metadata": {
            "tags": []
          },
          "execution_count": 150
        }
      ]
    },
    {
      "cell_type": "code",
      "metadata": {
        "colab": {
          "base_uri": "https://localhost:8080/"
        },
        "id": "WUXmw5KriOBU",
        "outputId": "8cd6bf0c-6205-49ff-d0f6-711596808eac"
      },
      "source": [
        "#stratified test accuracy multiple sampling \n",
        "sum_test=0\n",
        "sum_train=0\n",
        "for i in range(42,47):\n",
        "  x_train,x_test,y_train,y_test=train_test_split(\n",
        "    Xt,y,train_size=0.8,test_size=0.2,random_state=i,stratify=y_for_split)\n",
        "  cox_elastic_net = CoxnetSurvivalAnalysis(l1_ratio=0.9, alpha_min_ratio=0.01)\n",
        "  cox_elastic_net.fit(x_train, y_train)\n",
        "  x_test = x_test.astype('int32')\n",
        "  prediction = cox_elastic_net.predict(x_test)\n",
        "  result = concordance_index_censored(y_test[\"vital_status_boolean\"], y_test[\"survival_in_days\"], prediction)\n",
        "  result[0]\n",
        "  print(\"tain_result:\", cox_elastic_net.score(x_train, y_train))\n",
        "  sum_train+=cox_elastic_net.score(x_train, y_train)\n",
        "  print(\"test_result:\", result[0])\n",
        "  sum_test+=result[0]\n",
        "\n",
        "print(sum_test/5)\n",
        "print(sum_train/5)"
      ],
      "execution_count": null,
      "outputs": [
        {
          "output_type": "stream",
          "text": [
            "tain_result: 0.8285148855618655\n",
            "test_result: 0.9388209121245829\n",
            "tain_result: 0.8550298417091947\n",
            "test_result: 0.8973799126637555\n",
            "tain_result: 0.8561910049972238\n",
            "test_result: 0.9016641452344932\n",
            "tain_result: 0.838483620398514\n",
            "test_result: 0.8861209964412812\n",
            "tain_result: 0.8424337601675123\n",
            "test_result: 0.8974719101123596\n",
            "0.9042915753152944\n",
            "0.8441306225668621\n"
          ],
          "name": "stdout"
        }
      ]
    },
    {
      "cell_type": "code",
      "metadata": {
        "id": "OVMLD55KZtFr",
        "colab": {
          "base_uri": "https://localhost:8080/"
        },
        "outputId": "55f68687-e63a-4e51-9fbe-6017f1f9248f"
      },
      "source": [
        "#stratified test accuracy\n",
        "x_train,x_test,y_train,y_test=train_test_split(\n",
        "    Xt,y,train_size=0.8,test_size=0.2,random_state=42,stratify=y_for_split)\n",
        "cox_elastic_net = CoxnetSurvivalAnalysis(l1_ratio=0.9, alpha_min_ratio=0.01)\n",
        "cox_elastic_net.fit(x_train, y_train)\n",
        "x_test = x_test.astype('int32')\n",
        "prediction = cox_elastic_net.predict(x_test)\n",
        "result = concordance_index_censored(y_test[\"vital_status_boolean\"], y_test[\"survival_in_days\"], prediction)\n",
        "result[0]"
      ],
      "execution_count": null,
      "outputs": [
        {
          "output_type": "execute_result",
          "data": {
            "text/plain": [
              "0.9388209121245829"
            ]
          },
          "metadata": {
            "tags": []
          },
          "execution_count": 152
        }
      ]
    },
    {
      "cell_type": "code",
      "metadata": {
        "colab": {
          "base_uri": "https://localhost:8080/"
        },
        "id": "6JI7T70TavMX",
        "outputId": "7bd30c0d-9fdd-458a-b704-1afedd77ac2c"
      },
      "source": [
        "#stratified train accuracy\n",
        "cox_elastic_net.score(x_train, y_train)"
      ],
      "execution_count": null,
      "outputs": [
        {
          "output_type": "execute_result",
          "data": {
            "text/plain": [
              "0.8285148855618655"
            ]
          },
          "metadata": {
            "tags": []
          },
          "execution_count": 153
        }
      ]
    },
    {
      "cell_type": "code",
      "metadata": {
        "id": "PD5NDfBuwYLg",
        "colab": {
          "base_uri": "https://localhost:8080/"
        },
        "outputId": "787fdc83-afe0-409e-f15b-7bedb79a16cc"
      },
      "source": [
        "cox_elastic_net.score(x_test, y_test)"
      ],
      "execution_count": null,
      "outputs": [
        {
          "output_type": "execute_result",
          "data": {
            "text/plain": [
              "0.9388209121245829"
            ]
          },
          "metadata": {
            "tags": []
          },
          "execution_count": 154
        }
      ]
    },
    {
      "cell_type": "code",
      "metadata": {
        "id": "j0--TsCoxhYT"
      },
      "source": [
        ""
      ],
      "execution_count": null,
      "outputs": []
    },
    {
      "cell_type": "code",
      "metadata": {
        "id": "DBXtC8nexhk9"
      },
      "source": [
        ""
      ],
      "execution_count": null,
      "outputs": []
    },
    {
      "cell_type": "code",
      "metadata": {
        "id": "tsOj_FrVxmPZ"
      },
      "source": [
        "import seaborn as sns\n",
        "sns.set_context('talk')"
      ],
      "execution_count": null,
      "outputs": []
    },
    {
      "cell_type": "code",
      "metadata": {
        "id": "k5GuG1mHZnfZ",
        "colab": {
          "base_uri": "https://localhost:8080/",
          "height": 629
        },
        "outputId": "5018243d-9bb6-4f08-cdef-4df80a33c465"
      },
      "source": [
        "coefficients_elastic_net = pd.DataFrame(\n",
        "    cox_elastic_net.coef_,\n",
        "    index=Xt.columns,\n",
        "    columns=np.round(cox_elastic_net.alphas_, 7)\n",
        ")\n",
        "plot_coefficients(coefficients_elastic_net, n_highlight=5)"
      ],
      "execution_count": null,
      "outputs": [
        {
          "output_type": "display_data",
          "data": {
            "image/png": "[encoded data removed]",
            "text/plain": [
              "<Figure size 1080x720 with 1 Axes>"
            ]
          },
          "metadata": {
            "tags": [],
            "needs_background": "light"
          }
        }
      ]
    },
    {
      "cell_type": "code",
      "metadata": {
        "colab": {
          "base_uri": "https://localhost:8080/",
          "height": 34
        },
        "id": "_n_EVTqJy3Uk",
        "outputId": "de80a565-5965-46b7-b166-b82520f4c066"
      },
      "source": [
        "plt.savefig('/content/drive/MyDrive/Year Three/CS4220yxy/CT_PCOX_ENET.svg')"
      ],
      "execution_count": null,
      "outputs": [
        {
          "output_type": "display_data",
          "data": {
            "text/plain": [
              "<Figure size 432x288 with 0 Axes>"
            ]
          },
          "metadata": {
            "tags": []
          }
        }
      ]
    },
    {
      "cell_type": "code",
      "metadata": {
        "id": "iDKLndf6f8N8"
      },
      "source": [
        "alphas = 10. ** np.linspace(-4, 4, 50)\n",
        "coefficients = {}\n",
        "\n",
        "cph = CoxPHSurvivalAnalysis()\n",
        "for alpha in alphas:\n",
        "    cph.set_params(alpha=alpha)\n",
        "    cph.fit(Xt, y)\n",
        "    key = round(alpha, 5)\n",
        "    coefficients[key] = cph.coef_\n",
        "\n",
        "coefficients = (pd.DataFrame\n",
        "    .from_dict(coefficients)\n",
        "    .rename_axis(index=\"feature\", columns=\"alpha\")\n",
        "    .set_index(Xt.columns))"
      ],
      "execution_count": null,
      "outputs": []
    },
    {
      "cell_type": "code",
      "metadata": {
        "colab": {
          "base_uri": "https://localhost:8080/",
          "height": 738
        },
        "id": "ZbuAM65Uf-xE",
        "outputId": "aad5cb21-f7a8-4466-9eb3-5004835b0697"
      },
      "source": [
        "def plot_coefficients(coefs, n_highlight):\n",
        "    _, ax = plt.subplots(figsize=(18, 12))\n",
        "    n_features = coefs.shape[0]\n",
        "    alphas = coefs.columns\n",
        "    for row in coefs.itertuples():\n",
        "        ax.semilogx(alphas, row[1:], \".-\", label=row.Index)\n",
        "\n",
        "    alpha_min = alphas.min()\n",
        "    top_coefs = coefs.loc[:, alpha_min].map(abs).sort_values().tail(n_highlight)\n",
        "    for name in top_coefs.index:\n",
        "        coef = coefs.loc[name, alpha_min]\n",
        "        plt.text(\n",
        "            alpha_min, coef, name + \"   \",\n",
        "            horizontalalignment=\"right\",\n",
        "            verticalalignment=\"center\"\n",
        "        )\n",
        "        #ax.legend(['B cells memory', 'NK cells activated', 'Macrophages M2','B cells naive', 'Mast cell resting', 'T cell regulatory (Tregs)','Eosinophils'],loc='upper right', frameon=False)\n",
        "\n",
        "    ax.yaxis.set_label_position(\"right\")\n",
        "    ax.yaxis.tick_right()\n",
        "    ax.grid(True)\n",
        "    ax.set_xlabel(\"alpha\")\n",
        "    ax.set_ylabel(\"coefficient\")\n",
        "    \n",
        "\n",
        "plot_coefficients(coefficients, n_highlight=8)"
      ],
      "execution_count": null,
      "outputs": [
        {
          "output_type": "display_data",
          "data": {
            "image/png": "[encoded data removed]",
            "text/plain": [
              "<Figure size 1296x864 with 1 Axes>"
            ]
          },
          "metadata": {
            "tags": [],
            "needs_background": "light"
          }
        }
      ]
    },
    {
      "cell_type": "code",
      "metadata": {
        "id": "y7QCslBhxf2k"
      },
      "source": [
        "#savefig('/content/drive/MyDrive/Year Three/CS4220yxy/CT_PCOX_Ridge.svg')"
      ],
      "execution_count": null,
      "outputs": []
    }
  ]
}