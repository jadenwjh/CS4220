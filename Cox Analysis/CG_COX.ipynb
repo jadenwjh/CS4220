{
  "nbformat": 4,
  "nbformat_minor": 0,
  "metadata": {
    "colab": {
      "name": "Prognostic_genes+clinical.ipynb",
      "provenance": []
    },
    "kernelspec": {
      "name": "python3",
      "display_name": "Python 3"
    },
    "language_info": {
      "name": "python"
    }
  },
  "cells": [
    {
      "cell_type": "code",
      "metadata": {
        "id": "aIQ7J3ZCP9kE",
        "colab": {
          "base_uri": "https://localhost:8080/"
        },
        "outputId": "2d9970ee-0a2d-4fc2-9c82-7ce20c23fdc2"
      },
      "source": [
        "from google.colab import drive\n",
        "drive.mount('/content/drive')"
      ],
      "execution_count": null,
      "outputs": [
        {
          "output_type": "stream",
          "text": [
            "Mounted at /content/drive\n"
          ],
          "name": "stdout"
        }
      ]
    },
    {
      "cell_type": "code",
      "metadata": {
        "id": "RhTva95lQD_c",
        "colab": {
          "base_uri": "https://localhost:8080/",
          "height": 1000
        },
        "outputId": "7b58582d-1f2d-4405-d1b7-73fdb74f9d96"
      },
      "source": [
        "!pip install -U pip setuptools\n",
        "!pip uninstall --yes --quiet osqp\n",
        "!pip install scikit-survival"
      ],
      "execution_count": null,
      "outputs": [
        {
          "output_type": "stream",
          "text": [
            "Collecting pip\n",
            "\u001b[?25l  Downloading https://files.pythonhosted.org/packages/fe/ef/60d7ba03b5c442309ef42e7d69959f73aacccd0d86008362a681c4698e83/pip-21.0.1-py3-none-any.whl (1.5MB)\n",
            "\u001b[K     |████████████████████████████████| 1.5MB 5.5MB/s \n",
            "\u001b[?25hCollecting setuptools\n",
            "\u001b[?25l  Downloading https://files.pythonhosted.org/packages/ae/42/2876a3a136f8bfa9bd703518441c8db78ff1eeaddf174baa85c083c1fd15/setuptools-56.0.0-py3-none-any.whl (784kB)\n",
            "\u001b[K     |████████████████████████████████| 788kB 18.5MB/s \n",
            "\u001b[31mERROR: datascience 0.10.6 has requirement folium==0.2.1, but you'll have folium 0.8.3 which is incompatible.\u001b[0m\n",
            "\u001b[?25hInstalling collected packages: pip, setuptools\n",
            "  Found existing installation: pip 19.3.1\n",
            "    Uninstalling pip-19.3.1:\n",
            "      Successfully uninstalled pip-19.3.1\n",
            "  Found existing installation: setuptools 54.2.0\n",
            "    Uninstalling setuptools-54.2.0:\n",
            "      Successfully uninstalled setuptools-54.2.0\n",
            "Successfully installed pip-21.0.1 setuptools-56.0.0\n"
          ],
          "name": "stdout"
        },
        {
          "output_type": "display_data",
          "data": {
            "application/vnd.colab-display-data+json": {
              "pip_warning": {
                "packages": [
                  "pkg_resources"
                ]
              }
            }
          },
          "metadata": {
            "tags": []
          }
        },
        {
          "output_type": "stream",
          "text": [
            "Collecting scikit-survival\n",
            "  Downloading scikit-survival-0.15.0.post0.tar.gz (2.4 MB)\n",
            "\u001b[K     |████████████████████████████████| 2.4 MB 6.1 MB/s \n",
            "\u001b[?25h  Installing build dependencies ... \u001b[?25l\u001b[?25hdone\n",
            "  Getting requirements to build wheel ... \u001b[?25l\u001b[?25herror\n",
            "\u001b[33mWARNING: Discarding https://files.pythonhosted.org/packages/91/f0/047ce90bb831ab34ca287d1d23f0c61b6546cd89494566898c0e17516990/scikit-survival-0.15.0.post0.tar.gz#sha256=572c3ac6818a9d0944fc4b8176eb948051654de857e28419ecc5060bcc6fbf37 (from https://pypi.org/simple/scikit-survival/) (requires-python:>=3.7). Command errored out with exit status 1: /usr/bin/python3 /usr/local/lib/python3.7/dist-packages/pip/_vendor/pep517/_in_process.py get_requires_for_build_wheel /tmp/tmpqxpbjrsu Check the logs for full command output.\u001b[0m\n",
            "  Downloading scikit-survival-0.14.0.tar.gz (2.3 MB)\n",
            "\u001b[K     |████████████████████████████████| 2.3 MB 41.0 MB/s \n",
            "\u001b[?25h  Installing build dependencies ... \u001b[?25l\u001b[?25hdone\n",
            "  Getting requirements to build wheel ... \u001b[?25l\u001b[?25hdone\n",
            "    Preparing wheel metadata ... \u001b[?25l\u001b[?25hdone\n",
            "Requirement already satisfied: joblib in /usr/local/lib/python3.7/dist-packages (from scikit-survival) (1.0.1)\n",
            "Requirement already satisfied: scikit-learn<0.24,>=0.22.0 in /usr/local/lib/python3.7/dist-packages (from scikit-survival) (0.22.2.post1)\n",
            "Requirement already satisfied: cvxpy>=1.0 in /usr/local/lib/python3.7/dist-packages (from scikit-survival) (1.0.31)\n",
            "Collecting osqp!=0.6.0,!=0.6.1\n",
            "  Downloading osqp-0.6.2.post0-cp37-cp37m-manylinux2014_x86_64.whl (212 kB)\n",
            "\u001b[K     |████████████████████████████████| 212 kB 33.0 MB/s \n",
            "\u001b[?25hRequirement already satisfied: numpy in /usr/local/lib/python3.7/dist-packages (from scikit-survival) (1.19.5)\n",
            "Requirement already satisfied: cvxopt in /usr/local/lib/python3.7/dist-packages (from scikit-survival) (1.2.6)\n",
            "Requirement already satisfied: scipy!=1.3.0,>=1.0 in /usr/local/lib/python3.7/dist-packages (from scikit-survival) (1.4.1)\n",
            "Requirement already satisfied: numexpr in /usr/local/lib/python3.7/dist-packages (from scikit-survival) (2.7.3)\n",
            "Requirement already satisfied: pandas>=0.21 in /usr/local/lib/python3.7/dist-packages (from scikit-survival) (1.1.5)\n",
            "Requirement already satisfied: multiprocess in /usr/local/lib/python3.7/dist-packages (from cvxpy>=1.0->scikit-survival) (0.70.11.1)\n",
            "Requirement already satisfied: scs>=1.1.3 in /usr/local/lib/python3.7/dist-packages (from cvxpy>=1.0->scikit-survival) (2.1.3)\n",
            "Requirement already satisfied: ecos>=2 in /usr/local/lib/python3.7/dist-packages (from cvxpy>=1.0->scikit-survival) (2.0.7.post1)\n",
            "Requirement already satisfied: qdldl in /usr/local/lib/python3.7/dist-packages (from osqp!=0.6.0,!=0.6.1->scikit-survival) (0.1.5.post0)\n",
            "Requirement already satisfied: pytz>=2017.2 in /usr/local/lib/python3.7/dist-packages (from pandas>=0.21->scikit-survival) (2018.9)\n",
            "Requirement already satisfied: python-dateutil>=2.7.3 in /usr/local/lib/python3.7/dist-packages (from pandas>=0.21->scikit-survival) (2.8.1)\n",
            "Requirement already satisfied: six>=1.5 in /usr/local/lib/python3.7/dist-packages (from python-dateutil>=2.7.3->pandas>=0.21->scikit-survival) (1.15.0)\n",
            "Requirement already satisfied: dill>=0.3.3 in /usr/local/lib/python3.7/dist-packages (from multiprocess->cvxpy>=1.0->scikit-survival) (0.3.3)\n",
            "Building wheels for collected packages: scikit-survival\n",
            "  Building wheel for scikit-survival (PEP 517) ... \u001b[?25l\u001b[?25hdone\n",
            "  Created wheel for scikit-survival: filename=scikit_survival-0.14.0-cp37-cp37m-linux_x86_64.whl size=4061834 sha256=c054da18c298e3d508428e02b5926918bd1aad2cce260d0e481f8769616a3de7\n",
            "  Stored in directory: /root/.cache/pip/wheels/a2/3e/97/3722ba215d3dfe5429c1a7e4f24f535a3f46004fb29a16d505\n",
            "Successfully built scikit-survival\n",
            "Installing collected packages: osqp, scikit-survival\n",
            "Successfully installed osqp-0.6.2.post0 scikit-survival-0.14.0\n"
          ],
          "name": "stdout"
        }
      ]
    },
    {
      "cell_type": "code",
      "metadata": {
        "id": "f1pLs6yDQFcT"
      },
      "source": [
        "import numpy as np\n",
        "import matplotlib.pyplot as plt\n",
        "import pandas as pd\n",
        "\n",
        "from sklearn.model_selection import train_test_split\n",
        "from sklearn.linear_model import LinearRegression\n",
        "from sksurv.nonparametric import kaplan_meier_estimator"
      ],
      "execution_count": null,
      "outputs": []
    },
    {
      "cell_type": "code",
      "metadata": {
        "id": "z_uf2DCNQLXu"
      },
      "source": [
        "data_ciber= pd.read_csv(\"/content/drive/MyDrive/Year Three/CS4220yxy/CIBERSORT.Output_Job4.csv\")\n",
        "data_gene =  pd.read_csv(\"/content/drive/MyDrive/Year Three/CS4220yxy/prognostic_genes.csv\")\n",
        "data_x_imported=pd.read_csv(\"/content/drive/MyDrive/Year Three/CS4220yxy/data_x.csv\")\n",
        "data_imp=pd.read_csv(\"/content/drive/MyDrive/Year Three/CS4220yxy/data_imp.csv\")"
      ],
      "execution_count": null,
      "outputs": []
    },
    {
      "cell_type": "code",
      "metadata": {
        "colab": {
          "base_uri": "https://localhost:8080/",
          "height": 966
        },
        "id": "9tb61Je5j0HG",
        "outputId": "5bb71189-f53b-46de-8037-b6a42724b37d"
      },
      "source": [
        "data_gene"
      ],
      "execution_count": null,
      "outputs": [
        {
          "output_type": "execute_result",
          "data": {
            "text/html": [
              "<div>\n",
              "<style scoped>\n",
              "    .dataframe tbody tr th:only-of-type {\n",
              "        vertical-align: middle;\n",
              "    }\n",
              "\n",
              "    .dataframe tbody tr th {\n",
              "        vertical-align: top;\n",
              "    }\n",
              "\n",
              "    .dataframe thead th {\n",
              "        text-align: right;\n",
              "    }\n",
              "</style>\n",
              "<table border=\"1\" class=\"dataframe\">\n",
              "  <thead>\n",
              "    <tr style=\"text-align: right;\">\n",
              "      <th></th>\n",
              "      <th>Unnamed: 0</th>\n",
              "      <th>filename</th>\n",
              "      <th>BRCA2</th>\n",
              "      <th>RAF1</th>\n",
              "      <th>HRAS</th>\n",
              "      <th>PIK3CA</th>\n",
              "      <th>CHEK2</th>\n",
              "      <th>MYC</th>\n",
              "      <th>BRCA1</th>\n",
              "      <th>PTEN</th>\n",
              "      <th>STK11</th>\n",
              "      <th>PALB2</th>\n",
              "      <th>TP53</th>\n",
              "      <th>CDH1</th>\n",
              "      <th>ERBB2</th>\n",
              "      <th>case_id</th>\n",
              "      <th>uuid</th>\n",
              "    </tr>\n",
              "  </thead>\n",
              "  <tbody>\n",
              "    <tr>\n",
              "      <th>0</th>\n",
              "      <td>0</td>\n",
              "      <td>a5dc521e-bee4-489c-8679-d4b90a327d33.FPKM.txt.gz</td>\n",
              "      <td>0.405744</td>\n",
              "      <td>20.514745</td>\n",
              "      <td>5.346740</td>\n",
              "      <td>4.531447</td>\n",
              "      <td>6.498114</td>\n",
              "      <td>61.566397</td>\n",
              "      <td>6.068113</td>\n",
              "      <td>16.156906</td>\n",
              "      <td>2.219489</td>\n",
              "      <td>5.669937</td>\n",
              "      <td>20.498861</td>\n",
              "      <td>264.985569</td>\n",
              "      <td>39.619147</td>\n",
              "      <td>ba89cb4f-cd63-47b1-9550-76fdaff89f2e</td>\n",
              "      <td>TCGA-A2-A25E</td>\n",
              "    </tr>\n",
              "    <tr>\n",
              "      <th>1</th>\n",
              "      <td>1</td>\n",
              "      <td>d229a59b-4f6c-4714-8dd5-1c714a764b22.FPKM.txt.gz</td>\n",
              "      <td>0.915719</td>\n",
              "      <td>16.426665</td>\n",
              "      <td>14.341597</td>\n",
              "      <td>4.505233</td>\n",
              "      <td>3.164234</td>\n",
              "      <td>12.457714</td>\n",
              "      <td>1.323357</td>\n",
              "      <td>13.851366</td>\n",
              "      <td>5.810507</td>\n",
              "      <td>4.379566</td>\n",
              "      <td>15.941618</td>\n",
              "      <td>9.232411</td>\n",
              "      <td>25.470280</td>\n",
              "      <td>959ff069-8a49-4c9b-85c2-5291cac0acff</td>\n",
              "      <td>TCGA-C8-A3M7</td>\n",
              "    </tr>\n",
              "    <tr>\n",
              "      <th>2</th>\n",
              "      <td>2</td>\n",
              "      <td>ee05eaa6-eaca-4438-ac1f-4259f525e2a1.FPKM.txt.gz</td>\n",
              "      <td>1.947190</td>\n",
              "      <td>11.657686</td>\n",
              "      <td>19.473508</td>\n",
              "      <td>3.775207</td>\n",
              "      <td>2.373475</td>\n",
              "      <td>4.430400</td>\n",
              "      <td>2.375667</td>\n",
              "      <td>8.468728</td>\n",
              "      <td>3.759698</td>\n",
              "      <td>3.786047</td>\n",
              "      <td>7.726373</td>\n",
              "      <td>111.562275</td>\n",
              "      <td>103.689169</td>\n",
              "      <td>7f2a63e6-64d5-4be1-9814-e8416fc9e688</td>\n",
              "      <td>TCGA-D8-A1JG</td>\n",
              "    </tr>\n",
              "    <tr>\n",
              "      <th>3</th>\n",
              "      <td>3</td>\n",
              "      <td>4bf2bea7-00ef-485c-b9e5-035f0ea62b1d.FPKM.txt.gz</td>\n",
              "      <td>1.383030</td>\n",
              "      <td>14.515607</td>\n",
              "      <td>16.124391</td>\n",
              "      <td>4.802638</td>\n",
              "      <td>1.741451</td>\n",
              "      <td>10.286806</td>\n",
              "      <td>1.599496</td>\n",
              "      <td>9.812499</td>\n",
              "      <td>8.161780</td>\n",
              "      <td>3.882405</td>\n",
              "      <td>22.701470</td>\n",
              "      <td>104.415741</td>\n",
              "      <td>25.581075</td>\n",
              "      <td>86b7b206-8e69-432d-acc9-bccce710955e</td>\n",
              "      <td>TCGA-AO-A0JA</td>\n",
              "    </tr>\n",
              "    <tr>\n",
              "      <th>4</th>\n",
              "      <td>4</td>\n",
              "      <td>31e5c917-1866-4156-9eaa-84a72c310edc.FPKM.txt.gz</td>\n",
              "      <td>0.283229</td>\n",
              "      <td>10.515834</td>\n",
              "      <td>19.042857</td>\n",
              "      <td>3.186440</td>\n",
              "      <td>1.960279</td>\n",
              "      <td>58.891972</td>\n",
              "      <td>1.756502</td>\n",
              "      <td>9.513710</td>\n",
              "      <td>8.948217</td>\n",
              "      <td>2.437246</td>\n",
              "      <td>13.688792</td>\n",
              "      <td>85.650483</td>\n",
              "      <td>19.833254</td>\n",
              "      <td>a53dd490-e0ba-419a-90c6-b905e241a8e5</td>\n",
              "      <td>TCGA-A2-A4S0</td>\n",
              "    </tr>\n",
              "    <tr>\n",
              "      <th>...</th>\n",
              "      <td>...</td>\n",
              "      <td>...</td>\n",
              "      <td>...</td>\n",
              "      <td>...</td>\n",
              "      <td>...</td>\n",
              "      <td>...</td>\n",
              "      <td>...</td>\n",
              "      <td>...</td>\n",
              "      <td>...</td>\n",
              "      <td>...</td>\n",
              "      <td>...</td>\n",
              "      <td>...</td>\n",
              "      <td>...</td>\n",
              "      <td>...</td>\n",
              "      <td>...</td>\n",
              "      <td>...</td>\n",
              "      <td>...</td>\n",
              "    </tr>\n",
              "    <tr>\n",
              "      <th>957</th>\n",
              "      <td>1052</td>\n",
              "      <td>ca75ae4d-3d90-46d7-9544-fd71dd6c87b2.FPKM.txt.gz</td>\n",
              "      <td>0.510620</td>\n",
              "      <td>12.706935</td>\n",
              "      <td>26.895163</td>\n",
              "      <td>4.434289</td>\n",
              "      <td>1.416752</td>\n",
              "      <td>65.926014</td>\n",
              "      <td>1.498236</td>\n",
              "      <td>4.469901</td>\n",
              "      <td>5.314155</td>\n",
              "      <td>4.084796</td>\n",
              "      <td>14.896854</td>\n",
              "      <td>229.741344</td>\n",
              "      <td>40.275595</td>\n",
              "      <td>8da3d6cf-381b-4d1b-93fa-41fd9d2b2e66</td>\n",
              "      <td>TCGA-AR-A0TW</td>\n",
              "    </tr>\n",
              "    <tr>\n",
              "      <th>958</th>\n",
              "      <td>1053</td>\n",
              "      <td>e1557786-4586-409f-9c5a-a559535f0aa0.FPKM.txt.gz</td>\n",
              "      <td>0.715932</td>\n",
              "      <td>14.255954</td>\n",
              "      <td>15.966624</td>\n",
              "      <td>4.126023</td>\n",
              "      <td>2.890223</td>\n",
              "      <td>68.281464</td>\n",
              "      <td>1.695724</td>\n",
              "      <td>9.927986</td>\n",
              "      <td>8.847341</td>\n",
              "      <td>4.134408</td>\n",
              "      <td>21.992313</td>\n",
              "      <td>5.969428</td>\n",
              "      <td>43.637436</td>\n",
              "      <td>f89588e9-ca73-4465-a7fb-7246edb45e3a</td>\n",
              "      <td>TCGA-XX-A899</td>\n",
              "    </tr>\n",
              "    <tr>\n",
              "      <th>959</th>\n",
              "      <td>1054</td>\n",
              "      <td>2c9671e1-e001-4565-862a-a4845c9bad4f.FPKM.txt.gz</td>\n",
              "      <td>0.457529</td>\n",
              "      <td>10.215762</td>\n",
              "      <td>22.036865</td>\n",
              "      <td>2.533628</td>\n",
              "      <td>3.173993</td>\n",
              "      <td>26.267940</td>\n",
              "      <td>1.860849</td>\n",
              "      <td>12.143220</td>\n",
              "      <td>7.662918</td>\n",
              "      <td>2.643107</td>\n",
              "      <td>22.919346</td>\n",
              "      <td>66.773917</td>\n",
              "      <td>10.593843</td>\n",
              "      <td>6b4e0262-f589-4532-b578-9f2d76c19d90</td>\n",
              "      <td>TCGA-A7-A3IY</td>\n",
              "    </tr>\n",
              "    <tr>\n",
              "      <th>960</th>\n",
              "      <td>1055</td>\n",
              "      <td>2b5c518f-8327-478a-a282-01bfe59aca4c.FPKM.txt.gz</td>\n",
              "      <td>1.080224</td>\n",
              "      <td>13.534168</td>\n",
              "      <td>7.051271</td>\n",
              "      <td>8.556468</td>\n",
              "      <td>1.819709</td>\n",
              "      <td>20.158813</td>\n",
              "      <td>1.852918</td>\n",
              "      <td>17.284762</td>\n",
              "      <td>2.328219</td>\n",
              "      <td>4.467339</td>\n",
              "      <td>19.647148</td>\n",
              "      <td>238.094831</td>\n",
              "      <td>7.674144</td>\n",
              "      <td>4d0fec97-e024-4608-a0cc-426a3decc7b1</td>\n",
              "      <td>TCGA-AR-A252</td>\n",
              "    </tr>\n",
              "    <tr>\n",
              "      <th>961</th>\n",
              "      <td>1056</td>\n",
              "      <td>e091bf28-5002-48ff-93df-3030c0942b3a.FPKM.txt.gz</td>\n",
              "      <td>0.644151</td>\n",
              "      <td>17.248831</td>\n",
              "      <td>9.766907</td>\n",
              "      <td>4.971170</td>\n",
              "      <td>1.682957</td>\n",
              "      <td>37.747663</td>\n",
              "      <td>1.987975</td>\n",
              "      <td>11.259414</td>\n",
              "      <td>9.137026</td>\n",
              "      <td>5.741147</td>\n",
              "      <td>20.947829</td>\n",
              "      <td>121.431681</td>\n",
              "      <td>38.779415</td>\n",
              "      <td>4958c36f-1dc7-4f14-9dec-36e14107dbe3</td>\n",
              "      <td>TCGA-D8-A145</td>\n",
              "    </tr>\n",
              "  </tbody>\n",
              "</table>\n",
              "<p>962 rows × 17 columns</p>\n",
              "</div>"
            ],
            "text/plain": [
              "     Unnamed: 0  ...          uuid\n",
              "0             0  ...  TCGA-A2-A25E\n",
              "1             1  ...  TCGA-C8-A3M7\n",
              "2             2  ...  TCGA-D8-A1JG\n",
              "3             3  ...  TCGA-AO-A0JA\n",
              "4             4  ...  TCGA-A2-A4S0\n",
              "..          ...  ...           ...\n",
              "957        1052  ...  TCGA-AR-A0TW\n",
              "958        1053  ...  TCGA-XX-A899\n",
              "959        1054  ...  TCGA-A7-A3IY\n",
              "960        1055  ...  TCGA-AR-A252\n",
              "961        1056  ...  TCGA-D8-A145\n",
              "\n",
              "[962 rows x 17 columns]"
            ]
          },
          "metadata": {
            "tags": []
          },
          "execution_count": 5
        }
      ]
    },
    {
      "cell_type": "code",
      "metadata": {
        "id": "DWq1avk3KP2Y"
      },
      "source": [
        "column_of_interest = ['bcr_patient_barcode','history_other_malignancy','margin_status','age_at_diagnosis','menopause_status_imputed','race_imputed','tumor_status_imputed','er_status_by_ihc_imputed','pr_status_by_ihc_imputed','her2_status_by_ihc_imputed','tumor_stage','pt','pn','pm']\n",
        "data_clinical = data_imp[column_of_interest]\n"
      ],
      "execution_count": null,
      "outputs": []
    },
    {
      "cell_type": "code",
      "metadata": {
        "id": "barHu3aFLZCW"
      },
      "source": [
        "data_gene['bcr_patient_barcode']=data_gene['uuid']\n",
        "data_gene.drop(['uuid'], axis=1, inplace=True)"
      ],
      "execution_count": null,
      "outputs": []
    },
    {
      "cell_type": "code",
      "metadata": {
        "id": "PnxiqPVGLJu9",
        "colab": {
          "base_uri": "https://localhost:8080/",
          "height": 966
        },
        "outputId": "175ce976-cca0-48e2-c659-9bf71407f69b"
      },
      "source": [
        "data_merged = pd.merge(data_imp, data_gene, on='bcr_patient_barcode')\n",
        "data_merged.to_csv(\"/content/drive/MyDrive/Year Three/CS4220yxy/data_merged_gene+clinical.csv\")\n",
        "data_merged"
      ],
      "execution_count": null,
      "outputs": [
        {
          "output_type": "execute_result",
          "data": {
            "text/html": [
              "<div>\n",
              "<style scoped>\n",
              "    .dataframe tbody tr th:only-of-type {\n",
              "        vertical-align: middle;\n",
              "    }\n",
              "\n",
              "    .dataframe tbody tr th {\n",
              "        vertical-align: top;\n",
              "    }\n",
              "\n",
              "    .dataframe thead th {\n",
              "        text-align: right;\n",
              "    }\n",
              "</style>\n",
              "<table border=\"1\" class=\"dataframe\">\n",
              "  <thead>\n",
              "    <tr style=\"text-align: right;\">\n",
              "      <th></th>\n",
              "      <th>Unnamed: 0_x</th>\n",
              "      <th>history_other_malignancy</th>\n",
              "      <th>vital_status</th>\n",
              "      <th>last_contact_days_to</th>\n",
              "      <th>death_days_to</th>\n",
              "      <th>age_at_diagnosis</th>\n",
              "      <th>surgical_procedure_first</th>\n",
              "      <th>margin_status</th>\n",
              "      <th>ajcc_tumor_pathologic_pt</th>\n",
              "      <th>ajcc_nodes_pathologic_pn</th>\n",
              "      <th>ajcc_metastasis_pathologic_pm</th>\n",
              "      <th>anatomic_neoplasm_subdivision</th>\n",
              "      <th>histological_type</th>\n",
              "      <th>icd_o_3_histology</th>\n",
              "      <th>bcr_patient_uuid</th>\n",
              "      <th>bcr_patient_barcode</th>\n",
              "      <th>menopause_status_imputed</th>\n",
              "      <th>race_imputed</th>\n",
              "      <th>tumor_status_imputed</th>\n",
              "      <th>er_status_by_ihc_imputed</th>\n",
              "      <th>pr_status_by_ihc_imputed</th>\n",
              "      <th>her2_status_by_ihc_imputed</th>\n",
              "      <th>tumor_stage</th>\n",
              "      <th>pt</th>\n",
              "      <th>pn</th>\n",
              "      <th>pm</th>\n",
              "      <th>Unnamed: 0_y</th>\n",
              "      <th>filename</th>\n",
              "      <th>BRCA2</th>\n",
              "      <th>RAF1</th>\n",
              "      <th>HRAS</th>\n",
              "      <th>PIK3CA</th>\n",
              "      <th>CHEK2</th>\n",
              "      <th>MYC</th>\n",
              "      <th>BRCA1</th>\n",
              "      <th>PTEN</th>\n",
              "      <th>STK11</th>\n",
              "      <th>PALB2</th>\n",
              "      <th>TP53</th>\n",
              "      <th>CDH1</th>\n",
              "      <th>ERBB2</th>\n",
              "      <th>case_id</th>\n",
              "    </tr>\n",
              "  </thead>\n",
              "  <tbody>\n",
              "    <tr>\n",
              "      <th>0</th>\n",
              "      <td>2</td>\n",
              "      <td>0</td>\n",
              "      <td>Alive</td>\n",
              "      <td>3767</td>\n",
              "      <td>inf</td>\n",
              "      <td>55</td>\n",
              "      <td>Modified Radical Mastectomy</td>\n",
              "      <td>0</td>\n",
              "      <td>TX</td>\n",
              "      <td>NX</td>\n",
              "      <td>MX</td>\n",
              "      <td>Left Lower Outer Quadrant</td>\n",
              "      <td>Infiltrating Lobular Carcinoma</td>\n",
              "      <td>8520/3</td>\n",
              "      <td>6E7D5EC6-A469-467C-B748-237353C23416</td>\n",
              "      <td>TCGA-3C-AAAU</td>\n",
              "      <td>1.0</td>\n",
              "      <td>1</td>\n",
              "      <td>1</td>\n",
              "      <td>1.0</td>\n",
              "      <td>1.0</td>\n",
              "      <td>0.0</td>\n",
              "      <td>0.0</td>\n",
              "      <td>0.5</td>\n",
              "      <td>0.5</td>\n",
              "      <td>0.5</td>\n",
              "      <td>484</td>\n",
              "      <td>fa9d8ef2-0fd0-4fd8-8266-e4760b77d103.FPKM.txt.gz</td>\n",
              "      <td>0.927716</td>\n",
              "      <td>10.959315</td>\n",
              "      <td>23.941532</td>\n",
              "      <td>3.937498</td>\n",
              "      <td>2.111639</td>\n",
              "      <td>39.061179</td>\n",
              "      <td>5.068379</td>\n",
              "      <td>8.860856</td>\n",
              "      <td>11.312493</td>\n",
              "      <td>4.451832</td>\n",
              "      <td>18.965037</td>\n",
              "      <td>154.728291</td>\n",
              "      <td>36.770798</td>\n",
              "      <td>6e7d5ec6-a469-467c-b748-237353c23416</td>\n",
              "    </tr>\n",
              "    <tr>\n",
              "      <th>1</th>\n",
              "      <td>3</td>\n",
              "      <td>0</td>\n",
              "      <td>Alive</td>\n",
              "      <td>3801</td>\n",
              "      <td>inf</td>\n",
              "      <td>50</td>\n",
              "      <td>Lumpectomy</td>\n",
              "      <td>0</td>\n",
              "      <td>T2</td>\n",
              "      <td>N1a</td>\n",
              "      <td>M0</td>\n",
              "      <td>Right Upper Outer Quadrant</td>\n",
              "      <td>Infiltrating Ductal Carcinoma</td>\n",
              "      <td>8500/3</td>\n",
              "      <td>55262FCB-1B01-4480-B322-36570430C917</td>\n",
              "      <td>TCGA-3C-AALI</td>\n",
              "      <td>4.0</td>\n",
              "      <td>2</td>\n",
              "      <td>0</td>\n",
              "      <td>1.0</td>\n",
              "      <td>1.0</td>\n",
              "      <td>1.0</td>\n",
              "      <td>4.0</td>\n",
              "      <td>3.5</td>\n",
              "      <td>1.0</td>\n",
              "      <td>0.0</td>\n",
              "      <td>709</td>\n",
              "      <td>0ca5cc29-f48e-4533-a732-877e7bd2e73a.FPKM.txt.gz</td>\n",
              "      <td>0.945570</td>\n",
              "      <td>19.008781</td>\n",
              "      <td>56.589161</td>\n",
              "      <td>2.652758</td>\n",
              "      <td>3.478508</td>\n",
              "      <td>2.994116</td>\n",
              "      <td>2.354158</td>\n",
              "      <td>5.292279</td>\n",
              "      <td>9.321394</td>\n",
              "      <td>4.221654</td>\n",
              "      <td>5.610647</td>\n",
              "      <td>115.128993</td>\n",
              "      <td>972.586687</td>\n",
              "      <td>55262fcb-1b01-4480-b322-36570430c917</td>\n",
              "    </tr>\n",
              "    <tr>\n",
              "      <th>2</th>\n",
              "      <td>4</td>\n",
              "      <td>0</td>\n",
              "      <td>Alive</td>\n",
              "      <td>1228</td>\n",
              "      <td>inf</td>\n",
              "      <td>62</td>\n",
              "      <td>Modified Radical Mastectomy</td>\n",
              "      <td>0</td>\n",
              "      <td>T2</td>\n",
              "      <td>N1a</td>\n",
              "      <td>M0</td>\n",
              "      <td>Right</td>\n",
              "      <td>Infiltrating Ductal Carcinoma</td>\n",
              "      <td>8500/3</td>\n",
              "      <td>427D0648-3F77-4FFC-B52C-89855426D647</td>\n",
              "      <td>TCGA-3C-AALJ</td>\n",
              "      <td>4.0</td>\n",
              "      <td>2</td>\n",
              "      <td>0</td>\n",
              "      <td>1.0</td>\n",
              "      <td>1.0</td>\n",
              "      <td>0.5</td>\n",
              "      <td>4.0</td>\n",
              "      <td>3.5</td>\n",
              "      <td>1.0</td>\n",
              "      <td>0.0</td>\n",
              "      <td>481</td>\n",
              "      <td>dbb50b30-9856-4a56-91e1-d31ad106fd48.FPKM.txt.gz</td>\n",
              "      <td>1.030128</td>\n",
              "      <td>14.218055</td>\n",
              "      <td>50.968090</td>\n",
              "      <td>1.920465</td>\n",
              "      <td>2.569833</td>\n",
              "      <td>20.528587</td>\n",
              "      <td>1.248786</td>\n",
              "      <td>7.421046</td>\n",
              "      <td>14.388092</td>\n",
              "      <td>3.615153</td>\n",
              "      <td>17.086956</td>\n",
              "      <td>72.065197</td>\n",
              "      <td>54.891442</td>\n",
              "      <td>427d0648-3f77-4ffc-b52c-89855426d647</td>\n",
              "    </tr>\n",
              "    <tr>\n",
              "      <th>3</th>\n",
              "      <td>5</td>\n",
              "      <td>0</td>\n",
              "      <td>Alive</td>\n",
              "      <td>1217</td>\n",
              "      <td>inf</td>\n",
              "      <td>52</td>\n",
              "      <td>Simple Mastectomy</td>\n",
              "      <td>1</td>\n",
              "      <td>T1c</td>\n",
              "      <td>N0 (i+)</td>\n",
              "      <td>M0</td>\n",
              "      <td>Right</td>\n",
              "      <td>Infiltrating Ductal Carcinoma</td>\n",
              "      <td>8500/3</td>\n",
              "      <td>C31900A4-5DCD-4022-97AC-638E86E889E4</td>\n",
              "      <td>TCGA-3C-AALK</td>\n",
              "      <td>3.0</td>\n",
              "      <td>2</td>\n",
              "      <td>0</td>\n",
              "      <td>1.0</td>\n",
              "      <td>1.0</td>\n",
              "      <td>1.0</td>\n",
              "      <td>1.0</td>\n",
              "      <td>2.0</td>\n",
              "      <td>0.0</td>\n",
              "      <td>0.0</td>\n",
              "      <td>517</td>\n",
              "      <td>698eba4b-b0f0-4923-9e43-d9707959c65f.FPKM.txt.gz</td>\n",
              "      <td>0.559053</td>\n",
              "      <td>12.070698</td>\n",
              "      <td>23.338006</td>\n",
              "      <td>2.289943</td>\n",
              "      <td>2.697997</td>\n",
              "      <td>22.274604</td>\n",
              "      <td>0.851336</td>\n",
              "      <td>8.555684</td>\n",
              "      <td>10.600341</td>\n",
              "      <td>2.714508</td>\n",
              "      <td>17.554874</td>\n",
              "      <td>75.553730</td>\n",
              "      <td>165.805486</td>\n",
              "      <td>c31900a4-5dcd-4022-97ac-638e86e889e4</td>\n",
              "    </tr>\n",
              "    <tr>\n",
              "      <th>4</th>\n",
              "      <td>6</td>\n",
              "      <td>0</td>\n",
              "      <td>Alive</td>\n",
              "      <td>158</td>\n",
              "      <td>inf</td>\n",
              "      <td>50</td>\n",
              "      <td>Modified Radical Mastectomy</td>\n",
              "      <td>0</td>\n",
              "      <td>T2</td>\n",
              "      <td>N2a</td>\n",
              "      <td>M0</td>\n",
              "      <td>Left|Left Upper Outer Quadrant</td>\n",
              "      <td>Infiltrating Lobular Carcinoma</td>\n",
              "      <td>8520/3</td>\n",
              "      <td>6623FC5E-00BE-4476-967A-CBD55F676EA6</td>\n",
              "      <td>TCGA-4H-AAAK</td>\n",
              "      <td>4.0</td>\n",
              "      <td>1</td>\n",
              "      <td>0</td>\n",
              "      <td>1.0</td>\n",
              "      <td>1.0</td>\n",
              "      <td>0.5</td>\n",
              "      <td>5.0</td>\n",
              "      <td>3.5</td>\n",
              "      <td>4.0</td>\n",
              "      <td>0.0</td>\n",
              "      <td>125</td>\n",
              "      <td>463f2d23-8b4d-45f5-9600-06c2920498ca.FPKM.txt.gz</td>\n",
              "      <td>0.754878</td>\n",
              "      <td>13.849212</td>\n",
              "      <td>18.186334</td>\n",
              "      <td>3.144998</td>\n",
              "      <td>3.053262</td>\n",
              "      <td>70.322052</td>\n",
              "      <td>2.214564</td>\n",
              "      <td>8.552401</td>\n",
              "      <td>5.347853</td>\n",
              "      <td>4.706480</td>\n",
              "      <td>19.549163</td>\n",
              "      <td>5.319183</td>\n",
              "      <td>60.517702</td>\n",
              "      <td>6623fc5e-00be-4476-967a-cbd55f676ea6</td>\n",
              "    </tr>\n",
              "    <tr>\n",
              "      <th>...</th>\n",
              "      <td>...</td>\n",
              "      <td>...</td>\n",
              "      <td>...</td>\n",
              "      <td>...</td>\n",
              "      <td>...</td>\n",
              "      <td>...</td>\n",
              "      <td>...</td>\n",
              "      <td>...</td>\n",
              "      <td>...</td>\n",
              "      <td>...</td>\n",
              "      <td>...</td>\n",
              "      <td>...</td>\n",
              "      <td>...</td>\n",
              "      <td>...</td>\n",
              "      <td>...</td>\n",
              "      <td>...</td>\n",
              "      <td>...</td>\n",
              "      <td>...</td>\n",
              "      <td>...</td>\n",
              "      <td>...</td>\n",
              "      <td>...</td>\n",
              "      <td>...</td>\n",
              "      <td>...</td>\n",
              "      <td>...</td>\n",
              "      <td>...</td>\n",
              "      <td>...</td>\n",
              "      <td>...</td>\n",
              "      <td>...</td>\n",
              "      <td>...</td>\n",
              "      <td>...</td>\n",
              "      <td>...</td>\n",
              "      <td>...</td>\n",
              "      <td>...</td>\n",
              "      <td>...</td>\n",
              "      <td>...</td>\n",
              "      <td>...</td>\n",
              "      <td>...</td>\n",
              "      <td>...</td>\n",
              "      <td>...</td>\n",
              "      <td>...</td>\n",
              "      <td>...</td>\n",
              "      <td>...</td>\n",
              "    </tr>\n",
              "    <tr>\n",
              "      <th>957</th>\n",
              "      <td>1094</td>\n",
              "      <td>0</td>\n",
              "      <td>Alive</td>\n",
              "      <td>791</td>\n",
              "      <td>inf</td>\n",
              "      <td>77</td>\n",
              "      <td>Lumpectomy</td>\n",
              "      <td>0</td>\n",
              "      <td>T1c</td>\n",
              "      <td>N0 (i-)</td>\n",
              "      <td>MX</td>\n",
              "      <td>Left</td>\n",
              "      <td>Infiltrating Lobular Carcinoma</td>\n",
              "      <td>8520/3</td>\n",
              "      <td>5CD79093-1571-4F71-8136-0D84CCABDCAC</td>\n",
              "      <td>TCGA-WT-AB44</td>\n",
              "      <td>4.0</td>\n",
              "      <td>1</td>\n",
              "      <td>0</td>\n",
              "      <td>1.0</td>\n",
              "      <td>1.0</td>\n",
              "      <td>0.0</td>\n",
              "      <td>1.0</td>\n",
              "      <td>2.0</td>\n",
              "      <td>0.0</td>\n",
              "      <td>0.5</td>\n",
              "      <td>777</td>\n",
              "      <td>ee6beadb-79ab-4f2f-87cc-bba566e6bc24.FPKM.txt.gz</td>\n",
              "      <td>0.140436</td>\n",
              "      <td>9.411011</td>\n",
              "      <td>45.266686</td>\n",
              "      <td>1.482761</td>\n",
              "      <td>1.816521</td>\n",
              "      <td>23.878906</td>\n",
              "      <td>0.214644</td>\n",
              "      <td>7.955264</td>\n",
              "      <td>4.496648</td>\n",
              "      <td>2.772018</td>\n",
              "      <td>20.934894</td>\n",
              "      <td>4.174714</td>\n",
              "      <td>38.287065</td>\n",
              "      <td>5cd79093-1571-4f71-8136-0d84ccabdcac</td>\n",
              "    </tr>\n",
              "    <tr>\n",
              "      <th>958</th>\n",
              "      <td>1095</td>\n",
              "      <td>0</td>\n",
              "      <td>Alive</td>\n",
              "      <td>292</td>\n",
              "      <td>inf</td>\n",
              "      <td>46</td>\n",
              "      <td>Modified Radical Mastectomy</td>\n",
              "      <td>0</td>\n",
              "      <td>T1c</td>\n",
              "      <td>N2a</td>\n",
              "      <td>MX</td>\n",
              "      <td>Right Lower Outer Quadrant</td>\n",
              "      <td>Infiltrating Lobular Carcinoma</td>\n",
              "      <td>8520/3</td>\n",
              "      <td>F89588E9-CA73-4465-A7FB-7246EDB45E3A</td>\n",
              "      <td>TCGA-XX-A899</td>\n",
              "      <td>4.0</td>\n",
              "      <td>1</td>\n",
              "      <td>0</td>\n",
              "      <td>1.0</td>\n",
              "      <td>1.0</td>\n",
              "      <td>0.0</td>\n",
              "      <td>5.0</td>\n",
              "      <td>2.0</td>\n",
              "      <td>4.0</td>\n",
              "      <td>0.5</td>\n",
              "      <td>1053</td>\n",
              "      <td>e1557786-4586-409f-9c5a-a559535f0aa0.FPKM.txt.gz</td>\n",
              "      <td>0.715932</td>\n",
              "      <td>14.255954</td>\n",
              "      <td>15.966624</td>\n",
              "      <td>4.126023</td>\n",
              "      <td>2.890223</td>\n",
              "      <td>68.281464</td>\n",
              "      <td>1.695724</td>\n",
              "      <td>9.927986</td>\n",
              "      <td>8.847341</td>\n",
              "      <td>4.134408</td>\n",
              "      <td>21.992313</td>\n",
              "      <td>5.969428</td>\n",
              "      <td>43.637436</td>\n",
              "      <td>f89588e9-ca73-4465-a7fb-7246edb45e3a</td>\n",
              "    </tr>\n",
              "    <tr>\n",
              "      <th>959</th>\n",
              "      <td>1096</td>\n",
              "      <td>0</td>\n",
              "      <td>Alive</td>\n",
              "      <td>278</td>\n",
              "      <td>inf</td>\n",
              "      <td>68</td>\n",
              "      <td>Simple Mastectomy</td>\n",
              "      <td>0</td>\n",
              "      <td>T3</td>\n",
              "      <td>N0</td>\n",
              "      <td>MX</td>\n",
              "      <td>Left Upper Outer Quadrant</td>\n",
              "      <td>Infiltrating Lobular Carcinoma</td>\n",
              "      <td>8520/3</td>\n",
              "      <td>CA20249F-B7EA-4FD9-9ECB-34F74755AE35</td>\n",
              "      <td>TCGA-XX-A89A</td>\n",
              "      <td>4.0</td>\n",
              "      <td>1</td>\n",
              "      <td>0</td>\n",
              "      <td>1.0</td>\n",
              "      <td>1.0</td>\n",
              "      <td>0.0</td>\n",
              "      <td>4.0</td>\n",
              "      <td>5.5</td>\n",
              "      <td>0.0</td>\n",
              "      <td>0.5</td>\n",
              "      <td>159</td>\n",
              "      <td>58364fa1-64c1-4f78-9776-1f2eda22a9b8.FPKM.txt.gz</td>\n",
              "      <td>0.534095</td>\n",
              "      <td>13.921509</td>\n",
              "      <td>13.426071</td>\n",
              "      <td>3.097385</td>\n",
              "      <td>2.300049</td>\n",
              "      <td>20.121827</td>\n",
              "      <td>1.158972</td>\n",
              "      <td>9.557123</td>\n",
              "      <td>7.104552</td>\n",
              "      <td>3.187968</td>\n",
              "      <td>17.880106</td>\n",
              "      <td>4.759983</td>\n",
              "      <td>14.703458</td>\n",
              "      <td>ca20249f-b7ea-4fd9-9ecb-34f74755ae35</td>\n",
              "    </tr>\n",
              "    <tr>\n",
              "      <th>960</th>\n",
              "      <td>1097</td>\n",
              "      <td>1</td>\n",
              "      <td>Alive</td>\n",
              "      <td>3042</td>\n",
              "      <td>inf</td>\n",
              "      <td>61</td>\n",
              "      <td>Other</td>\n",
              "      <td>2</td>\n",
              "      <td>T3</td>\n",
              "      <td>N1a</td>\n",
              "      <td>MX</td>\n",
              "      <td>Left Upper Outer Quadrant</td>\n",
              "      <td>Infiltrating Lobular Carcinoma</td>\n",
              "      <td>8520/3</td>\n",
              "      <td>23F438BD-1DBB-4D46-972F-1E8E74DDBD37</td>\n",
              "      <td>TCGA-Z7-A8R5</td>\n",
              "      <td>4.0</td>\n",
              "      <td>1</td>\n",
              "      <td>0</td>\n",
              "      <td>1.0</td>\n",
              "      <td>1.0</td>\n",
              "      <td>0.0</td>\n",
              "      <td>5.0</td>\n",
              "      <td>5.5</td>\n",
              "      <td>1.0</td>\n",
              "      <td>0.5</td>\n",
              "      <td>290</td>\n",
              "      <td>94719fc5-6ae9-410a-a15b-49ffe3753d2d.FPKM.txt.gz</td>\n",
              "      <td>0.223805</td>\n",
              "      <td>9.597208</td>\n",
              "      <td>34.621847</td>\n",
              "      <td>1.507508</td>\n",
              "      <td>3.006704</td>\n",
              "      <td>29.040221</td>\n",
              "      <td>0.536260</td>\n",
              "      <td>9.739092</td>\n",
              "      <td>9.924334</td>\n",
              "      <td>2.876303</td>\n",
              "      <td>31.329005</td>\n",
              "      <td>32.487237</td>\n",
              "      <td>36.953780</td>\n",
              "      <td>23f438bd-1dbb-4d46-972f-1e8e74ddbd37</td>\n",
              "    </tr>\n",
              "    <tr>\n",
              "      <th>961</th>\n",
              "      <td>1098</td>\n",
              "      <td>0</td>\n",
              "      <td>Alive</td>\n",
              "      <td>2800</td>\n",
              "      <td>inf</td>\n",
              "      <td>46</td>\n",
              "      <td>Lumpectomy</td>\n",
              "      <td>0</td>\n",
              "      <td>T1c</td>\n",
              "      <td>N0</td>\n",
              "      <td>M0</td>\n",
              "      <td>Left Upper Outer Quadrant</td>\n",
              "      <td>Infiltrating Lobular Carcinoma</td>\n",
              "      <td>8022/3</td>\n",
              "      <td>B1D44C81-747D-471F-9093-AEB262A17975</td>\n",
              "      <td>TCGA-Z7-A8R6</td>\n",
              "      <td>1.0</td>\n",
              "      <td>1</td>\n",
              "      <td>0</td>\n",
              "      <td>1.0</td>\n",
              "      <td>1.0</td>\n",
              "      <td>0.0</td>\n",
              "      <td>1.5</td>\n",
              "      <td>2.0</td>\n",
              "      <td>0.0</td>\n",
              "      <td>0.0</td>\n",
              "      <td>299</td>\n",
              "      <td>110de223-52e1-43b6-8c69-399a0af8b174.FPKM.txt.gz</td>\n",
              "      <td>1.604701</td>\n",
              "      <td>15.009085</td>\n",
              "      <td>35.699573</td>\n",
              "      <td>2.904131</td>\n",
              "      <td>5.938176</td>\n",
              "      <td>49.802723</td>\n",
              "      <td>3.732534</td>\n",
              "      <td>1.886738</td>\n",
              "      <td>13.830436</td>\n",
              "      <td>7.104264</td>\n",
              "      <td>20.957718</td>\n",
              "      <td>4.637353</td>\n",
              "      <td>26.601190</td>\n",
              "      <td>b1d44c81-747d-471f-9093-aeb262a17975</td>\n",
              "    </tr>\n",
              "  </tbody>\n",
              "</table>\n",
              "<p>962 rows × 42 columns</p>\n",
              "</div>"
            ],
            "text/plain": [
              "     Unnamed: 0_x  ...                               case_id\n",
              "0               2  ...  6e7d5ec6-a469-467c-b748-237353c23416\n",
              "1               3  ...  55262fcb-1b01-4480-b322-36570430c917\n",
              "2               4  ...  427d0648-3f77-4ffc-b52c-89855426d647\n",
              "3               5  ...  c31900a4-5dcd-4022-97ac-638e86e889e4\n",
              "4               6  ...  6623fc5e-00be-4476-967a-cbd55f676ea6\n",
              "..            ...  ...                                   ...\n",
              "957          1094  ...  5cd79093-1571-4f71-8136-0d84ccabdcac\n",
              "958          1095  ...  f89588e9-ca73-4465-a7fb-7246edb45e3a\n",
              "959          1096  ...  ca20249f-b7ea-4fd9-9ecb-34f74755ae35\n",
              "960          1097  ...  23f438bd-1dbb-4d46-972f-1e8e74ddbd37\n",
              "961          1098  ...  b1d44c81-747d-471f-9093-aeb262a17975\n",
              "\n",
              "[962 rows x 42 columns]"
            ]
          },
          "metadata": {
            "tags": []
          },
          "execution_count": 8
        }
      ]
    },
    {
      "cell_type": "code",
      "metadata": {
        "id": "SsTbWM8ylUpH"
      },
      "source": [
        ""
      ],
      "execution_count": null,
      "outputs": []
    },
    {
      "cell_type": "markdown",
      "metadata": {
        "id": "e4wC37j6QdZs"
      },
      "source": [
        "#Survival Analysis "
      ]
    },
    {
      "cell_type": "code",
      "metadata": {
        "id": "JKvu1u_NMOe1"
      },
      "source": [
        "from sksurv.linear_model import CoxPHSurvivalAnalysis, CoxnetSurvivalAnalysis\n",
        "from sksurv.preprocessing import OneHotEncoder\n",
        "\n",
        "from sklearn.model_selection import GridSearchCV, KFold\n",
        "from sklearn.pipeline import make_pipeline\n",
        "from sklearn.preprocessing import StandardScaler"
      ],
      "execution_count": null,
      "outputs": []
    },
    {
      "cell_type": "code",
      "metadata": {
        "id": "OyoSbvgAsb_H"
      },
      "source": [
        "data_cox = data_merged\n",
        "data_cox.drop(['Unnamed: 0_x'], axis=1, inplace=True)"
      ],
      "execution_count": null,
      "outputs": []
    },
    {
      "cell_type": "code",
      "metadata": {
        "id": "bnxIEfnKMqxo"
      },
      "source": [
        "\n",
        "#converting 'Alive', 'Dead' to 'False' ,'True'\n",
        "def map_status(input_status):\n",
        "    if (input_status=='Alive'):\n",
        "        return False\n",
        "    else:\n",
        "        return True\n",
        "\n",
        "data_cox[\"vital_status_boolean\"] = data_cox[\"vital_status\"].apply(map_status)\n",
        "\n",
        "#merging last_contact_days_to ('Alive') and death_days_to ('Dead') to get survival_in_days\n",
        "def map_days_df(input_df):\n",
        "  if input_df[1] == 'Alive':\n",
        "    return input_df[2]\n",
        "  else:\n",
        "    return input_df[3]\n",
        "\n",
        "data_cox['survival_in_days'] = data_cox.apply(map_days_df, axis=1)"
      ],
      "execution_count": null,
      "outputs": []
    },
    {
      "cell_type": "code",
      "metadata": {
        "id": "ODwuqMfRMVcs"
      },
      "source": [
        "data_y = data_cox[['vital_status_boolean','survival_in_days']].copy()\n",
        "data_y.to_csv(\"/content/drive/MyDrive/Year Three/CS4220yxy/data_y.csv\")\n",
        "data_y[\"survival_in_days\"] = data_y[\"survival_in_days\"].astype('float')\n",
        "df_y = data_y\n",
        "data_y = data_y.to_records(index=False)"
      ],
      "execution_count": null,
      "outputs": []
    },
    {
      "cell_type": "code",
      "metadata": {
        "id": "oL95tBllNjVb"
      },
      "source": [
        "data_x = data_merged.drop(['bcr_patient_barcode','race_imputed'],axis=1)"
      ],
      "execution_count": null,
      "outputs": []
    },
    {
      "cell_type": "code",
      "metadata": {
        "id": "VaOfOPUE83qy"
      },
      "source": [
        "data_x.to_csv(\"/content/drive/MyDrive/Year Three/CS4220yxy/data_x_merged_gene.csv\")"
      ],
      "execution_count": null,
      "outputs": []
    },
    {
      "cell_type": "code",
      "metadata": {
        "id": "TigkUBJgP24K"
      },
      "source": [
        "data_x_all = data_x"
      ],
      "execution_count": null,
      "outputs": []
    },
    {
      "cell_type": "code",
      "metadata": {
        "id": "KnnMOdHemEHK"
      },
      "source": [
        "selected_features=['history_other_malignancy','menopause_status_imputed','tumor_status_imputed','er_status_by_ihc_imputed','pr_status_by_ihc_imputed','her2_status_by_ihc_imputed','tumor_stage','pt','pn','pm','BRCA2','RAF1','HRAS','PIK3CA','CHEK2','MYC','BRCA1','PTEN','STK11','PALB2','TP53','CDH1','ERBB2']\n",
        "data_x_gene = data_x[selected_features]"
      ],
      "execution_count": null,
      "outputs": []
    },
    {
      "cell_type": "code",
      "metadata": {
        "id": "GUlqA3H-QvWk"
      },
      "source": [
        "data_x_saved = data_x_gene"
      ],
      "execution_count": null,
      "outputs": []
    },
    {
      "cell_type": "code",
      "metadata": {
        "id": "JRaXPZnHRcR6",
        "colab": {
          "base_uri": "https://localhost:8080/",
          "height": 439
        },
        "outputId": "33dcf780-e84d-4d93-da0d-c750994e3422"
      },
      "source": [
        "data_x_saved"
      ],
      "execution_count": null,
      "outputs": [
        {
          "output_type": "execute_result",
          "data": {
            "text/html": [
              "<div>\n",
              "<style scoped>\n",
              "    .dataframe tbody tr th:only-of-type {\n",
              "        vertical-align: middle;\n",
              "    }\n",
              "\n",
              "    .dataframe tbody tr th {\n",
              "        vertical-align: top;\n",
              "    }\n",
              "\n",
              "    .dataframe thead th {\n",
              "        text-align: right;\n",
              "    }\n",
              "</style>\n",
              "<table border=\"1\" class=\"dataframe\">\n",
              "  <thead>\n",
              "    <tr style=\"text-align: right;\">\n",
              "      <th></th>\n",
              "      <th>history_other_malignancy</th>\n",
              "      <th>menopause_status_imputed</th>\n",
              "      <th>tumor_status_imputed</th>\n",
              "      <th>er_status_by_ihc_imputed</th>\n",
              "      <th>pr_status_by_ihc_imputed</th>\n",
              "      <th>her2_status_by_ihc_imputed</th>\n",
              "      <th>tumor_stage</th>\n",
              "      <th>pt</th>\n",
              "      <th>pn</th>\n",
              "      <th>pm</th>\n",
              "      <th>BRCA2</th>\n",
              "      <th>RAF1</th>\n",
              "      <th>HRAS</th>\n",
              "      <th>PIK3CA</th>\n",
              "      <th>CHEK2</th>\n",
              "      <th>MYC</th>\n",
              "      <th>BRCA1</th>\n",
              "      <th>PTEN</th>\n",
              "      <th>STK11</th>\n",
              "      <th>PALB2</th>\n",
              "      <th>TP53</th>\n",
              "      <th>CDH1</th>\n",
              "      <th>ERBB2</th>\n",
              "    </tr>\n",
              "  </thead>\n",
              "  <tbody>\n",
              "    <tr>\n",
              "      <th>0</th>\n",
              "      <td>0</td>\n",
              "      <td>1.0</td>\n",
              "      <td>1</td>\n",
              "      <td>1.0</td>\n",
              "      <td>1.0</td>\n",
              "      <td>0.0</td>\n",
              "      <td>0.0</td>\n",
              "      <td>0.5</td>\n",
              "      <td>0.5</td>\n",
              "      <td>0.5</td>\n",
              "      <td>0.927716</td>\n",
              "      <td>10.959315</td>\n",
              "      <td>23.941532</td>\n",
              "      <td>3.937498</td>\n",
              "      <td>2.111639</td>\n",
              "      <td>39.061179</td>\n",
              "      <td>5.068379</td>\n",
              "      <td>8.860856</td>\n",
              "      <td>11.312493</td>\n",
              "      <td>4.451832</td>\n",
              "      <td>18.965037</td>\n",
              "      <td>154.728291</td>\n",
              "      <td>36.770798</td>\n",
              "    </tr>\n",
              "    <tr>\n",
              "      <th>1</th>\n",
              "      <td>0</td>\n",
              "      <td>4.0</td>\n",
              "      <td>0</td>\n",
              "      <td>1.0</td>\n",
              "      <td>1.0</td>\n",
              "      <td>1.0</td>\n",
              "      <td>4.0</td>\n",
              "      <td>3.5</td>\n",
              "      <td>1.0</td>\n",
              "      <td>0.0</td>\n",
              "      <td>0.945570</td>\n",
              "      <td>19.008781</td>\n",
              "      <td>56.589161</td>\n",
              "      <td>2.652758</td>\n",
              "      <td>3.478508</td>\n",
              "      <td>2.994116</td>\n",
              "      <td>2.354158</td>\n",
              "      <td>5.292279</td>\n",
              "      <td>9.321394</td>\n",
              "      <td>4.221654</td>\n",
              "      <td>5.610647</td>\n",
              "      <td>115.128993</td>\n",
              "      <td>972.586687</td>\n",
              "    </tr>\n",
              "    <tr>\n",
              "      <th>2</th>\n",
              "      <td>0</td>\n",
              "      <td>4.0</td>\n",
              "      <td>0</td>\n",
              "      <td>1.0</td>\n",
              "      <td>1.0</td>\n",
              "      <td>0.5</td>\n",
              "      <td>4.0</td>\n",
              "      <td>3.5</td>\n",
              "      <td>1.0</td>\n",
              "      <td>0.0</td>\n",
              "      <td>1.030128</td>\n",
              "      <td>14.218055</td>\n",
              "      <td>50.968090</td>\n",
              "      <td>1.920465</td>\n",
              "      <td>2.569833</td>\n",
              "      <td>20.528587</td>\n",
              "      <td>1.248786</td>\n",
              "      <td>7.421046</td>\n",
              "      <td>14.388092</td>\n",
              "      <td>3.615153</td>\n",
              "      <td>17.086956</td>\n",
              "      <td>72.065197</td>\n",
              "      <td>54.891442</td>\n",
              "    </tr>\n",
              "    <tr>\n",
              "      <th>3</th>\n",
              "      <td>0</td>\n",
              "      <td>3.0</td>\n",
              "      <td>0</td>\n",
              "      <td>1.0</td>\n",
              "      <td>1.0</td>\n",
              "      <td>1.0</td>\n",
              "      <td>1.0</td>\n",
              "      <td>2.0</td>\n",
              "      <td>0.0</td>\n",
              "      <td>0.0</td>\n",
              "      <td>0.559053</td>\n",
              "      <td>12.070698</td>\n",
              "      <td>23.338006</td>\n",
              "      <td>2.289943</td>\n",
              "      <td>2.697997</td>\n",
              "      <td>22.274604</td>\n",
              "      <td>0.851336</td>\n",
              "      <td>8.555684</td>\n",
              "      <td>10.600341</td>\n",
              "      <td>2.714508</td>\n",
              "      <td>17.554874</td>\n",
              "      <td>75.553730</td>\n",
              "      <td>165.805486</td>\n",
              "    </tr>\n",
              "    <tr>\n",
              "      <th>4</th>\n",
              "      <td>0</td>\n",
              "      <td>4.0</td>\n",
              "      <td>0</td>\n",
              "      <td>1.0</td>\n",
              "      <td>1.0</td>\n",
              "      <td>0.5</td>\n",
              "      <td>5.0</td>\n",
              "      <td>3.5</td>\n",
              "      <td>4.0</td>\n",
              "      <td>0.0</td>\n",
              "      <td>0.754878</td>\n",
              "      <td>13.849212</td>\n",
              "      <td>18.186334</td>\n",
              "      <td>3.144998</td>\n",
              "      <td>3.053262</td>\n",
              "      <td>70.322052</td>\n",
              "      <td>2.214564</td>\n",
              "      <td>8.552401</td>\n",
              "      <td>5.347853</td>\n",
              "      <td>4.706480</td>\n",
              "      <td>19.549163</td>\n",
              "      <td>5.319183</td>\n",
              "      <td>60.517702</td>\n",
              "    </tr>\n",
              "    <tr>\n",
              "      <th>...</th>\n",
              "      <td>...</td>\n",
              "      <td>...</td>\n",
              "      <td>...</td>\n",
              "      <td>...</td>\n",
              "      <td>...</td>\n",
              "      <td>...</td>\n",
              "      <td>...</td>\n",
              "      <td>...</td>\n",
              "      <td>...</td>\n",
              "      <td>...</td>\n",
              "      <td>...</td>\n",
              "      <td>...</td>\n",
              "      <td>...</td>\n",
              "      <td>...</td>\n",
              "      <td>...</td>\n",
              "      <td>...</td>\n",
              "      <td>...</td>\n",
              "      <td>...</td>\n",
              "      <td>...</td>\n",
              "      <td>...</td>\n",
              "      <td>...</td>\n",
              "      <td>...</td>\n",
              "      <td>...</td>\n",
              "    </tr>\n",
              "    <tr>\n",
              "      <th>957</th>\n",
              "      <td>0</td>\n",
              "      <td>4.0</td>\n",
              "      <td>0</td>\n",
              "      <td>1.0</td>\n",
              "      <td>1.0</td>\n",
              "      <td>0.0</td>\n",
              "      <td>1.0</td>\n",
              "      <td>2.0</td>\n",
              "      <td>0.0</td>\n",
              "      <td>0.5</td>\n",
              "      <td>0.140436</td>\n",
              "      <td>9.411011</td>\n",
              "      <td>45.266686</td>\n",
              "      <td>1.482761</td>\n",
              "      <td>1.816521</td>\n",
              "      <td>23.878906</td>\n",
              "      <td>0.214644</td>\n",
              "      <td>7.955264</td>\n",
              "      <td>4.496648</td>\n",
              "      <td>2.772018</td>\n",
              "      <td>20.934894</td>\n",
              "      <td>4.174714</td>\n",
              "      <td>38.287065</td>\n",
              "    </tr>\n",
              "    <tr>\n",
              "      <th>958</th>\n",
              "      <td>0</td>\n",
              "      <td>4.0</td>\n",
              "      <td>0</td>\n",
              "      <td>1.0</td>\n",
              "      <td>1.0</td>\n",
              "      <td>0.0</td>\n",
              "      <td>5.0</td>\n",
              "      <td>2.0</td>\n",
              "      <td>4.0</td>\n",
              "      <td>0.5</td>\n",
              "      <td>0.715932</td>\n",
              "      <td>14.255954</td>\n",
              "      <td>15.966624</td>\n",
              "      <td>4.126023</td>\n",
              "      <td>2.890223</td>\n",
              "      <td>68.281464</td>\n",
              "      <td>1.695724</td>\n",
              "      <td>9.927986</td>\n",
              "      <td>8.847341</td>\n",
              "      <td>4.134408</td>\n",
              "      <td>21.992313</td>\n",
              "      <td>5.969428</td>\n",
              "      <td>43.637436</td>\n",
              "    </tr>\n",
              "    <tr>\n",
              "      <th>959</th>\n",
              "      <td>0</td>\n",
              "      <td>4.0</td>\n",
              "      <td>0</td>\n",
              "      <td>1.0</td>\n",
              "      <td>1.0</td>\n",
              "      <td>0.0</td>\n",
              "      <td>4.0</td>\n",
              "      <td>5.5</td>\n",
              "      <td>0.0</td>\n",
              "      <td>0.5</td>\n",
              "      <td>0.534095</td>\n",
              "      <td>13.921509</td>\n",
              "      <td>13.426071</td>\n",
              "      <td>3.097385</td>\n",
              "      <td>2.300049</td>\n",
              "      <td>20.121827</td>\n",
              "      <td>1.158972</td>\n",
              "      <td>9.557123</td>\n",
              "      <td>7.104552</td>\n",
              "      <td>3.187968</td>\n",
              "      <td>17.880106</td>\n",
              "      <td>4.759983</td>\n",
              "      <td>14.703458</td>\n",
              "    </tr>\n",
              "    <tr>\n",
              "      <th>960</th>\n",
              "      <td>1</td>\n",
              "      <td>4.0</td>\n",
              "      <td>0</td>\n",
              "      <td>1.0</td>\n",
              "      <td>1.0</td>\n",
              "      <td>0.0</td>\n",
              "      <td>5.0</td>\n",
              "      <td>5.5</td>\n",
              "      <td>1.0</td>\n",
              "      <td>0.5</td>\n",
              "      <td>0.223805</td>\n",
              "      <td>9.597208</td>\n",
              "      <td>34.621847</td>\n",
              "      <td>1.507508</td>\n",
              "      <td>3.006704</td>\n",
              "      <td>29.040221</td>\n",
              "      <td>0.536260</td>\n",
              "      <td>9.739092</td>\n",
              "      <td>9.924334</td>\n",
              "      <td>2.876303</td>\n",
              "      <td>31.329005</td>\n",
              "      <td>32.487237</td>\n",
              "      <td>36.953780</td>\n",
              "    </tr>\n",
              "    <tr>\n",
              "      <th>961</th>\n",
              "      <td>0</td>\n",
              "      <td>1.0</td>\n",
              "      <td>0</td>\n",
              "      <td>1.0</td>\n",
              "      <td>1.0</td>\n",
              "      <td>0.0</td>\n",
              "      <td>1.5</td>\n",
              "      <td>2.0</td>\n",
              "      <td>0.0</td>\n",
              "      <td>0.0</td>\n",
              "      <td>1.604701</td>\n",
              "      <td>15.009085</td>\n",
              "      <td>35.699573</td>\n",
              "      <td>2.904131</td>\n",
              "      <td>5.938176</td>\n",
              "      <td>49.802723</td>\n",
              "      <td>3.732534</td>\n",
              "      <td>1.886738</td>\n",
              "      <td>13.830436</td>\n",
              "      <td>7.104264</td>\n",
              "      <td>20.957718</td>\n",
              "      <td>4.637353</td>\n",
              "      <td>26.601190</td>\n",
              "    </tr>\n",
              "  </tbody>\n",
              "</table>\n",
              "<p>962 rows × 23 columns</p>\n",
              "</div>"
            ],
            "text/plain": [
              "     history_other_malignancy  menopause_status_imputed  ...        CDH1       ERBB2\n",
              "0                           0                       1.0  ...  154.728291   36.770798\n",
              "1                           0                       4.0  ...  115.128993  972.586687\n",
              "2                           0                       4.0  ...   72.065197   54.891442\n",
              "3                           0                       3.0  ...   75.553730  165.805486\n",
              "4                           0                       4.0  ...    5.319183   60.517702\n",
              "..                        ...                       ...  ...         ...         ...\n",
              "957                         0                       4.0  ...    4.174714   38.287065\n",
              "958                         0                       4.0  ...    5.969428   43.637436\n",
              "959                         0                       4.0  ...    4.759983   14.703458\n",
              "960                         1                       4.0  ...   32.487237   36.953780\n",
              "961                         0                       1.0  ...    4.637353   26.601190\n",
              "\n",
              "[962 rows x 23 columns]"
            ]
          },
          "metadata": {
            "tags": []
          },
          "execution_count": 18
        }
      ]
    },
    {
      "cell_type": "markdown",
      "metadata": {
        "id": "ygkSBCyOQhUt"
      },
      "source": [
        "#Multivariate (gene only)"
      ]
    },
    {
      "cell_type": "code",
      "metadata": {
        "id": "pe0JgsjDTrwl"
      },
      "source": [
        "subset1=['BRCA2','RAF1','HRAS','PIK3CA','CHEK2','MYC','BRCA1','PTEN','STK11','PALB2','TP53','CDH1','ERBB2']\n",
        "data_x_1=data_x_saved[subset1]\n",
        "data_x=data_x_1"
      ],
      "execution_count": null,
      "outputs": []
    },
    {
      "cell_type": "code",
      "metadata": {
        "id": "axRiJhICMceu",
        "colab": {
          "base_uri": "https://localhost:8080/"
        },
        "outputId": "60c92300-6a7a-4781-b570-3a35126b74ab"
      },
      "source": [
        "estimator = CoxPHSurvivalAnalysis()\n",
        "estimator.fit(data_x, data_y)"
      ],
      "execution_count": null,
      "outputs": [
        {
          "output_type": "execute_result",
          "data": {
            "text/plain": [
              "CoxPHSurvivalAnalysis(alpha=0, n_iter=100, ties='breslow', tol=1e-09, verbose=0)"
            ]
          },
          "metadata": {
            "tags": []
          },
          "execution_count": 20
        }
      ]
    },
    {
      "cell_type": "code",
      "metadata": {
        "id": "X1GphLYFUu1y",
        "colab": {
          "base_uri": "https://localhost:8080/"
        },
        "outputId": "d48d7ec2-1f9d-42d0-c198-9dceb7cfe4b1"
      },
      "source": [
        "estimator.score(data_x, data_y)"
      ],
      "execution_count": null,
      "outputs": [
        {
          "output_type": "execute_result",
          "data": {
            "text/plain": [
              "0.630575256107171"
            ]
          },
          "metadata": {
            "tags": []
          },
          "execution_count": 21
        }
      ]
    },
    {
      "cell_type": "code",
      "metadata": {
        "id": "ImfePndHRTlv",
        "colab": {
          "base_uri": "https://localhost:8080/"
        },
        "outputId": "dbfeaab6-6cab-420b-d82f-5754034e54d3"
      },
      "source": [
        "pd.Series(estimator.coef_, index=data_x.columns)"
      ],
      "execution_count": null,
      "outputs": [
        {
          "output_type": "execute_result",
          "data": {
            "text/plain": [
              "BRCA2     0.118036\n",
              "RAF1      0.028978\n",
              "HRAS      0.013829\n",
              "PIK3CA    0.025475\n",
              "CHEK2    -0.120363\n",
              "MYC       0.005113\n",
              "BRCA1     0.075576\n",
              "PTEN      0.003843\n",
              "STK11    -0.064130\n",
              "PALB2    -0.093006\n",
              "TP53      0.010249\n",
              "CDH1      0.003252\n",
              "ERBB2     0.000595\n",
              "dtype: float64"
            ]
          },
          "metadata": {
            "tags": []
          },
          "execution_count": 22
        }
      ]
    },
    {
      "cell_type": "code",
      "metadata": {
        "id": "CwLI6s0gNx1t",
        "colab": {
          "base_uri": "https://localhost:8080/"
        },
        "outputId": "69f28d97-6be5-4256-ef16-7269d1a7ff72"
      },
      "source": [
        "def fit_and_score_features(X, y):\n",
        "    n_features = X.shape[1]\n",
        "    scores = np.empty(n_features)\n",
        "    m = CoxPHSurvivalAnalysis()\n",
        "    for j in range(n_features):\n",
        "        Xj = X[:, j:j+1]\n",
        "        m.fit(Xj, y)\n",
        "        scores[j] = m.score(Xj, y)\n",
        "    return scores\n",
        "\n",
        "scores = fit_and_score_features(data_x.values, data_y)\n",
        "pd.Series(scores, index=data_x.columns).sort_values(ascending=False)"
      ],
      "execution_count": null,
      "outputs": [
        {
          "output_type": "execute_result",
          "data": {
            "text/plain": [
              "CDH1      0.566220\n",
              "BRCA1     0.554190\n",
              "HRAS      0.523142\n",
              "RAF1      0.513002\n",
              "ERBB2     0.508432\n",
              "PIK3CA    0.506488\n",
              "BRCA2     0.504754\n",
              "CHEK2     0.487576\n",
              "PALB2     0.483163\n",
              "STK11     0.478487\n",
              "TP53      0.472078\n",
              "PTEN      0.467350\n",
              "MYC       0.429997\n",
              "dtype: float64"
            ]
          },
          "metadata": {
            "tags": []
          },
          "execution_count": 23
        }
      ]
    },
    {
      "cell_type": "code",
      "metadata": {
        "id": "INCnzOQFTQm-"
      },
      "source": [
        "Xt=data_x\n",
        "y=data_y\n",
        "\n",
        "alphas = 10. ** np.linspace(-4, 4, 50)\n",
        "coefficients = {}\n",
        "\n",
        "cph = CoxPHSurvivalAnalysis()\n",
        "for alpha in alphas:\n",
        "    cph.set_params(alpha=alpha)\n",
        "    cph.fit(Xt, y)\n",
        "    key = round(alpha, 5)\n",
        "    coefficients[key] = cph.coef_\n",
        "\n",
        "coefficients = (pd.DataFrame\n",
        "    .from_dict(coefficients)\n",
        "    .rename_axis(index=\"feature\", columns=\"alpha\")\n",
        "    .set_index(Xt.columns))"
      ],
      "execution_count": null,
      "outputs": []
    },
    {
      "cell_type": "code",
      "metadata": {
        "id": "OXrPMG44TbvU"
      },
      "source": [
        "def plot_coefficients(coefs, n_highlight):\n",
        "    _, ax = plt.subplots(figsize=(15, 10))\n",
        "    n_features = coefs.shape[0]\n",
        "    alphas = coefs.columns\n",
        "    for row in coefs.itertuples():\n",
        "        ax.semilogx(alphas, row[1:], \".-\", label=row.Index)\n",
        "\n",
        "    alpha_min = alphas.min()\n",
        "    top_coefs = coefs.loc[:, alpha_min].map(abs).sort_values().tail(n_highlight)\n",
        "    for name in top_coefs.index:\n",
        "        coef = coefs.loc[name, alpha_min]\n",
        "        plt.text(\n",
        "            alpha_min, coef, name + \"   \",\n",
        "            horizontalalignment=\"right\",\n",
        "            verticalalignment=\"center\"\n",
        "        )\n",
        "\n",
        "    ax.yaxis.set_label_position(\"right\")\n",
        "    ax.yaxis.tick_right()\n",
        "    ax.grid(True)\n",
        "    ax.set_xlabel(\"alpha\")\n",
        "    ax.set_ylabel(\"coefficient\")"
      ],
      "execution_count": null,
      "outputs": []
    },
    {
      "cell_type": "code",
      "metadata": {
        "id": "I2crbFQUTfeM",
        "colab": {
          "base_uri": "https://localhost:8080/"
        },
        "outputId": "eb6d7d55-8aa3-4488-8739-41835bf02352"
      },
      "source": [
        "plot_coefficients(coefficients, n_highlight=8)"
      ],
      "execution_count": null,
      "outputs": [
        {
          "output_type": "display_data",
          "data": {
            "image/png": "[encoded data removed]",
            "text/plain": [
              "<Figure size 1080x720 with 1 Axes>"
            ]
          },
          "metadata": {
            "tags": [],
            "needs_background": "light"
          }
        }
      ]
    },
    {
      "cell_type": "markdown",
      "metadata": {
        "id": "TAgq_ANVW-VK"
      },
      "source": [
        "\n",
        "#Multivariate (optimized )"
      ]
    },
    {
      "cell_type": "code",
      "metadata": {
        "id": "p5OlZGx8nxtR"
      },
      "source": [
        "data_x = data_x_gene"
      ],
      "execution_count": null,
      "outputs": []
    },
    {
      "cell_type": "code",
      "metadata": {
        "colab": {
          "base_uri": "https://localhost:8080/"
        },
        "id": "s4A5292ioARU",
        "outputId": "33cbee05-eb1b-40c6-9c6b-f0c2569e2b3d"
      },
      "source": [
        "#not stratified COX\n",
        "from sksurv.metrics import concordance_index_censored\n",
        "sum_train =0\n",
        "sum_test = 0\n",
        "for i in range(42,47):\n",
        "  x_train,x_test,y_train,y_test=train_test_split(\n",
        "    data_x,data_y,train_size=0.8,test_size=0.2,random_state=i)\n",
        "  estimator_cox = CoxPHSurvivalAnalysis()\n",
        "  estimator_cox.fit(x_train, y_train)\n",
        "  x_test = x_test.astype('int32')\n",
        "  prediction = estimator_cox.predict(x_test)\n",
        "  result = concordance_index_censored(y_test[\"vital_status_boolean\"], y_test[\"survival_in_days\"], prediction)\n",
        "  #print(\"tain_result:\", estimator_cox.score(x_train, y_train))\n",
        "  sum_train+=estimator_cox.score(x_train, y_train)\n",
        "  #print(\"test_result:\", result[0])\n",
        "  sum_test+=result[0]\n",
        "  #print(i)\n",
        "\n",
        "print(sum_train/5)\n",
        "print(sum_test/5)"
      ],
      "execution_count": null,
      "outputs": [
        {
          "output_type": "stream",
          "text": [
            "/usr/local/lib/python3.7/dist-packages/sksurv/linear_model/coxph.py:171: RuntimeWarning: overflow encountered in exp\n",
            "  risk_set2 += numpy.exp(xw[k])\n",
            "/usr/local/lib/python3.7/dist-packages/sksurv/linear_model/coxph.py:171: RuntimeWarning: overflow encountered in exp\n",
            "  risk_set2 += numpy.exp(xw[k])\n"
          ],
          "name": "stderr"
        },
        {
          "output_type": "stream",
          "text": [
            "0.8912816692730262\n",
            "0.8080727691635147\n"
          ],
          "name": "stdout"
        }
      ]
    },
    {
      "cell_type": "code",
      "metadata": {
        "colab": {
          "base_uri": "https://localhost:8080/"
        },
        "id": "Mi12YN5UWHh6",
        "outputId": "31049cb5-c77d-4e9a-bfef-a1425f1a1e0b"
      },
      "source": [
        "#stratified test accuracy \n",
        "sum_test=0\n",
        "sum_train=0\n",
        "y_for_split = df_y[['vital_status_boolean']].to_records(index= False)\n",
        "for i in range(42,47):\n",
        "  x_train,x_test,y_train,y_test=train_test_split(\n",
        "      data_x,data_y,train_size=0.8,test_size=0.2,random_state=i, stratify=y_for_split)\n",
        "  estimator_str = CoxPHSurvivalAnalysis()\n",
        "  estimator_str.fit(x_train, y_train)\n",
        "  x_test = x_test.astype('int32')\n",
        "  prediction_str = estimator_str.predict(x_test)\n",
        "  result_str = concordance_index_censored(y_test[\"vital_status_boolean\"], y_test[\"survival_in_days\"], prediction_str)\n",
        "  result_str[0]\n",
        "  print(\"tain_result:\", estimator_cox.score(x_train, y_train))\n",
        "  sum_train+=estimator_str.score(x_train, y_train)\n",
        "  print(\"test_result:\", result[0])\n",
        "  sum_test+=result[0]\n",
        "\n",
        "print(sum_train/5)\n",
        "print(sum_test/5)\n"
      ],
      "execution_count": null,
      "outputs": [
        {
          "output_type": "stream",
          "text": [
            "tain_result: 0.8371192565823439\n",
            "test_result: 0.7972190034762456\n",
            "tain_result: 0.8571057866966525\n",
            "test_result: 0.7972190034762456\n",
            "tain_result: 0.8580947092884905\n",
            "test_result: 0.7972190034762456\n",
            "tain_result: 0.8495440729483282\n",
            "test_result: 0.7972190034762456\n",
            "tain_result: 0.8760570186035275\n",
            "test_result: 0.7972190034762456\n",
            "0.8791976907600139\n",
            "0.7972190034762456\n"
          ],
          "name": "stdout"
        }
      ]
    },
    {
      "cell_type": "code",
      "metadata": {
        "id": "QIQDlRhDW-VU",
        "colab": {
          "base_uri": "https://localhost:8080/"
        },
        "outputId": "fc1d294e-eb09-454b-ae64-2eaa3e52b834"
      },
      "source": [
        "def fit_and_score_features(X, y):\n",
        "    n_features = X.shape[1]\n",
        "    scores = np.empty(n_features)\n",
        "    m = CoxPHSurvivalAnalysis()\n",
        "    for j in range(n_features):\n",
        "        Xj = X[:, j:j+1]\n",
        "        m.fit(Xj, y)\n",
        "        scores[j] = m.score(Xj, y)\n",
        "    return scores\n",
        "\n",
        "scores = fit_and_score_features(data_x.values, data_y)\n",
        "pd.Series(scores, index=data_x.columns).sort_values(ascending=False)"
      ],
      "execution_count": null,
      "outputs": [
        {
          "output_type": "execute_result",
          "data": {
            "text/plain": [
              "tumor_status_imputed          0.729446\n",
              "pn                            0.697111\n",
              "tumor_stage                   0.639585\n",
              "pt                            0.617599\n",
              "pr_status_by_ihc_imputed      0.616286\n",
              "er_status_by_ihc_imputed      0.604623\n",
              "menopause_status_imputed      0.585868\n",
              "pm                            0.567428\n",
              "CDH1                          0.566220\n",
              "BRCA1                         0.554190\n",
              "her2_status_by_ihc_imputed    0.552246\n",
              "history_other_malignancy      0.534988\n",
              "HRAS                          0.523142\n",
              "RAF1                          0.513002\n",
              "ERBB2                         0.508432\n",
              "PIK3CA                        0.506488\n",
              "BRCA2                         0.504754\n",
              "CHEK2                         0.487576\n",
              "PALB2                         0.483163\n",
              "STK11                         0.478487\n",
              "TP53                          0.472078\n",
              "PTEN                          0.467350\n",
              "MYC                           0.429997\n",
              "dtype: float64"
            ]
          },
          "metadata": {
            "tags": []
          },
          "execution_count": 30
        }
      ]
    },
    {
      "cell_type": "code",
      "metadata": {
        "colab": {
          "base_uri": "https://localhost:8080/"
        },
        "id": "g7P22dvYjDST",
        "outputId": "370327c0-f7a6-4a1c-ccd1-9cbe2ab54a0a"
      },
      "source": [
        "pd.Series(estimator_str.coef_, index=x_train.columns)"
      ],
      "execution_count": null,
      "outputs": [
        {
          "output_type": "execute_result",
          "data": {
            "text/plain": [
              "history_other_malignancy      1.366345\n",
              "menopause_status_imputed      0.471446\n",
              "tumor_status_imputed          2.192219\n",
              "er_status_by_ihc_imputed     -1.111600\n",
              "pr_status_by_ihc_imputed     -0.840887\n",
              "her2_status_by_ihc_imputed    1.000977\n",
              "tumor_stage                  -0.446915\n",
              "pt                            0.190777\n",
              "pn                            0.502367\n",
              "pm                            0.577973\n",
              "BRCA2                        -0.059686\n",
              "RAF1                          0.060866\n",
              "HRAS                          0.006707\n",
              "PIK3CA                        0.018142\n",
              "CHEK2                        -0.187179\n",
              "MYC                           0.006298\n",
              "BRCA1                         0.054486\n",
              "PTEN                          0.032214\n",
              "STK11                        -0.048362\n",
              "PALB2                         0.142479\n",
              "TP53                         -0.005924\n",
              "CDH1                          0.008104\n",
              "ERBB2                        -0.001690\n",
              "dtype: float64"
            ]
          },
          "metadata": {
            "tags": []
          },
          "execution_count": 31
        }
      ]
    },
    {
      "cell_type": "code",
      "metadata": {
        "id": "jfvYIrZPidng"
      },
      "source": [
        ""
      ],
      "execution_count": null,
      "outputs": []
    },
    {
      "cell_type": "markdown",
      "metadata": {
        "id": "lzLuhb6V8dTH"
      },
      "source": [
        "#PCOX"
      ]
    },
    {
      "cell_type": "code",
      "metadata": {
        "id": "JeGaQrjp8Cyl"
      },
      "source": [
        "from sksurv.linear_model import CoxPHSurvivalAnalysis, CoxnetSurvivalAnalysis\n",
        "from sksurv.preprocessing import OneHotEncoder\n",
        "\n",
        "from sklearn.model_selection import GridSearchCV, KFold\n",
        "from sklearn.pipeline import make_pipeline\n",
        "from sklearn.preprocessing import StandardScaler"
      ],
      "execution_count": null,
      "outputs": []
    },
    {
      "cell_type": "code",
      "metadata": {
        "colab": {
          "base_uri": "https://localhost:8080/"
        },
        "id": "9Ej06vfWoyMS",
        "outputId": "38c183ab-f1cf-4c10-8e3d-cebecd32d563"
      },
      "source": [
        "#non-stratified \n",
        "#pcox test accuracy\n",
        "#train with train and test with test\n",
        "sum_test=0\n",
        "sum_train=0\n",
        "Xt=data_x\n",
        "y=data_y\n",
        "y_for_split = df_y[['vital_status_boolean']].to_records(index= False)\n",
        "for i in range(42,47):\n",
        "  x_train,x_test,y_train,y_test=train_test_split(\n",
        "      Xt,y,train_size=0.8,test_size=0.2,random_state=i)\n",
        "  cox_elastic_net = CoxnetSurvivalAnalysis(l1_ratio=0.9, alpha_min_ratio=0.01)\n",
        "  cox_elastic_net.fit(x_train, y_train)\n",
        "  x_test = x_test.astype('int32')\n",
        "  prediction = cox_elastic_net.predict(x_test)\n",
        "  result = concordance_index_censored(y_test[\"vital_status_boolean\"], y_test[\"survival_in_days\"], prediction)\n",
        "  result[0]\n",
        "  print(\"tain_result:\", cox_elastic_net.score(x_train, y_train))\n",
        "  sum_train+= cox_elastic_net.score(x_train, y_train)\n",
        "  print(\"test_result:\", result[0])\n",
        "  sum_test+=result[0]\n",
        "\n",
        "print(sum_test/5)\n",
        "print(sum_train/5)"
      ],
      "execution_count": null,
      "outputs": [
        {
          "output_type": "stream",
          "text": [
            "tain_result: 0.8460945776750457\n",
            "test_result: 0.7873563218390804\n",
            "tain_result: 0.706319399085565\n",
            "test_result: 0.6856368563685636\n",
            "tain_result: 0.6901635567841511\n",
            "test_result: 0.6901140684410646\n",
            "tain_result: 0.7648310494510171\n",
            "test_result: 0.5633640552995391\n",
            "tain_result: 0.8239100817438693\n",
            "test_result: 0.7589803012746235\n",
            "0.6970903206445742\n",
            "0.7662637329479296\n"
          ],
          "name": "stdout"
        }
      ]
    },
    {
      "cell_type": "code",
      "metadata": {
        "id": "zFm4AkpoxTeG",
        "colab": {
          "base_uri": "https://localhost:8080/"
        },
        "outputId": "9de6a9d3-6788-477d-b8f1-342308ff294c"
      },
      "source": [
        "#non-stratified \n",
        "#pcox test accuracy\n",
        "#train with train and test with test\n",
        "Xt=data_x\n",
        "y=data_y\n",
        "x_train,x_test,y_train,y_test=train_test_split(\n",
        "    Xt,y,train_size=0.8,test_size=0.2,random_state=42)\n",
        "cox_elastic_net = CoxnetSurvivalAnalysis(l1_ratio=0.9, alpha_min_ratio=0.01)\n",
        "cox_elastic_net.fit(x_train, y_train)\n",
        "x_test = x_test.astype('int32')\n",
        "prediction = cox_elastic_net.predict(x_test)\n",
        "result = concordance_index_censored(y_test[\"vital_status_boolean\"], y_test[\"survival_in_days\"], prediction)\n",
        "result[0]"
      ],
      "execution_count": null,
      "outputs": [
        {
          "output_type": "execute_result",
          "data": {
            "text/plain": [
              "0.7873563218390804"
            ]
          },
          "metadata": {
            "tags": []
          },
          "execution_count": 34
        }
      ]
    },
    {
      "cell_type": "code",
      "metadata": {
        "id": "LZCJmVXZZz63",
        "colab": {
          "base_uri": "https://localhost:8080/"
        },
        "outputId": "9f1bd102-6532-4624-e121-fe7ecee3e548"
      },
      "source": [
        "#pcox train accuracy\n",
        "cox_elastic_net.score(x_train, y_train)"
      ],
      "execution_count": null,
      "outputs": [
        {
          "output_type": "execute_result",
          "data": {
            "text/plain": [
              "0.8460945776750457"
            ]
          },
          "metadata": {
            "tags": []
          },
          "execution_count": 35
        }
      ]
    },
    {
      "cell_type": "code",
      "metadata": {
        "colab": {
          "base_uri": "https://localhost:8080/"
        },
        "id": "mJ7Pl6HipC2V",
        "outputId": "548b74b5-952c-49f2-b1a9-2d82533e66dc"
      },
      "source": [
        "#stratified test accuracy multiple sampling \n",
        "sum_test=0\n",
        "sum_train=0\n",
        "for i in range(42,47):\n",
        "  x_train,x_test,y_train,y_test=train_test_split(\n",
        "    Xt,y,train_size=0.8,test_size=0.2,random_state=i,stratify=y_for_split)\n",
        "  cox_elastic_net = CoxnetSurvivalAnalysis(l1_ratio=0.9, alpha_min_ratio=0.01)\n",
        "  cox_elastic_net.fit(x_train, y_train)\n",
        "  x_test = x_test.astype('int32')\n",
        "  prediction = cox_elastic_net.predict(x_test)\n",
        "  result = concordance_index_censored(y_test[\"vital_status_boolean\"], y_test[\"survival_in_days\"], prediction)\n",
        "  result[0]\n",
        "  print(\"tain_result:\", cox_elastic_net.score(x_train, y_train))\n",
        "  sum_train+=cox_elastic_net.score(x_train, y_train)\n",
        "  print(\"test_result:\", result[0])\n",
        "  sum_test+=result[0]\n",
        "\n",
        "print(sum_test/5)\n",
        "print(sum_train/5)"
      ],
      "execution_count": null,
      "outputs": [
        {
          "output_type": "stream",
          "text": [
            "tain_result: 0.7859232490104974\n",
            "test_result: 0.7619577308120133\n",
            "tain_result: 0.762736787475132\n",
            "test_result: 0.7063318777292577\n",
            "tain_result: 0.8028872848417545\n",
            "test_result: 0.6686838124054463\n",
            "tain_result: 0.8073286052009456\n",
            "test_result: 0.708185053380783\n",
            "tain_result: 0.7803011999677861\n",
            "test_result: 0.6306179775280899\n",
            "0.6951552903711181\n",
            "0.7878354252992231\n"
          ],
          "name": "stdout"
        }
      ]
    },
    {
      "cell_type": "code",
      "metadata": {
        "id": "OVMLD55KZtFr",
        "colab": {
          "base_uri": "https://localhost:8080/"
        },
        "outputId": "599967a6-ac6a-4e0b-fd4d-adbe7d4f2bad"
      },
      "source": [
        "#stratified test accuracy\n",
        "x_train,x_test,y_train,y_test=train_test_split(\n",
        "    Xt,y,train_size=0.8,test_size=0.2,random_state=42,stratify=y_for_split)\n",
        "cox_elastic_net = CoxnetSurvivalAnalysis(l1_ratio=0.9, alpha_min_ratio=0.01)\n",
        "cox_elastic_net.fit(x_train, y_train)\n",
        "x_test = x_test.astype('int32')\n",
        "prediction = cox_elastic_net.predict(x_test)\n",
        "result = concordance_index_censored(y_test[\"vital_status_boolean\"], y_test[\"survival_in_days\"], prediction)\n",
        "result[0]"
      ],
      "execution_count": null,
      "outputs": [
        {
          "output_type": "execute_result",
          "data": {
            "text/plain": [
              "0.7619577308120133"
            ]
          },
          "metadata": {
            "tags": []
          },
          "execution_count": 37
        }
      ]
    },
    {
      "cell_type": "code",
      "metadata": {
        "colab": {
          "base_uri": "https://localhost:8080/"
        },
        "id": "6JI7T70TavMX",
        "outputId": "ca46c33c-7945-4ff4-fb8a-e70a0a71eb46"
      },
      "source": [
        "#stratified train accuracy\n",
        "cox_elastic_net.score(x_train, y_train)"
      ],
      "execution_count": null,
      "outputs": [
        {
          "output_type": "execute_result",
          "data": {
            "text/plain": [
              "0.7859232490104974"
            ]
          },
          "metadata": {
            "tags": []
          },
          "execution_count": 38
        }
      ]
    },
    {
      "cell_type": "code",
      "metadata": {
        "id": "PD5NDfBuwYLg",
        "colab": {
          "base_uri": "https://localhost:8080/"
        },
        "outputId": "14f41538-6cc2-4ed0-c3da-d8dc12ee2ac5"
      },
      "source": [
        "cox_elastic_net.score(x_test, y_test)"
      ],
      "execution_count": null,
      "outputs": [
        {
          "output_type": "execute_result",
          "data": {
            "text/plain": [
              "0.7619577308120133"
            ]
          },
          "metadata": {
            "tags": []
          },
          "execution_count": 39
        }
      ]
    },
    {
      "cell_type": "code",
      "metadata": {
        "id": "yP2v1kqO1iKC"
      },
      "source": [
        "import seaborn as sns\n",
        "sns.set_context('talk')"
      ],
      "execution_count": null,
      "outputs": []
    },
    {
      "cell_type": "code",
      "metadata": {
        "id": "k5GuG1mHZnfZ",
        "colab": {
          "base_uri": "https://localhost:8080/",
          "height": 738
        },
        "outputId": "b4ea77f7-0673-4474-ccc7-3fa989a096cc"
      },
      "source": [
        "cox_elastic_net = CoxnetSurvivalAnalysis(l1_ratio=0.9, alpha_min_ratio=0.01)\n",
        "cox_elastic_net.fit(Xt, y)\n",
        "\n",
        "coefficients_elastic_net = pd.DataFrame(\n",
        "    cox_elastic_net.coef_,\n",
        "    index=Xt.columns,\n",
        "    columns=np.round(cox_elastic_net.alphas_, 7)\n",
        ")\n",
        "\n",
        "plot_coefficients(coefficients_elastic_net, n_highlight=4)"
      ],
      "execution_count": null,
      "outputs": [
        {
          "output_type": "display_data",
          "data": {
            "image/png": "[encoded data removed]",
            "text/plain": [
              "<Figure size 1296x864 with 1 Axes>"
            ]
          },
          "metadata": {
            "tags": [],
            "needs_background": "light"
          }
        }
      ]
    },
    {
      "cell_type": "code",
      "metadata": {
        "id": "iDKLndf6f8N8"
      },
      "source": [
        "alphas = 10. ** np.linspace(-4, 4, 50)\n",
        "coefficients = {}\n",
        "\n",
        "cph = CoxPHSurvivalAnalysis()\n",
        "for alpha in alphas:\n",
        "    cph.set_params(alpha=alpha)\n",
        "    cph.fit(Xt, y)\n",
        "    key = round(alpha, 5)\n",
        "    coefficients[key] = cph.coef_\n",
        "\n",
        "coefficients = (pd.DataFrame\n",
        "    .from_dict(coefficients)\n",
        "    .rename_axis(index=\"feature\", columns=\"alpha\")\n",
        "    .set_index(Xt.columns))"
      ],
      "execution_count": null,
      "outputs": []
    },
    {
      "cell_type": "code",
      "metadata": {
        "colab": {
          "base_uri": "https://localhost:8080/",
          "height": 738
        },
        "id": "ZbuAM65Uf-xE",
        "outputId": "afaeada4-002a-40d2-e5a8-0a37f1c86b5f"
      },
      "source": [
        "def plot_coefficients(coefs, n_highlight):\n",
        "    _, ax = plt.subplots(figsize=(18, 12))\n",
        "    n_features = coefs.shape[0]\n",
        "    alphas = coefs.columns\n",
        "    for row in coefs.itertuples():\n",
        "        ax.semilogx(alphas, row[1:], \".-\", label=row.Index)\n",
        "\n",
        "    alpha_min = alphas.min()\n",
        "    top_coefs = coefs.loc[:, alpha_min].map(abs).sort_values().tail(n_highlight)\n",
        "    for name in top_coefs.index:\n",
        "        coef = coefs.loc[name, alpha_min]\n",
        "        plt.text(\n",
        "            alpha_min, coef, name + \"   \",\n",
        "            horizontalalignment=\"right\",\n",
        "            verticalalignment=\"center\"\n",
        "        )\n",
        "\n",
        "    ax.yaxis.set_label_position(\"right\")\n",
        "    ax.yaxis.tick_right()\n",
        "    ax.grid(True)\n",
        "    ax.set_xlabel(\"alpha\")\n",
        "    ax.set_ylabel(\"coefficient\")\n",
        "\n",
        "plot_coefficients(coefficients, n_highlight=11)"
      ],
      "execution_count": null,
      "outputs": [
        {
          "output_type": "display_data",
          "data": {
            "image/png": "[encoded data removed]",
            "text/plain": [
              "<Figure size 1296x864 with 1 Axes>"
            ]
          },
          "metadata": {
            "tags": [],
            "needs_background": "light"
          }
        }
      ]
    }
  ]
}