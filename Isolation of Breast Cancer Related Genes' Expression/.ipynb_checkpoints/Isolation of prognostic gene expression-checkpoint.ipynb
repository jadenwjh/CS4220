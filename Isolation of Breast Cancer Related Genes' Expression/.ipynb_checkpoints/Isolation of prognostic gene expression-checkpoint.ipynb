{
 "cells": [
  {
   "cell_type": "code",
   "execution_count": 62,
   "metadata": {},
   "outputs": [],
   "source": [
    "import gzip\n",
    "import pandas as pd\n",
    "import os\n",
    "import glob\n",
    "import json"
   ]
  },
  {
   "cell_type": "code",
   "execution_count": 15,
   "metadata": {},
   "outputs": [],
   "source": [
    "genes = {}\n",
    "with open('genes.txt', 'r') as file:\n",
    "    content = file.readlines()\n",
    "    for line in content:\n",
    "        terms = line.split('\\t')\n",
    "        genes[terms[1].strip()] = terms[0]"
   ]
  },
  {
   "cell_type": "code",
   "execution_count": 56,
   "metadata": {},
   "outputs": [],
   "source": [
    "cases = []\n",
    "for i in glob.glob('datasets/*'):\n",
    "    filename = glob.glob(f'{i}/*.gz')\n",
    "    case = {}\n",
    "    case['filename'] = filename[0].split('\\\\')[-1]\n",
    "    with gzip.open(filename[0], 'rt') as file:\n",
    "        content = file.readlines()\n",
    "        for line in content:\n",
    "            terms = line.split('\\t')\n",
    "            gene_key = terms[0].split('.')[0]\n",
    "            if gene_key in genes.keys():\n",
    "                case[genes[gene_key]] = float(terms[1].strip())\n",
    "    cases.append(case)"
   ]
  },
  {
   "cell_type": "code",
   "execution_count": 57,
   "metadata": {},
   "outputs": [],
   "source": [
    "df = pd.DataFrame.from_records(cases)"
   ]
  },
  {
   "cell_type": "code",
   "execution_count": 59,
   "metadata": {},
   "outputs": [],
   "source": [
    "case_id_df = pd.read_json('file-case_map.json')"
   ]
  },
  {
   "cell_type": "code",
   "execution_count": 67,
   "metadata": {},
   "outputs": [],
   "source": [
    "case_id_map = {}\n",
    "with open('file-case_map.json', \"r\") as read_file:\n",
    "    data = json.load(read_file)\n",
    "    for line in data:\n",
    "        case_id = line['cases'][0]['case_id']\n",
    "        file_name = line['file_name']\n",
    "        case_id_map[case_id] = file_name"
   ]
  },
  {
   "cell_type": "code",
   "execution_count": 81,
   "metadata": {},
   "outputs": [],
   "source": [
    "case_id_map_df = pd.DataFrame.from_dict(case_id_map, orient='index')\n",
    "case_id_map_df.reset_index(inplace=True)\n",
    "case_id_map_df.columns = ['case_id','filename']"
   ]
  },
  {
   "cell_type": "code",
   "execution_count": 88,
   "metadata": {},
   "outputs": [],
   "source": [
    "df = pd.merge(df, case_id_map_df, how='left', on='filename')"
   ]
  },
  {
   "cell_type": "code",
   "execution_count": 89,
   "metadata": {},
   "outputs": [],
   "source": [
    "case_id_2_df = pd.read_csv('uuid-case_map.txt', sep='\\t', names = ['case_id','uuid'])"
   ]
  },
  {
   "cell_type": "code",
   "execution_count": 90,
   "metadata": {},
   "outputs": [],
   "source": [
    "df = pd.merge(df, case_id_2_df, how='left', on='case_id')"
   ]
  },
  {
   "cell_type": "code",
   "execution_count": 91,
   "metadata": {},
   "outputs": [
    {
     "data": {
      "text/html": [
       "<div>\n",
       "<style scoped>\n",
       "    .dataframe tbody tr th:only-of-type {\n",
       "        vertical-align: middle;\n",
       "    }\n",
       "\n",
       "    .dataframe tbody tr th {\n",
       "        vertical-align: top;\n",
       "    }\n",
       "\n",
       "    .dataframe thead th {\n",
       "        text-align: right;\n",
       "    }\n",
       "</style>\n",
       "<table border=\"1\" class=\"dataframe\">\n",
       "  <thead>\n",
       "    <tr style=\"text-align: right;\">\n",
       "      <th></th>\n",
       "      <th>filename</th>\n",
       "      <th>BRCA2</th>\n",
       "      <th>RAF1</th>\n",
       "      <th>HRAS</th>\n",
       "      <th>PIK3CA</th>\n",
       "      <th>CHEK2</th>\n",
       "      <th>MYC</th>\n",
       "      <th>BRCA1</th>\n",
       "      <th>PTEN</th>\n",
       "      <th>STK11</th>\n",
       "      <th>PALB2</th>\n",
       "      <th>TP53</th>\n",
       "      <th>CDH1</th>\n",
       "      <th>ERBB2</th>\n",
       "      <th>case_id</th>\n",
       "      <th>uuid</th>\n",
       "    </tr>\n",
       "  </thead>\n",
       "  <tbody>\n",
       "    <tr>\n",
       "      <th>0</th>\n",
       "      <td>a5dc521e-bee4-489c-8679-d4b90a327d33.FPKM.txt.gz</td>\n",
       "      <td>0.405744</td>\n",
       "      <td>20.514745</td>\n",
       "      <td>5.346740</td>\n",
       "      <td>4.531447</td>\n",
       "      <td>6.498114</td>\n",
       "      <td>61.566397</td>\n",
       "      <td>6.068113</td>\n",
       "      <td>16.156906</td>\n",
       "      <td>2.219489</td>\n",
       "      <td>5.669937</td>\n",
       "      <td>20.498861</td>\n",
       "      <td>264.985569</td>\n",
       "      <td>39.619147</td>\n",
       "      <td>ba89cb4f-cd63-47b1-9550-76fdaff89f2e</td>\n",
       "      <td>TCGA-A2-A25E</td>\n",
       "    </tr>\n",
       "    <tr>\n",
       "      <th>1</th>\n",
       "      <td>d229a59b-4f6c-4714-8dd5-1c714a764b22.FPKM.txt.gz</td>\n",
       "      <td>0.915719</td>\n",
       "      <td>16.426665</td>\n",
       "      <td>14.341597</td>\n",
       "      <td>4.505233</td>\n",
       "      <td>3.164234</td>\n",
       "      <td>12.457714</td>\n",
       "      <td>1.323357</td>\n",
       "      <td>13.851366</td>\n",
       "      <td>5.810507</td>\n",
       "      <td>4.379566</td>\n",
       "      <td>15.941618</td>\n",
       "      <td>9.232411</td>\n",
       "      <td>25.470280</td>\n",
       "      <td>959ff069-8a49-4c9b-85c2-5291cac0acff</td>\n",
       "      <td>TCGA-C8-A3M7</td>\n",
       "    </tr>\n",
       "    <tr>\n",
       "      <th>2</th>\n",
       "      <td>ee05eaa6-eaca-4438-ac1f-4259f525e2a1.FPKM.txt.gz</td>\n",
       "      <td>1.947190</td>\n",
       "      <td>11.657686</td>\n",
       "      <td>19.473508</td>\n",
       "      <td>3.775207</td>\n",
       "      <td>2.373475</td>\n",
       "      <td>4.430400</td>\n",
       "      <td>2.375667</td>\n",
       "      <td>8.468728</td>\n",
       "      <td>3.759698</td>\n",
       "      <td>3.786047</td>\n",
       "      <td>7.726373</td>\n",
       "      <td>111.562275</td>\n",
       "      <td>103.689169</td>\n",
       "      <td>7f2a63e6-64d5-4be1-9814-e8416fc9e688</td>\n",
       "      <td>TCGA-D8-A1JG</td>\n",
       "    </tr>\n",
       "    <tr>\n",
       "      <th>3</th>\n",
       "      <td>4bf2bea7-00ef-485c-b9e5-035f0ea62b1d.FPKM.txt.gz</td>\n",
       "      <td>1.383030</td>\n",
       "      <td>14.515607</td>\n",
       "      <td>16.124391</td>\n",
       "      <td>4.802638</td>\n",
       "      <td>1.741451</td>\n",
       "      <td>10.286806</td>\n",
       "      <td>1.599496</td>\n",
       "      <td>9.812499</td>\n",
       "      <td>8.161780</td>\n",
       "      <td>3.882405</td>\n",
       "      <td>22.701470</td>\n",
       "      <td>104.415741</td>\n",
       "      <td>25.581075</td>\n",
       "      <td>86b7b206-8e69-432d-acc9-bccce710955e</td>\n",
       "      <td>TCGA-AO-A0JA</td>\n",
       "    </tr>\n",
       "    <tr>\n",
       "      <th>4</th>\n",
       "      <td>31e5c917-1866-4156-9eaa-84a72c310edc.FPKM.txt.gz</td>\n",
       "      <td>0.283229</td>\n",
       "      <td>10.515834</td>\n",
       "      <td>19.042857</td>\n",
       "      <td>3.186440</td>\n",
       "      <td>1.960279</td>\n",
       "      <td>58.891972</td>\n",
       "      <td>1.756502</td>\n",
       "      <td>9.513710</td>\n",
       "      <td>8.948217</td>\n",
       "      <td>2.437246</td>\n",
       "      <td>13.688792</td>\n",
       "      <td>85.650483</td>\n",
       "      <td>19.833254</td>\n",
       "      <td>a53dd490-e0ba-419a-90c6-b905e241a8e5</td>\n",
       "      <td>TCGA-A2-A4S0</td>\n",
       "    </tr>\n",
       "  </tbody>\n",
       "</table>\n",
       "</div>"
      ],
      "text/plain": [
       "                                           filename     BRCA2       RAF1  \\\n",
       "0  a5dc521e-bee4-489c-8679-d4b90a327d33.FPKM.txt.gz  0.405744  20.514745   \n",
       "1  d229a59b-4f6c-4714-8dd5-1c714a764b22.FPKM.txt.gz  0.915719  16.426665   \n",
       "2  ee05eaa6-eaca-4438-ac1f-4259f525e2a1.FPKM.txt.gz  1.947190  11.657686   \n",
       "3  4bf2bea7-00ef-485c-b9e5-035f0ea62b1d.FPKM.txt.gz  1.383030  14.515607   \n",
       "4  31e5c917-1866-4156-9eaa-84a72c310edc.FPKM.txt.gz  0.283229  10.515834   \n",
       "\n",
       "        HRAS    PIK3CA     CHEK2        MYC     BRCA1       PTEN     STK11  \\\n",
       "0   5.346740  4.531447  6.498114  61.566397  6.068113  16.156906  2.219489   \n",
       "1  14.341597  4.505233  3.164234  12.457714  1.323357  13.851366  5.810507   \n",
       "2  19.473508  3.775207  2.373475   4.430400  2.375667   8.468728  3.759698   \n",
       "3  16.124391  4.802638  1.741451  10.286806  1.599496   9.812499  8.161780   \n",
       "4  19.042857  3.186440  1.960279  58.891972  1.756502   9.513710  8.948217   \n",
       "\n",
       "      PALB2       TP53        CDH1       ERBB2  \\\n",
       "0  5.669937  20.498861  264.985569   39.619147   \n",
       "1  4.379566  15.941618    9.232411   25.470280   \n",
       "2  3.786047   7.726373  111.562275  103.689169   \n",
       "3  3.882405  22.701470  104.415741   25.581075   \n",
       "4  2.437246  13.688792   85.650483   19.833254   \n",
       "\n",
       "                                case_id          uuid  \n",
       "0  ba89cb4f-cd63-47b1-9550-76fdaff89f2e  TCGA-A2-A25E  \n",
       "1  959ff069-8a49-4c9b-85c2-5291cac0acff  TCGA-C8-A3M7  \n",
       "2  7f2a63e6-64d5-4be1-9814-e8416fc9e688  TCGA-D8-A1JG  \n",
       "3  86b7b206-8e69-432d-acc9-bccce710955e  TCGA-AO-A0JA  \n",
       "4  a53dd490-e0ba-419a-90c6-b905e241a8e5  TCGA-A2-A4S0  "
      ]
     },
     "execution_count": 91,
     "metadata": {},
     "output_type": "execute_result"
    }
   ],
   "source": [
    "df.head()"
   ]
  },
  {
   "cell_type": "code",
   "execution_count": 115,
   "metadata": {},
   "outputs": [],
   "source": [
    "duplicates = pd.read_csv('RNAseq files.csv', index_col = 0, usecols=['Case-ID', 'Tumour 1'])"
   ]
  },
  {
   "cell_type": "code",
   "execution_count": 117,
   "metadata": {},
   "outputs": [],
   "source": [
    "duplicates = duplicates.to_dict()['Tumour 1']"
   ]
  },
  {
   "cell_type": "code",
   "execution_count": 120,
   "metadata": {},
   "outputs": [],
   "source": [
    "for i in range(len(df)):\n",
    "    if df.loc[i, 'case_id'] in duplicates.keys():\n",
    "        if df.loc[i, 'case_id'] != duplicates[df.loc[i, 'case_id']]:\n",
    "            df.loc[i, 'case_id'] = None"
   ]
  },
  {
   "cell_type": "code",
   "execution_count": 121,
   "metadata": {},
   "outputs": [
    {
     "data": {
      "text/plain": [
       "95"
      ]
     },
     "execution_count": 121,
     "metadata": {},
     "output_type": "execute_result"
    }
   ],
   "source": [
    "df['case_id'].isnull().sum()"
   ]
  },
  {
   "cell_type": "code",
   "execution_count": 122,
   "metadata": {},
   "outputs": [
    {
     "data": {
      "text/plain": [
       "1057"
      ]
     },
     "execution_count": 122,
     "metadata": {},
     "output_type": "execute_result"
    }
   ],
   "source": [
    "len(df)"
   ]
  },
  {
   "cell_type": "code",
   "execution_count": 123,
   "metadata": {},
   "outputs": [],
   "source": [
    "df.dropna(inplace=True)"
   ]
  },
  {
   "cell_type": "code",
   "execution_count": 124,
   "metadata": {},
   "outputs": [
    {
     "data": {
      "text/plain": [
       "962"
      ]
     },
     "execution_count": 124,
     "metadata": {},
     "output_type": "execute_result"
    }
   ],
   "source": [
    "len(df)"
   ]
  },
  {
   "cell_type": "code",
   "execution_count": 126,
   "metadata": {},
   "outputs": [],
   "source": [
    "df.to_csv('prognostic_genes.csv')"
   ]
  },
  {
   "cell_type": "code",
   "execution_count": null,
   "metadata": {},
   "outputs": [],
   "source": []
  }
 ],
 "metadata": {
  "kernelspec": {
   "display_name": "Python 3",
   "language": "python",
   "name": "python3"
  },
  "language_info": {
   "codemirror_mode": {
    "name": "ipython",
    "version": 3
   },
   "file_extension": ".py",
   "mimetype": "text/x-python",
   "name": "python",
   "nbconvert_exporter": "python",
   "pygments_lexer": "ipython3",
   "version": "3.8.3"
  }
 },
 "nbformat": 4,
 "nbformat_minor": 4
}
